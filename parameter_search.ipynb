{
 "cells": [
  {
   "cell_type": "code",
   "execution_count": 48,
   "metadata": {
    "collapsed": false,
    "deletable": true,
    "editable": true
   },
   "outputs": [],
   "source": [
    "%matplotlib notebook\n",
    "import matplotlib.pyplot as plt\n",
    "from ipywidgets import interact\n",
    "from parameter_search import ParameterSearch"
   ]
  },
  {
   "cell_type": "code",
   "execution_count": 49,
   "metadata": {
    "collapsed": false,
    "deletable": true,
    "editable": true
   },
   "outputs": [
    {
     "data": {
      "application/javascript": [
       "/* Put everything inside the global mpl namespace */\n",
       "window.mpl = {};\n",
       "\n",
       "\n",
       "mpl.get_websocket_type = function() {\n",
       "    if (typeof(WebSocket) !== 'undefined') {\n",
       "        return WebSocket;\n",
       "    } else if (typeof(MozWebSocket) !== 'undefined') {\n",
       "        return MozWebSocket;\n",
       "    } else {\n",
       "        alert('Your browser does not have WebSocket support.' +\n",
       "              'Please try Chrome, Safari or Firefox ≥ 6. ' +\n",
       "              'Firefox 4 and 5 are also supported but you ' +\n",
       "              'have to enable WebSockets in about:config.');\n",
       "    };\n",
       "}\n",
       "\n",
       "mpl.figure = function(figure_id, websocket, ondownload, parent_element) {\n",
       "    this.id = figure_id;\n",
       "\n",
       "    this.ws = websocket;\n",
       "\n",
       "    this.supports_binary = (this.ws.binaryType != undefined);\n",
       "\n",
       "    if (!this.supports_binary) {\n",
       "        var warnings = document.getElementById(\"mpl-warnings\");\n",
       "        if (warnings) {\n",
       "            warnings.style.display = 'block';\n",
       "            warnings.textContent = (\n",
       "                \"This browser does not support binary websocket messages. \" +\n",
       "                    \"Performance may be slow.\");\n",
       "        }\n",
       "    }\n",
       "\n",
       "    this.imageObj = new Image();\n",
       "\n",
       "    this.context = undefined;\n",
       "    this.message = undefined;\n",
       "    this.canvas = undefined;\n",
       "    this.rubberband_canvas = undefined;\n",
       "    this.rubberband_context = undefined;\n",
       "    this.format_dropdown = undefined;\n",
       "\n",
       "    this.image_mode = 'full';\n",
       "\n",
       "    this.root = $('<div/>');\n",
       "    this._root_extra_style(this.root)\n",
       "    this.root.attr('style', 'display: inline-block');\n",
       "\n",
       "    $(parent_element).append(this.root);\n",
       "\n",
       "    this._init_header(this);\n",
       "    this._init_canvas(this);\n",
       "    this._init_toolbar(this);\n",
       "\n",
       "    var fig = this;\n",
       "\n",
       "    this.waiting = false;\n",
       "\n",
       "    this.ws.onopen =  function () {\n",
       "            fig.send_message(\"supports_binary\", {value: fig.supports_binary});\n",
       "            fig.send_message(\"send_image_mode\", {});\n",
       "            if (mpl.ratio != 1) {\n",
       "                fig.send_message(\"set_dpi_ratio\", {'dpi_ratio': mpl.ratio});\n",
       "            }\n",
       "            fig.send_message(\"refresh\", {});\n",
       "        }\n",
       "\n",
       "    this.imageObj.onload = function() {\n",
       "            if (fig.image_mode == 'full') {\n",
       "                // Full images could contain transparency (where diff images\n",
       "                // almost always do), so we need to clear the canvas so that\n",
       "                // there is no ghosting.\n",
       "                fig.context.clearRect(0, 0, fig.canvas.width, fig.canvas.height);\n",
       "            }\n",
       "            fig.context.drawImage(fig.imageObj, 0, 0);\n",
       "        };\n",
       "\n",
       "    this.imageObj.onunload = function() {\n",
       "        this.ws.close();\n",
       "    }\n",
       "\n",
       "    this.ws.onmessage = this._make_on_message_function(this);\n",
       "\n",
       "    this.ondownload = ondownload;\n",
       "}\n",
       "\n",
       "mpl.figure.prototype._init_header = function() {\n",
       "    var titlebar = $(\n",
       "        '<div class=\"ui-dialog-titlebar ui-widget-header ui-corner-all ' +\n",
       "        'ui-helper-clearfix\"/>');\n",
       "    var titletext = $(\n",
       "        '<div class=\"ui-dialog-title\" style=\"width: 100%; ' +\n",
       "        'text-align: center; padding: 3px;\"/>');\n",
       "    titlebar.append(titletext)\n",
       "    this.root.append(titlebar);\n",
       "    this.header = titletext[0];\n",
       "}\n",
       "\n",
       "\n",
       "\n",
       "mpl.figure.prototype._canvas_extra_style = function(canvas_div) {\n",
       "\n",
       "}\n",
       "\n",
       "\n",
       "mpl.figure.prototype._root_extra_style = function(canvas_div) {\n",
       "\n",
       "}\n",
       "\n",
       "mpl.figure.prototype._init_canvas = function() {\n",
       "    var fig = this;\n",
       "\n",
       "    var canvas_div = $('<div/>');\n",
       "\n",
       "    canvas_div.attr('style', 'position: relative; clear: both; outline: 0');\n",
       "\n",
       "    function canvas_keyboard_event(event) {\n",
       "        return fig.key_event(event, event['data']);\n",
       "    }\n",
       "\n",
       "    canvas_div.keydown('key_press', canvas_keyboard_event);\n",
       "    canvas_div.keyup('key_release', canvas_keyboard_event);\n",
       "    this.canvas_div = canvas_div\n",
       "    this._canvas_extra_style(canvas_div)\n",
       "    this.root.append(canvas_div);\n",
       "\n",
       "    var canvas = $('<canvas/>');\n",
       "    canvas.addClass('mpl-canvas');\n",
       "    canvas.attr('style', \"left: 0; top: 0; z-index: 0; outline: 0\")\n",
       "\n",
       "    this.canvas = canvas[0];\n",
       "    this.context = canvas[0].getContext(\"2d\");\n",
       "\n",
       "    var backingStore = this.context.backingStorePixelRatio ||\n",
       "\tthis.context.webkitBackingStorePixelRatio ||\n",
       "\tthis.context.mozBackingStorePixelRatio ||\n",
       "\tthis.context.msBackingStorePixelRatio ||\n",
       "\tthis.context.oBackingStorePixelRatio ||\n",
       "\tthis.context.backingStorePixelRatio || 1;\n",
       "\n",
       "    mpl.ratio = (window.devicePixelRatio || 1) / backingStore;\n",
       "\n",
       "    var rubberband = $('<canvas/>');\n",
       "    rubberband.attr('style', \"position: absolute; left: 0; top: 0; z-index: 1;\")\n",
       "\n",
       "    var pass_mouse_events = true;\n",
       "\n",
       "    canvas_div.resizable({\n",
       "        start: function(event, ui) {\n",
       "            pass_mouse_events = false;\n",
       "        },\n",
       "        resize: function(event, ui) {\n",
       "            fig.request_resize(ui.size.width, ui.size.height);\n",
       "        },\n",
       "        stop: function(event, ui) {\n",
       "            pass_mouse_events = true;\n",
       "            fig.request_resize(ui.size.width, ui.size.height);\n",
       "        },\n",
       "    });\n",
       "\n",
       "    function mouse_event_fn(event) {\n",
       "        if (pass_mouse_events)\n",
       "            return fig.mouse_event(event, event['data']);\n",
       "    }\n",
       "\n",
       "    rubberband.mousedown('button_press', mouse_event_fn);\n",
       "    rubberband.mouseup('button_release', mouse_event_fn);\n",
       "    // Throttle sequential mouse events to 1 every 20ms.\n",
       "    rubberband.mousemove('motion_notify', mouse_event_fn);\n",
       "\n",
       "    rubberband.mouseenter('figure_enter', mouse_event_fn);\n",
       "    rubberband.mouseleave('figure_leave', mouse_event_fn);\n",
       "\n",
       "    canvas_div.on(\"wheel\", function (event) {\n",
       "        event = event.originalEvent;\n",
       "        event['data'] = 'scroll'\n",
       "        if (event.deltaY < 0) {\n",
       "            event.step = 1;\n",
       "        } else {\n",
       "            event.step = -1;\n",
       "        }\n",
       "        mouse_event_fn(event);\n",
       "    });\n",
       "\n",
       "    canvas_div.append(canvas);\n",
       "    canvas_div.append(rubberband);\n",
       "\n",
       "    this.rubberband = rubberband;\n",
       "    this.rubberband_canvas = rubberband[0];\n",
       "    this.rubberband_context = rubberband[0].getContext(\"2d\");\n",
       "    this.rubberband_context.strokeStyle = \"#000000\";\n",
       "\n",
       "    this._resize_canvas = function(width, height) {\n",
       "        // Keep the size of the canvas, canvas container, and rubber band\n",
       "        // canvas in synch.\n",
       "        canvas_div.css('width', width)\n",
       "        canvas_div.css('height', height)\n",
       "\n",
       "        canvas.attr('width', width * mpl.ratio);\n",
       "        canvas.attr('height', height * mpl.ratio);\n",
       "        canvas.attr('style', 'width: ' + width + 'px; height: ' + height + 'px;');\n",
       "\n",
       "        rubberband.attr('width', width);\n",
       "        rubberband.attr('height', height);\n",
       "    }\n",
       "\n",
       "    // Set the figure to an initial 600x600px, this will subsequently be updated\n",
       "    // upon first draw.\n",
       "    this._resize_canvas(600, 600);\n",
       "\n",
       "    // Disable right mouse context menu.\n",
       "    $(this.rubberband_canvas).bind(\"contextmenu\",function(e){\n",
       "        return false;\n",
       "    });\n",
       "\n",
       "    function set_focus () {\n",
       "        canvas.focus();\n",
       "        canvas_div.focus();\n",
       "    }\n",
       "\n",
       "    window.setTimeout(set_focus, 100);\n",
       "}\n",
       "\n",
       "mpl.figure.prototype._init_toolbar = function() {\n",
       "    var fig = this;\n",
       "\n",
       "    var nav_element = $('<div/>')\n",
       "    nav_element.attr('style', 'width: 100%');\n",
       "    this.root.append(nav_element);\n",
       "\n",
       "    // Define a callback function for later on.\n",
       "    function toolbar_event(event) {\n",
       "        return fig.toolbar_button_onclick(event['data']);\n",
       "    }\n",
       "    function toolbar_mouse_event(event) {\n",
       "        return fig.toolbar_button_onmouseover(event['data']);\n",
       "    }\n",
       "\n",
       "    for(var toolbar_ind in mpl.toolbar_items) {\n",
       "        var name = mpl.toolbar_items[toolbar_ind][0];\n",
       "        var tooltip = mpl.toolbar_items[toolbar_ind][1];\n",
       "        var image = mpl.toolbar_items[toolbar_ind][2];\n",
       "        var method_name = mpl.toolbar_items[toolbar_ind][3];\n",
       "\n",
       "        if (!name) {\n",
       "            // put a spacer in here.\n",
       "            continue;\n",
       "        }\n",
       "        var button = $('<button/>');\n",
       "        button.addClass('ui-button ui-widget ui-state-default ui-corner-all ' +\n",
       "                        'ui-button-icon-only');\n",
       "        button.attr('role', 'button');\n",
       "        button.attr('aria-disabled', 'false');\n",
       "        button.click(method_name, toolbar_event);\n",
       "        button.mouseover(tooltip, toolbar_mouse_event);\n",
       "\n",
       "        var icon_img = $('<span/>');\n",
       "        icon_img.addClass('ui-button-icon-primary ui-icon');\n",
       "        icon_img.addClass(image);\n",
       "        icon_img.addClass('ui-corner-all');\n",
       "\n",
       "        var tooltip_span = $('<span/>');\n",
       "        tooltip_span.addClass('ui-button-text');\n",
       "        tooltip_span.html(tooltip);\n",
       "\n",
       "        button.append(icon_img);\n",
       "        button.append(tooltip_span);\n",
       "\n",
       "        nav_element.append(button);\n",
       "    }\n",
       "\n",
       "    var fmt_picker_span = $('<span/>');\n",
       "\n",
       "    var fmt_picker = $('<select/>');\n",
       "    fmt_picker.addClass('mpl-toolbar-option ui-widget ui-widget-content');\n",
       "    fmt_picker_span.append(fmt_picker);\n",
       "    nav_element.append(fmt_picker_span);\n",
       "    this.format_dropdown = fmt_picker[0];\n",
       "\n",
       "    for (var ind in mpl.extensions) {\n",
       "        var fmt = mpl.extensions[ind];\n",
       "        var option = $(\n",
       "            '<option/>', {selected: fmt === mpl.default_extension}).html(fmt);\n",
       "        fmt_picker.append(option)\n",
       "    }\n",
       "\n",
       "    // Add hover states to the ui-buttons\n",
       "    $( \".ui-button\" ).hover(\n",
       "        function() { $(this).addClass(\"ui-state-hover\");},\n",
       "        function() { $(this).removeClass(\"ui-state-hover\");}\n",
       "    );\n",
       "\n",
       "    var status_bar = $('<span class=\"mpl-message\"/>');\n",
       "    nav_element.append(status_bar);\n",
       "    this.message = status_bar[0];\n",
       "}\n",
       "\n",
       "mpl.figure.prototype.request_resize = function(x_pixels, y_pixels) {\n",
       "    // Request matplotlib to resize the figure. Matplotlib will then trigger a resize in the client,\n",
       "    // which will in turn request a refresh of the image.\n",
       "    this.send_message('resize', {'width': x_pixels, 'height': y_pixels});\n",
       "}\n",
       "\n",
       "mpl.figure.prototype.send_message = function(type, properties) {\n",
       "    properties['type'] = type;\n",
       "    properties['figure_id'] = this.id;\n",
       "    this.ws.send(JSON.stringify(properties));\n",
       "}\n",
       "\n",
       "mpl.figure.prototype.send_draw_message = function() {\n",
       "    if (!this.waiting) {\n",
       "        this.waiting = true;\n",
       "        this.ws.send(JSON.stringify({type: \"draw\", figure_id: this.id}));\n",
       "    }\n",
       "}\n",
       "\n",
       "\n",
       "mpl.figure.prototype.handle_save = function(fig, msg) {\n",
       "    var format_dropdown = fig.format_dropdown;\n",
       "    var format = format_dropdown.options[format_dropdown.selectedIndex].value;\n",
       "    fig.ondownload(fig, format);\n",
       "}\n",
       "\n",
       "\n",
       "mpl.figure.prototype.handle_resize = function(fig, msg) {\n",
       "    var size = msg['size'];\n",
       "    if (size[0] != fig.canvas.width || size[1] != fig.canvas.height) {\n",
       "        fig._resize_canvas(size[0], size[1]);\n",
       "        fig.send_message(\"refresh\", {});\n",
       "    };\n",
       "}\n",
       "\n",
       "mpl.figure.prototype.handle_rubberband = function(fig, msg) {\n",
       "    var x0 = msg['x0'] / mpl.ratio;\n",
       "    var y0 = (fig.canvas.height - msg['y0']) / mpl.ratio;\n",
       "    var x1 = msg['x1'] / mpl.ratio;\n",
       "    var y1 = (fig.canvas.height - msg['y1']) / mpl.ratio;\n",
       "    x0 = Math.floor(x0) + 0.5;\n",
       "    y0 = Math.floor(y0) + 0.5;\n",
       "    x1 = Math.floor(x1) + 0.5;\n",
       "    y1 = Math.floor(y1) + 0.5;\n",
       "    var min_x = Math.min(x0, x1);\n",
       "    var min_y = Math.min(y0, y1);\n",
       "    var width = Math.abs(x1 - x0);\n",
       "    var height = Math.abs(y1 - y0);\n",
       "\n",
       "    fig.rubberband_context.clearRect(\n",
       "        0, 0, fig.canvas.width, fig.canvas.height);\n",
       "\n",
       "    fig.rubberband_context.strokeRect(min_x, min_y, width, height);\n",
       "}\n",
       "\n",
       "mpl.figure.prototype.handle_figure_label = function(fig, msg) {\n",
       "    // Updates the figure title.\n",
       "    fig.header.textContent = msg['label'];\n",
       "}\n",
       "\n",
       "mpl.figure.prototype.handle_cursor = function(fig, msg) {\n",
       "    var cursor = msg['cursor'];\n",
       "    switch(cursor)\n",
       "    {\n",
       "    case 0:\n",
       "        cursor = 'pointer';\n",
       "        break;\n",
       "    case 1:\n",
       "        cursor = 'default';\n",
       "        break;\n",
       "    case 2:\n",
       "        cursor = 'crosshair';\n",
       "        break;\n",
       "    case 3:\n",
       "        cursor = 'move';\n",
       "        break;\n",
       "    }\n",
       "    fig.rubberband_canvas.style.cursor = cursor;\n",
       "}\n",
       "\n",
       "mpl.figure.prototype.handle_message = function(fig, msg) {\n",
       "    fig.message.textContent = msg['message'];\n",
       "}\n",
       "\n",
       "mpl.figure.prototype.handle_draw = function(fig, msg) {\n",
       "    // Request the server to send over a new figure.\n",
       "    fig.send_draw_message();\n",
       "}\n",
       "\n",
       "mpl.figure.prototype.handle_image_mode = function(fig, msg) {\n",
       "    fig.image_mode = msg['mode'];\n",
       "}\n",
       "\n",
       "mpl.figure.prototype.updated_canvas_event = function() {\n",
       "    // Called whenever the canvas gets updated.\n",
       "    this.send_message(\"ack\", {});\n",
       "}\n",
       "\n",
       "// A function to construct a web socket function for onmessage handling.\n",
       "// Called in the figure constructor.\n",
       "mpl.figure.prototype._make_on_message_function = function(fig) {\n",
       "    return function socket_on_message(evt) {\n",
       "        if (evt.data instanceof Blob) {\n",
       "            /* FIXME: We get \"Resource interpreted as Image but\n",
       "             * transferred with MIME type text/plain:\" errors on\n",
       "             * Chrome.  But how to set the MIME type?  It doesn't seem\n",
       "             * to be part of the websocket stream */\n",
       "            evt.data.type = \"image/png\";\n",
       "\n",
       "            /* Free the memory for the previous frames */\n",
       "            if (fig.imageObj.src) {\n",
       "                (window.URL || window.webkitURL).revokeObjectURL(\n",
       "                    fig.imageObj.src);\n",
       "            }\n",
       "\n",
       "            fig.imageObj.src = (window.URL || window.webkitURL).createObjectURL(\n",
       "                evt.data);\n",
       "            fig.updated_canvas_event();\n",
       "            fig.waiting = false;\n",
       "            return;\n",
       "        }\n",
       "        else if (typeof evt.data === 'string' && evt.data.slice(0, 21) == \"data:image/png;base64\") {\n",
       "            fig.imageObj.src = evt.data;\n",
       "            fig.updated_canvas_event();\n",
       "            fig.waiting = false;\n",
       "            return;\n",
       "        }\n",
       "\n",
       "        var msg = JSON.parse(evt.data);\n",
       "        var msg_type = msg['type'];\n",
       "\n",
       "        // Call the  \"handle_{type}\" callback, which takes\n",
       "        // the figure and JSON message as its only arguments.\n",
       "        try {\n",
       "            var callback = fig[\"handle_\" + msg_type];\n",
       "        } catch (e) {\n",
       "            console.log(\"No handler for the '\" + msg_type + \"' message type: \", msg);\n",
       "            return;\n",
       "        }\n",
       "\n",
       "        if (callback) {\n",
       "            try {\n",
       "                // console.log(\"Handling '\" + msg_type + \"' message: \", msg);\n",
       "                callback(fig, msg);\n",
       "            } catch (e) {\n",
       "                console.log(\"Exception inside the 'handler_\" + msg_type + \"' callback:\", e, e.stack, msg);\n",
       "            }\n",
       "        }\n",
       "    };\n",
       "}\n",
       "\n",
       "// from http://stackoverflow.com/questions/1114465/getting-mouse-location-in-canvas\n",
       "mpl.findpos = function(e) {\n",
       "    //this section is from http://www.quirksmode.org/js/events_properties.html\n",
       "    var targ;\n",
       "    if (!e)\n",
       "        e = window.event;\n",
       "    if (e.target)\n",
       "        targ = e.target;\n",
       "    else if (e.srcElement)\n",
       "        targ = e.srcElement;\n",
       "    if (targ.nodeType == 3) // defeat Safari bug\n",
       "        targ = targ.parentNode;\n",
       "\n",
       "    // jQuery normalizes the pageX and pageY\n",
       "    // pageX,Y are the mouse positions relative to the document\n",
       "    // offset() returns the position of the element relative to the document\n",
       "    var x = e.pageX - $(targ).offset().left;\n",
       "    var y = e.pageY - $(targ).offset().top;\n",
       "\n",
       "    return {\"x\": x, \"y\": y};\n",
       "};\n",
       "\n",
       "/*\n",
       " * return a copy of an object with only non-object keys\n",
       " * we need this to avoid circular references\n",
       " * http://stackoverflow.com/a/24161582/3208463\n",
       " */\n",
       "function simpleKeys (original) {\n",
       "  return Object.keys(original).reduce(function (obj, key) {\n",
       "    if (typeof original[key] !== 'object')\n",
       "        obj[key] = original[key]\n",
       "    return obj;\n",
       "  }, {});\n",
       "}\n",
       "\n",
       "mpl.figure.prototype.mouse_event = function(event, name) {\n",
       "    var canvas_pos = mpl.findpos(event)\n",
       "\n",
       "    if (name === 'button_press')\n",
       "    {\n",
       "        this.canvas.focus();\n",
       "        this.canvas_div.focus();\n",
       "    }\n",
       "\n",
       "    var x = canvas_pos.x * mpl.ratio;\n",
       "    var y = canvas_pos.y * mpl.ratio;\n",
       "\n",
       "    this.send_message(name, {x: x, y: y, button: event.button,\n",
       "                             step: event.step,\n",
       "                             guiEvent: simpleKeys(event)});\n",
       "\n",
       "    /* This prevents the web browser from automatically changing to\n",
       "     * the text insertion cursor when the button is pressed.  We want\n",
       "     * to control all of the cursor setting manually through the\n",
       "     * 'cursor' event from matplotlib */\n",
       "    event.preventDefault();\n",
       "    return false;\n",
       "}\n",
       "\n",
       "mpl.figure.prototype._key_event_extra = function(event, name) {\n",
       "    // Handle any extra behaviour associated with a key event\n",
       "}\n",
       "\n",
       "mpl.figure.prototype.key_event = function(event, name) {\n",
       "\n",
       "    // Prevent repeat events\n",
       "    if (name == 'key_press')\n",
       "    {\n",
       "        if (event.which === this._key)\n",
       "            return;\n",
       "        else\n",
       "            this._key = event.which;\n",
       "    }\n",
       "    if (name == 'key_release')\n",
       "        this._key = null;\n",
       "\n",
       "    var value = '';\n",
       "    if (event.ctrlKey && event.which != 17)\n",
       "        value += \"ctrl+\";\n",
       "    if (event.altKey && event.which != 18)\n",
       "        value += \"alt+\";\n",
       "    if (event.shiftKey && event.which != 16)\n",
       "        value += \"shift+\";\n",
       "\n",
       "    value += 'k';\n",
       "    value += event.which.toString();\n",
       "\n",
       "    this._key_event_extra(event, name);\n",
       "\n",
       "    this.send_message(name, {key: value,\n",
       "                             guiEvent: simpleKeys(event)});\n",
       "    return false;\n",
       "}\n",
       "\n",
       "mpl.figure.prototype.toolbar_button_onclick = function(name) {\n",
       "    if (name == 'download') {\n",
       "        this.handle_save(this, null);\n",
       "    } else {\n",
       "        this.send_message(\"toolbar_button\", {name: name});\n",
       "    }\n",
       "};\n",
       "\n",
       "mpl.figure.prototype.toolbar_button_onmouseover = function(tooltip) {\n",
       "    this.message.textContent = tooltip;\n",
       "};\n",
       "mpl.toolbar_items = [[\"Home\", \"Reset original view\", \"fa fa-home icon-home\", \"home\"], [\"Back\", \"Back to  previous view\", \"fa fa-arrow-left icon-arrow-left\", \"back\"], [\"Forward\", \"Forward to next view\", \"fa fa-arrow-right icon-arrow-right\", \"forward\"], [\"\", \"\", \"\", \"\"], [\"Pan\", \"Pan axes with left mouse, zoom with right\", \"fa fa-arrows icon-move\", \"pan\"], [\"Zoom\", \"Zoom to rectangle\", \"fa fa-square-o icon-check-empty\", \"zoom\"], [\"\", \"\", \"\", \"\"], [\"Download\", \"Download plot\", \"fa fa-floppy-o icon-save\", \"download\"]];\n",
       "\n",
       "mpl.extensions = [\"eps\", \"jpeg\", \"pdf\", \"png\", \"ps\", \"raw\", \"svg\", \"tif\"];\n",
       "\n",
       "mpl.default_extension = \"png\";var comm_websocket_adapter = function(comm) {\n",
       "    // Create a \"websocket\"-like object which calls the given IPython comm\n",
       "    // object with the appropriate methods. Currently this is a non binary\n",
       "    // socket, so there is still some room for performance tuning.\n",
       "    var ws = {};\n",
       "\n",
       "    ws.close = function() {\n",
       "        comm.close()\n",
       "    };\n",
       "    ws.send = function(m) {\n",
       "        //console.log('sending', m);\n",
       "        comm.send(m);\n",
       "    };\n",
       "    // Register the callback with on_msg.\n",
       "    comm.on_msg(function(msg) {\n",
       "        //console.log('receiving', msg['content']['data'], msg);\n",
       "        // Pass the mpl event to the overriden (by mpl) onmessage function.\n",
       "        ws.onmessage(msg['content']['data'])\n",
       "    });\n",
       "    return ws;\n",
       "}\n",
       "\n",
       "mpl.mpl_figure_comm = function(comm, msg) {\n",
       "    // This is the function which gets called when the mpl process\n",
       "    // starts-up an IPython Comm through the \"matplotlib\" channel.\n",
       "\n",
       "    var id = msg.content.data.id;\n",
       "    // Get hold of the div created by the display call when the Comm\n",
       "    // socket was opened in Python.\n",
       "    var element = $(\"#\" + id);\n",
       "    var ws_proxy = comm_websocket_adapter(comm)\n",
       "\n",
       "    function ondownload(figure, format) {\n",
       "        window.open(figure.imageObj.src);\n",
       "    }\n",
       "\n",
       "    var fig = new mpl.figure(id, ws_proxy,\n",
       "                           ondownload,\n",
       "                           element.get(0));\n",
       "\n",
       "    // Call onopen now - mpl needs it, as it is assuming we've passed it a real\n",
       "    // web socket which is closed, not our websocket->open comm proxy.\n",
       "    ws_proxy.onopen();\n",
       "\n",
       "    fig.parent_element = element.get(0);\n",
       "    fig.cell_info = mpl.find_output_cell(\"<div id='\" + id + \"'></div>\");\n",
       "    if (!fig.cell_info) {\n",
       "        console.error(\"Failed to find cell for figure\", id, fig);\n",
       "        return;\n",
       "    }\n",
       "\n",
       "    var output_index = fig.cell_info[2]\n",
       "    var cell = fig.cell_info[0];\n",
       "\n",
       "};\n",
       "\n",
       "mpl.figure.prototype.handle_close = function(fig, msg) {\n",
       "    var width = fig.canvas.width/mpl.ratio\n",
       "    fig.root.unbind('remove')\n",
       "\n",
       "    // Update the output cell to use the data from the current canvas.\n",
       "    fig.push_to_output();\n",
       "    var dataURL = fig.canvas.toDataURL();\n",
       "    // Re-enable the keyboard manager in IPython - without this line, in FF,\n",
       "    // the notebook keyboard shortcuts fail.\n",
       "    IPython.keyboard_manager.enable()\n",
       "    $(fig.parent_element).html('<img src=\"' + dataURL + '\" width=\"' + width + '\">');\n",
       "    fig.close_ws(fig, msg);\n",
       "}\n",
       "\n",
       "mpl.figure.prototype.close_ws = function(fig, msg){\n",
       "    fig.send_message('closing', msg);\n",
       "    // fig.ws.close()\n",
       "}\n",
       "\n",
       "mpl.figure.prototype.push_to_output = function(remove_interactive) {\n",
       "    // Turn the data on the canvas into data in the output cell.\n",
       "    var width = this.canvas.width/mpl.ratio\n",
       "    var dataURL = this.canvas.toDataURL();\n",
       "    this.cell_info[1]['text/html'] = '<img src=\"' + dataURL + '\" width=\"' + width + '\">';\n",
       "}\n",
       "\n",
       "mpl.figure.prototype.updated_canvas_event = function() {\n",
       "    // Tell IPython that the notebook contents must change.\n",
       "    IPython.notebook.set_dirty(true);\n",
       "    this.send_message(\"ack\", {});\n",
       "    var fig = this;\n",
       "    // Wait a second, then push the new image to the DOM so\n",
       "    // that it is saved nicely (might be nice to debounce this).\n",
       "    setTimeout(function () { fig.push_to_output() }, 1000);\n",
       "}\n",
       "\n",
       "mpl.figure.prototype._init_toolbar = function() {\n",
       "    var fig = this;\n",
       "\n",
       "    var nav_element = $('<div/>')\n",
       "    nav_element.attr('style', 'width: 100%');\n",
       "    this.root.append(nav_element);\n",
       "\n",
       "    // Define a callback function for later on.\n",
       "    function toolbar_event(event) {\n",
       "        return fig.toolbar_button_onclick(event['data']);\n",
       "    }\n",
       "    function toolbar_mouse_event(event) {\n",
       "        return fig.toolbar_button_onmouseover(event['data']);\n",
       "    }\n",
       "\n",
       "    for(var toolbar_ind in mpl.toolbar_items){\n",
       "        var name = mpl.toolbar_items[toolbar_ind][0];\n",
       "        var tooltip = mpl.toolbar_items[toolbar_ind][1];\n",
       "        var image = mpl.toolbar_items[toolbar_ind][2];\n",
       "        var method_name = mpl.toolbar_items[toolbar_ind][3];\n",
       "\n",
       "        if (!name) { continue; };\n",
       "\n",
       "        var button = $('<button class=\"btn btn-default\" href=\"#\" title=\"' + name + '\"><i class=\"fa ' + image + ' fa-lg\"></i></button>');\n",
       "        button.click(method_name, toolbar_event);\n",
       "        button.mouseover(tooltip, toolbar_mouse_event);\n",
       "        nav_element.append(button);\n",
       "    }\n",
       "\n",
       "    // Add the status bar.\n",
       "    var status_bar = $('<span class=\"mpl-message\" style=\"text-align:right; float: right;\"/>');\n",
       "    nav_element.append(status_bar);\n",
       "    this.message = status_bar[0];\n",
       "\n",
       "    // Add the close button to the window.\n",
       "    var buttongrp = $('<div class=\"btn-group inline pull-right\"></div>');\n",
       "    var button = $('<button class=\"btn btn-mini btn-primary\" href=\"#\" title=\"Stop Interaction\"><i class=\"fa fa-power-off icon-remove icon-large\"></i></button>');\n",
       "    button.click(function (evt) { fig.handle_close(fig, {}); } );\n",
       "    button.mouseover('Stop Interaction', toolbar_mouse_event);\n",
       "    buttongrp.append(button);\n",
       "    var titlebar = this.root.find($('.ui-dialog-titlebar'));\n",
       "    titlebar.prepend(buttongrp);\n",
       "}\n",
       "\n",
       "mpl.figure.prototype._root_extra_style = function(el){\n",
       "    var fig = this\n",
       "    el.on(\"remove\", function(){\n",
       "\tfig.close_ws(fig, {});\n",
       "    });\n",
       "}\n",
       "\n",
       "mpl.figure.prototype._canvas_extra_style = function(el){\n",
       "    // this is important to make the div 'focusable\n",
       "    el.attr('tabindex', 0)\n",
       "    // reach out to IPython and tell the keyboard manager to turn it's self\n",
       "    // off when our div gets focus\n",
       "\n",
       "    // location in version 3\n",
       "    if (IPython.notebook.keyboard_manager) {\n",
       "        IPython.notebook.keyboard_manager.register_events(el);\n",
       "    }\n",
       "    else {\n",
       "        // location in version 2\n",
       "        IPython.keyboard_manager.register_events(el);\n",
       "    }\n",
       "\n",
       "}\n",
       "\n",
       "mpl.figure.prototype._key_event_extra = function(event, name) {\n",
       "    var manager = IPython.notebook.keyboard_manager;\n",
       "    if (!manager)\n",
       "        manager = IPython.keyboard_manager;\n",
       "\n",
       "    // Check for shift+enter\n",
       "    if (event.shiftKey && event.which == 13) {\n",
       "        this.canvas_div.blur();\n",
       "        // select the cell after this one\n",
       "        var index = IPython.notebook.find_cell_index(this.cell_info[0]);\n",
       "        IPython.notebook.select(index + 1);\n",
       "    }\n",
       "}\n",
       "\n",
       "mpl.figure.prototype.handle_save = function(fig, msg) {\n",
       "    fig.ondownload(fig, null);\n",
       "}\n",
       "\n",
       "\n",
       "mpl.find_output_cell = function(html_output) {\n",
       "    // Return the cell and output element which can be found *uniquely* in the notebook.\n",
       "    // Note - this is a bit hacky, but it is done because the \"notebook_saving.Notebook\"\n",
       "    // IPython event is triggered only after the cells have been serialised, which for\n",
       "    // our purposes (turning an active figure into a static one), is too late.\n",
       "    var cells = IPython.notebook.get_cells();\n",
       "    var ncells = cells.length;\n",
       "    for (var i=0; i<ncells; i++) {\n",
       "        var cell = cells[i];\n",
       "        if (cell.cell_type === 'code'){\n",
       "            for (var j=0; j<cell.output_area.outputs.length; j++) {\n",
       "                var data = cell.output_area.outputs[j];\n",
       "                if (data.data) {\n",
       "                    // IPython >= 3 moved mimebundle to data attribute of output\n",
       "                    data = data.data;\n",
       "                }\n",
       "                if (data['text/html'] == html_output) {\n",
       "                    return [cell, data, j];\n",
       "                }\n",
       "            }\n",
       "        }\n",
       "    }\n",
       "}\n",
       "\n",
       "// Register the function which deals with the matplotlib target/channel.\n",
       "// The kernel may be null if the page has been refreshed.\n",
       "if (IPython.notebook.kernel != null) {\n",
       "    IPython.notebook.kernel.comm_manager.register_target('matplotlib', mpl.mpl_figure_comm);\n",
       "}\n"
      ],
      "text/plain": [
       "<IPython.core.display.Javascript object>"
      ]
     },
     "metadata": {},
     "output_type": "display_data"
    },
    {
     "data": {
      "text/html": [
       "<img src=\"data:image/png;base64,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\" width=\"640\">"
      ],
      "text/plain": [
       "<IPython.core.display.HTML object>"
      ]
     },
     "metadata": {},
     "output_type": "display_data"
    },
    {
     "name": "stdout",
     "output_type": "stream",
     "text": [
      "[  0. -90. -60. -30.   0.  30.  60.  90. -90. -60. -30.   0.  30.  60.  90.\n",
      " -90. -60. -30.   0.  30.  60.  90.]\n",
      "[ 90.  60.  60.  60.  60.  60.  60.  60.  30.  30.  30.  30.  30.  30.  30.\n",
      "   0.   0.   0.   0.   0.   0.   0.]\n",
      "[  0.00000000e+00   3.00000000e+01   2.59807621e+01   1.50000000e+01\n",
      "   1.83697020e-15  -1.50000000e+01  -2.59807621e+01  -3.00000000e+01\n",
      "   6.00000000e+01   5.19615242e+01   3.00000000e+01   3.67394040e-15\n",
      "  -3.00000000e+01  -5.19615242e+01  -6.00000000e+01   9.00000000e+01\n",
      "   7.79422863e+01   4.50000000e+01   5.51091060e-15  -4.50000000e+01\n",
      "  -7.79422863e+01  -9.00000000e+01]\n",
      "[  0.00000000e+00   0.00000000e+00   1.50000000e+01   2.59807621e+01\n",
      "   3.00000000e+01   2.59807621e+01   1.50000000e+01   3.67394040e-15\n",
      "   0.00000000e+00   3.00000000e+01   5.19615242e+01   6.00000000e+01\n",
      "   5.19615242e+01   3.00000000e+01   7.34788079e-15   0.00000000e+00\n",
      "   4.50000000e+01   7.79422863e+01   9.00000000e+01   7.79422863e+01\n",
      "   4.50000000e+01   1.10218212e-14]\n",
      "[   0.           90.         -173.15673968 -173.47412043 -179.82641839\n",
      "  173.61164534  173.21480147  -90.           90.         -149.73596874\n",
      " -136.72057225  178.88008718  132.36854784  147.1895682   167.29861976\n",
      " -149.28692923 -106.61993869  -54.4718465     0.26284939   53.49525014\n",
      "  100.94947405  142.55334865]\n",
      "[-90.         -60.          -8.69927952  12.7003066   19.77065113\n",
      "  12.90291899  -5.83972661 -60.         -30.          22.06087899\n",
      "  55.19727136  79.28758632  57.20232148  25.66815923 -16.14175378\n",
      "  -5.04458504  27.51518354  43.49700478  46.9904755   42.0802613\n",
      "  28.91907494   3.1348449 ]\n",
      "[  1.10218212e-14  -1.50000000e+02   1.17603802e+01   8.78526340e+00\n",
      "   2.12764447e-01  -8.57835684e+00  -1.13232190e+01   1.50000000e+02\n",
      "  -1.20000000e+02   3.42403324e+01   2.38592542e+01  -2.09373284e-01\n",
      "  -2.42317574e+01  -3.48589312e+01  -2.33373561e+01   4.85429821e+01\n",
      "   5.98743944e+01   3.78455363e+01  -1.97309254e-01  -3.85182476e+01\n",
      "  -5.99689508e+01  -5.28159658e+01]\n",
      "[  1.80000000e+02   1.83697020e-14  -9.79961287e+01  -7.67988395e+01\n",
      "  -7.02290266e+01  -7.66183509e+01  -9.51684712e+01   0.00000000e+00\n",
      "   1.46957616e-14  -5.86798415e+01  -2.53370462e+01  -1.07103674e+01\n",
      "  -2.21022544e+01  -5.40688511e+01  -1.03544385e+02  -8.17132305e+01\n",
      "  -1.78720223e+01   2.70230262e+01   4.30090719e+01   2.85069458e+01\n",
      "  -1.16019112e+01  -6.89639683e+01]\n"
     ]
    }
   ],
   "source": [
    "#psearch = ParameterSearch(\"calibration/calibration_device/2015_11_06_centroids.txt\", 1280, 720)\n",
    "\n",
    "\"\"\"best_parameters = \\\n",
    "{'animal_y':0.056,\n",
    "'animal_z':0.575,\n",
    "'dome_y':0.110,\n",
    "'dome_z':0.348,\n",
    "'dome_radius':0.601,\n",
    "'mirror_radius':0.162,\n",
    "'projector_y':0.858,\n",
    "'projector_z':-0.052,\n",
    "'projector_roll':0.010,\n",
    "'projector_theta':0.166,\n",
    "'projector_vertical_offset':0.211}\"\"\"\n",
    "\n",
    "psearch = ParameterSearch(\"example_centroids.txt\", 1024, 768)\n",
    "\n",
    "best_parameters = \\\n",
    "{'animal_y':0.0279606097915,\n",
    "'animal_z':0.501225843308,\n",
    "'dome_y':0.219457436982,\n",
    "'dome_z':0.434561042672,\n",
    "'dome_radius':0.654706315528,\n",
    "'mirror_radius':0.237214340525,\n",
    "'projector_y':0.777813617153,\n",
    "'projector_z':0.099647194721,\n",
    "'projector_roll':0.0221805273634,\n",
    "'projector_theta':0.399998777994,\n",
    "'projector_vertical_offset':0.0}\n",
    "\n",
    "def value_to_range(value):\n",
    "    return (value - 0.1, value + 0.1, 0.001)\n",
    "ranges = dict([[key, value_to_range(best_parameters[key])] for key in best_parameters])"
   ]
  },
  {
   "cell_type": "code",
   "execution_count": 50,
   "metadata": {
    "collapsed": false,
    "deletable": true,
    "editable": true
   },
   "outputs": [
    {
     "data": {
      "application/vnd.jupyter.widget-view+json": {
       "model_id": "2f8914e932e541c1b84670a91c6e40a3"
      }
     },
     "metadata": {},
     "output_type": "display_data"
    }
   ],
   "source": [
    "sliders = interact(psearch.update, **ranges)"
   ]
  },
  {
   "cell_type": "code",
   "execution_count": 51,
   "metadata": {
    "collapsed": false,
    "deletable": true,
    "editable": true
   },
   "outputs": [
    {
     "data": {
      "text/plain": [
       "{'animal_y': 0.027960609791500002,\n",
       " 'animal_z': 0.500225843308,\n",
       " 'dome_radius': 0.653706315528,\n",
       " 'dome_y': 0.219457436982,\n",
       " 'dome_z': 0.433561042672,\n",
       " 'mirror_radius': 0.237214340525,\n",
       " 'projector_roll': 0.022180527363399996,\n",
       " 'projector_theta': 0.39999877799399997,\n",
       " 'projector_vertical_offset': 0.0,\n",
       " 'projector_y': 0.776813617153,\n",
       " 'projector_z': 0.099647194721}"
      ]
     },
     "execution_count": 51,
     "metadata": {},
     "output_type": "execute_result"
    }
   ],
   "source": [
    "sliders.widget.kwargs"
   ]
  }
 ],
 "metadata": {
  "kernelspec": {
   "display_name": "Python 2",
   "language": "python",
   "name": "python2"
  },
  "language_info": {
   "codemirror_mode": {
    "name": "ipython",
    "version": 2
   },
   "file_extension": ".py",
   "mimetype": "text/x-python",
   "name": "python",
   "nbconvert_exporter": "python",
   "pygments_lexer": "ipython2",
   "version": "2.7.13"
  },
  "widgets": {
   "state": {
    "09875c31a9154ebe87b31b95aa581310": {
     "views": []
    },
    "0b218c22c3e34d0293990f8934fb0bdd": {
     "views": []
    },
    "0caa39bc3dd249dabfdf5af7ffc03d2c": {
     "views": []
    },
    "16657318d91f4c7f91025f8fe3211703": {
     "views": []
    },
    "19379ffaec7f445faa184de24a29ca0e": {
     "views": []
    },
    "1a22ad54c6084ddda91c2ffa6b4153a6": {
     "views": []
    },
    "1c8507f06be84a7dab4e70d5258b41ff": {
     "views": []
    },
    "1cfdaee90ffd4afd9d1e22e5f4503f62": {
     "views": []
    },
    "1fab24a952794e87b44d15b96bc8d505": {
     "views": []
    },
    "21586773f25f4cc795cae7bbf784f128": {
     "views": []
    },
    "23aef5db57334d53850c6501be8494fd": {
     "views": []
    },
    "2687a0396ed8435c9f6f970e04a0cd0b": {
     "views": []
    },
    "281a2a423d634ca8a731f509c746ba8b": {
     "views": []
    },
    "2870fa6771bb431aa758b54caff07f9f": {
     "views": []
    },
    "30ac2fad0e3b43028d16a3e3a41d1837": {
     "views": []
    },
    "42d798bab95f43e689d5fc83cc62f522": {
     "views": []
    },
    "45a45214704d4c379407fc082114addd": {
     "views": []
    },
    "4708e2898cf64bceac2f8d04a89e9387": {
     "views": []
    },
    "4c8fd0979bfc44398708e2a1475a2f9d": {
     "views": []
    },
    "4eb5550a9224451e82f35c997b03e824": {
     "views": []
    },
    "4f62132cac024cbc932f87dc36a8115a": {
     "views": []
    },
    "5213a993d89d4d86b1da4eda2814f7d6": {
     "views": []
    },
    "53baf262e3df422ca4fe94d5b990f3e6": {
     "views": []
    },
    "53c5b59ee38a455ea2141c6da3e67c39": {
     "views": []
    },
    "54632940b4814cc5833dac60cfabc993": {
     "views": []
    },
    "5b4b34d7c9df41f1b62954cf9071969f": {
     "views": []
    },
    "5c5a68c3347444089a8725831f15d771": {
     "views": []
    },
    "5d3453faf1394890ae4012b1afbdb291": {
     "views": []
    },
    "62bdf9e8225d4590909fbb482cd5d980": {
     "views": []
    },
    "637dacb2b0d646fab252c93af5d7cf81": {
     "views": []
    },
    "64a2473426ce4a14bd98e9d94c74480b": {
     "views": []
    },
    "73695ce38a304d189e0876f581193584": {
     "views": []
    },
    "7468713896ff433a9773daa2b9738c91": {
     "views": [
      {
       "cell_index": 4
      }
     ]
    },
    "74a79ac07b094b79b822849cbf772e41": {
     "views": []
    },
    "77f8f15980034c818fa80154dbd184b4": {
     "views": []
    },
    "795380a83f9c4aae9f25cb070eff9cde": {
     "views": []
    },
    "7eb1093d13e347c6b3e63c1b62630b65": {
     "views": []
    },
    "7f808f1884c842db8d4b571cd3ea5c89": {
     "views": []
    },
    "7f99eee3712f48b9a384f5e799a7aff5": {
     "views": []
    },
    "80cc3cde94374073b4179e6bc74bb950": {
     "views": []
    },
    "86eb803d08eb4ad3b57273fd022719e3": {
     "views": []
    },
    "899aec350d1e4c61a46faa84639079ac": {
     "views": []
    },
    "8af7b623e59b48df843c756c6a9d91d2": {
     "views": []
    },
    "8f6cdd0f0f1041e486b4a71edb7941be": {
     "views": []
    },
    "943a74b8fb9e4207bbf97d8576813df4": {
     "views": []
    },
    "95216e4bf8814cda932c5727db2b4320": {
     "views": []
    },
    "99bdbd2c7b7042f296acca1b916bd07b": {
     "views": []
    },
    "9d19ef372de6457a88ca0b4fa29282e5": {
     "views": []
    },
    "9db0a82b90964442bef67700c98efcc0": {
     "views": []
    },
    "9deb97b921cb44d8bbd746eafcfd5431": {
     "views": []
    },
    "9e1652931c214cfa9de2b9381315e64a": {
     "views": []
    },
    "9ebbb557c35e44c9a45242a59a82a7b0": {
     "views": []
    },
    "a4e55514c07d46508d9dd474959a23e5": {
     "views": []
    },
    "a7ed85ff16d444678abc04fc815c8cb7": {
     "views": []
    },
    "a98063fab26b4f7c989a6fca0e56d08e": {
     "views": []
    },
    "a9d281072eb6440ca874493b1712aac6": {
     "views": []
    },
    "aaa1cb8f0059400e8d30844cebde4484": {
     "views": []
    },
    "ae45ca9971e24a579e6a9126368fcbb1": {
     "views": []
    },
    "b043edf61cea472694c2d82d8aa35a6d": {
     "views": []
    },
    "b1271f2d2c644ad1a194e970983ef435": {
     "views": []
    },
    "b669990a6fc54e6dbfef4d8e4abbe7c0": {
     "views": []
    },
    "b711babe10ef46cc84e1ec3a2baa6eab": {
     "views": []
    },
    "b96dadab4a2342439ba476c10bb1a05a": {
     "views": []
    },
    "b9833e79a8414525b9c5fa23e77f85ad": {
     "views": []
    },
    "babf49f7ddc04d02baa3b291939b7f50": {
     "views": []
    },
    "bc125551485f490d8a03632da6188b89": {
     "views": []
    },
    "c14a52d76d0b445fbef1f4ba0e90226a": {
     "views": []
    },
    "c1d1056c702b4747b5c6513fd157bb69": {
     "views": []
    },
    "c298d19cf5f84be2b64dcc8ae067b439": {
     "views": []
    },
    "c32f29a97aae42ce94adf7f0bea94c8d": {
     "views": []
    },
    "c45ce6271d6f4df682d82c771dcf1cee": {
     "views": []
    },
    "c5a5816eada4469dbac8ddcdb68e222c": {
     "views": []
    },
    "cd6cd3d8b2174b7896e3fddcd26f4d82": {
     "views": []
    },
    "cf9b71ee09aa41f99f36268b1078b318": {
     "views": []
    },
    "d1d8d1f104f44b919b3f753b06499045": {
     "views": []
    },
    "d1e8653990fc4810a2a45cf881a62856": {
     "views": []
    },
    "d4414b06d00c45899b9d347586d0a1bf": {
     "views": []
    },
    "d5c97b5e342a4f79b728014a68b2d60e": {
     "views": []
    },
    "de12cf83f3364558b1f577cc323030b4": {
     "views": []
    },
    "e1129aa7db814714a754a443d9c149a1": {
     "views": []
    },
    "e266bf467a734d029633d1b4b4b4900f": {
     "views": []
    },
    "e39dea2a6a9547bd8128263817de37d4": {
     "views": []
    },
    "e3e9900514054a57a219a3029859ece7": {
     "views": []
    },
    "e506bc49e1b84fa4aa996a4f60c81508": {
     "views": []
    },
    "ecf35cde496248e99ba9c9f3faccd7cc": {
     "views": []
    },
    "edd39dec0b54401f9aac3d90b027dd56": {
     "views": []
    },
    "ef1de0aa8bf2487f8bc00369b4438341": {
     "views": []
    },
    "efd55004b06b4005bb749705ee480be4": {
     "views": []
    },
    "f1628ae1ec704cd2953052c6a8121d19": {
     "views": []
    },
    "f38107dbcb1f44949ba385bfa5e8325f": {
     "views": []
    },
    "f5831828c0754611a7f2bfb5d2ef3a1f": {
     "views": []
    },
    "f750644b1806413bbd406f60059ee994": {
     "views": []
    },
    "fd7a4ef7e0d745eb955841782e058329": {
     "views": []
    },
    "fda9688ff83e41d7bcb5b54ca57d3505": {
     "views": []
    },
    "fdd434b0b9644f22bc48b9969d42625c": {
     "views": []
    },
    "fdda403506144d25917ee6ae49e498e3": {
     "views": []
    }
   },
   "version": "1.1.2"
  }
 },
 "nbformat": 4,
 "nbformat_minor": 0
}
