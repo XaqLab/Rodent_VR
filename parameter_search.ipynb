{
 "cells": [
  {
   "cell_type": "code",
   "execution_count": 1,
   "metadata": {
    "collapsed": false
   },
   "outputs": [],
   "source": [
    "from bokeh.plotting import output_notebook\n",
    "from parameter_search import ParameterSearch\n",
    "from ipywidgets import interactive\n",
    "from IPython.display import display"
   ]
  },
  {
   "cell_type": "code",
   "execution_count": 2,
   "metadata": {
    "collapsed": false
   },
   "outputs": [
    {
     "data": {
      "text/html": [
       "\n",
       "    <div class=\"bk-banner\">\n",
       "        <a href=\"http://bokeh.pydata.org\" target=\"_blank\" class=\"bk-logo bk-logo-small bk-logo-notebook\"></a>\n",
       "        <span id=\"00c63d91-c8a4-4b66-95db-a9041ccd7ff6\">Loading BokehJS ...</span>\n",
       "    </div>"
      ]
     },
     "metadata": {},
     "output_type": "display_data"
    },
    {
     "data": {
      "application/javascript": [
       "\n",
       "(function(global) {\n",
       "  function now() {\n",
       "    return new Date();\n",
       "  }\n",
       "\n",
       "  if (typeof (window._bokeh_onload_callbacks) === \"undefined\") {\n",
       "    window._bokeh_onload_callbacks = [];\n",
       "  }\n",
       "\n",
       "  function run_callbacks() {\n",
       "    window._bokeh_onload_callbacks.forEach(function(callback) { callback() });\n",
       "    delete window._bokeh_onload_callbacks\n",
       "    console.info(\"Bokeh: all callbacks have finished\");\n",
       "  }\n",
       "\n",
       "  function load_libs(js_urls, callback) {\n",
       "    window._bokeh_onload_callbacks.push(callback);\n",
       "    if (window._bokeh_is_loading > 0) {\n",
       "      console.log(\"Bokeh: BokehJS is being loaded, scheduling callback at\", now());\n",
       "      return null;\n",
       "    }\n",
       "    if (js_urls == null || js_urls.length === 0) {\n",
       "      run_callbacks();\n",
       "      return null;\n",
       "    }\n",
       "    console.log(\"Bokeh: BokehJS not loaded, scheduling load and callback at\", now());\n",
       "    window._bokeh_is_loading = js_urls.length;\n",
       "    for (var i = 0; i < js_urls.length; i++) {\n",
       "      var url = js_urls[i];\n",
       "      var s = document.createElement('script');\n",
       "      s.src = url;\n",
       "      s.async = false;\n",
       "      s.onreadystatechange = s.onload = function() {\n",
       "        window._bokeh_is_loading--;\n",
       "        if (window._bokeh_is_loading === 0) {\n",
       "          console.log(\"Bokeh: all BokehJS libraries loaded\");\n",
       "          run_callbacks()\n",
       "        }\n",
       "      };\n",
       "      s.onerror = function() {\n",
       "        console.warn(\"failed to load library \" + url);\n",
       "      };\n",
       "      console.log(\"Bokeh: injecting script tag for BokehJS library: \", url);\n",
       "      document.getElementsByTagName(\"head\")[0].appendChild(s);\n",
       "    }\n",
       "  };\n",
       "\n",
       "  var js_urls = ['https://cdn.pydata.org/bokeh/release/bokeh-0.11.1.min.js', 'https://cdn.pydata.org/bokeh/release/bokeh-widgets-0.11.1.min.js', 'https://cdn.pydata.org/bokeh/release/bokeh-compiler-0.11.1.min.js'];\n",
       "\n",
       "  var inline_js = [\n",
       "    function(Bokeh) {\n",
       "      Bokeh.set_log_level(\"info\");\n",
       "    },\n",
       "    \n",
       "    function(Bokeh) {\n",
       "      Bokeh.$(\"#00c63d91-c8a4-4b66-95db-a9041ccd7ff6\").text(\"BokehJS successfully loaded\");\n",
       "    },\n",
       "    function(Bokeh) {\n",
       "      console.log(\"Bokeh: injecting CSS: https://cdn.pydata.org/bokeh/release/bokeh-0.11.1.min.css\");\n",
       "      Bokeh.embed.inject_css(\"https://cdn.pydata.org/bokeh/release/bokeh-0.11.1.min.css\");\n",
       "      console.log(\"Bokeh: injecting CSS: https://cdn.pydata.org/bokeh/release/bokeh-widgets-0.11.1.min.css\");\n",
       "      Bokeh.embed.inject_css(\"https://cdn.pydata.org/bokeh/release/bokeh-widgets-0.11.1.min.css\");\n",
       "    }\n",
       "  ];\n",
       "\n",
       "  function run_inline_js() {\n",
       "    for (var i = 0; i < inline_js.length; i++) {\n",
       "      inline_js[i](window.Bokeh);\n",
       "    }\n",
       "  }\n",
       "\n",
       "  if (window._bokeh_is_loading === 0) {\n",
       "    console.log(\"Bokeh: BokehJS loaded, going straight to plotting\");\n",
       "    run_inline_js();\n",
       "  } else {\n",
       "    load_libs(js_urls, function() {\n",
       "      console.log(\"Bokeh: BokehJS plotting callback run at\", now());\n",
       "      run_inline_js();\n",
       "    });\n",
       "  }\n",
       "}(this));"
      ]
     },
     "metadata": {},
     "output_type": "display_data"
    }
   ],
   "source": [
    "output_notebook()"
   ]
  },
  {
   "cell_type": "code",
   "execution_count": 3,
   "metadata": {
    "collapsed": false
   },
   "outputs": [
    {
     "data": {
      "text/html": [
       "\n",
       "\n",
       "    <div class=\"plotdiv\" id=\"21f3f955-6f1f-44f5-86b7-56f24726ec0a\"></div>\n",
       "<script type=\"text/javascript\">\n",
       "  \n",
       "  (function(global) {\n",
       "    function now() {\n",
       "      return new Date();\n",
       "    }\n",
       "  \n",
       "    if (typeof (window._bokeh_onload_callbacks) === \"undefined\") {\n",
       "      window._bokeh_onload_callbacks = [];\n",
       "    }\n",
       "  \n",
       "    function run_callbacks() {\n",
       "      window._bokeh_onload_callbacks.forEach(function(callback) { callback() });\n",
       "      delete window._bokeh_onload_callbacks\n",
       "      console.info(\"Bokeh: all callbacks have finished\");\n",
       "    }\n",
       "  \n",
       "    function load_libs(js_urls, callback) {\n",
       "      window._bokeh_onload_callbacks.push(callback);\n",
       "      if (window._bokeh_is_loading > 0) {\n",
       "        console.log(\"Bokeh: BokehJS is being loaded, scheduling callback at\", now());\n",
       "        return null;\n",
       "      }\n",
       "      if (js_urls == null || js_urls.length === 0) {\n",
       "        run_callbacks();\n",
       "        return null;\n",
       "      }\n",
       "      console.log(\"Bokeh: BokehJS not loaded, scheduling load and callback at\", now());\n",
       "      window._bokeh_is_loading = js_urls.length;\n",
       "      for (var i = 0; i < js_urls.length; i++) {\n",
       "        var url = js_urls[i];\n",
       "        var s = document.createElement('script');\n",
       "        s.src = url;\n",
       "        s.async = false;\n",
       "        s.onreadystatechange = s.onload = function() {\n",
       "          window._bokeh_is_loading--;\n",
       "          if (window._bokeh_is_loading === 0) {\n",
       "            console.log(\"Bokeh: all BokehJS libraries loaded\");\n",
       "            run_callbacks()\n",
       "          }\n",
       "        };\n",
       "        s.onerror = function() {\n",
       "          console.warn(\"failed to load library \" + url);\n",
       "        };\n",
       "        console.log(\"Bokeh: injecting script tag for BokehJS library: \", url);\n",
       "        document.getElementsByTagName(\"head\")[0].appendChild(s);\n",
       "      }\n",
       "    };var element = document.getElementById(\"21f3f955-6f1f-44f5-86b7-56f24726ec0a\");\n",
       "    if (element == null) {\n",
       "      console.log(\"Bokeh: ERROR: autoload.js configured with elementid '21f3f955-6f1f-44f5-86b7-56f24726ec0a' but no matching script tag was found. \")\n",
       "      return false;\n",
       "    }\n",
       "  \n",
       "    var js_urls = [];\n",
       "  \n",
       "    var inline_js = [\n",
       "      function(Bokeh) {\n",
       "        Bokeh.$(function() {\n",
       "            var docs_json = {\"bb07e91b-14e8-4402-b981-f1a669602d1e\":{\"roots\":{\"references\":[{\"attributes\":{\"plot\":{\"id\":\"6fa70f44-2f76-49c8-9227-76bda53ff7d3\",\"subtype\":\"Figure\",\"type\":\"Plot\"},\"ticker\":{\"id\":\"41e2b5ad-8453-4afa-9b9e-fdb196d9682d\",\"type\":\"SingleIntervalTicker\"}},\"id\":\"208d8495-bae7-4cae-a0d6-c983996f60f9\",\"type\":\"Grid\"},{\"attributes\":{\"interval\":30},\"id\":\"41e2b5ad-8453-4afa-9b9e-fdb196d9682d\",\"type\":\"SingleIntervalTicker\"},{\"attributes\":{\"data_source\":{\"id\":\"300303cd-093f-4e43-b99e-84ec24680921\",\"type\":\"ColumnDataSource\"},\"glyph\":{\"id\":\"9625da9b-a371-484a-8de8-4cdbe36ecbe2\",\"type\":\"Circle\"},\"hover_glyph\":null,\"nonselection_glyph\":{\"id\":\"9f0b1063-dcb9-4384-a50e-eb803c67e330\",\"type\":\"Circle\"},\"selection_glyph\":null},\"id\":\"6d791feb-b196-4c42-8950-cf85afc201c8\",\"type\":\"GlyphRenderer\"},{\"attributes\":{\"fill_color\":{\"value\":\"orange\"},\"line_color\":{\"value\":\"orange\"},\"x\":{\"field\":\"x\"},\"y\":{\"field\":\"y\"}},\"id\":\"3fa9d7c8-c57d-4750-a196-59cef4fead23\",\"type\":\"Circle\"},{\"attributes\":{\"callback\":null,\"end\":100,\"start\":-10},\"id\":\"3ff76cd5-2d72-4201-b977-ea5026211ee3\",\"type\":\"Range1d\"},{\"attributes\":{\"formatter\":{\"id\":\"8cf089ae-5fb3-41d0-b720-6300af3451b0\",\"type\":\"BasicTickFormatter\"},\"plot\":{\"id\":\"6fa70f44-2f76-49c8-9227-76bda53ff7d3\",\"subtype\":\"Figure\",\"type\":\"Plot\"},\"ticker\":{\"id\":\"aa0b590e-b24f-476e-b4ee-3a3818097d27\",\"type\":\"SingleIntervalTicker\"}},\"id\":\"eeac9333-6737-4270-b5fe-0dc493356b9f\",\"type\":\"LinearAxis\"},{\"attributes\":{\"callback\":null,\"end\":100,\"start\":-100},\"id\":\"4375a60d-8b8c-4b88-9abf-cfc8fb1d5670\",\"type\":\"Range1d\"},{\"attributes\":{\"bottom_units\":\"screen\",\"fill_alpha\":{\"value\":0.5},\"fill_color\":{\"value\":\"lightgrey\"},\"left_units\":\"screen\",\"level\":\"overlay\",\"line_alpha\":{\"value\":1.0},\"line_color\":{\"value\":\"black\"},\"line_dash\":[4,4],\"line_width\":{\"value\":2},\"plot\":null,\"render_mode\":\"css\",\"right_units\":\"screen\",\"top_units\":\"screen\"},\"id\":\"015463dc-5062-4941-add7-31885d2894ea\",\"type\":\"BoxAnnotation\"},{\"attributes\":{\"plot\":{\"id\":\"6fa70f44-2f76-49c8-9227-76bda53ff7d3\",\"subtype\":\"Figure\",\"type\":\"Plot\"}},\"id\":\"f06be09f-9119-439f-adbb-b04a18b1d508\",\"type\":\"ResizeTool\"},{\"attributes\":{\"plot\":{\"id\":\"6fa70f44-2f76-49c8-9227-76bda53ff7d3\",\"subtype\":\"Figure\",\"type\":\"Plot\"}},\"id\":\"c497e605-3f31-4366-8ba7-2e6626a52d81\",\"type\":\"ResetTool\"},{\"attributes\":{\"interval\":30},\"id\":\"aa0b590e-b24f-476e-b4ee-3a3818097d27\",\"type\":\"SingleIntervalTicker\"},{\"attributes\":{\"callback\":null,\"column_names\":[\"y\",\"x\"],\"data\":{\"x\":[-128.4019738723626,-90.5539875001795,-60.5344847561693,-30.754714953014062,-0.2805389203427553,30.172840372717634,59.96179332850722,89.32210126176426,-89.42480630368398,-60.37316589373111,-29.823345151688965,0.3206772296076405,29.47042889048208,59.90544543802378,90.40164131397489,-90.42845528083284,-60.41290109156592,-29.3755957507248,0.4221459774374684,30.183155624535708,60.457373313119525,89.00144963583202],\"y\":[89.63425902166493,60.154739859192084,60.502947464707105,60.44832066839465,60.23860610323531,61.08950912850046,61.3514755287522,60.82270256610325,29.831125020997625,29.76716151992857,29.4516897864053,29.164685229080575,29.613137966104436,30.039104445660627,30.423605676115923,-0.70058706506159,-0.37843484218975093,0.5546728251280085,0.9046923749301558,0.9390943184065839,1.0940465282274343,0.6594633960055917]}},\"id\":\"9dd31c42-e972-4a78-8e3d-a4a4dbb8a3e9\",\"type\":\"ColumnDataSource\"},{\"attributes\":{\"overlay\":{\"id\":\"015463dc-5062-4941-add7-31885d2894ea\",\"type\":\"BoxAnnotation\"},\"plot\":{\"id\":\"6fa70f44-2f76-49c8-9227-76bda53ff7d3\",\"subtype\":\"Figure\",\"type\":\"Plot\"}},\"id\":\"8e48e073-aaa0-4dfd-9aac-c108025d55da\",\"type\":\"BoxZoomTool\"},{\"attributes\":{\"fill_alpha\":{\"value\":0.1},\"fill_color\":{\"value\":\"#1f77b4\"},\"line_alpha\":{\"value\":0.1},\"line_color\":{\"value\":\"#1f77b4\"},\"x\":{\"field\":\"x\"},\"y\":{\"field\":\"y\"}},\"id\":\"535718ea-1b7e-43eb-8067-fdac2ec74fab\",\"type\":\"Circle\"},{\"attributes\":{},\"id\":\"e5bf0240-26b8-463c-bb40-74319100ba7c\",\"type\":\"ToolEvents\"},{\"attributes\":{\"plot\":{\"id\":\"6fa70f44-2f76-49c8-9227-76bda53ff7d3\",\"subtype\":\"Figure\",\"type\":\"Plot\"}},\"id\":\"d67e77b9-1312-4607-90d4-299aad197a81\",\"type\":\"PreviewSaveTool\"},{\"attributes\":{},\"id\":\"25bc516c-c415-425a-8a66-e05318b59cdb\",\"type\":\"BasicTickFormatter\"},{\"attributes\":{},\"id\":\"8cf089ae-5fb3-41d0-b720-6300af3451b0\",\"type\":\"BasicTickFormatter\"},{\"attributes\":{\"below\":[{\"id\":\"eeac9333-6737-4270-b5fe-0dc493356b9f\",\"type\":\"LinearAxis\"}],\"left\":[{\"id\":\"1bf8985e-f66e-489e-8858-e49fc5523d9e\",\"type\":\"LinearAxis\"}],\"renderers\":[{\"id\":\"eeac9333-6737-4270-b5fe-0dc493356b9f\",\"type\":\"LinearAxis\"},{\"id\":\"208d8495-bae7-4cae-a0d6-c983996f60f9\",\"type\":\"Grid\"},{\"id\":\"1bf8985e-f66e-489e-8858-e49fc5523d9e\",\"type\":\"LinearAxis\"},{\"id\":\"8200b823-7fba-4914-9293-33db4af281f9\",\"type\":\"Grid\"},{\"id\":\"015463dc-5062-4941-add7-31885d2894ea\",\"type\":\"BoxAnnotation\"},{\"id\":\"6d791feb-b196-4c42-8950-cf85afc201c8\",\"type\":\"GlyphRenderer\"},{\"id\":\"b714d8e6-4280-47a3-b96f-6ea0cf601e5a\",\"type\":\"GlyphRenderer\"}],\"tool_events\":{\"id\":\"e5bf0240-26b8-463c-bb40-74319100ba7c\",\"type\":\"ToolEvents\"},\"tools\":[{\"id\":\"cff2a22c-0f75-4af6-80fa-3522f6b1ca43\",\"type\":\"PanTool\"},{\"id\":\"1179ac02-2bcb-4e3d-a653-39c0bbee0416\",\"type\":\"WheelZoomTool\"},{\"id\":\"8e48e073-aaa0-4dfd-9aac-c108025d55da\",\"type\":\"BoxZoomTool\"},{\"id\":\"d67e77b9-1312-4607-90d4-299aad197a81\",\"type\":\"PreviewSaveTool\"},{\"id\":\"f06be09f-9119-439f-adbb-b04a18b1d508\",\"type\":\"ResizeTool\"},{\"id\":\"c497e605-3f31-4366-8ba7-2e6626a52d81\",\"type\":\"ResetTool\"},{\"id\":\"d20e972c-b5d8-4024-b967-261e398a17be\",\"type\":\"HelpTool\"}],\"x_range\":{\"id\":\"4375a60d-8b8c-4b88-9abf-cfc8fb1d5670\",\"type\":\"Range1d\"},\"y_range\":{\"id\":\"3ff76cd5-2d72-4201-b977-ea5026211ee3\",\"type\":\"Range1d\"}},\"id\":\"6fa70f44-2f76-49c8-9227-76bda53ff7d3\",\"subtype\":\"Figure\",\"type\":\"Plot\"},{\"attributes\":{\"fill_alpha\":{\"value\":0.1},\"fill_color\":{\"value\":\"#1f77b4\"},\"line_alpha\":{\"value\":0.1},\"line_color\":{\"value\":\"#1f77b4\"},\"x\":{\"field\":\"x\"},\"y\":{\"field\":\"y\"}},\"id\":\"9f0b1063-dcb9-4384-a50e-eb803c67e330\",\"type\":\"Circle\"},{\"attributes\":{\"callback\":null,\"column_names\":[\"y\",\"x\"],\"data\":{\"x\":[0.0,-90.0,-59.99999999999999,-29.999999999999993,0.0,29.999999999999993,59.99999999999999,90.0,-90.0,-59.99999999999999,-29.999999999999996,0.0,29.999999999999996,59.99999999999999,90.0,-90.0,-59.99999999999999,-29.999999999999996,0.0,29.999999999999996,59.99999999999999,90.0],\"y\":[90.0,59.99999999999999,59.99999999999999,59.99999999999999,59.99999999999999,59.99999999999999,59.99999999999999,59.99999999999999,29.999999999999996,29.999999999999996,29.999999999999996,29.999999999999996,29.999999999999996,29.999999999999996,29.999999999999996,0.0,0.0,0.0,0.0,0.0,0.0,0.0]}},\"id\":\"300303cd-093f-4e43-b99e-84ec24680921\",\"type\":\"ColumnDataSource\"},{\"attributes\":{\"fill_color\":{\"value\":\"#1f77b4\"},\"line_color\":{\"value\":\"#1f77b4\"},\"x\":{\"field\":\"x\"},\"y\":{\"field\":\"y\"}},\"id\":\"9625da9b-a371-484a-8de8-4cdbe36ecbe2\",\"type\":\"Circle\"},{\"attributes\":{\"dimension\":1,\"plot\":{\"id\":\"6fa70f44-2f76-49c8-9227-76bda53ff7d3\",\"subtype\":\"Figure\",\"type\":\"Plot\"},\"ticker\":{\"id\":\"41e2b5ad-8453-4afa-9b9e-fdb196d9682d\",\"type\":\"SingleIntervalTicker\"}},\"id\":\"8200b823-7fba-4914-9293-33db4af281f9\",\"type\":\"Grid\"},{\"attributes\":{\"formatter\":{\"id\":\"25bc516c-c415-425a-8a66-e05318b59cdb\",\"type\":\"BasicTickFormatter\"},\"plot\":{\"id\":\"6fa70f44-2f76-49c8-9227-76bda53ff7d3\",\"subtype\":\"Figure\",\"type\":\"Plot\"},\"ticker\":{\"id\":\"aa0b590e-b24f-476e-b4ee-3a3818097d27\",\"type\":\"SingleIntervalTicker\"}},\"id\":\"1bf8985e-f66e-489e-8858-e49fc5523d9e\",\"type\":\"LinearAxis\"},{\"attributes\":{\"plot\":{\"id\":\"6fa70f44-2f76-49c8-9227-76bda53ff7d3\",\"subtype\":\"Figure\",\"type\":\"Plot\"}},\"id\":\"cff2a22c-0f75-4af6-80fa-3522f6b1ca43\",\"type\":\"PanTool\"},{\"attributes\":{\"data_source\":{\"id\":\"9dd31c42-e972-4a78-8e3d-a4a4dbb8a3e9\",\"type\":\"ColumnDataSource\"},\"glyph\":{\"id\":\"3fa9d7c8-c57d-4750-a196-59cef4fead23\",\"type\":\"Circle\"},\"hover_glyph\":null,\"nonselection_glyph\":{\"id\":\"535718ea-1b7e-43eb-8067-fdac2ec74fab\",\"type\":\"Circle\"},\"selection_glyph\":null},\"id\":\"b714d8e6-4280-47a3-b96f-6ea0cf601e5a\",\"type\":\"GlyphRenderer\"},{\"attributes\":{\"plot\":{\"id\":\"6fa70f44-2f76-49c8-9227-76bda53ff7d3\",\"subtype\":\"Figure\",\"type\":\"Plot\"}},\"id\":\"d20e972c-b5d8-4024-b967-261e398a17be\",\"type\":\"HelpTool\"},{\"attributes\":{\"plot\":{\"id\":\"6fa70f44-2f76-49c8-9227-76bda53ff7d3\",\"subtype\":\"Figure\",\"type\":\"Plot\"}},\"id\":\"1179ac02-2bcb-4e3d-a653-39c0bbee0416\",\"type\":\"WheelZoomTool\"}],\"root_ids\":[\"6fa70f44-2f76-49c8-9227-76bda53ff7d3\"]},\"title\":\"Bokeh Application\",\"version\":\"0.11.1\"}};\n",
       "            var render_items = [{\"docid\":\"bb07e91b-14e8-4402-b981-f1a669602d1e\",\"elementid\":\"21f3f955-6f1f-44f5-86b7-56f24726ec0a\",\"modelid\":\"6fa70f44-2f76-49c8-9227-76bda53ff7d3\",\"notebook_comms_target\":\"8013f005-7238-4f2d-a0cb-b6268f1c5dee\"}];\n",
       "            \n",
       "            Bokeh.embed.embed_items(docs_json, render_items);\n",
       "        });\n",
       "      },\n",
       "      function(Bokeh) {\n",
       "      }\n",
       "    ];\n",
       "  \n",
       "    function run_inline_js() {\n",
       "      for (var i = 0; i < inline_js.length; i++) {\n",
       "        inline_js[i](window.Bokeh);\n",
       "      }\n",
       "    }\n",
       "  \n",
       "    if (window._bokeh_is_loading === 0) {\n",
       "      console.log(\"Bokeh: BokehJS loaded, going straight to plotting\");\n",
       "      run_inline_js();\n",
       "    } else {\n",
       "      load_libs(js_urls, function() {\n",
       "        console.log(\"Bokeh: BokehJS plotting callback run at\", now());\n",
       "        run_inline_js();\n",
       "      });\n",
       "    }\n",
       "  }(this));\n",
       "</script>"
      ]
     },
     "metadata": {},
     "output_type": "display_data"
    }
   ],
   "source": [
    "psearch = ParameterSearch(\"calibration/calibration_device/2015_11_06_centroids.txt\")\n",
    "\n",
    "best_parameters = \\\n",
    "{'animal_y':0.056,\n",
    "'animal_z':0.575,\n",
    "'dome_y':0.110,\n",
    "'dome_z':0.348,\n",
    "'dome_radius':0.601,\n",
    "'mirror_radius':0.162,\n",
    "'projector_y':0.858,\n",
    "'projector_z':-0.052,\n",
    "'projector_roll':0.010,\n",
    "'projector_theta':0.166,\n",
    "'projector_vertical_offset':0.211}\n",
    "\n",
    "def value_to_range(value):\n",
    "    return (value - 0.1, value + 0.1, 0.001)\n",
    "ranges = dict([[key, value_to_range(best_parameters[key])] for key in best_parameters])"
   ]
  },
  {
   "cell_type": "code",
   "execution_count": 4,
   "metadata": {
    "collapsed": false
   },
   "outputs": [],
   "source": [
    "sliders = interactive(psearch.update, **ranges)"
   ]
  },
  {
   "cell_type": "code",
   "execution_count": 5,
   "metadata": {
    "collapsed": false
   },
   "outputs": [
    {
     "data": {
      "text/plain": [
       "0.60244831269483079"
      ]
     },
     "metadata": {},
     "output_type": "display_data"
    }
   ],
   "source": [
    "display(sliders)"
   ]
  },
  {
   "cell_type": "code",
   "execution_count": 6,
   "metadata": {
    "collapsed": false
   },
   "outputs": [
    {
     "data": {
      "text/plain": [
       "{'animal_y': 0.055999999999999994,\n",
       " 'animal_z': 0.574,\n",
       " 'dome_radius': 0.6,\n",
       " 'dome_y': 0.11,\n",
       " 'dome_z': 0.348,\n",
       " 'mirror_radius': 0.162,\n",
       " 'projector_roll': 0.009999999999999992,\n",
       " 'projector_theta': 0.166,\n",
       " 'projector_vertical_offset': 0.211,\n",
       " 'projector_y': 0.857,\n",
       " 'projector_z': -0.05199999999999999}"
      ]
     },
     "execution_count": 6,
     "metadata": {},
     "output_type": "execute_result"
    }
   ],
   "source": [
    "sliders.kwargs"
   ]
  },
  {
   "cell_type": "code",
   "execution_count": null,
   "metadata": {
    "collapsed": true
   },
   "outputs": [],
   "source": []
  }
 ],
 "metadata": {
  "kernelspec": {
   "display_name": "Python 2",
   "language": "python",
   "name": "python2"
  },
  "language_info": {
   "codemirror_mode": {
    "name": "ipython",
    "version": 2
   },
   "file_extension": ".py",
   "mimetype": "text/x-python",
   "name": "python",
   "nbconvert_exporter": "python",
   "pygments_lexer": "ipython2",
   "version": "2.7.11"
  },
  "widgets": {
   "state": {
    "008aa9a48f124837b43b06ae019fb0ff": {
     "views": []
    },
    "08600011c3e84947ba98e9b9d1d0918f": {
     "views": []
    },
    "0e681718c910475abbdf1797fa86164e": {
     "views": []
    },
    "1221be59ebb0485c8c2f2c5d76d61f88": {
     "views": []
    },
    "13c7e1e7eb8f4dbab6cadb2b1df67754": {
     "views": []
    },
    "17fae14b0fb34569b2542d3689b7aaf3": {
     "views": []
    },
    "17faf574701b486a9b611b35c4bf4f0c": {
     "views": []
    },
    "226622ad13174b61b05b33e4f3c3ac85": {
     "views": []
    },
    "24d18d8c50d94e5e84e9261431875518": {
     "views": []
    },
    "2a890362c1f448a9b1bd6ed4d926deb6": {
     "views": []
    },
    "2b3bd10c10734119bba90cdd5d5758fb": {
     "views": []
    },
    "328a50dd3553415bbc93d522034e53d5": {
     "views": []
    },
    "43478271dff542dab49685abecfdcac9": {
     "views": []
    },
    "479110fc0c1744f0bad1cd6e952c3bb8": {
     "views": []
    },
    "48b5d37d67ee42f7b905aa651d4d52fb": {
     "views": [
      {
       "cell_index": 4
      }
     ]
    },
    "4ab5ad00c0fe46ae9feb9babc02fc4db": {
     "views": []
    },
    "4b656ea662f24c2ea4f3852c7c5917ec": {
     "views": []
    },
    "50d11888cc2d40e1a6d80d7f9782b660": {
     "views": []
    },
    "52f1811e47d247a6969decefb9c44b6a": {
     "views": []
    },
    "54527f67a98848a4aabce880302f1156": {
     "views": []
    },
    "6017a94aa92d4e0d8d12115d1d66382c": {
     "views": []
    },
    "640ab648b61a4ceca51a56b0fc7cde99": {
     "views": []
    },
    "666d4cb9055241ba92a1e24d4ddefbb6": {
     "views": []
    },
    "6b250b040df5425d99536d31d479f06e": {
     "views": []
    },
    "6de093c971f745dea1e34c22ac02fa00": {
     "views": []
    },
    "707744705d994f169e2b37199b50205f": {
     "views": []
    },
    "799b5a7a64a14e3e9a72f3d5793ab6f8": {
     "views": []
    },
    "79aa34c291544232bdb594f87c623355": {
     "views": []
    },
    "8157cb860022479d875cb5b46c084889": {
     "views": []
    },
    "823cf2f1c8724096b0882f56780ea51f": {
     "views": []
    },
    "8b4e197a8f7a44cab4032546dd95c661": {
     "views": []
    },
    "9b09106de01440c48b294176fe26fa11": {
     "views": []
    },
    "a4bdff9a4f8c46dc87fd4ff522032077": {
     "views": []
    },
    "a6dd06ecb95048dbb22dc12deed4f00f": {
     "views": []
    },
    "a8b5e254daeb4b13b4fc5119ce2ceb66": {
     "views": []
    },
    "aa3d0ca4c09c4433b386be736770964e": {
     "views": []
    },
    "b385373e3cd444b59aabfc424d62782e": {
     "views": []
    },
    "b41e6b11f7c147d88b9ff7fd01c54b5d": {
     "views": []
    },
    "bf44f689e3164343a8474f963276f8fb": {
     "views": []
    },
    "c3acb35825934a7893be5e5d7b8d26af": {
     "views": []
    },
    "c4d8431fb0e545d38d82697df755d580": {
     "views": []
    },
    "c5e24cff322845d69fd830d3ade3e90b": {
     "views": []
    },
    "c7901b51df52409280046748886c5f1d": {
     "views": []
    },
    "d4b8a56d51f943cb813554c1c5983509": {
     "views": []
    },
    "d970e179aef44c8194ad93f5b5713bde": {
     "views": []
    },
    "dba2b40f109944ad8dc01d49eaf7f2e5": {
     "views": []
    },
    "e4b8f86feb7c4231a823dfc29b01fa79": {
     "views": []
    },
    "fd031979db7244b5a425cefef4d02e5e": {
     "views": []
    }
   },
   "version": "1.1.2"
  }
 },
 "nbformat": 4,
 "nbformat_minor": 0
}
