{
 "cells": [
  {
   "cell_type": "code",
   "execution_count": 2,
   "metadata": {
    "collapsed": false,
    "deletable": true,
    "editable": true
   },
   "outputs": [],
   "source": [
    "%matplotlib notebook\n",
    "import matplotlib.pyplot as plt\n",
    "from IPython.display import display\n",
    "from ipywidgets import interactive, HBox, VBox, Button\n",
    "from parameter_search import ParameterSearch, save_parameters"
   ]
  },
  {
   "cell_type": "code",
   "execution_count": 3,
   "metadata": {
    "collapsed": false,
    "deletable": true,
    "editable": true,
    "scrolled": false
   },
   "outputs": [
    {
     "data": {
      "application/javascript": [
       "/* Put everything inside the global mpl namespace */\n",
       "window.mpl = {};\n",
       "\n",
       "\n",
       "mpl.get_websocket_type = function() {\n",
       "    if (typeof(WebSocket) !== 'undefined') {\n",
       "        return WebSocket;\n",
       "    } else if (typeof(MozWebSocket) !== 'undefined') {\n",
       "        return MozWebSocket;\n",
       "    } else {\n",
       "        alert('Your browser does not have WebSocket support.' +\n",
       "              'Please try Chrome, Safari or Firefox ≥ 6. ' +\n",
       "              'Firefox 4 and 5 are also supported but you ' +\n",
       "              'have to enable WebSockets in about:config.');\n",
       "    };\n",
       "}\n",
       "\n",
       "mpl.figure = function(figure_id, websocket, ondownload, parent_element) {\n",
       "    this.id = figure_id;\n",
       "\n",
       "    this.ws = websocket;\n",
       "\n",
       "    this.supports_binary = (this.ws.binaryType != undefined);\n",
       "\n",
       "    if (!this.supports_binary) {\n",
       "        var warnings = document.getElementById(\"mpl-warnings\");\n",
       "        if (warnings) {\n",
       "            warnings.style.display = 'block';\n",
       "            warnings.textContent = (\n",
       "                \"This browser does not support binary websocket messages. \" +\n",
       "                    \"Performance may be slow.\");\n",
       "        }\n",
       "    }\n",
       "\n",
       "    this.imageObj = new Image();\n",
       "\n",
       "    this.context = undefined;\n",
       "    this.message = undefined;\n",
       "    this.canvas = undefined;\n",
       "    this.rubberband_canvas = undefined;\n",
       "    this.rubberband_context = undefined;\n",
       "    this.format_dropdown = undefined;\n",
       "\n",
       "    this.image_mode = 'full';\n",
       "\n",
       "    this.root = $('<div/>');\n",
       "    this._root_extra_style(this.root)\n",
       "    this.root.attr('style', 'display: inline-block');\n",
       "\n",
       "    $(parent_element).append(this.root);\n",
       "\n",
       "    this._init_header(this);\n",
       "    this._init_canvas(this);\n",
       "    this._init_toolbar(this);\n",
       "\n",
       "    var fig = this;\n",
       "\n",
       "    this.waiting = false;\n",
       "\n",
       "    this.ws.onopen =  function () {\n",
       "            fig.send_message(\"supports_binary\", {value: fig.supports_binary});\n",
       "            fig.send_message(\"send_image_mode\", {});\n",
       "            if (mpl.ratio != 1) {\n",
       "                fig.send_message(\"set_dpi_ratio\", {'dpi_ratio': mpl.ratio});\n",
       "            }\n",
       "            fig.send_message(\"refresh\", {});\n",
       "        }\n",
       "\n",
       "    this.imageObj.onload = function() {\n",
       "            if (fig.image_mode == 'full') {\n",
       "                // Full images could contain transparency (where diff images\n",
       "                // almost always do), so we need to clear the canvas so that\n",
       "                // there is no ghosting.\n",
       "                fig.context.clearRect(0, 0, fig.canvas.width, fig.canvas.height);\n",
       "            }\n",
       "            fig.context.drawImage(fig.imageObj, 0, 0);\n",
       "        };\n",
       "\n",
       "    this.imageObj.onunload = function() {\n",
       "        this.ws.close();\n",
       "    }\n",
       "\n",
       "    this.ws.onmessage = this._make_on_message_function(this);\n",
       "\n",
       "    this.ondownload = ondownload;\n",
       "}\n",
       "\n",
       "mpl.figure.prototype._init_header = function() {\n",
       "    var titlebar = $(\n",
       "        '<div class=\"ui-dialog-titlebar ui-widget-header ui-corner-all ' +\n",
       "        'ui-helper-clearfix\"/>');\n",
       "    var titletext = $(\n",
       "        '<div class=\"ui-dialog-title\" style=\"width: 100%; ' +\n",
       "        'text-align: center; padding: 3px;\"/>');\n",
       "    titlebar.append(titletext)\n",
       "    this.root.append(titlebar);\n",
       "    this.header = titletext[0];\n",
       "}\n",
       "\n",
       "\n",
       "\n",
       "mpl.figure.prototype._canvas_extra_style = function(canvas_div) {\n",
       "\n",
       "}\n",
       "\n",
       "\n",
       "mpl.figure.prototype._root_extra_style = function(canvas_div) {\n",
       "\n",
       "}\n",
       "\n",
       "mpl.figure.prototype._init_canvas = function() {\n",
       "    var fig = this;\n",
       "\n",
       "    var canvas_div = $('<div/>');\n",
       "\n",
       "    canvas_div.attr('style', 'position: relative; clear: both; outline: 0');\n",
       "\n",
       "    function canvas_keyboard_event(event) {\n",
       "        return fig.key_event(event, event['data']);\n",
       "    }\n",
       "\n",
       "    canvas_div.keydown('key_press', canvas_keyboard_event);\n",
       "    canvas_div.keyup('key_release', canvas_keyboard_event);\n",
       "    this.canvas_div = canvas_div\n",
       "    this._canvas_extra_style(canvas_div)\n",
       "    this.root.append(canvas_div);\n",
       "\n",
       "    var canvas = $('<canvas/>');\n",
       "    canvas.addClass('mpl-canvas');\n",
       "    canvas.attr('style', \"left: 0; top: 0; z-index: 0; outline: 0\")\n",
       "\n",
       "    this.canvas = canvas[0];\n",
       "    this.context = canvas[0].getContext(\"2d\");\n",
       "\n",
       "    var backingStore = this.context.backingStorePixelRatio ||\n",
       "\tthis.context.webkitBackingStorePixelRatio ||\n",
       "\tthis.context.mozBackingStorePixelRatio ||\n",
       "\tthis.context.msBackingStorePixelRatio ||\n",
       "\tthis.context.oBackingStorePixelRatio ||\n",
       "\tthis.context.backingStorePixelRatio || 1;\n",
       "\n",
       "    mpl.ratio = (window.devicePixelRatio || 1) / backingStore;\n",
       "\n",
       "    var rubberband = $('<canvas/>');\n",
       "    rubberband.attr('style', \"position: absolute; left: 0; top: 0; z-index: 1;\")\n",
       "\n",
       "    var pass_mouse_events = true;\n",
       "\n",
       "    canvas_div.resizable({\n",
       "        start: function(event, ui) {\n",
       "            pass_mouse_events = false;\n",
       "        },\n",
       "        resize: function(event, ui) {\n",
       "            fig.request_resize(ui.size.width, ui.size.height);\n",
       "        },\n",
       "        stop: function(event, ui) {\n",
       "            pass_mouse_events = true;\n",
       "            fig.request_resize(ui.size.width, ui.size.height);\n",
       "        },\n",
       "    });\n",
       "\n",
       "    function mouse_event_fn(event) {\n",
       "        if (pass_mouse_events)\n",
       "            return fig.mouse_event(event, event['data']);\n",
       "    }\n",
       "\n",
       "    rubberband.mousedown('button_press', mouse_event_fn);\n",
       "    rubberband.mouseup('button_release', mouse_event_fn);\n",
       "    // Throttle sequential mouse events to 1 every 20ms.\n",
       "    rubberband.mousemove('motion_notify', mouse_event_fn);\n",
       "\n",
       "    rubberband.mouseenter('figure_enter', mouse_event_fn);\n",
       "    rubberband.mouseleave('figure_leave', mouse_event_fn);\n",
       "\n",
       "    canvas_div.on(\"wheel\", function (event) {\n",
       "        event = event.originalEvent;\n",
       "        event['data'] = 'scroll'\n",
       "        if (event.deltaY < 0) {\n",
       "            event.step = 1;\n",
       "        } else {\n",
       "            event.step = -1;\n",
       "        }\n",
       "        mouse_event_fn(event);\n",
       "    });\n",
       "\n",
       "    canvas_div.append(canvas);\n",
       "    canvas_div.append(rubberband);\n",
       "\n",
       "    this.rubberband = rubberband;\n",
       "    this.rubberband_canvas = rubberband[0];\n",
       "    this.rubberband_context = rubberband[0].getContext(\"2d\");\n",
       "    this.rubberband_context.strokeStyle = \"#000000\";\n",
       "\n",
       "    this._resize_canvas = function(width, height) {\n",
       "        // Keep the size of the canvas, canvas container, and rubber band\n",
       "        // canvas in synch.\n",
       "        canvas_div.css('width', width)\n",
       "        canvas_div.css('height', height)\n",
       "\n",
       "        canvas.attr('width', width * mpl.ratio);\n",
       "        canvas.attr('height', height * mpl.ratio);\n",
       "        canvas.attr('style', 'width: ' + width + 'px; height: ' + height + 'px;');\n",
       "\n",
       "        rubberband.attr('width', width);\n",
       "        rubberband.attr('height', height);\n",
       "    }\n",
       "\n",
       "    // Set the figure to an initial 600x600px, this will subsequently be updated\n",
       "    // upon first draw.\n",
       "    this._resize_canvas(600, 600);\n",
       "\n",
       "    // Disable right mouse context menu.\n",
       "    $(this.rubberband_canvas).bind(\"contextmenu\",function(e){\n",
       "        return false;\n",
       "    });\n",
       "\n",
       "    function set_focus () {\n",
       "        canvas.focus();\n",
       "        canvas_div.focus();\n",
       "    }\n",
       "\n",
       "    window.setTimeout(set_focus, 100);\n",
       "}\n",
       "\n",
       "mpl.figure.prototype._init_toolbar = function() {\n",
       "    var fig = this;\n",
       "\n",
       "    var nav_element = $('<div/>')\n",
       "    nav_element.attr('style', 'width: 100%');\n",
       "    this.root.append(nav_element);\n",
       "\n",
       "    // Define a callback function for later on.\n",
       "    function toolbar_event(event) {\n",
       "        return fig.toolbar_button_onclick(event['data']);\n",
       "    }\n",
       "    function toolbar_mouse_event(event) {\n",
       "        return fig.toolbar_button_onmouseover(event['data']);\n",
       "    }\n",
       "\n",
       "    for(var toolbar_ind in mpl.toolbar_items) {\n",
       "        var name = mpl.toolbar_items[toolbar_ind][0];\n",
       "        var tooltip = mpl.toolbar_items[toolbar_ind][1];\n",
       "        var image = mpl.toolbar_items[toolbar_ind][2];\n",
       "        var method_name = mpl.toolbar_items[toolbar_ind][3];\n",
       "\n",
       "        if (!name) {\n",
       "            // put a spacer in here.\n",
       "            continue;\n",
       "        }\n",
       "        var button = $('<button/>');\n",
       "        button.addClass('ui-button ui-widget ui-state-default ui-corner-all ' +\n",
       "                        'ui-button-icon-only');\n",
       "        button.attr('role', 'button');\n",
       "        button.attr('aria-disabled', 'false');\n",
       "        button.click(method_name, toolbar_event);\n",
       "        button.mouseover(tooltip, toolbar_mouse_event);\n",
       "\n",
       "        var icon_img = $('<span/>');\n",
       "        icon_img.addClass('ui-button-icon-primary ui-icon');\n",
       "        icon_img.addClass(image);\n",
       "        icon_img.addClass('ui-corner-all');\n",
       "\n",
       "        var tooltip_span = $('<span/>');\n",
       "        tooltip_span.addClass('ui-button-text');\n",
       "        tooltip_span.html(tooltip);\n",
       "\n",
       "        button.append(icon_img);\n",
       "        button.append(tooltip_span);\n",
       "\n",
       "        nav_element.append(button);\n",
       "    }\n",
       "\n",
       "    var fmt_picker_span = $('<span/>');\n",
       "\n",
       "    var fmt_picker = $('<select/>');\n",
       "    fmt_picker.addClass('mpl-toolbar-option ui-widget ui-widget-content');\n",
       "    fmt_picker_span.append(fmt_picker);\n",
       "    nav_element.append(fmt_picker_span);\n",
       "    this.format_dropdown = fmt_picker[0];\n",
       "\n",
       "    for (var ind in mpl.extensions) {\n",
       "        var fmt = mpl.extensions[ind];\n",
       "        var option = $(\n",
       "            '<option/>', {selected: fmt === mpl.default_extension}).html(fmt);\n",
       "        fmt_picker.append(option)\n",
       "    }\n",
       "\n",
       "    // Add hover states to the ui-buttons\n",
       "    $( \".ui-button\" ).hover(\n",
       "        function() { $(this).addClass(\"ui-state-hover\");},\n",
       "        function() { $(this).removeClass(\"ui-state-hover\");}\n",
       "    );\n",
       "\n",
       "    var status_bar = $('<span class=\"mpl-message\"/>');\n",
       "    nav_element.append(status_bar);\n",
       "    this.message = status_bar[0];\n",
       "}\n",
       "\n",
       "mpl.figure.prototype.request_resize = function(x_pixels, y_pixels) {\n",
       "    // Request matplotlib to resize the figure. Matplotlib will then trigger a resize in the client,\n",
       "    // which will in turn request a refresh of the image.\n",
       "    this.send_message('resize', {'width': x_pixels, 'height': y_pixels});\n",
       "}\n",
       "\n",
       "mpl.figure.prototype.send_message = function(type, properties) {\n",
       "    properties['type'] = type;\n",
       "    properties['figure_id'] = this.id;\n",
       "    this.ws.send(JSON.stringify(properties));\n",
       "}\n",
       "\n",
       "mpl.figure.prototype.send_draw_message = function() {\n",
       "    if (!this.waiting) {\n",
       "        this.waiting = true;\n",
       "        this.ws.send(JSON.stringify({type: \"draw\", figure_id: this.id}));\n",
       "    }\n",
       "}\n",
       "\n",
       "\n",
       "mpl.figure.prototype.handle_save = function(fig, msg) {\n",
       "    var format_dropdown = fig.format_dropdown;\n",
       "    var format = format_dropdown.options[format_dropdown.selectedIndex].value;\n",
       "    fig.ondownload(fig, format);\n",
       "}\n",
       "\n",
       "\n",
       "mpl.figure.prototype.handle_resize = function(fig, msg) {\n",
       "    var size = msg['size'];\n",
       "    if (size[0] != fig.canvas.width || size[1] != fig.canvas.height) {\n",
       "        fig._resize_canvas(size[0], size[1]);\n",
       "        fig.send_message(\"refresh\", {});\n",
       "    };\n",
       "}\n",
       "\n",
       "mpl.figure.prototype.handle_rubberband = function(fig, msg) {\n",
       "    var x0 = msg['x0'] / mpl.ratio;\n",
       "    var y0 = (fig.canvas.height - msg['y0']) / mpl.ratio;\n",
       "    var x1 = msg['x1'] / mpl.ratio;\n",
       "    var y1 = (fig.canvas.height - msg['y1']) / mpl.ratio;\n",
       "    x0 = Math.floor(x0) + 0.5;\n",
       "    y0 = Math.floor(y0) + 0.5;\n",
       "    x1 = Math.floor(x1) + 0.5;\n",
       "    y1 = Math.floor(y1) + 0.5;\n",
       "    var min_x = Math.min(x0, x1);\n",
       "    var min_y = Math.min(y0, y1);\n",
       "    var width = Math.abs(x1 - x0);\n",
       "    var height = Math.abs(y1 - y0);\n",
       "\n",
       "    fig.rubberband_context.clearRect(\n",
       "        0, 0, fig.canvas.width, fig.canvas.height);\n",
       "\n",
       "    fig.rubberband_context.strokeRect(min_x, min_y, width, height);\n",
       "}\n",
       "\n",
       "mpl.figure.prototype.handle_figure_label = function(fig, msg) {\n",
       "    // Updates the figure title.\n",
       "    fig.header.textContent = msg['label'];\n",
       "}\n",
       "\n",
       "mpl.figure.prototype.handle_cursor = function(fig, msg) {\n",
       "    var cursor = msg['cursor'];\n",
       "    switch(cursor)\n",
       "    {\n",
       "    case 0:\n",
       "        cursor = 'pointer';\n",
       "        break;\n",
       "    case 1:\n",
       "        cursor = 'default';\n",
       "        break;\n",
       "    case 2:\n",
       "        cursor = 'crosshair';\n",
       "        break;\n",
       "    case 3:\n",
       "        cursor = 'move';\n",
       "        break;\n",
       "    }\n",
       "    fig.rubberband_canvas.style.cursor = cursor;\n",
       "}\n",
       "\n",
       "mpl.figure.prototype.handle_message = function(fig, msg) {\n",
       "    fig.message.textContent = msg['message'];\n",
       "}\n",
       "\n",
       "mpl.figure.prototype.handle_draw = function(fig, msg) {\n",
       "    // Request the server to send over a new figure.\n",
       "    fig.send_draw_message();\n",
       "}\n",
       "\n",
       "mpl.figure.prototype.handle_image_mode = function(fig, msg) {\n",
       "    fig.image_mode = msg['mode'];\n",
       "}\n",
       "\n",
       "mpl.figure.prototype.updated_canvas_event = function() {\n",
       "    // Called whenever the canvas gets updated.\n",
       "    this.send_message(\"ack\", {});\n",
       "}\n",
       "\n",
       "// A function to construct a web socket function for onmessage handling.\n",
       "// Called in the figure constructor.\n",
       "mpl.figure.prototype._make_on_message_function = function(fig) {\n",
       "    return function socket_on_message(evt) {\n",
       "        if (evt.data instanceof Blob) {\n",
       "            /* FIXME: We get \"Resource interpreted as Image but\n",
       "             * transferred with MIME type text/plain:\" errors on\n",
       "             * Chrome.  But how to set the MIME type?  It doesn't seem\n",
       "             * to be part of the websocket stream */\n",
       "            evt.data.type = \"image/png\";\n",
       "\n",
       "            /* Free the memory for the previous frames */\n",
       "            if (fig.imageObj.src) {\n",
       "                (window.URL || window.webkitURL).revokeObjectURL(\n",
       "                    fig.imageObj.src);\n",
       "            }\n",
       "\n",
       "            fig.imageObj.src = (window.URL || window.webkitURL).createObjectURL(\n",
       "                evt.data);\n",
       "            fig.updated_canvas_event();\n",
       "            fig.waiting = false;\n",
       "            return;\n",
       "        }\n",
       "        else if (typeof evt.data === 'string' && evt.data.slice(0, 21) == \"data:image/png;base64\") {\n",
       "            fig.imageObj.src = evt.data;\n",
       "            fig.updated_canvas_event();\n",
       "            fig.waiting = false;\n",
       "            return;\n",
       "        }\n",
       "\n",
       "        var msg = JSON.parse(evt.data);\n",
       "        var msg_type = msg['type'];\n",
       "\n",
       "        // Call the  \"handle_{type}\" callback, which takes\n",
       "        // the figure and JSON message as its only arguments.\n",
       "        try {\n",
       "            var callback = fig[\"handle_\" + msg_type];\n",
       "        } catch (e) {\n",
       "            console.log(\"No handler for the '\" + msg_type + \"' message type: \", msg);\n",
       "            return;\n",
       "        }\n",
       "\n",
       "        if (callback) {\n",
       "            try {\n",
       "                // console.log(\"Handling '\" + msg_type + \"' message: \", msg);\n",
       "                callback(fig, msg);\n",
       "            } catch (e) {\n",
       "                console.log(\"Exception inside the 'handler_\" + msg_type + \"' callback:\", e, e.stack, msg);\n",
       "            }\n",
       "        }\n",
       "    };\n",
       "}\n",
       "\n",
       "// from http://stackoverflow.com/questions/1114465/getting-mouse-location-in-canvas\n",
       "mpl.findpos = function(e) {\n",
       "    //this section is from http://www.quirksmode.org/js/events_properties.html\n",
       "    var targ;\n",
       "    if (!e)\n",
       "        e = window.event;\n",
       "    if (e.target)\n",
       "        targ = e.target;\n",
       "    else if (e.srcElement)\n",
       "        targ = e.srcElement;\n",
       "    if (targ.nodeType == 3) // defeat Safari bug\n",
       "        targ = targ.parentNode;\n",
       "\n",
       "    // jQuery normalizes the pageX and pageY\n",
       "    // pageX,Y are the mouse positions relative to the document\n",
       "    // offset() returns the position of the element relative to the document\n",
       "    var x = e.pageX - $(targ).offset().left;\n",
       "    var y = e.pageY - $(targ).offset().top;\n",
       "\n",
       "    return {\"x\": x, \"y\": y};\n",
       "};\n",
       "\n",
       "/*\n",
       " * return a copy of an object with only non-object keys\n",
       " * we need this to avoid circular references\n",
       " * http://stackoverflow.com/a/24161582/3208463\n",
       " */\n",
       "function simpleKeys (original) {\n",
       "  return Object.keys(original).reduce(function (obj, key) {\n",
       "    if (typeof original[key] !== 'object')\n",
       "        obj[key] = original[key]\n",
       "    return obj;\n",
       "  }, {});\n",
       "}\n",
       "\n",
       "mpl.figure.prototype.mouse_event = function(event, name) {\n",
       "    var canvas_pos = mpl.findpos(event)\n",
       "\n",
       "    if (name === 'button_press')\n",
       "    {\n",
       "        this.canvas.focus();\n",
       "        this.canvas_div.focus();\n",
       "    }\n",
       "\n",
       "    var x = canvas_pos.x * mpl.ratio;\n",
       "    var y = canvas_pos.y * mpl.ratio;\n",
       "\n",
       "    this.send_message(name, {x: x, y: y, button: event.button,\n",
       "                             step: event.step,\n",
       "                             guiEvent: simpleKeys(event)});\n",
       "\n",
       "    /* This prevents the web browser from automatically changing to\n",
       "     * the text insertion cursor when the button is pressed.  We want\n",
       "     * to control all of the cursor setting manually through the\n",
       "     * 'cursor' event from matplotlib */\n",
       "    event.preventDefault();\n",
       "    return false;\n",
       "}\n",
       "\n",
       "mpl.figure.prototype._key_event_extra = function(event, name) {\n",
       "    // Handle any extra behaviour associated with a key event\n",
       "}\n",
       "\n",
       "mpl.figure.prototype.key_event = function(event, name) {\n",
       "\n",
       "    // Prevent repeat events\n",
       "    if (name == 'key_press')\n",
       "    {\n",
       "        if (event.which === this._key)\n",
       "            return;\n",
       "        else\n",
       "            this._key = event.which;\n",
       "    }\n",
       "    if (name == 'key_release')\n",
       "        this._key = null;\n",
       "\n",
       "    var value = '';\n",
       "    if (event.ctrlKey && event.which != 17)\n",
       "        value += \"ctrl+\";\n",
       "    if (event.altKey && event.which != 18)\n",
       "        value += \"alt+\";\n",
       "    if (event.shiftKey && event.which != 16)\n",
       "        value += \"shift+\";\n",
       "\n",
       "    value += 'k';\n",
       "    value += event.which.toString();\n",
       "\n",
       "    this._key_event_extra(event, name);\n",
       "\n",
       "    this.send_message(name, {key: value,\n",
       "                             guiEvent: simpleKeys(event)});\n",
       "    return false;\n",
       "}\n",
       "\n",
       "mpl.figure.prototype.toolbar_button_onclick = function(name) {\n",
       "    if (name == 'download') {\n",
       "        this.handle_save(this, null);\n",
       "    } else {\n",
       "        this.send_message(\"toolbar_button\", {name: name});\n",
       "    }\n",
       "};\n",
       "\n",
       "mpl.figure.prototype.toolbar_button_onmouseover = function(tooltip) {\n",
       "    this.message.textContent = tooltip;\n",
       "};\n",
       "mpl.toolbar_items = [[\"Home\", \"Reset original view\", \"fa fa-home icon-home\", \"home\"], [\"Back\", \"Back to  previous view\", \"fa fa-arrow-left icon-arrow-left\", \"back\"], [\"Forward\", \"Forward to next view\", \"fa fa-arrow-right icon-arrow-right\", \"forward\"], [\"\", \"\", \"\", \"\"], [\"Pan\", \"Pan axes with left mouse, zoom with right\", \"fa fa-arrows icon-move\", \"pan\"], [\"Zoom\", \"Zoom to rectangle\", \"fa fa-square-o icon-check-empty\", \"zoom\"], [\"\", \"\", \"\", \"\"], [\"Download\", \"Download plot\", \"fa fa-floppy-o icon-save\", \"download\"]];\n",
       "\n",
       "mpl.extensions = [\"eps\", \"jpeg\", \"pdf\", \"png\", \"ps\", \"raw\", \"svg\", \"tif\"];\n",
       "\n",
       "mpl.default_extension = \"png\";var comm_websocket_adapter = function(comm) {\n",
       "    // Create a \"websocket\"-like object which calls the given IPython comm\n",
       "    // object with the appropriate methods. Currently this is a non binary\n",
       "    // socket, so there is still some room for performance tuning.\n",
       "    var ws = {};\n",
       "\n",
       "    ws.close = function() {\n",
       "        comm.close()\n",
       "    };\n",
       "    ws.send = function(m) {\n",
       "        //console.log('sending', m);\n",
       "        comm.send(m);\n",
       "    };\n",
       "    // Register the callback with on_msg.\n",
       "    comm.on_msg(function(msg) {\n",
       "        //console.log('receiving', msg['content']['data'], msg);\n",
       "        // Pass the mpl event to the overriden (by mpl) onmessage function.\n",
       "        ws.onmessage(msg['content']['data'])\n",
       "    });\n",
       "    return ws;\n",
       "}\n",
       "\n",
       "mpl.mpl_figure_comm = function(comm, msg) {\n",
       "    // This is the function which gets called when the mpl process\n",
       "    // starts-up an IPython Comm through the \"matplotlib\" channel.\n",
       "\n",
       "    var id = msg.content.data.id;\n",
       "    // Get hold of the div created by the display call when the Comm\n",
       "    // socket was opened in Python.\n",
       "    var element = $(\"#\" + id);\n",
       "    var ws_proxy = comm_websocket_adapter(comm)\n",
       "\n",
       "    function ondownload(figure, format) {\n",
       "        window.open(figure.imageObj.src);\n",
       "    }\n",
       "\n",
       "    var fig = new mpl.figure(id, ws_proxy,\n",
       "                           ondownload,\n",
       "                           element.get(0));\n",
       "\n",
       "    // Call onopen now - mpl needs it, as it is assuming we've passed it a real\n",
       "    // web socket which is closed, not our websocket->open comm proxy.\n",
       "    ws_proxy.onopen();\n",
       "\n",
       "    fig.parent_element = element.get(0);\n",
       "    fig.cell_info = mpl.find_output_cell(\"<div id='\" + id + \"'></div>\");\n",
       "    if (!fig.cell_info) {\n",
       "        console.error(\"Failed to find cell for figure\", id, fig);\n",
       "        return;\n",
       "    }\n",
       "\n",
       "    var output_index = fig.cell_info[2]\n",
       "    var cell = fig.cell_info[0];\n",
       "\n",
       "};\n",
       "\n",
       "mpl.figure.prototype.handle_close = function(fig, msg) {\n",
       "    var width = fig.canvas.width/mpl.ratio\n",
       "    fig.root.unbind('remove')\n",
       "\n",
       "    // Update the output cell to use the data from the current canvas.\n",
       "    fig.push_to_output();\n",
       "    var dataURL = fig.canvas.toDataURL();\n",
       "    // Re-enable the keyboard manager in IPython - without this line, in FF,\n",
       "    // the notebook keyboard shortcuts fail.\n",
       "    IPython.keyboard_manager.enable()\n",
       "    $(fig.parent_element).html('<img src=\"' + dataURL + '\" width=\"' + width + '\">');\n",
       "    fig.close_ws(fig, msg);\n",
       "}\n",
       "\n",
       "mpl.figure.prototype.close_ws = function(fig, msg){\n",
       "    fig.send_message('closing', msg);\n",
       "    // fig.ws.close()\n",
       "}\n",
       "\n",
       "mpl.figure.prototype.push_to_output = function(remove_interactive) {\n",
       "    // Turn the data on the canvas into data in the output cell.\n",
       "    var width = this.canvas.width/mpl.ratio\n",
       "    var dataURL = this.canvas.toDataURL();\n",
       "    this.cell_info[1]['text/html'] = '<img src=\"' + dataURL + '\" width=\"' + width + '\">';\n",
       "}\n",
       "\n",
       "mpl.figure.prototype.updated_canvas_event = function() {\n",
       "    // Tell IPython that the notebook contents must change.\n",
       "    IPython.notebook.set_dirty(true);\n",
       "    this.send_message(\"ack\", {});\n",
       "    var fig = this;\n",
       "    // Wait a second, then push the new image to the DOM so\n",
       "    // that it is saved nicely (might be nice to debounce this).\n",
       "    setTimeout(function () { fig.push_to_output() }, 1000);\n",
       "}\n",
       "\n",
       "mpl.figure.prototype._init_toolbar = function() {\n",
       "    var fig = this;\n",
       "\n",
       "    var nav_element = $('<div/>')\n",
       "    nav_element.attr('style', 'width: 100%');\n",
       "    this.root.append(nav_element);\n",
       "\n",
       "    // Define a callback function for later on.\n",
       "    function toolbar_event(event) {\n",
       "        return fig.toolbar_button_onclick(event['data']);\n",
       "    }\n",
       "    function toolbar_mouse_event(event) {\n",
       "        return fig.toolbar_button_onmouseover(event['data']);\n",
       "    }\n",
       "\n",
       "    for(var toolbar_ind in mpl.toolbar_items){\n",
       "        var name = mpl.toolbar_items[toolbar_ind][0];\n",
       "        var tooltip = mpl.toolbar_items[toolbar_ind][1];\n",
       "        var image = mpl.toolbar_items[toolbar_ind][2];\n",
       "        var method_name = mpl.toolbar_items[toolbar_ind][3];\n",
       "\n",
       "        if (!name) { continue; };\n",
       "\n",
       "        var button = $('<button class=\"btn btn-default\" href=\"#\" title=\"' + name + '\"><i class=\"fa ' + image + ' fa-lg\"></i></button>');\n",
       "        button.click(method_name, toolbar_event);\n",
       "        button.mouseover(tooltip, toolbar_mouse_event);\n",
       "        nav_element.append(button);\n",
       "    }\n",
       "\n",
       "    // Add the status bar.\n",
       "    var status_bar = $('<span class=\"mpl-message\" style=\"text-align:right; float: right;\"/>');\n",
       "    nav_element.append(status_bar);\n",
       "    this.message = status_bar[0];\n",
       "\n",
       "    // Add the close button to the window.\n",
       "    var buttongrp = $('<div class=\"btn-group inline pull-right\"></div>');\n",
       "    var button = $('<button class=\"btn btn-mini btn-primary\" href=\"#\" title=\"Stop Interaction\"><i class=\"fa fa-power-off icon-remove icon-large\"></i></button>');\n",
       "    button.click(function (evt) { fig.handle_close(fig, {}); } );\n",
       "    button.mouseover('Stop Interaction', toolbar_mouse_event);\n",
       "    buttongrp.append(button);\n",
       "    var titlebar = this.root.find($('.ui-dialog-titlebar'));\n",
       "    titlebar.prepend(buttongrp);\n",
       "}\n",
       "\n",
       "mpl.figure.prototype._root_extra_style = function(el){\n",
       "    var fig = this\n",
       "    el.on(\"remove\", function(){\n",
       "\tfig.close_ws(fig, {});\n",
       "    });\n",
       "}\n",
       "\n",
       "mpl.figure.prototype._canvas_extra_style = function(el){\n",
       "    // this is important to make the div 'focusable\n",
       "    el.attr('tabindex', 0)\n",
       "    // reach out to IPython and tell the keyboard manager to turn it's self\n",
       "    // off when our div gets focus\n",
       "\n",
       "    // location in version 3\n",
       "    if (IPython.notebook.keyboard_manager) {\n",
       "        IPython.notebook.keyboard_manager.register_events(el);\n",
       "    }\n",
       "    else {\n",
       "        // location in version 2\n",
       "        IPython.keyboard_manager.register_events(el);\n",
       "    }\n",
       "\n",
       "}\n",
       "\n",
       "mpl.figure.prototype._key_event_extra = function(event, name) {\n",
       "    var manager = IPython.notebook.keyboard_manager;\n",
       "    if (!manager)\n",
       "        manager = IPython.keyboard_manager;\n",
       "\n",
       "    // Check for shift+enter\n",
       "    if (event.shiftKey && event.which == 13) {\n",
       "        this.canvas_div.blur();\n",
       "        // select the cell after this one\n",
       "        var index = IPython.notebook.find_cell_index(this.cell_info[0]);\n",
       "        IPython.notebook.select(index + 1);\n",
       "    }\n",
       "}\n",
       "\n",
       "mpl.figure.prototype.handle_save = function(fig, msg) {\n",
       "    fig.ondownload(fig, null);\n",
       "}\n",
       "\n",
       "\n",
       "mpl.find_output_cell = function(html_output) {\n",
       "    // Return the cell and output element which can be found *uniquely* in the notebook.\n",
       "    // Note - this is a bit hacky, but it is done because the \"notebook_saving.Notebook\"\n",
       "    // IPython event is triggered only after the cells have been serialised, which for\n",
       "    // our purposes (turning an active figure into a static one), is too late.\n",
       "    var cells = IPython.notebook.get_cells();\n",
       "    var ncells = cells.length;\n",
       "    for (var i=0; i<ncells; i++) {\n",
       "        var cell = cells[i];\n",
       "        if (cell.cell_type === 'code'){\n",
       "            for (var j=0; j<cell.output_area.outputs.length; j++) {\n",
       "                var data = cell.output_area.outputs[j];\n",
       "                if (data.data) {\n",
       "                    // IPython >= 3 moved mimebundle to data attribute of output\n",
       "                    data = data.data;\n",
       "                }\n",
       "                if (data['text/html'] == html_output) {\n",
       "                    return [cell, data, j];\n",
       "                }\n",
       "            }\n",
       "        }\n",
       "    }\n",
       "}\n",
       "\n",
       "// Register the function which deals with the matplotlib target/channel.\n",
       "// The kernel may be null if the page has been refreshed.\n",
       "if (IPython.notebook.kernel != null) {\n",
       "    IPython.notebook.kernel.comm_manager.register_target('matplotlib', mpl.mpl_figure_comm);\n",
       "}\n"
      ],
      "text/plain": [
       "<IPython.core.display.Javascript object>"
      ]
     },
     "metadata": {},
     "output_type": "display_data"
    },
    {
     "data": {
      "text/html": [
       "<img src=\"data:image/png;base64,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\" width=\"600\">"
      ],
      "text/plain": [
       "<IPython.core.display.HTML object>"
      ]
     },
     "metadata": {},
     "output_type": "display_data"
    },
    {
     "data": {
      "application/vnd.jupyter.widget-view+json": {
       "model_id": "b98a87d004e24044909f89792154a40d"
      }
     },
     "metadata": {},
     "output_type": "display_data"
    }
   ],
   "source": [
    "# Update the filename and projector resolution here.\n",
    "#green_dots_filename = \"green_dots_22.txt\" # projector resolution is (1280, 720)\n",
    "#projector_resolution = (1280, 720)   # (rows, columns)\n",
    "green_dots_filename = \"green_dots_37.txt\" # projector resolution is (1024, 768)\n",
    "projector_resolution = (1024, 768)   # (rows, columns)\n",
    "\n",
    "# Enter your best parameter estimates here.\n",
    "# Searching an 11 dimensional space can be quite difficult.\n",
    "# The better your estimates, the easier it will be. \n",
    "# Take the time to measure the parameters that can be measured easily.\n",
    "# All distances are in meters, projector_roll and projector_theta are in radians.\n",
    "# The center of the mirror is the origin of the coordinate system.\n",
    "parameters = \\\n",
    "{'animal_y':0.0,\n",
    "'animal_z':0.5,\n",
    "'dome_y':0.0,\n",
    "'dome_z':0.3,\n",
    "'dome_radius':0.7,\n",
    "'mirror_radius':0.2,\n",
    "'projector_y':0.9,\n",
    "'projector_z':0.1,\n",
    "'projector_roll':0.0,\n",
    "'projector_theta':0.2,\n",
    "'projector_vertical_offset':0.1}\n",
    "\n",
    "def value_to_range(value):\n",
    "    return (value - 0.2, value + 0.2, 0.001)\n",
    "ranges = dict([[key, value_to_range(parameters[key])] for key in parameters])\n",
    "\n",
    "psearch = ParameterSearch(green_dots_filename, *projector_resolution)\n",
    "sliders = interactive(psearch.update, **ranges)\n",
    "HBox([VBox(sliders.children[0:4]), VBox(sliders.children[4:8]), VBox(sliders.children[8:])])"
   ]
  },
  {
   "cell_type": "code",
   "execution_count": 4,
   "metadata": {
    "collapsed": false,
    "deletable": true,
    "editable": true
   },
   "outputs": [
    {
     "data": {
      "application/vnd.jupyter.widget-view+json": {
       "model_id": "3b47cea6390148229570c7010495ecda"
      }
     },
     "metadata": {},
     "output_type": "display_data"
    }
   ],
   "source": [
    "parameter_file = \"initial_parameters.txt\"\n",
    "button = Button(description = 'Save parameters to ' + parameter_file, button_style='primary')\n",
    "button.on_click(lambda b: save_parameters(b, sliders.kwargs, projector_resolution, parameter_file))\n",
    "button.layout.width = '50%'\n",
    "display(button)"
   ]
  }
 ],
 "metadata": {
  "kernelspec": {
   "display_name": "Python 2",
   "language": "python",
   "name": "python2"
  },
  "language_info": {
   "codemirror_mode": {
    "name": "ipython",
    "version": 2
   },
   "file_extension": ".py",
   "mimetype": "text/x-python",
   "name": "python",
   "nbconvert_exporter": "python",
   "pygments_lexer": "ipython2",
   "version": "2.7.13"
  },
  "widgets": {
   "state": {
    "09875c31a9154ebe87b31b95aa581310": {
     "views": []
    },
    "0b218c22c3e34d0293990f8934fb0bdd": {
     "views": []
    },
    "0caa39bc3dd249dabfdf5af7ffc03d2c": {
     "views": []
    },
    "16657318d91f4c7f91025f8fe3211703": {
     "views": []
    },
    "19379ffaec7f445faa184de24a29ca0e": {
     "views": []
    },
    "1a22ad54c6084ddda91c2ffa6b4153a6": {
     "views": []
    },
    "1c8507f06be84a7dab4e70d5258b41ff": {
     "views": []
    },
    "1cfdaee90ffd4afd9d1e22e5f4503f62": {
     "views": []
    },
    "1fab24a952794e87b44d15b96bc8d505": {
     "views": []
    },
    "21586773f25f4cc795cae7bbf784f128": {
     "views": []
    },
    "23aef5db57334d53850c6501be8494fd": {
     "views": []
    },
    "2687a0396ed8435c9f6f970e04a0cd0b": {
     "views": []
    },
    "281a2a423d634ca8a731f509c746ba8b": {
     "views": []
    },
    "2870fa6771bb431aa758b54caff07f9f": {
     "views": []
    },
    "30ac2fad0e3b43028d16a3e3a41d1837": {
     "views": []
    },
    "42d798bab95f43e689d5fc83cc62f522": {
     "views": []
    },
    "45a45214704d4c379407fc082114addd": {
     "views": []
    },
    "4708e2898cf64bceac2f8d04a89e9387": {
     "views": []
    },
    "4c8fd0979bfc44398708e2a1475a2f9d": {
     "views": []
    },
    "4eb5550a9224451e82f35c997b03e824": {
     "views": []
    },
    "4f62132cac024cbc932f87dc36a8115a": {
     "views": []
    },
    "5213a993d89d4d86b1da4eda2814f7d6": {
     "views": []
    },
    "53baf262e3df422ca4fe94d5b990f3e6": {
     "views": []
    },
    "53c5b59ee38a455ea2141c6da3e67c39": {
     "views": []
    },
    "54632940b4814cc5833dac60cfabc993": {
     "views": []
    },
    "5b4b34d7c9df41f1b62954cf9071969f": {
     "views": []
    },
    "5c5a68c3347444089a8725831f15d771": {
     "views": []
    },
    "5d3453faf1394890ae4012b1afbdb291": {
     "views": []
    },
    "62bdf9e8225d4590909fbb482cd5d980": {
     "views": []
    },
    "637dacb2b0d646fab252c93af5d7cf81": {
     "views": []
    },
    "64a2473426ce4a14bd98e9d94c74480b": {
     "views": []
    },
    "73695ce38a304d189e0876f581193584": {
     "views": []
    },
    "7468713896ff433a9773daa2b9738c91": {
     "views": [
      {
       "cell_index": 4
      }
     ]
    },
    "74a79ac07b094b79b822849cbf772e41": {
     "views": []
    },
    "77f8f15980034c818fa80154dbd184b4": {
     "views": []
    },
    "795380a83f9c4aae9f25cb070eff9cde": {
     "views": []
    },
    "7eb1093d13e347c6b3e63c1b62630b65": {
     "views": []
    },
    "7f808f1884c842db8d4b571cd3ea5c89": {
     "views": []
    },
    "7f99eee3712f48b9a384f5e799a7aff5": {
     "views": []
    },
    "80cc3cde94374073b4179e6bc74bb950": {
     "views": []
    },
    "86eb803d08eb4ad3b57273fd022719e3": {
     "views": []
    },
    "899aec350d1e4c61a46faa84639079ac": {
     "views": []
    },
    "8af7b623e59b48df843c756c6a9d91d2": {
     "views": []
    },
    "8f6cdd0f0f1041e486b4a71edb7941be": {
     "views": []
    },
    "943a74b8fb9e4207bbf97d8576813df4": {
     "views": []
    },
    "95216e4bf8814cda932c5727db2b4320": {
     "views": []
    },
    "99bdbd2c7b7042f296acca1b916bd07b": {
     "views": []
    },
    "9d19ef372de6457a88ca0b4fa29282e5": {
     "views": []
    },
    "9db0a82b90964442bef67700c98efcc0": {
     "views": []
    },
    "9deb97b921cb44d8bbd746eafcfd5431": {
     "views": []
    },
    "9e1652931c214cfa9de2b9381315e64a": {
     "views": []
    },
    "9ebbb557c35e44c9a45242a59a82a7b0": {
     "views": []
    },
    "a4e55514c07d46508d9dd474959a23e5": {
     "views": []
    },
    "a7ed85ff16d444678abc04fc815c8cb7": {
     "views": []
    },
    "a98063fab26b4f7c989a6fca0e56d08e": {
     "views": []
    },
    "a9d281072eb6440ca874493b1712aac6": {
     "views": []
    },
    "aaa1cb8f0059400e8d30844cebde4484": {
     "views": []
    },
    "ae45ca9971e24a579e6a9126368fcbb1": {
     "views": []
    },
    "b043edf61cea472694c2d82d8aa35a6d": {
     "views": []
    },
    "b1271f2d2c644ad1a194e970983ef435": {
     "views": []
    },
    "b669990a6fc54e6dbfef4d8e4abbe7c0": {
     "views": []
    },
    "b711babe10ef46cc84e1ec3a2baa6eab": {
     "views": []
    },
    "b96dadab4a2342439ba476c10bb1a05a": {
     "views": []
    },
    "b9833e79a8414525b9c5fa23e77f85ad": {
     "views": []
    },
    "babf49f7ddc04d02baa3b291939b7f50": {
     "views": []
    },
    "bc125551485f490d8a03632da6188b89": {
     "views": []
    },
    "c14a52d76d0b445fbef1f4ba0e90226a": {
     "views": []
    },
    "c1d1056c702b4747b5c6513fd157bb69": {
     "views": []
    },
    "c298d19cf5f84be2b64dcc8ae067b439": {
     "views": []
    },
    "c32f29a97aae42ce94adf7f0bea94c8d": {
     "views": []
    },
    "c45ce6271d6f4df682d82c771dcf1cee": {
     "views": []
    },
    "c5a5816eada4469dbac8ddcdb68e222c": {
     "views": []
    },
    "cd6cd3d8b2174b7896e3fddcd26f4d82": {
     "views": []
    },
    "cf9b71ee09aa41f99f36268b1078b318": {
     "views": []
    },
    "d1d8d1f104f44b919b3f753b06499045": {
     "views": []
    },
    "d1e8653990fc4810a2a45cf881a62856": {
     "views": []
    },
    "d4414b06d00c45899b9d347586d0a1bf": {
     "views": []
    },
    "d5c97b5e342a4f79b728014a68b2d60e": {
     "views": []
    },
    "de12cf83f3364558b1f577cc323030b4": {
     "views": []
    },
    "e1129aa7db814714a754a443d9c149a1": {
     "views": []
    },
    "e266bf467a734d029633d1b4b4b4900f": {
     "views": []
    },
    "e39dea2a6a9547bd8128263817de37d4": {
     "views": []
    },
    "e3e9900514054a57a219a3029859ece7": {
     "views": []
    },
    "e506bc49e1b84fa4aa996a4f60c81508": {
     "views": []
    },
    "ecf35cde496248e99ba9c9f3faccd7cc": {
     "views": []
    },
    "edd39dec0b54401f9aac3d90b027dd56": {
     "views": []
    },
    "ef1de0aa8bf2487f8bc00369b4438341": {
     "views": []
    },
    "efd55004b06b4005bb749705ee480be4": {
     "views": []
    },
    "f1628ae1ec704cd2953052c6a8121d19": {
     "views": []
    },
    "f38107dbcb1f44949ba385bfa5e8325f": {
     "views": []
    },
    "f5831828c0754611a7f2bfb5d2ef3a1f": {
     "views": []
    },
    "f750644b1806413bbd406f60059ee994": {
     "views": []
    },
    "fd7a4ef7e0d745eb955841782e058329": {
     "views": []
    },
    "fda9688ff83e41d7bcb5b54ca57d3505": {
     "views": []
    },
    "fdd434b0b9644f22bc48b9969d42625c": {
     "views": []
    },
    "fdda403506144d25917ee6ae49e498e3": {
     "views": []
    }
   },
   "version": "1.1.2"
  }
 },
 "nbformat": 4,
 "nbformat_minor": 0
}
