{
 "cells": [
  {
   "cell_type": "code",
   "execution_count": 49,
   "metadata": {
    "collapsed": false,
    "deletable": true,
    "editable": true
   },
   "outputs": [],
   "source": [
    "%matplotlib notebook\n",
    "import matplotlib.pyplot as plt\n",
    "from IPython.display import display\n",
    "from ipywidgets import interactive, HBox, VBox, Button\n",
    "from parameter_search import ParameterSearch, save_parameters"
   ]
  },
  {
   "cell_type": "code",
   "execution_count": 50,
   "metadata": {
    "collapsed": false,
    "deletable": true,
    "editable": true,
    "scrolled": false
   },
   "outputs": [
    {
     "data": {
      "application/javascript": [
       "/* Put everything inside the global mpl namespace */\n",
       "window.mpl = {};\n",
       "\n",
       "\n",
       "mpl.get_websocket_type = function() {\n",
       "    if (typeof(WebSocket) !== 'undefined') {\n",
       "        return WebSocket;\n",
       "    } else if (typeof(MozWebSocket) !== 'undefined') {\n",
       "        return MozWebSocket;\n",
       "    } else {\n",
       "        alert('Your browser does not have WebSocket support.' +\n",
       "              'Please try Chrome, Safari or Firefox ≥ 6. ' +\n",
       "              'Firefox 4 and 5 are also supported but you ' +\n",
       "              'have to enable WebSockets in about:config.');\n",
       "    };\n",
       "}\n",
       "\n",
       "mpl.figure = function(figure_id, websocket, ondownload, parent_element) {\n",
       "    this.id = figure_id;\n",
       "\n",
       "    this.ws = websocket;\n",
       "\n",
       "    this.supports_binary = (this.ws.binaryType != undefined);\n",
       "\n",
       "    if (!this.supports_binary) {\n",
       "        var warnings = document.getElementById(\"mpl-warnings\");\n",
       "        if (warnings) {\n",
       "            warnings.style.display = 'block';\n",
       "            warnings.textContent = (\n",
       "                \"This browser does not support binary websocket messages. \" +\n",
       "                    \"Performance may be slow.\");\n",
       "        }\n",
       "    }\n",
       "\n",
       "    this.imageObj = new Image();\n",
       "\n",
       "    this.context = undefined;\n",
       "    this.message = undefined;\n",
       "    this.canvas = undefined;\n",
       "    this.rubberband_canvas = undefined;\n",
       "    this.rubberband_context = undefined;\n",
       "    this.format_dropdown = undefined;\n",
       "\n",
       "    this.image_mode = 'full';\n",
       "\n",
       "    this.root = $('<div/>');\n",
       "    this._root_extra_style(this.root)\n",
       "    this.root.attr('style', 'display: inline-block');\n",
       "\n",
       "    $(parent_element).append(this.root);\n",
       "\n",
       "    this._init_header(this);\n",
       "    this._init_canvas(this);\n",
       "    this._init_toolbar(this);\n",
       "\n",
       "    var fig = this;\n",
       "\n",
       "    this.waiting = false;\n",
       "\n",
       "    this.ws.onopen =  function () {\n",
       "            fig.send_message(\"supports_binary\", {value: fig.supports_binary});\n",
       "            fig.send_message(\"send_image_mode\", {});\n",
       "            if (mpl.ratio != 1) {\n",
       "                fig.send_message(\"set_dpi_ratio\", {'dpi_ratio': mpl.ratio});\n",
       "            }\n",
       "            fig.send_message(\"refresh\", {});\n",
       "        }\n",
       "\n",
       "    this.imageObj.onload = function() {\n",
       "            if (fig.image_mode == 'full') {\n",
       "                // Full images could contain transparency (where diff images\n",
       "                // almost always do), so we need to clear the canvas so that\n",
       "                // there is no ghosting.\n",
       "                fig.context.clearRect(0, 0, fig.canvas.width, fig.canvas.height);\n",
       "            }\n",
       "            fig.context.drawImage(fig.imageObj, 0, 0);\n",
       "        };\n",
       "\n",
       "    this.imageObj.onunload = function() {\n",
       "        this.ws.close();\n",
       "    }\n",
       "\n",
       "    this.ws.onmessage = this._make_on_message_function(this);\n",
       "\n",
       "    this.ondownload = ondownload;\n",
       "}\n",
       "\n",
       "mpl.figure.prototype._init_header = function() {\n",
       "    var titlebar = $(\n",
       "        '<div class=\"ui-dialog-titlebar ui-widget-header ui-corner-all ' +\n",
       "        'ui-helper-clearfix\"/>');\n",
       "    var titletext = $(\n",
       "        '<div class=\"ui-dialog-title\" style=\"width: 100%; ' +\n",
       "        'text-align: center; padding: 3px;\"/>');\n",
       "    titlebar.append(titletext)\n",
       "    this.root.append(titlebar);\n",
       "    this.header = titletext[0];\n",
       "}\n",
       "\n",
       "\n",
       "\n",
       "mpl.figure.prototype._canvas_extra_style = function(canvas_div) {\n",
       "\n",
       "}\n",
       "\n",
       "\n",
       "mpl.figure.prototype._root_extra_style = function(canvas_div) {\n",
       "\n",
       "}\n",
       "\n",
       "mpl.figure.prototype._init_canvas = function() {\n",
       "    var fig = this;\n",
       "\n",
       "    var canvas_div = $('<div/>');\n",
       "\n",
       "    canvas_div.attr('style', 'position: relative; clear: both; outline: 0');\n",
       "\n",
       "    function canvas_keyboard_event(event) {\n",
       "        return fig.key_event(event, event['data']);\n",
       "    }\n",
       "\n",
       "    canvas_div.keydown('key_press', canvas_keyboard_event);\n",
       "    canvas_div.keyup('key_release', canvas_keyboard_event);\n",
       "    this.canvas_div = canvas_div\n",
       "    this._canvas_extra_style(canvas_div)\n",
       "    this.root.append(canvas_div);\n",
       "\n",
       "    var canvas = $('<canvas/>');\n",
       "    canvas.addClass('mpl-canvas');\n",
       "    canvas.attr('style', \"left: 0; top: 0; z-index: 0; outline: 0\")\n",
       "\n",
       "    this.canvas = canvas[0];\n",
       "    this.context = canvas[0].getContext(\"2d\");\n",
       "\n",
       "    var backingStore = this.context.backingStorePixelRatio ||\n",
       "\tthis.context.webkitBackingStorePixelRatio ||\n",
       "\tthis.context.mozBackingStorePixelRatio ||\n",
       "\tthis.context.msBackingStorePixelRatio ||\n",
       "\tthis.context.oBackingStorePixelRatio ||\n",
       "\tthis.context.backingStorePixelRatio || 1;\n",
       "\n",
       "    mpl.ratio = (window.devicePixelRatio || 1) / backingStore;\n",
       "\n",
       "    var rubberband = $('<canvas/>');\n",
       "    rubberband.attr('style', \"position: absolute; left: 0; top: 0; z-index: 1;\")\n",
       "\n",
       "    var pass_mouse_events = true;\n",
       "\n",
       "    canvas_div.resizable({\n",
       "        start: function(event, ui) {\n",
       "            pass_mouse_events = false;\n",
       "        },\n",
       "        resize: function(event, ui) {\n",
       "            fig.request_resize(ui.size.width, ui.size.height);\n",
       "        },\n",
       "        stop: function(event, ui) {\n",
       "            pass_mouse_events = true;\n",
       "            fig.request_resize(ui.size.width, ui.size.height);\n",
       "        },\n",
       "    });\n",
       "\n",
       "    function mouse_event_fn(event) {\n",
       "        if (pass_mouse_events)\n",
       "            return fig.mouse_event(event, event['data']);\n",
       "    }\n",
       "\n",
       "    rubberband.mousedown('button_press', mouse_event_fn);\n",
       "    rubberband.mouseup('button_release', mouse_event_fn);\n",
       "    // Throttle sequential mouse events to 1 every 20ms.\n",
       "    rubberband.mousemove('motion_notify', mouse_event_fn);\n",
       "\n",
       "    rubberband.mouseenter('figure_enter', mouse_event_fn);\n",
       "    rubberband.mouseleave('figure_leave', mouse_event_fn);\n",
       "\n",
       "    canvas_div.on(\"wheel\", function (event) {\n",
       "        event = event.originalEvent;\n",
       "        event['data'] = 'scroll'\n",
       "        if (event.deltaY < 0) {\n",
       "            event.step = 1;\n",
       "        } else {\n",
       "            event.step = -1;\n",
       "        }\n",
       "        mouse_event_fn(event);\n",
       "    });\n",
       "\n",
       "    canvas_div.append(canvas);\n",
       "    canvas_div.append(rubberband);\n",
       "\n",
       "    this.rubberband = rubberband;\n",
       "    this.rubberband_canvas = rubberband[0];\n",
       "    this.rubberband_context = rubberband[0].getContext(\"2d\");\n",
       "    this.rubberband_context.strokeStyle = \"#000000\";\n",
       "\n",
       "    this._resize_canvas = function(width, height) {\n",
       "        // Keep the size of the canvas, canvas container, and rubber band\n",
       "        // canvas in synch.\n",
       "        canvas_div.css('width', width)\n",
       "        canvas_div.css('height', height)\n",
       "\n",
       "        canvas.attr('width', width * mpl.ratio);\n",
       "        canvas.attr('height', height * mpl.ratio);\n",
       "        canvas.attr('style', 'width: ' + width + 'px; height: ' + height + 'px;');\n",
       "\n",
       "        rubberband.attr('width', width);\n",
       "        rubberband.attr('height', height);\n",
       "    }\n",
       "\n",
       "    // Set the figure to an initial 600x600px, this will subsequently be updated\n",
       "    // upon first draw.\n",
       "    this._resize_canvas(600, 600);\n",
       "\n",
       "    // Disable right mouse context menu.\n",
       "    $(this.rubberband_canvas).bind(\"contextmenu\",function(e){\n",
       "        return false;\n",
       "    });\n",
       "\n",
       "    function set_focus () {\n",
       "        canvas.focus();\n",
       "        canvas_div.focus();\n",
       "    }\n",
       "\n",
       "    window.setTimeout(set_focus, 100);\n",
       "}\n",
       "\n",
       "mpl.figure.prototype._init_toolbar = function() {\n",
       "    var fig = this;\n",
       "\n",
       "    var nav_element = $('<div/>')\n",
       "    nav_element.attr('style', 'width: 100%');\n",
       "    this.root.append(nav_element);\n",
       "\n",
       "    // Define a callback function for later on.\n",
       "    function toolbar_event(event) {\n",
       "        return fig.toolbar_button_onclick(event['data']);\n",
       "    }\n",
       "    function toolbar_mouse_event(event) {\n",
       "        return fig.toolbar_button_onmouseover(event['data']);\n",
       "    }\n",
       "\n",
       "    for(var toolbar_ind in mpl.toolbar_items) {\n",
       "        var name = mpl.toolbar_items[toolbar_ind][0];\n",
       "        var tooltip = mpl.toolbar_items[toolbar_ind][1];\n",
       "        var image = mpl.toolbar_items[toolbar_ind][2];\n",
       "        var method_name = mpl.toolbar_items[toolbar_ind][3];\n",
       "\n",
       "        if (!name) {\n",
       "            // put a spacer in here.\n",
       "            continue;\n",
       "        }\n",
       "        var button = $('<button/>');\n",
       "        button.addClass('ui-button ui-widget ui-state-default ui-corner-all ' +\n",
       "                        'ui-button-icon-only');\n",
       "        button.attr('role', 'button');\n",
       "        button.attr('aria-disabled', 'false');\n",
       "        button.click(method_name, toolbar_event);\n",
       "        button.mouseover(tooltip, toolbar_mouse_event);\n",
       "\n",
       "        var icon_img = $('<span/>');\n",
       "        icon_img.addClass('ui-button-icon-primary ui-icon');\n",
       "        icon_img.addClass(image);\n",
       "        icon_img.addClass('ui-corner-all');\n",
       "\n",
       "        var tooltip_span = $('<span/>');\n",
       "        tooltip_span.addClass('ui-button-text');\n",
       "        tooltip_span.html(tooltip);\n",
       "\n",
       "        button.append(icon_img);\n",
       "        button.append(tooltip_span);\n",
       "\n",
       "        nav_element.append(button);\n",
       "    }\n",
       "\n",
       "    var fmt_picker_span = $('<span/>');\n",
       "\n",
       "    var fmt_picker = $('<select/>');\n",
       "    fmt_picker.addClass('mpl-toolbar-option ui-widget ui-widget-content');\n",
       "    fmt_picker_span.append(fmt_picker);\n",
       "    nav_element.append(fmt_picker_span);\n",
       "    this.format_dropdown = fmt_picker[0];\n",
       "\n",
       "    for (var ind in mpl.extensions) {\n",
       "        var fmt = mpl.extensions[ind];\n",
       "        var option = $(\n",
       "            '<option/>', {selected: fmt === mpl.default_extension}).html(fmt);\n",
       "        fmt_picker.append(option)\n",
       "    }\n",
       "\n",
       "    // Add hover states to the ui-buttons\n",
       "    $( \".ui-button\" ).hover(\n",
       "        function() { $(this).addClass(\"ui-state-hover\");},\n",
       "        function() { $(this).removeClass(\"ui-state-hover\");}\n",
       "    );\n",
       "\n",
       "    var status_bar = $('<span class=\"mpl-message\"/>');\n",
       "    nav_element.append(status_bar);\n",
       "    this.message = status_bar[0];\n",
       "}\n",
       "\n",
       "mpl.figure.prototype.request_resize = function(x_pixels, y_pixels) {\n",
       "    // Request matplotlib to resize the figure. Matplotlib will then trigger a resize in the client,\n",
       "    // which will in turn request a refresh of the image.\n",
       "    this.send_message('resize', {'width': x_pixels, 'height': y_pixels});\n",
       "}\n",
       "\n",
       "mpl.figure.prototype.send_message = function(type, properties) {\n",
       "    properties['type'] = type;\n",
       "    properties['figure_id'] = this.id;\n",
       "    this.ws.send(JSON.stringify(properties));\n",
       "}\n",
       "\n",
       "mpl.figure.prototype.send_draw_message = function() {\n",
       "    if (!this.waiting) {\n",
       "        this.waiting = true;\n",
       "        this.ws.send(JSON.stringify({type: \"draw\", figure_id: this.id}));\n",
       "    }\n",
       "}\n",
       "\n",
       "\n",
       "mpl.figure.prototype.handle_save = function(fig, msg) {\n",
       "    var format_dropdown = fig.format_dropdown;\n",
       "    var format = format_dropdown.options[format_dropdown.selectedIndex].value;\n",
       "    fig.ondownload(fig, format);\n",
       "}\n",
       "\n",
       "\n",
       "mpl.figure.prototype.handle_resize = function(fig, msg) {\n",
       "    var size = msg['size'];\n",
       "    if (size[0] != fig.canvas.width || size[1] != fig.canvas.height) {\n",
       "        fig._resize_canvas(size[0], size[1]);\n",
       "        fig.send_message(\"refresh\", {});\n",
       "    };\n",
       "}\n",
       "\n",
       "mpl.figure.prototype.handle_rubberband = function(fig, msg) {\n",
       "    var x0 = msg['x0'] / mpl.ratio;\n",
       "    var y0 = (fig.canvas.height - msg['y0']) / mpl.ratio;\n",
       "    var x1 = msg['x1'] / mpl.ratio;\n",
       "    var y1 = (fig.canvas.height - msg['y1']) / mpl.ratio;\n",
       "    x0 = Math.floor(x0) + 0.5;\n",
       "    y0 = Math.floor(y0) + 0.5;\n",
       "    x1 = Math.floor(x1) + 0.5;\n",
       "    y1 = Math.floor(y1) + 0.5;\n",
       "    var min_x = Math.min(x0, x1);\n",
       "    var min_y = Math.min(y0, y1);\n",
       "    var width = Math.abs(x1 - x0);\n",
       "    var height = Math.abs(y1 - y0);\n",
       "\n",
       "    fig.rubberband_context.clearRect(\n",
       "        0, 0, fig.canvas.width, fig.canvas.height);\n",
       "\n",
       "    fig.rubberband_context.strokeRect(min_x, min_y, width, height);\n",
       "}\n",
       "\n",
       "mpl.figure.prototype.handle_figure_label = function(fig, msg) {\n",
       "    // Updates the figure title.\n",
       "    fig.header.textContent = msg['label'];\n",
       "}\n",
       "\n",
       "mpl.figure.prototype.handle_cursor = function(fig, msg) {\n",
       "    var cursor = msg['cursor'];\n",
       "    switch(cursor)\n",
       "    {\n",
       "    case 0:\n",
       "        cursor = 'pointer';\n",
       "        break;\n",
       "    case 1:\n",
       "        cursor = 'default';\n",
       "        break;\n",
       "    case 2:\n",
       "        cursor = 'crosshair';\n",
       "        break;\n",
       "    case 3:\n",
       "        cursor = 'move';\n",
       "        break;\n",
       "    }\n",
       "    fig.rubberband_canvas.style.cursor = cursor;\n",
       "}\n",
       "\n",
       "mpl.figure.prototype.handle_message = function(fig, msg) {\n",
       "    fig.message.textContent = msg['message'];\n",
       "}\n",
       "\n",
       "mpl.figure.prototype.handle_draw = function(fig, msg) {\n",
       "    // Request the server to send over a new figure.\n",
       "    fig.send_draw_message();\n",
       "}\n",
       "\n",
       "mpl.figure.prototype.handle_image_mode = function(fig, msg) {\n",
       "    fig.image_mode = msg['mode'];\n",
       "}\n",
       "\n",
       "mpl.figure.prototype.updated_canvas_event = function() {\n",
       "    // Called whenever the canvas gets updated.\n",
       "    this.send_message(\"ack\", {});\n",
       "}\n",
       "\n",
       "// A function to construct a web socket function for onmessage handling.\n",
       "// Called in the figure constructor.\n",
       "mpl.figure.prototype._make_on_message_function = function(fig) {\n",
       "    return function socket_on_message(evt) {\n",
       "        if (evt.data instanceof Blob) {\n",
       "            /* FIXME: We get \"Resource interpreted as Image but\n",
       "             * transferred with MIME type text/plain:\" errors on\n",
       "             * Chrome.  But how to set the MIME type?  It doesn't seem\n",
       "             * to be part of the websocket stream */\n",
       "            evt.data.type = \"image/png\";\n",
       "\n",
       "            /* Free the memory for the previous frames */\n",
       "            if (fig.imageObj.src) {\n",
       "                (window.URL || window.webkitURL).revokeObjectURL(\n",
       "                    fig.imageObj.src);\n",
       "            }\n",
       "\n",
       "            fig.imageObj.src = (window.URL || window.webkitURL).createObjectURL(\n",
       "                evt.data);\n",
       "            fig.updated_canvas_event();\n",
       "            fig.waiting = false;\n",
       "            return;\n",
       "        }\n",
       "        else if (typeof evt.data === 'string' && evt.data.slice(0, 21) == \"data:image/png;base64\") {\n",
       "            fig.imageObj.src = evt.data;\n",
       "            fig.updated_canvas_event();\n",
       "            fig.waiting = false;\n",
       "            return;\n",
       "        }\n",
       "\n",
       "        var msg = JSON.parse(evt.data);\n",
       "        var msg_type = msg['type'];\n",
       "\n",
       "        // Call the  \"handle_{type}\" callback, which takes\n",
       "        // the figure and JSON message as its only arguments.\n",
       "        try {\n",
       "            var callback = fig[\"handle_\" + msg_type];\n",
       "        } catch (e) {\n",
       "            console.log(\"No handler for the '\" + msg_type + \"' message type: \", msg);\n",
       "            return;\n",
       "        }\n",
       "\n",
       "        if (callback) {\n",
       "            try {\n",
       "                // console.log(\"Handling '\" + msg_type + \"' message: \", msg);\n",
       "                callback(fig, msg);\n",
       "            } catch (e) {\n",
       "                console.log(\"Exception inside the 'handler_\" + msg_type + \"' callback:\", e, e.stack, msg);\n",
       "            }\n",
       "        }\n",
       "    };\n",
       "}\n",
       "\n",
       "// from http://stackoverflow.com/questions/1114465/getting-mouse-location-in-canvas\n",
       "mpl.findpos = function(e) {\n",
       "    //this section is from http://www.quirksmode.org/js/events_properties.html\n",
       "    var targ;\n",
       "    if (!e)\n",
       "        e = window.event;\n",
       "    if (e.target)\n",
       "        targ = e.target;\n",
       "    else if (e.srcElement)\n",
       "        targ = e.srcElement;\n",
       "    if (targ.nodeType == 3) // defeat Safari bug\n",
       "        targ = targ.parentNode;\n",
       "\n",
       "    // jQuery normalizes the pageX and pageY\n",
       "    // pageX,Y are the mouse positions relative to the document\n",
       "    // offset() returns the position of the element relative to the document\n",
       "    var x = e.pageX - $(targ).offset().left;\n",
       "    var y = e.pageY - $(targ).offset().top;\n",
       "\n",
       "    return {\"x\": x, \"y\": y};\n",
       "};\n",
       "\n",
       "/*\n",
       " * return a copy of an object with only non-object keys\n",
       " * we need this to avoid circular references\n",
       " * http://stackoverflow.com/a/24161582/3208463\n",
       " */\n",
       "function simpleKeys (original) {\n",
       "  return Object.keys(original).reduce(function (obj, key) {\n",
       "    if (typeof original[key] !== 'object')\n",
       "        obj[key] = original[key]\n",
       "    return obj;\n",
       "  }, {});\n",
       "}\n",
       "\n",
       "mpl.figure.prototype.mouse_event = function(event, name) {\n",
       "    var canvas_pos = mpl.findpos(event)\n",
       "\n",
       "    if (name === 'button_press')\n",
       "    {\n",
       "        this.canvas.focus();\n",
       "        this.canvas_div.focus();\n",
       "    }\n",
       "\n",
       "    var x = canvas_pos.x * mpl.ratio;\n",
       "    var y = canvas_pos.y * mpl.ratio;\n",
       "\n",
       "    this.send_message(name, {x: x, y: y, button: event.button,\n",
       "                             step: event.step,\n",
       "                             guiEvent: simpleKeys(event)});\n",
       "\n",
       "    /* This prevents the web browser from automatically changing to\n",
       "     * the text insertion cursor when the button is pressed.  We want\n",
       "     * to control all of the cursor setting manually through the\n",
       "     * 'cursor' event from matplotlib */\n",
       "    event.preventDefault();\n",
       "    return false;\n",
       "}\n",
       "\n",
       "mpl.figure.prototype._key_event_extra = function(event, name) {\n",
       "    // Handle any extra behaviour associated with a key event\n",
       "}\n",
       "\n",
       "mpl.figure.prototype.key_event = function(event, name) {\n",
       "\n",
       "    // Prevent repeat events\n",
       "    if (name == 'key_press')\n",
       "    {\n",
       "        if (event.which === this._key)\n",
       "            return;\n",
       "        else\n",
       "            this._key = event.which;\n",
       "    }\n",
       "    if (name == 'key_release')\n",
       "        this._key = null;\n",
       "\n",
       "    var value = '';\n",
       "    if (event.ctrlKey && event.which != 17)\n",
       "        value += \"ctrl+\";\n",
       "    if (event.altKey && event.which != 18)\n",
       "        value += \"alt+\";\n",
       "    if (event.shiftKey && event.which != 16)\n",
       "        value += \"shift+\";\n",
       "\n",
       "    value += 'k';\n",
       "    value += event.which.toString();\n",
       "\n",
       "    this._key_event_extra(event, name);\n",
       "\n",
       "    this.send_message(name, {key: value,\n",
       "                             guiEvent: simpleKeys(event)});\n",
       "    return false;\n",
       "}\n",
       "\n",
       "mpl.figure.prototype.toolbar_button_onclick = function(name) {\n",
       "    if (name == 'download') {\n",
       "        this.handle_save(this, null);\n",
       "    } else {\n",
       "        this.send_message(\"toolbar_button\", {name: name});\n",
       "    }\n",
       "};\n",
       "\n",
       "mpl.figure.prototype.toolbar_button_onmouseover = function(tooltip) {\n",
       "    this.message.textContent = tooltip;\n",
       "};\n",
       "mpl.toolbar_items = [[\"Home\", \"Reset original view\", \"fa fa-home icon-home\", \"home\"], [\"Back\", \"Back to  previous view\", \"fa fa-arrow-left icon-arrow-left\", \"back\"], [\"Forward\", \"Forward to next view\", \"fa fa-arrow-right icon-arrow-right\", \"forward\"], [\"\", \"\", \"\", \"\"], [\"Pan\", \"Pan axes with left mouse, zoom with right\", \"fa fa-arrows icon-move\", \"pan\"], [\"Zoom\", \"Zoom to rectangle\", \"fa fa-square-o icon-check-empty\", \"zoom\"], [\"\", \"\", \"\", \"\"], [\"Download\", \"Download plot\", \"fa fa-floppy-o icon-save\", \"download\"]];\n",
       "\n",
       "mpl.extensions = [\"eps\", \"jpeg\", \"pdf\", \"png\", \"ps\", \"raw\", \"svg\", \"tif\"];\n",
       "\n",
       "mpl.default_extension = \"png\";var comm_websocket_adapter = function(comm) {\n",
       "    // Create a \"websocket\"-like object which calls the given IPython comm\n",
       "    // object with the appropriate methods. Currently this is a non binary\n",
       "    // socket, so there is still some room for performance tuning.\n",
       "    var ws = {};\n",
       "\n",
       "    ws.close = function() {\n",
       "        comm.close()\n",
       "    };\n",
       "    ws.send = function(m) {\n",
       "        //console.log('sending', m);\n",
       "        comm.send(m);\n",
       "    };\n",
       "    // Register the callback with on_msg.\n",
       "    comm.on_msg(function(msg) {\n",
       "        //console.log('receiving', msg['content']['data'], msg);\n",
       "        // Pass the mpl event to the overriden (by mpl) onmessage function.\n",
       "        ws.onmessage(msg['content']['data'])\n",
       "    });\n",
       "    return ws;\n",
       "}\n",
       "\n",
       "mpl.mpl_figure_comm = function(comm, msg) {\n",
       "    // This is the function which gets called when the mpl process\n",
       "    // starts-up an IPython Comm through the \"matplotlib\" channel.\n",
       "\n",
       "    var id = msg.content.data.id;\n",
       "    // Get hold of the div created by the display call when the Comm\n",
       "    // socket was opened in Python.\n",
       "    var element = $(\"#\" + id);\n",
       "    var ws_proxy = comm_websocket_adapter(comm)\n",
       "\n",
       "    function ondownload(figure, format) {\n",
       "        window.open(figure.imageObj.src);\n",
       "    }\n",
       "\n",
       "    var fig = new mpl.figure(id, ws_proxy,\n",
       "                           ondownload,\n",
       "                           element.get(0));\n",
       "\n",
       "    // Call onopen now - mpl needs it, as it is assuming we've passed it a real\n",
       "    // web socket which is closed, not our websocket->open comm proxy.\n",
       "    ws_proxy.onopen();\n",
       "\n",
       "    fig.parent_element = element.get(0);\n",
       "    fig.cell_info = mpl.find_output_cell(\"<div id='\" + id + \"'></div>\");\n",
       "    if (!fig.cell_info) {\n",
       "        console.error(\"Failed to find cell for figure\", id, fig);\n",
       "        return;\n",
       "    }\n",
       "\n",
       "    var output_index = fig.cell_info[2]\n",
       "    var cell = fig.cell_info[0];\n",
       "\n",
       "};\n",
       "\n",
       "mpl.figure.prototype.handle_close = function(fig, msg) {\n",
       "    var width = fig.canvas.width/mpl.ratio\n",
       "    fig.root.unbind('remove')\n",
       "\n",
       "    // Update the output cell to use the data from the current canvas.\n",
       "    fig.push_to_output();\n",
       "    var dataURL = fig.canvas.toDataURL();\n",
       "    // Re-enable the keyboard manager in IPython - without this line, in FF,\n",
       "    // the notebook keyboard shortcuts fail.\n",
       "    IPython.keyboard_manager.enable()\n",
       "    $(fig.parent_element).html('<img src=\"' + dataURL + '\" width=\"' + width + '\">');\n",
       "    fig.close_ws(fig, msg);\n",
       "}\n",
       "\n",
       "mpl.figure.prototype.close_ws = function(fig, msg){\n",
       "    fig.send_message('closing', msg);\n",
       "    // fig.ws.close()\n",
       "}\n",
       "\n",
       "mpl.figure.prototype.push_to_output = function(remove_interactive) {\n",
       "    // Turn the data on the canvas into data in the output cell.\n",
       "    var width = this.canvas.width/mpl.ratio\n",
       "    var dataURL = this.canvas.toDataURL();\n",
       "    this.cell_info[1]['text/html'] = '<img src=\"' + dataURL + '\" width=\"' + width + '\">';\n",
       "}\n",
       "\n",
       "mpl.figure.prototype.updated_canvas_event = function() {\n",
       "    // Tell IPython that the notebook contents must change.\n",
       "    IPython.notebook.set_dirty(true);\n",
       "    this.send_message(\"ack\", {});\n",
       "    var fig = this;\n",
       "    // Wait a second, then push the new image to the DOM so\n",
       "    // that it is saved nicely (might be nice to debounce this).\n",
       "    setTimeout(function () { fig.push_to_output() }, 1000);\n",
       "}\n",
       "\n",
       "mpl.figure.prototype._init_toolbar = function() {\n",
       "    var fig = this;\n",
       "\n",
       "    var nav_element = $('<div/>')\n",
       "    nav_element.attr('style', 'width: 100%');\n",
       "    this.root.append(nav_element);\n",
       "\n",
       "    // Define a callback function for later on.\n",
       "    function toolbar_event(event) {\n",
       "        return fig.toolbar_button_onclick(event['data']);\n",
       "    }\n",
       "    function toolbar_mouse_event(event) {\n",
       "        return fig.toolbar_button_onmouseover(event['data']);\n",
       "    }\n",
       "\n",
       "    for(var toolbar_ind in mpl.toolbar_items){\n",
       "        var name = mpl.toolbar_items[toolbar_ind][0];\n",
       "        var tooltip = mpl.toolbar_items[toolbar_ind][1];\n",
       "        var image = mpl.toolbar_items[toolbar_ind][2];\n",
       "        var method_name = mpl.toolbar_items[toolbar_ind][3];\n",
       "\n",
       "        if (!name) { continue; };\n",
       "\n",
       "        var button = $('<button class=\"btn btn-default\" href=\"#\" title=\"' + name + '\"><i class=\"fa ' + image + ' fa-lg\"></i></button>');\n",
       "        button.click(method_name, toolbar_event);\n",
       "        button.mouseover(tooltip, toolbar_mouse_event);\n",
       "        nav_element.append(button);\n",
       "    }\n",
       "\n",
       "    // Add the status bar.\n",
       "    var status_bar = $('<span class=\"mpl-message\" style=\"text-align:right; float: right;\"/>');\n",
       "    nav_element.append(status_bar);\n",
       "    this.message = status_bar[0];\n",
       "\n",
       "    // Add the close button to the window.\n",
       "    var buttongrp = $('<div class=\"btn-group inline pull-right\"></div>');\n",
       "    var button = $('<button class=\"btn btn-mini btn-primary\" href=\"#\" title=\"Stop Interaction\"><i class=\"fa fa-power-off icon-remove icon-large\"></i></button>');\n",
       "    button.click(function (evt) { fig.handle_close(fig, {}); } );\n",
       "    button.mouseover('Stop Interaction', toolbar_mouse_event);\n",
       "    buttongrp.append(button);\n",
       "    var titlebar = this.root.find($('.ui-dialog-titlebar'));\n",
       "    titlebar.prepend(buttongrp);\n",
       "}\n",
       "\n",
       "mpl.figure.prototype._root_extra_style = function(el){\n",
       "    var fig = this\n",
       "    el.on(\"remove\", function(){\n",
       "\tfig.close_ws(fig, {});\n",
       "    });\n",
       "}\n",
       "\n",
       "mpl.figure.prototype._canvas_extra_style = function(el){\n",
       "    // this is important to make the div 'focusable\n",
       "    el.attr('tabindex', 0)\n",
       "    // reach out to IPython and tell the keyboard manager to turn it's self\n",
       "    // off when our div gets focus\n",
       "\n",
       "    // location in version 3\n",
       "    if (IPython.notebook.keyboard_manager) {\n",
       "        IPython.notebook.keyboard_manager.register_events(el);\n",
       "    }\n",
       "    else {\n",
       "        // location in version 2\n",
       "        IPython.keyboard_manager.register_events(el);\n",
       "    }\n",
       "\n",
       "}\n",
       "\n",
       "mpl.figure.prototype._key_event_extra = function(event, name) {\n",
       "    var manager = IPython.notebook.keyboard_manager;\n",
       "    if (!manager)\n",
       "        manager = IPython.keyboard_manager;\n",
       "\n",
       "    // Check for shift+enter\n",
       "    if (event.shiftKey && event.which == 13) {\n",
       "        this.canvas_div.blur();\n",
       "        // select the cell after this one\n",
       "        var index = IPython.notebook.find_cell_index(this.cell_info[0]);\n",
       "        IPython.notebook.select(index + 1);\n",
       "    }\n",
       "}\n",
       "\n",
       "mpl.figure.prototype.handle_save = function(fig, msg) {\n",
       "    fig.ondownload(fig, null);\n",
       "}\n",
       "\n",
       "\n",
       "mpl.find_output_cell = function(html_output) {\n",
       "    // Return the cell and output element which can be found *uniquely* in the notebook.\n",
       "    // Note - this is a bit hacky, but it is done because the \"notebook_saving.Notebook\"\n",
       "    // IPython event is triggered only after the cells have been serialised, which for\n",
       "    // our purposes (turning an active figure into a static one), is too late.\n",
       "    var cells = IPython.notebook.get_cells();\n",
       "    var ncells = cells.length;\n",
       "    for (var i=0; i<ncells; i++) {\n",
       "        var cell = cells[i];\n",
       "        if (cell.cell_type === 'code'){\n",
       "            for (var j=0; j<cell.output_area.outputs.length; j++) {\n",
       "                var data = cell.output_area.outputs[j];\n",
       "                if (data.data) {\n",
       "                    // IPython >= 3 moved mimebundle to data attribute of output\n",
       "                    data = data.data;\n",
       "                }\n",
       "                if (data['text/html'] == html_output) {\n",
       "                    return [cell, data, j];\n",
       "                }\n",
       "            }\n",
       "        }\n",
       "    }\n",
       "}\n",
       "\n",
       "// Register the function which deals with the matplotlib target/channel.\n",
       "// The kernel may be null if the page has been refreshed.\n",
       "if (IPython.notebook.kernel != null) {\n",
       "    IPython.notebook.kernel.comm_manager.register_target('matplotlib', mpl.mpl_figure_comm);\n",
       "}\n"
      ],
      "text/plain": [
       "<IPython.core.display.Javascript object>"
      ]
     },
     "metadata": {},
     "output_type": "display_data"
    },
    {
     "data": {
      "text/html": [
       "<img src=\"data:image/png;base64,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\" width=\"600\">"
      ],
      "text/plain": [
       "<IPython.core.display.HTML object>"
      ]
     },
     "metadata": {},
     "output_type": "display_data"
    },
    {
     "data": {
      "application/vnd.jupyter.widget-view+json": {
       "model_id": "9cef612c5d824f71885ca9d175d0bc86"
      }
     },
     "metadata": {},
     "output_type": "display_data"
    }
   ],
   "source": [
    "# Update the filename and projector resolution here.\n",
    "green_dots_filename = \"green_dots_22.txt\" # projector resolution is (1280, 720)\n",
    "projector_resolution = (1280, 720)   # (rows, columns)\n",
    "#green_dots_filename = \"green_dots_37.txt\" # projector resolution is (1024, 768)\n",
    "#projector_resolution = (1024, 768)   # (rows, columns)\n",
    "\n",
    "# Enter your best parameter estimates here.\n",
    "# Searching an 11 dimensional space can be quite difficult.\n",
    "# The better your estimates, the easier it will be. \n",
    "# Take the time to measure the parameters that can be measured easily.\n",
    "# All distances are in meters, projector_roll and projector_theta are in radians.\n",
    "# The center of the mirror is the origin of the coordinate system.\n",
    "parameters = \\\n",
    "{'animal_y':0.0,\n",
    "'animal_z':0.5,\n",
    "'dome_y':0.0,\n",
    "'dome_z':0.3,\n",
    "'dome_radius':0.7,\n",
    "'mirror_radius':0.2,\n",
    "'projector_y':0.9,\n",
    "'projector_z':0.1,\n",
    "'projector_roll':0.0,\n",
    "'projector_theta':0.2,\n",
    "'projector_vertical_offset':0.1}\n",
    "\n",
    "def value_to_range(value):\n",
    "    return (value - 0.2, value + 0.2, 0.001)\n",
    "ranges = dict([[key, value_to_range(parameters[key])] for key in parameters])\n",
    "\n",
    "psearch = ParameterSearch(green_dots_filename, *projector_resolution)\n",
    "sliders = interactive(psearch.update, **ranges)\n",
    "HBox([VBox(sliders.children[0:4]), VBox(sliders.children[4:8]), VBox(sliders.children[8:])])"
   ]
  },
  {
   "cell_type": "code",
   "execution_count": 51,
   "metadata": {
    "collapsed": false,
    "deletable": true,
    "editable": true
   },
   "outputs": [
    {
     "data": {
      "application/vnd.jupyter.widget-view+json": {
       "model_id": "1258bcdd9687458a923c308f37660aaf"
      }
     },
     "metadata": {},
     "output_type": "display_data"
    }
   ],
   "source": [
    "parameter_file = \"initial_parameters.txt\"\n",
    "button = Button(description = 'Save parameters to ' + parameter_file, button_style='primary')\n",
    "button.on_click(lambda b: save_parameters(b, sliders.kwargs, projector_resolution, parameter_file))\n",
    "button.layout.width = '50%'\n",
    "display(button)"
   ]
  }
 ],
 "metadata": {
  "kernelspec": {
   "display_name": "Python 2",
   "language": "python",
   "name": "python2"
  },
  "language_info": {
   "codemirror_mode": {
    "name": "ipython",
    "version": 2
   },
   "file_extension": ".py",
   "mimetype": "text/x-python",
   "name": "python",
   "nbconvert_exporter": "python",
   "pygments_lexer": "ipython2",
   "version": "2.7.13"
  },
  "widgets": {
   "state": {
    "09875c31a9154ebe87b31b95aa581310": {
     "views": []
    },
    "0b218c22c3e34d0293990f8934fb0bdd": {
     "views": []
    },
    "0caa39bc3dd249dabfdf5af7ffc03d2c": {
     "views": []
    },
    "16657318d91f4c7f91025f8fe3211703": {
     "views": []
    },
    "19379ffaec7f445faa184de24a29ca0e": {
     "views": []
    },
    "1a22ad54c6084ddda91c2ffa6b4153a6": {
     "views": []
    },
    "1c8507f06be84a7dab4e70d5258b41ff": {
     "views": []
    },
    "1cfdaee90ffd4afd9d1e22e5f4503f62": {
     "views": []
    },
    "1fab24a952794e87b44d15b96bc8d505": {
     "views": []
    },
    "21586773f25f4cc795cae7bbf784f128": {
     "views": []
    },
    "23aef5db57334d53850c6501be8494fd": {
     "views": []
    },
    "2687a0396ed8435c9f6f970e04a0cd0b": {
     "views": []
    },
    "281a2a423d634ca8a731f509c746ba8b": {
     "views": []
    },
    "2870fa6771bb431aa758b54caff07f9f": {
     "views": []
    },
    "30ac2fad0e3b43028d16a3e3a41d1837": {
     "views": []
    },
    "42d798bab95f43e689d5fc83cc62f522": {
     "views": []
    },
    "45a45214704d4c379407fc082114addd": {
     "views": []
    },
    "4708e2898cf64bceac2f8d04a89e9387": {
     "views": []
    },
    "4c8fd0979bfc44398708e2a1475a2f9d": {
     "views": []
    },
    "4eb5550a9224451e82f35c997b03e824": {
     "views": []
    },
    "4f62132cac024cbc932f87dc36a8115a": {
     "views": []
    },
    "5213a993d89d4d86b1da4eda2814f7d6": {
     "views": []
    },
    "53baf262e3df422ca4fe94d5b990f3e6": {
     "views": []
    },
    "53c5b59ee38a455ea2141c6da3e67c39": {
     "views": []
    },
    "54632940b4814cc5833dac60cfabc993": {
     "views": []
    },
    "5b4b34d7c9df41f1b62954cf9071969f": {
     "views": []
    },
    "5c5a68c3347444089a8725831f15d771": {
     "views": []
    },
    "5d3453faf1394890ae4012b1afbdb291": {
     "views": []
    },
    "62bdf9e8225d4590909fbb482cd5d980": {
     "views": []
    },
    "637dacb2b0d646fab252c93af5d7cf81": {
     "views": []
    },
    "64a2473426ce4a14bd98e9d94c74480b": {
     "views": []
    },
    "73695ce38a304d189e0876f581193584": {
     "views": []
    },
    "7468713896ff433a9773daa2b9738c91": {
     "views": [
      {
       "cell_index": 4
      }
     ]
    },
    "74a79ac07b094b79b822849cbf772e41": {
     "views": []
    },
    "77f8f15980034c818fa80154dbd184b4": {
     "views": []
    },
    "795380a83f9c4aae9f25cb070eff9cde": {
     "views": []
    },
    "7eb1093d13e347c6b3e63c1b62630b65": {
     "views": []
    },
    "7f808f1884c842db8d4b571cd3ea5c89": {
     "views": []
    },
    "7f99eee3712f48b9a384f5e799a7aff5": {
     "views": []
    },
    "80cc3cde94374073b4179e6bc74bb950": {
     "views": []
    },
    "86eb803d08eb4ad3b57273fd022719e3": {
     "views": []
    },
    "899aec350d1e4c61a46faa84639079ac": {
     "views": []
    },
    "8af7b623e59b48df843c756c6a9d91d2": {
     "views": []
    },
    "8f6cdd0f0f1041e486b4a71edb7941be": {
     "views": []
    },
    "943a74b8fb9e4207bbf97d8576813df4": {
     "views": []
    },
    "95216e4bf8814cda932c5727db2b4320": {
     "views": []
    },
    "99bdbd2c7b7042f296acca1b916bd07b": {
     "views": []
    },
    "9d19ef372de6457a88ca0b4fa29282e5": {
     "views": []
    },
    "9db0a82b90964442bef67700c98efcc0": {
     "views": []
    },
    "9deb97b921cb44d8bbd746eafcfd5431": {
     "views": []
    },
    "9e1652931c214cfa9de2b9381315e64a": {
     "views": []
    },
    "9ebbb557c35e44c9a45242a59a82a7b0": {
     "views": []
    },
    "a4e55514c07d46508d9dd474959a23e5": {
     "views": []
    },
    "a7ed85ff16d444678abc04fc815c8cb7": {
     "views": []
    },
    "a98063fab26b4f7c989a6fca0e56d08e": {
     "views": []
    },
    "a9d281072eb6440ca874493b1712aac6": {
     "views": []
    },
    "aaa1cb8f0059400e8d30844cebde4484": {
     "views": []
    },
    "ae45ca9971e24a579e6a9126368fcbb1": {
     "views": []
    },
    "b043edf61cea472694c2d82d8aa35a6d": {
     "views": []
    },
    "b1271f2d2c644ad1a194e970983ef435": {
     "views": []
    },
    "b669990a6fc54e6dbfef4d8e4abbe7c0": {
     "views": []
    },
    "b711babe10ef46cc84e1ec3a2baa6eab": {
     "views": []
    },
    "b96dadab4a2342439ba476c10bb1a05a": {
     "views": []
    },
    "b9833e79a8414525b9c5fa23e77f85ad": {
     "views": []
    },
    "babf49f7ddc04d02baa3b291939b7f50": {
     "views": []
    },
    "bc125551485f490d8a03632da6188b89": {
     "views": []
    },
    "c14a52d76d0b445fbef1f4ba0e90226a": {
     "views": []
    },
    "c1d1056c702b4747b5c6513fd157bb69": {
     "views": []
    },
    "c298d19cf5f84be2b64dcc8ae067b439": {
     "views": []
    },
    "c32f29a97aae42ce94adf7f0bea94c8d": {
     "views": []
    },
    "c45ce6271d6f4df682d82c771dcf1cee": {
     "views": []
    },
    "c5a5816eada4469dbac8ddcdb68e222c": {
     "views": []
    },
    "cd6cd3d8b2174b7896e3fddcd26f4d82": {
     "views": []
    },
    "cf9b71ee09aa41f99f36268b1078b318": {
     "views": []
    },
    "d1d8d1f104f44b919b3f753b06499045": {
     "views": []
    },
    "d1e8653990fc4810a2a45cf881a62856": {
     "views": []
    },
    "d4414b06d00c45899b9d347586d0a1bf": {
     "views": []
    },
    "d5c97b5e342a4f79b728014a68b2d60e": {
     "views": []
    },
    "de12cf83f3364558b1f577cc323030b4": {
     "views": []
    },
    "e1129aa7db814714a754a443d9c149a1": {
     "views": []
    },
    "e266bf467a734d029633d1b4b4b4900f": {
     "views": []
    },
    "e39dea2a6a9547bd8128263817de37d4": {
     "views": []
    },
    "e3e9900514054a57a219a3029859ece7": {
     "views": []
    },
    "e506bc49e1b84fa4aa996a4f60c81508": {
     "views": []
    },
    "ecf35cde496248e99ba9c9f3faccd7cc": {
     "views": []
    },
    "edd39dec0b54401f9aac3d90b027dd56": {
     "views": []
    },
    "ef1de0aa8bf2487f8bc00369b4438341": {
     "views": []
    },
    "efd55004b06b4005bb749705ee480be4": {
     "views": []
    },
    "f1628ae1ec704cd2953052c6a8121d19": {
     "views": []
    },
    "f38107dbcb1f44949ba385bfa5e8325f": {
     "views": []
    },
    "f5831828c0754611a7f2bfb5d2ef3a1f": {
     "views": []
    },
    "f750644b1806413bbd406f60059ee994": {
     "views": []
    },
    "fd7a4ef7e0d745eb955841782e058329": {
     "views": []
    },
    "fda9688ff83e41d7bcb5b54ca57d3505": {
     "views": []
    },
    "fdd434b0b9644f22bc48b9969d42625c": {
     "views": []
    },
    "fdda403506144d25917ee6ae49e498e3": {
     "views": []
    }
   },
   "version": "1.1.2"
  }
 },
 "nbformat": 4,
 "nbformat_minor": 0
}
