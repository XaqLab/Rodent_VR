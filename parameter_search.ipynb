{
 "cells": [
  {
   "cell_type": "code",
   "execution_count": 28,
   "metadata": {
    "collapsed": false
   },
   "outputs": [],
   "source": [
    "from bokeh.plotting import output_notebook\n",
    "from parameter_search import ParameterSearch\n",
    "from ipywidgets import interactive, HBox, FloatSlider\n",
    "from IPython.display import display"
   ]
  },
  {
   "cell_type": "code",
   "execution_count": 29,
   "metadata": {
    "collapsed": false
   },
   "outputs": [
    {
     "data": {
      "text/html": [
       "\n",
       "    <div class=\"bk-banner\">\n",
       "        <a href=\"http://bokeh.pydata.org\" target=\"_blank\" class=\"bk-logo bk-logo-small bk-logo-notebook\"></a>\n",
       "        <span id=\"abd373d1-745a-4f6e-9c6e-7859fb273961\">Loading BokehJS ...</span>\n",
       "    </div>"
      ]
     },
     "metadata": {},
     "output_type": "display_data"
    },
    {
     "data": {
      "application/javascript": [
       "\n",
       "(function(global) {\n",
       "  function now() {\n",
       "    return new Date();\n",
       "  }\n",
       "\n",
       "  if (typeof (window._bokeh_onload_callbacks) === \"undefined\") {\n",
       "    window._bokeh_onload_callbacks = [];\n",
       "  }\n",
       "\n",
       "  function run_callbacks() {\n",
       "    window._bokeh_onload_callbacks.forEach(function(callback) { callback() });\n",
       "    delete window._bokeh_onload_callbacks\n",
       "    console.info(\"Bokeh: all callbacks have finished\");\n",
       "  }\n",
       "\n",
       "  function load_libs(js_urls, callback) {\n",
       "    window._bokeh_onload_callbacks.push(callback);\n",
       "    if (window._bokeh_is_loading > 0) {\n",
       "      console.log(\"Bokeh: BokehJS is being loaded, scheduling callback at\", now());\n",
       "      return null;\n",
       "    }\n",
       "    if (js_urls == null || js_urls.length === 0) {\n",
       "      run_callbacks();\n",
       "      return null;\n",
       "    }\n",
       "    console.log(\"Bokeh: BokehJS not loaded, scheduling load and callback at\", now());\n",
       "    window._bokeh_is_loading = js_urls.length;\n",
       "    for (var i = 0; i < js_urls.length; i++) {\n",
       "      var url = js_urls[i];\n",
       "      var s = document.createElement('script');\n",
       "      s.src = url;\n",
       "      s.async = false;\n",
       "      s.onreadystatechange = s.onload = function() {\n",
       "        window._bokeh_is_loading--;\n",
       "        if (window._bokeh_is_loading === 0) {\n",
       "          console.log(\"Bokeh: all BokehJS libraries loaded\");\n",
       "          run_callbacks()\n",
       "        }\n",
       "      };\n",
       "      s.onerror = function() {\n",
       "        console.warn(\"failed to load library \" + url);\n",
       "      };\n",
       "      console.log(\"Bokeh: injecting script tag for BokehJS library: \", url);\n",
       "      document.getElementsByTagName(\"head\")[0].appendChild(s);\n",
       "    }\n",
       "  };\n",
       "\n",
       "  var js_urls = ['https://cdn.pydata.org/bokeh/release/bokeh-0.11.1.min.js', 'https://cdn.pydata.org/bokeh/release/bokeh-widgets-0.11.1.min.js', 'https://cdn.pydata.org/bokeh/release/bokeh-compiler-0.11.1.min.js'];\n",
       "\n",
       "  var inline_js = [\n",
       "    function(Bokeh) {\n",
       "      Bokeh.set_log_level(\"info\");\n",
       "    },\n",
       "    \n",
       "    function(Bokeh) {\n",
       "      Bokeh.$(\"#abd373d1-745a-4f6e-9c6e-7859fb273961\").text(\"BokehJS successfully loaded\");\n",
       "    },\n",
       "    function(Bokeh) {\n",
       "      console.log(\"Bokeh: injecting CSS: https://cdn.pydata.org/bokeh/release/bokeh-0.11.1.min.css\");\n",
       "      Bokeh.embed.inject_css(\"https://cdn.pydata.org/bokeh/release/bokeh-0.11.1.min.css\");\n",
       "      console.log(\"Bokeh: injecting CSS: https://cdn.pydata.org/bokeh/release/bokeh-widgets-0.11.1.min.css\");\n",
       "      Bokeh.embed.inject_css(\"https://cdn.pydata.org/bokeh/release/bokeh-widgets-0.11.1.min.css\");\n",
       "    }\n",
       "  ];\n",
       "\n",
       "  function run_inline_js() {\n",
       "    for (var i = 0; i < inline_js.length; i++) {\n",
       "      inline_js[i](window.Bokeh);\n",
       "    }\n",
       "  }\n",
       "\n",
       "  if (window._bokeh_is_loading === 0) {\n",
       "    console.log(\"Bokeh: BokehJS loaded, going straight to plotting\");\n",
       "    run_inline_js();\n",
       "  } else {\n",
       "    load_libs(js_urls, function() {\n",
       "      console.log(\"Bokeh: BokehJS plotting callback run at\", now());\n",
       "      run_inline_js();\n",
       "    });\n",
       "  }\n",
       "}(this));"
      ]
     },
     "metadata": {},
     "output_type": "display_data"
    }
   ],
   "source": [
    "output_notebook()"
   ]
  },
  {
   "cell_type": "code",
   "execution_count": 30,
   "metadata": {
    "collapsed": false
   },
   "outputs": [
    {
     "data": {
      "text/html": [
       "\n",
       "\n",
       "    <div class=\"plotdiv\" id=\"88c85b7f-08a9-442f-863f-65f48021450a\"></div>\n",
       "<script type=\"text/javascript\">\n",
       "  \n",
       "  (function(global) {\n",
       "    function now() {\n",
       "      return new Date();\n",
       "    }\n",
       "  \n",
       "    if (typeof (window._bokeh_onload_callbacks) === \"undefined\") {\n",
       "      window._bokeh_onload_callbacks = [];\n",
       "    }\n",
       "  \n",
       "    function run_callbacks() {\n",
       "      window._bokeh_onload_callbacks.forEach(function(callback) { callback() });\n",
       "      delete window._bokeh_onload_callbacks\n",
       "      console.info(\"Bokeh: all callbacks have finished\");\n",
       "    }\n",
       "  \n",
       "    function load_libs(js_urls, callback) {\n",
       "      window._bokeh_onload_callbacks.push(callback);\n",
       "      if (window._bokeh_is_loading > 0) {\n",
       "        console.log(\"Bokeh: BokehJS is being loaded, scheduling callback at\", now());\n",
       "        return null;\n",
       "      }\n",
       "      if (js_urls == null || js_urls.length === 0) {\n",
       "        run_callbacks();\n",
       "        return null;\n",
       "      }\n",
       "      console.log(\"Bokeh: BokehJS not loaded, scheduling load and callback at\", now());\n",
       "      window._bokeh_is_loading = js_urls.length;\n",
       "      for (var i = 0; i < js_urls.length; i++) {\n",
       "        var url = js_urls[i];\n",
       "        var s = document.createElement('script');\n",
       "        s.src = url;\n",
       "        s.async = false;\n",
       "        s.onreadystatechange = s.onload = function() {\n",
       "          window._bokeh_is_loading--;\n",
       "          if (window._bokeh_is_loading === 0) {\n",
       "            console.log(\"Bokeh: all BokehJS libraries loaded\");\n",
       "            run_callbacks()\n",
       "          }\n",
       "        };\n",
       "        s.onerror = function() {\n",
       "          console.warn(\"failed to load library \" + url);\n",
       "        };\n",
       "        console.log(\"Bokeh: injecting script tag for BokehJS library: \", url);\n",
       "        document.getElementsByTagName(\"head\")[0].appendChild(s);\n",
       "      }\n",
       "    };var element = document.getElementById(\"88c85b7f-08a9-442f-863f-65f48021450a\");\n",
       "    if (element == null) {\n",
       "      console.log(\"Bokeh: ERROR: autoload.js configured with elementid '88c85b7f-08a9-442f-863f-65f48021450a' but no matching script tag was found. \")\n",
       "      return false;\n",
       "    }\n",
       "  \n",
       "    var js_urls = [];\n",
       "  \n",
       "    var inline_js = [\n",
       "      function(Bokeh) {\n",
       "        Bokeh.$(function() {\n",
       "            var docs_json = {\"1382f3e4-b6b7-47b3-b3e9-8ffa7767fabe\":{\"roots\":{\"references\":[{\"attributes\":{\"callback\":null,\"end\":100,\"start\":-10},\"id\":\"b25c7b33-148d-4f9b-8e31-d3fd1046cc5e\",\"type\":\"Range1d\"},{\"attributes\":{\"fill_color\":{\"value\":\"#1f77b4\"},\"line_color\":{\"value\":\"#1f77b4\"},\"x\":{\"field\":\"x\"},\"y\":{\"field\":\"y\"}},\"id\":\"a1bd146d-da85-4bbc-b4ec-10832a73b365\",\"type\":\"Circle\"},{\"attributes\":{\"formatter\":{\"id\":\"e5c37d90-b541-4ae1-90e2-221e21240638\",\"type\":\"BasicTickFormatter\"},\"plot\":{\"id\":\"ec586361-2fc8-4adf-bdc2-4c6cc58f6644\",\"subtype\":\"Figure\",\"type\":\"Plot\"},\"ticker\":{\"id\":\"c474f834-d3b0-4dca-b69d-b3a3cd3df647\",\"type\":\"SingleIntervalTicker\"}},\"id\":\"443895f0-6705-4b27-b4e0-ba053fdc23dd\",\"type\":\"LinearAxis\"},{\"attributes\":{\"plot\":{\"id\":\"c044f4f9-bd2b-40f4-967a-5565083ce464\",\"subtype\":\"Figure\",\"type\":\"Plot\"}},\"id\":\"6798c534-aa7a-45d3-9129-d169f1f476e4\",\"type\":\"WheelZoomTool\"},{\"attributes\":{\"interval\":30},\"id\":\"7c89266e-7e74-4836-ac03-9114ced95588\",\"type\":\"SingleIntervalTicker\"},{\"attributes\":{\"overlay\":{\"id\":\"3aab639d-22e7-49f6-8a42-ef9e167142fa\",\"type\":\"BoxAnnotation\"},\"plot\":{\"id\":\"11bf1221-fae1-4743-920f-0a48e3117bc5\",\"subtype\":\"Figure\",\"type\":\"Plot\"}},\"id\":\"9c74114a-d51d-466c-bba0-328aa1119c68\",\"type\":\"BoxZoomTool\"},{\"attributes\":{\"fill_alpha\":{\"value\":0.1},\"fill_color\":{\"value\":\"#1f77b4\"},\"line_alpha\":{\"value\":0.1},\"line_color\":{\"value\":\"#1f77b4\"},\"x\":{\"field\":\"x\"},\"y\":{\"field\":\"y\"}},\"id\":\"81d26354-b23a-4482-9fcd-ee6abcc8e815\",\"type\":\"Circle\"},{\"attributes\":{\"fill_color\":{\"value\":\"#1f77b4\"},\"line_color\":{\"value\":\"#1f77b4\"},\"x\":{\"field\":\"x\"},\"y\":{\"field\":\"y\"}},\"id\":\"369772ba-b7cd-4846-be3e-977d1b00995a\",\"type\":\"Circle\"},{\"attributes\":{\"fill_alpha\":{\"value\":0.1},\"fill_color\":{\"value\":\"#1f77b4\"},\"line_alpha\":{\"value\":0.1},\"line_color\":{\"value\":\"#1f77b4\"},\"x\":{\"field\":\"x\"},\"y\":{\"field\":\"y\"}},\"id\":\"cd5b7bf0-f0d6-4d12-9856-e0d2fd87dbaf\",\"type\":\"Circle\"},{\"attributes\":{\"interval\":30},\"id\":\"dc502d9c-40a1-404f-ab9b-410ed8247491\",\"type\":\"SingleIntervalTicker\"},{\"attributes\":{\"data_source\":{\"id\":\"7d6c30da-4584-4ed8-948f-c9df2437f98b\",\"type\":\"ColumnDataSource\"},\"glyph\":{\"id\":\"1d225593-654a-4629-8f36-7994f18b0786\",\"type\":\"Circle\"},\"hover_glyph\":null,\"nonselection_glyph\":{\"id\":\"ffacb86a-615b-4c1c-a633-4b59cbb505c7\",\"type\":\"Circle\"},\"selection_glyph\":null},\"id\":\"52c3c663-3ebc-411c-af70-7e60e70114d1\",\"type\":\"GlyphRenderer\"},{\"attributes\":{\"data_source\":{\"id\":\"6a3b3cb8-9c54-4c6a-bfdd-41d31ef34c9d\",\"type\":\"ColumnDataSource\"},\"glyph\":{\"id\":\"2884ff8f-65fd-4093-b433-ebf738adf130\",\"type\":\"Circle\"},\"hover_glyph\":null,\"nonselection_glyph\":{\"id\":\"81d26354-b23a-4482-9fcd-ee6abcc8e815\",\"type\":\"Circle\"},\"selection_glyph\":null},\"id\":\"cf41da49-d61b-447b-ab79-f897afdad882\",\"type\":\"GlyphRenderer\"},{\"attributes\":{\"plot\":{\"id\":\"6174c9c8-19ef-4ff2-81e0-889c86fe16d7\",\"subtype\":\"Figure\",\"type\":\"Plot\"}},\"id\":\"deaf7fb8-8cc0-48f5-a00f-3e7ee808e2df\",\"type\":\"ResetTool\"},{\"attributes\":{\"plot\":{\"id\":\"fe0f3cec-0bdd-4307-9a05-65da70431427\",\"subtype\":\"Figure\",\"type\":\"Plot\"}},\"id\":\"8040a91b-9bb5-4131-8680-cbed2fc4fab8\",\"type\":\"PreviewSaveTool\"},{\"attributes\":{\"interval\":30},\"id\":\"0b072494-ebd2-421e-883a-50639983523f\",\"type\":\"SingleIntervalTicker\"},{\"attributes\":{},\"id\":\"a8f9488a-d158-4a43-b403-5eff65216232\",\"type\":\"BasicTickFormatter\"},{\"attributes\":{\"formatter\":{\"id\":\"e6c89b83-9f56-44a2-bdaf-c22dca960c46\",\"type\":\"BasicTickFormatter\"},\"plot\":{\"id\":\"6174c9c8-19ef-4ff2-81e0-889c86fe16d7\",\"subtype\":\"Figure\",\"type\":\"Plot\"},\"ticker\":{\"id\":\"dc502d9c-40a1-404f-ab9b-410ed8247491\",\"type\":\"SingleIntervalTicker\"}},\"id\":\"c2b642a7-2c2c-4447-8dca-8e065de61bed\",\"type\":\"LinearAxis\"},{\"attributes\":{\"callback\":null,\"column_names\":[\"y\",\"x\"],\"data\":{\"x\":[-125.32448305207686,-92.12059880409173,-61.835094093754584,-30.508135786327173,-1.4365200407550365,28.63663368097728,57.230428117749625,88.19125194887656,-90.90517141964227,-60.325413828742036,-30.496581730860168,0.11949914134856174,29.89495317665414,58.538756777884046,87.52645907807198,-91.47139485502595,-61.385587317916176,-30.29912319361756,0.32932982887901263,31.064217457801874,59.81995862115585,87.02786748132048],\"y\":[88.1852099470132,58.668602188904536,59.068764599078136,59.194236415001306,59.46893584670783,60.03079205426097,61.31310796231109,62.72566976637801,29.249650008043034,29.615985528580108,30.023401882021485,29.510087851769647,29.353430791121077,29.979150753010323,31.888388787341146,-1.1598313488537857,-0.3749696957999505,0.4948917891524836,0.6737733110207215,0.15209361693304066,-0.27917963363116627,1.4247087461805026]}},\"id\":\"6a3b3cb8-9c54-4c6a-bfdd-41d31ef34c9d\",\"type\":\"ColumnDataSource\"},{\"attributes\":{\"data_source\":{\"id\":\"9142c33b-8cbe-4046-aba2-df3777c2346c\",\"type\":\"ColumnDataSource\"},\"glyph\":{\"id\":\"49769c2d-5e1b-48fb-b468-2e8e23828702\",\"type\":\"Circle\"},\"hover_glyph\":null,\"nonselection_glyph\":{\"id\":\"947c1190-95c0-4659-8106-234ea719bf1d\",\"type\":\"Circle\"},\"selection_glyph\":null},\"id\":\"ae96b287-d073-46df-99ab-119231333abe\",\"type\":\"GlyphRenderer\"},{\"attributes\":{\"formatter\":{\"id\":\"c2f3b6c0-f01a-4ec0-8bae-4ad04cb13e0a\",\"type\":\"BasicTickFormatter\"},\"plot\":{\"id\":\"fe0f3cec-0bdd-4307-9a05-65da70431427\",\"subtype\":\"Figure\",\"type\":\"Plot\"},\"ticker\":{\"id\":\"dfba2e74-d5b0-40ae-b002-5764bb20fdb9\",\"type\":\"SingleIntervalTicker\"}},\"id\":\"75c62805-ddf0-4a5c-a11f-87d123baeb8e\",\"type\":\"LinearAxis\"},{\"attributes\":{\"fill_alpha\":{\"value\":0.1},\"fill_color\":{\"value\":\"#1f77b4\"},\"line_alpha\":{\"value\":0.1},\"line_color\":{\"value\":\"#1f77b4\"},\"x\":{\"field\":\"x\"},\"y\":{\"field\":\"y\"}},\"id\":\"1893fbce-889e-4a22-8b3a-4a6f971a2996\",\"type\":\"Circle\"},{\"attributes\":{\"plot\":{\"id\":\"ec586361-2fc8-4adf-bdc2-4c6cc58f6644\",\"subtype\":\"Figure\",\"type\":\"Plot\"}},\"id\":\"4806ad47-d06d-4855-b2bc-ec7e6947b979\",\"type\":\"WheelZoomTool\"},{\"attributes\":{\"data_source\":{\"id\":\"109583ef-ea16-40b5-907c-3c1616314738\",\"type\":\"ColumnDataSource\"},\"glyph\":{\"id\":\"b680afd3-7254-423e-a18a-4f516efdeac9\",\"type\":\"Circle\"},\"hover_glyph\":null,\"nonselection_glyph\":{\"id\":\"dc1df696-8e0d-41c8-9c37-3d2e1d1f8a10\",\"type\":\"Circle\"},\"selection_glyph\":null},\"id\":\"ec245060-acba-47ef-8dae-7e8efc28e931\",\"type\":\"GlyphRenderer\"},{\"attributes\":{\"fill_alpha\":{\"value\":0.1},\"fill_color\":{\"value\":\"#1f77b4\"},\"line_alpha\":{\"value\":0.1},\"line_color\":{\"value\":\"#1f77b4\"},\"x\":{\"field\":\"x\"},\"y\":{\"field\":\"y\"}},\"id\":\"3ab07aff-da41-486b-999b-4577bb7a4d0c\",\"type\":\"Circle\"},{\"attributes\":{\"data_source\":{\"id\":\"33cadbb4-231e-4e32-95fd-3432af6f95c0\",\"type\":\"ColumnDataSource\"},\"glyph\":{\"id\":\"2f44949c-1b40-4f4a-bde3-779213278e59\",\"type\":\"Circle\"},\"hover_glyph\":null,\"nonselection_glyph\":{\"id\":\"38a3ec1e-e1a2-4382-8ad4-66f4f158e943\",\"type\":\"Circle\"},\"selection_glyph\":null},\"id\":\"1d296ed5-fb4f-4e57-822d-d094bb5da971\",\"type\":\"GlyphRenderer\"},{\"attributes\":{\"callback\":null,\"column_names\":[\"y\",\"x\"],\"data\":{\"x\":[0.0,90.0,-173.1567396759237,-173.4741204262359,-179.8264183891671,173.61164533536845,173.214801472022,-90.0,90.0,-149.73596873867777,-136.72057224889872,178.88008718117257,132.36854783709876,147.18956819943247,167.29861975802856,-149.28692923331994,-106.61993869168394,-54.47184649678753,0.26284938804940344,53.49525014476199,100.94947404796535,142.55334864922412],\"y\":[-90.0,-59.99999999999999,-8.699279517735617,12.700306599435546,19.770651131950128,12.902918987817683,-5.839726605352639,-59.99999999999999,-29.999999999999996,22.06087898614952,55.197271360847054,79.28758631665615,57.2023214809498,25.66815922731158,-16.14175378482436,-5.04458503991227,27.51518353910096,43.49700477954528,46.99047549929026,42.08026129885375,28.91907493826796,3.1348449007319816]}},\"id\":\"33cadbb4-231e-4e32-95fd-3432af6f95c0\",\"type\":\"ColumnDataSource\"},{\"attributes\":{\"dimension\":1,\"plot\":{\"id\":\"6174c9c8-19ef-4ff2-81e0-889c86fe16d7\",\"subtype\":\"Figure\",\"type\":\"Plot\"},\"ticker\":{\"id\":\"c3b59af6-b1ee-4d87-8acd-e13baf47d016\",\"type\":\"SingleIntervalTicker\"}},\"id\":\"9c629375-112f-46c8-ba8d-d07895648c34\",\"type\":\"Grid\"},{\"attributes\":{\"fill_alpha\":{\"value\":0.1},\"fill_color\":{\"value\":\"#1f77b4\"},\"line_alpha\":{\"value\":0.1},\"line_color\":{\"value\":\"#1f77b4\"},\"x\":{\"field\":\"x\"},\"y\":{\"field\":\"y\"}},\"id\":\"dc1df696-8e0d-41c8-9c37-3d2e1d1f8a10\",\"type\":\"Circle\"},{\"attributes\":{\"plot\":{\"id\":\"c044f4f9-bd2b-40f4-967a-5565083ce464\",\"subtype\":\"Figure\",\"type\":\"Plot\"}},\"id\":\"aa2dabc2-fddd-4eed-af2a-458c220ea081\",\"type\":\"PreviewSaveTool\"},{\"attributes\":{\"formatter\":{\"id\":\"ba358161-bfcf-4d84-9826-feda963eb2b7\",\"type\":\"BasicTickFormatter\"},\"plot\":{\"id\":\"c044f4f9-bd2b-40f4-967a-5565083ce464\",\"subtype\":\"Figure\",\"type\":\"Plot\"},\"ticker\":{\"id\":\"81104606-cebc-4527-96fe-2750145719ce\",\"type\":\"SingleIntervalTicker\"}},\"id\":\"d6b0d3fa-5208-4570-930e-4400a75b53b8\",\"type\":\"LinearAxis\"},{\"attributes\":{\"callback\":null,\"end\":100,\"start\":-100},\"id\":\"93a7bc46-64bc-4309-ae13-eeb6cee27928\",\"type\":\"Range1d\"},{\"attributes\":{\"plot\":{\"id\":\"6174c9c8-19ef-4ff2-81e0-889c86fe16d7\",\"subtype\":\"Figure\",\"type\":\"Plot\"},\"ticker\":{\"id\":\"c3b59af6-b1ee-4d87-8acd-e13baf47d016\",\"type\":\"SingleIntervalTicker\"}},\"id\":\"2f7049e0-ff41-4e8a-8a09-c568c6f2a8fb\",\"type\":\"Grid\"},{\"attributes\":{\"plot\":{\"id\":\"6174c9c8-19ef-4ff2-81e0-889c86fe16d7\",\"subtype\":\"Figure\",\"type\":\"Plot\"}},\"id\":\"213696ab-a078-4fc6-a8fe-52fe7a605351\",\"type\":\"PanTool\"},{\"attributes\":{\"plot\":{\"id\":\"c044f4f9-bd2b-40f4-967a-5565083ce464\",\"subtype\":\"Figure\",\"type\":\"Plot\"},\"ticker\":{\"id\":\"0b072494-ebd2-421e-883a-50639983523f\",\"type\":\"SingleIntervalTicker\"}},\"id\":\"93afdadc-6540-41fd-911f-c75b5803b843\",\"type\":\"Grid\"},{\"attributes\":{\"fill_color\":{\"value\":\"orange\"},\"line_color\":{\"value\":\"orange\"},\"x\":{\"field\":\"x\"},\"y\":{\"field\":\"y\"}},\"id\":\"2884ff8f-65fd-4093-b433-ebf738adf130\",\"type\":\"Circle\"},{\"attributes\":{\"data_source\":{\"id\":\"43cf3cb7-567a-4038-b430-9a6267516fa9\",\"type\":\"ColumnDataSource\"},\"glyph\":{\"id\":\"369772ba-b7cd-4846-be3e-977d1b00995a\",\"type\":\"Circle\"},\"hover_glyph\":null,\"nonselection_glyph\":{\"id\":\"2371c423-b3e3-4267-a31b-69a16110e672\",\"type\":\"Circle\"},\"selection_glyph\":null},\"id\":\"e7b020f8-997f-4a68-be37-3a5765a8bb1d\",\"type\":\"GlyphRenderer\"},{\"attributes\":{\"callback\":null,\"end\":100,\"start\":-10},\"id\":\"bfe344b3-2d0d-4be6-9d58-61950970c042\",\"type\":\"Range1d\"},{\"attributes\":{\"plot\":{\"id\":\"fe0f3cec-0bdd-4307-9a05-65da70431427\",\"subtype\":\"Figure\",\"type\":\"Plot\"},\"ticker\":{\"id\":\"28d182d4-ecfe-4840-a54d-b74863735281\",\"type\":\"SingleIntervalTicker\"}},\"id\":\"afde2412-008c-411e-b060-6cd3d095de0c\",\"type\":\"Grid\"},{\"attributes\":{\"plot\":{\"id\":\"6174c9c8-19ef-4ff2-81e0-889c86fe16d7\",\"subtype\":\"Figure\",\"type\":\"Plot\"}},\"id\":\"08385e68-040f-49df-9413-440dc9472d0d\",\"type\":\"WheelZoomTool\"},{\"attributes\":{},\"id\":\"e5c37d90-b541-4ae1-90e2-221e21240638\",\"type\":\"BasicTickFormatter\"},{\"attributes\":{\"plot\":{\"id\":\"fe0f3cec-0bdd-4307-9a05-65da70431427\",\"subtype\":\"Figure\",\"type\":\"Plot\"}},\"id\":\"b657e3a9-dafc-42df-b1ac-e9c5d7a927c2\",\"type\":\"HelpTool\"},{\"attributes\":{\"callback\":null,\"column_names\":[\"y\",\"x\"],\"data\":{\"x\":[40.50136283662268,11.37599411071059,13.165498702602795,20.326626488535894,29.67929962065409,40.316159462527956,49.82315524188731,57.87610207172832,-13.491285208735029,-4.911509362046375,7.834446992373702,22.971301346015892,38.67484550432186,53.42897822758127,66.47841985463704,-27.699872291313657,-15.3646749999144,0.8640640941248763,18.569775949677158,36.97715758356484,53.959865317840126,68.80572366338272],\"y\":[57.21007291348902,58.95595159280358,53.181887677344406,48.45271873759959,45.57726829196198,44.28058577350973,44.983869175844944,47.6630352530469,50.63845610892123,41.35996653764289,35.43178872546559,31.278209177725603,29.368614435250322,29.89308510044372,33.655297701655805,34.87036066460312,24.92702371578236,18.96693663317515,15.365005166680199,13.341227442567122,13.449798236526666,17.35988767363142]}},\"id\":\"476c49df-bad5-4631-81b1-d6f3585d5d0a\",\"type\":\"ColumnDataSource\"},{\"attributes\":{},\"id\":\"e35a15fb-fc85-4445-86a7-c8120785527f\",\"type\":\"ToolEvents\"},{\"attributes\":{\"plot\":{\"id\":\"c044f4f9-bd2b-40f4-967a-5565083ce464\",\"subtype\":\"Figure\",\"type\":\"Plot\"}},\"id\":\"9feeaecb-c189-4a93-9143-019dd00ee9a8\",\"type\":\"HelpTool\"},{\"attributes\":{\"plot\":{\"id\":\"c044f4f9-bd2b-40f4-967a-5565083ce464\",\"subtype\":\"Figure\",\"type\":\"Plot\"}},\"id\":\"edb39163-c39d-4b69-acd5-be77f4baf699\",\"type\":\"ResetTool\"},{\"attributes\":{\"fill_color\":{\"value\":\"#1f77b4\"},\"line_color\":{\"value\":\"#1f77b4\"},\"x\":{\"field\":\"x\"},\"y\":{\"field\":\"y\"}},\"id\":\"1d225593-654a-4629-8f36-7994f18b0786\",\"type\":\"Circle\"},{\"attributes\":{\"dimension\":1,\"plot\":{\"id\":\"ec586361-2fc8-4adf-bdc2-4c6cc58f6644\",\"subtype\":\"Figure\",\"type\":\"Plot\"},\"ticker\":{\"id\":\"7c89266e-7e74-4836-ac03-9114ced95588\",\"type\":\"SingleIntervalTicker\"}},\"id\":\"6b56b7b4-4436-4c2a-89b1-7f6ad36f300e\",\"type\":\"Grid\"},{\"attributes\":{\"overlay\":{\"id\":\"43479752-c005-42f9-a809-4ac8e03a690c\",\"type\":\"BoxAnnotation\"},\"plot\":{\"id\":\"ec586361-2fc8-4adf-bdc2-4c6cc58f6644\",\"subtype\":\"Figure\",\"type\":\"Plot\"}},\"id\":\"d9abc21a-8fd1-4593-b0e2-d951188c82ac\",\"type\":\"BoxZoomTool\"},{\"attributes\":{\"plot\":{\"id\":\"fe0f3cec-0bdd-4307-9a05-65da70431427\",\"subtype\":\"Figure\",\"type\":\"Plot\"}},\"id\":\"a0823bbb-dae6-4df2-8812-0306723b8fa8\",\"type\":\"WheelZoomTool\"},{\"attributes\":{\"formatter\":{\"id\":\"86f56c7e-177b-4ee2-aac6-a87308bb3d16\",\"type\":\"BasicTickFormatter\"},\"plot\":{\"id\":\"11bf1221-fae1-4743-920f-0a48e3117bc5\",\"subtype\":\"Figure\",\"type\":\"Plot\"},\"ticker\":{\"id\":\"47ba5274-0a84-48cc-922b-d61781202fbb\",\"type\":\"SingleIntervalTicker\"}},\"id\":\"0335ee62-9607-44d9-a18f-87a06250c6b6\",\"type\":\"LinearAxis\"},{\"attributes\":{\"fill_color\":{\"value\":\"#1f77b4\"},\"line_color\":{\"value\":\"#1f77b4\"},\"x\":{\"field\":\"x\"},\"y\":{\"field\":\"y\"}},\"id\":\"b63abe1d-4ef6-40e7-b9af-8a26248924dc\",\"type\":\"Circle\"},{\"attributes\":{\"dimension\":1,\"plot\":{\"id\":\"c044f4f9-bd2b-40f4-967a-5565083ce464\",\"subtype\":\"Figure\",\"type\":\"Plot\"},\"ticker\":{\"id\":\"0b072494-ebd2-421e-883a-50639983523f\",\"type\":\"SingleIntervalTicker\"}},\"id\":\"48459d86-afe7-48a3-8096-8ebef04c89cd\",\"type\":\"Grid\"},{\"attributes\":{\"plot\":{\"id\":\"6174c9c8-19ef-4ff2-81e0-889c86fe16d7\",\"subtype\":\"Figure\",\"type\":\"Plot\"}},\"id\":\"7fcd7347-a6aa-4f25-9d8e-fdd7f6441e90\",\"type\":\"ResizeTool\"},{\"attributes\":{\"plot\":{\"id\":\"6174c9c8-19ef-4ff2-81e0-889c86fe16d7\",\"subtype\":\"Figure\",\"type\":\"Plot\"}},\"id\":\"e025ead6-cbc7-4988-a7b6-4ccbb40ddc9b\",\"type\":\"PreviewSaveTool\"},{\"attributes\":{\"formatter\":{\"id\":\"ff7c6d35-a2dc-415e-8602-4e5c8195eff6\",\"type\":\"BasicTickFormatter\"},\"plot\":{\"id\":\"fe0f3cec-0bdd-4307-9a05-65da70431427\",\"subtype\":\"Figure\",\"type\":\"Plot\"},\"ticker\":{\"id\":\"dfba2e74-d5b0-40ae-b002-5764bb20fdb9\",\"type\":\"SingleIntervalTicker\"}},\"id\":\"a295f98f-15dc-4bbf-959e-f7e017277e29\",\"type\":\"LinearAxis\"},{\"attributes\":{\"plot\":{\"id\":\"6174c9c8-19ef-4ff2-81e0-889c86fe16d7\",\"subtype\":\"Figure\",\"type\":\"Plot\"}},\"id\":\"33e4613e-2b1b-4af0-8f71-058bd244eaaf\",\"type\":\"HelpTool\"},{\"attributes\":{\"plot\":{\"id\":\"fe0f3cec-0bdd-4307-9a05-65da70431427\",\"subtype\":\"Figure\",\"type\":\"Plot\"}},\"id\":\"721e0a62-726e-45cb-8966-4cf8c647fae7\",\"type\":\"PanTool\"},{\"attributes\":{\"callback\":null,\"column_names\":[\"y\",\"x\"],\"data\":{\"x\":[-178.4992675506294,-107.03279909926052,-69.59400395349891,-31.75489091185557,0.06859045915027946,31.83294529939885,63.77602503967997,100.10784143529881,-92.51609951748593,-58.08328496363043,-28.15183392236719,0.3140727195632459,27.385263065555332,54.49104888291674,85.13336770946452,-84.91397801508833,-55.0941448412939,-26.765075578686975,-0.012830234007552593,26.472465526342663,51.63257939341827,77.16729879289323],\"y\":[78.57288210391538,56.74488835382623,60.86371360207861,61.24721870272892,60.690108789114596,60.54648874829447,61.02651983195275,59.607711358284426,30.571521708906204,31.257331099221265,30.139551939456798,28.370729427234686,27.997851456048362,29.28540870633946,31.470840509006667,5.56791417475863,4.162618017191154,2.7451192516312,1.6518466426808787,1.1845782853942606,2.1144170634050403,5.8134457902146215]}},\"id\":\"109583ef-ea16-40b5-907c-3c1616314738\",\"type\":\"ColumnDataSource\"},{\"attributes\":{\"below\":[{\"id\":\"6900acc4-b546-4da8-87f3-cedb2305ecdb\",\"type\":\"LinearAxis\"}],\"left\":[{\"id\":\"d6b0d3fa-5208-4570-930e-4400a75b53b8\",\"type\":\"LinearAxis\"}],\"renderers\":[{\"id\":\"6900acc4-b546-4da8-87f3-cedb2305ecdb\",\"type\":\"LinearAxis\"},{\"id\":\"93afdadc-6540-41fd-911f-c75b5803b843\",\"type\":\"Grid\"},{\"id\":\"d6b0d3fa-5208-4570-930e-4400a75b53b8\",\"type\":\"LinearAxis\"},{\"id\":\"48459d86-afe7-48a3-8096-8ebef04c89cd\",\"type\":\"Grid\"},{\"id\":\"754106a7-d5a4-4639-b0c8-a243603c5f4f\",\"type\":\"BoxAnnotation\"},{\"id\":\"e7b020f8-997f-4a68-be37-3a5765a8bb1d\",\"type\":\"GlyphRenderer\"},{\"id\":\"ec245060-acba-47ef-8dae-7e8efc28e931\",\"type\":\"GlyphRenderer\"}],\"tool_events\":{\"id\":\"e53cd275-9c45-4541-accb-e2e399f5d631\",\"type\":\"ToolEvents\"},\"tools\":[{\"id\":\"35dc1223-2116-4fda-a263-770bfa765451\",\"type\":\"PanTool\"},{\"id\":\"6798c534-aa7a-45d3-9129-d169f1f476e4\",\"type\":\"WheelZoomTool\"},{\"id\":\"80ea39a1-64f5-4883-b257-6b156f01aa14\",\"type\":\"BoxZoomTool\"},{\"id\":\"aa2dabc2-fddd-4eed-af2a-458c220ea081\",\"type\":\"PreviewSaveTool\"},{\"id\":\"93b7c07e-dd52-4607-8175-5273aed6ab10\",\"type\":\"ResizeTool\"},{\"id\":\"edb39163-c39d-4b69-acd5-be77f4baf699\",\"type\":\"ResetTool\"},{\"id\":\"9feeaecb-c189-4a93-9143-019dd00ee9a8\",\"type\":\"HelpTool\"}],\"x_range\":{\"id\":\"61351119-5d19-43ae-8168-b4eb9aa1870a\",\"type\":\"Range1d\"},\"y_range\":{\"id\":\"b25c7b33-148d-4f9b-8e31-d3fd1046cc5e\",\"type\":\"Range1d\"}},\"id\":\"c044f4f9-bd2b-40f4-967a-5565083ce464\",\"subtype\":\"Figure\",\"type\":\"Plot\"},{\"attributes\":{},\"id\":\"e6c89b83-9f56-44a2-bdaf-c22dca960c46\",\"type\":\"BasicTickFormatter\"},{\"attributes\":{\"interval\":30},\"id\":\"dfba2e74-d5b0-40ae-b002-5764bb20fdb9\",\"type\":\"SingleIntervalTicker\"},{\"attributes\":{\"plot\":{\"id\":\"11bf1221-fae1-4743-920f-0a48e3117bc5\",\"subtype\":\"Figure\",\"type\":\"Plot\"}},\"id\":\"578cb647-849b-45a0-a68d-8077984ccda5\",\"type\":\"ResetTool\"},{\"attributes\":{},\"id\":\"c2f3b6c0-f01a-4ec0-8bae-4ad04cb13e0a\",\"type\":\"BasicTickFormatter\"},{\"attributes\":{\"plot\":{\"id\":\"11bf1221-fae1-4743-920f-0a48e3117bc5\",\"subtype\":\"Figure\",\"type\":\"Plot\"}},\"id\":\"5237e423-a3a1-4939-81ef-880f378cd641\",\"type\":\"ResizeTool\"},{\"attributes\":{\"fill_alpha\":{\"value\":0.1},\"fill_color\":{\"value\":\"#1f77b4\"},\"line_alpha\":{\"value\":0.1},\"line_color\":{\"value\":\"#1f77b4\"},\"x\":{\"field\":\"x\"},\"y\":{\"field\":\"y\"}},\"id\":\"38a3ec1e-e1a2-4382-8ad4-66f4f158e943\",\"type\":\"Circle\"},{\"attributes\":{\"plot\":{\"id\":\"fe0f3cec-0bdd-4307-9a05-65da70431427\",\"subtype\":\"Figure\",\"type\":\"Plot\"}},\"id\":\"9cef58cf-bce3-45a9-94b7-fbda942f5517\",\"type\":\"ResetTool\"},{\"attributes\":{},\"id\":\"4dd7be70-0267-4a5a-a1f6-dd25a3fd9f27\",\"type\":\"ToolEvents\"},{\"attributes\":{\"plot\":{\"id\":\"11bf1221-fae1-4743-920f-0a48e3117bc5\",\"subtype\":\"Figure\",\"type\":\"Plot\"}},\"id\":\"2da3c0fe-ac2e-4c85-9013-a0aedb3f3dac\",\"type\":\"WheelZoomTool\"},{\"attributes\":{\"dimension\":1,\"plot\":{\"id\":\"fe0f3cec-0bdd-4307-9a05-65da70431427\",\"subtype\":\"Figure\",\"type\":\"Plot\"},\"ticker\":{\"id\":\"28d182d4-ecfe-4840-a54d-b74863735281\",\"type\":\"SingleIntervalTicker\"}},\"id\":\"0d89618d-b12a-4efb-8ef4-c15f7507d2c3\",\"type\":\"Grid\"},{\"attributes\":{\"callback\":null,\"end\":100,\"start\":-100},\"id\":\"5a4122ae-a86d-488a-993f-81c29dc83ef4\",\"type\":\"Range1d\"},{\"attributes\":{\"callback\":null,\"column_names\":[\"y\",\"x\"],\"data\":{\"x\":[0.0,-90.0,-59.99999999999999,-29.999999999999993,0.0,29.999999999999993,59.99999999999999,90.0,-90.0,-59.99999999999999,-29.999999999999996,0.0,29.999999999999996,59.99999999999999,90.0,-90.0,-59.99999999999999,-29.999999999999996,0.0,29.999999999999996,59.99999999999999,90.0],\"y\":[90.0,59.99999999999999,59.99999999999999,59.99999999999999,59.99999999999999,59.99999999999999,59.99999999999999,59.99999999999999,29.999999999999996,29.999999999999996,29.999999999999996,29.999999999999996,29.999999999999996,29.999999999999996,29.999999999999996,0.0,0.0,0.0,0.0,0.0,0.0,0.0]}},\"id\":\"7d6c30da-4584-4ed8-948f-c9df2437f98b\",\"type\":\"ColumnDataSource\"},{\"attributes\":{\"below\":[{\"id\":\"c2b642a7-2c2c-4447-8dca-8e065de61bed\",\"type\":\"LinearAxis\"}],\"left\":[{\"id\":\"1353b33a-8d06-4948-b323-e960584203b9\",\"type\":\"LinearAxis\"}],\"renderers\":[{\"id\":\"c2b642a7-2c2c-4447-8dca-8e065de61bed\",\"type\":\"LinearAxis\"},{\"id\":\"2f7049e0-ff41-4e8a-8a09-c568c6f2a8fb\",\"type\":\"Grid\"},{\"id\":\"1353b33a-8d06-4948-b323-e960584203b9\",\"type\":\"LinearAxis\"},{\"id\":\"9c629375-112f-46c8-ba8d-d07895648c34\",\"type\":\"Grid\"},{\"id\":\"99ef8676-20ae-401e-8ade-f057bfa93dda\",\"type\":\"BoxAnnotation\"},{\"id\":\"e518aee1-73ad-45a7-9531-1e90dae47719\",\"type\":\"GlyphRenderer\"},{\"id\":\"32410e8e-39f9-432e-a73e-a9d96fdc9320\",\"type\":\"GlyphRenderer\"}],\"tool_events\":{\"id\":\"4dd7be70-0267-4a5a-a1f6-dd25a3fd9f27\",\"type\":\"ToolEvents\"},\"tools\":[{\"id\":\"213696ab-a078-4fc6-a8fe-52fe7a605351\",\"type\":\"PanTool\"},{\"id\":\"08385e68-040f-49df-9413-440dc9472d0d\",\"type\":\"WheelZoomTool\"},{\"id\":\"802a59ac-39cf-4607-8037-f7fa0d9d7ea7\",\"type\":\"BoxZoomTool\"},{\"id\":\"e025ead6-cbc7-4988-a7b6-4ccbb40ddc9b\",\"type\":\"PreviewSaveTool\"},{\"id\":\"7fcd7347-a6aa-4f25-9d8e-fdd7f6441e90\",\"type\":\"ResizeTool\"},{\"id\":\"deaf7fb8-8cc0-48f5-a00f-3e7ee808e2df\",\"type\":\"ResetTool\"},{\"id\":\"33e4613e-2b1b-4af0-8f71-058bd244eaaf\",\"type\":\"HelpTool\"}],\"x_range\":{\"id\":\"93a7bc46-64bc-4309-ae13-eeb6cee27928\",\"type\":\"Range1d\"},\"y_range\":{\"id\":\"bfe344b3-2d0d-4be6-9d58-61950970c042\",\"type\":\"Range1d\"}},\"id\":\"6174c9c8-19ef-4ff2-81e0-889c86fe16d7\",\"subtype\":\"Figure\",\"type\":\"Plot\"},{\"attributes\":{\"bottom_units\":\"screen\",\"fill_alpha\":{\"value\":0.5},\"fill_color\":{\"value\":\"lightgrey\"},\"left_units\":\"screen\",\"level\":\"overlay\",\"line_alpha\":{\"value\":1.0},\"line_color\":{\"value\":\"black\"},\"line_dash\":[4,4],\"line_width\":{\"value\":2},\"plot\":null,\"render_mode\":\"css\",\"right_units\":\"screen\",\"top_units\":\"screen\"},\"id\":\"43479752-c005-42f9-a809-4ac8e03a690c\",\"type\":\"BoxAnnotation\"},{\"attributes\":{\"plot\":{\"id\":\"ec586361-2fc8-4adf-bdc2-4c6cc58f6644\",\"subtype\":\"Figure\",\"type\":\"Plot\"}},\"id\":\"c82765b7-ce65-4346-b5f0-a8e53684b3d4\",\"type\":\"PanTool\"},{\"attributes\":{\"data_source\":{\"id\":\"8391f90e-3ea5-4b71-8b32-a82c0c51ff79\",\"type\":\"ColumnDataSource\"},\"glyph\":{\"id\":\"a1bd146d-da85-4bbc-b4ec-10832a73b365\",\"type\":\"Circle\"},\"hover_glyph\":null,\"nonselection_glyph\":{\"id\":\"cd5b7bf0-f0d6-4d12-9856-e0d2fd87dbaf\",\"type\":\"Circle\"},\"selection_glyph\":null},\"id\":\"2c912dae-4824-488e-ab1e-c7c7e2c4066b\",\"type\":\"GlyphRenderer\"},{\"attributes\":{\"fill_color\":{\"value\":\"orange\"},\"line_color\":{\"value\":\"orange\"},\"x\":{\"field\":\"x\"},\"y\":{\"field\":\"y\"}},\"id\":\"6b1f92bd-1067-4ef9-b256-b5531c0b012f\",\"type\":\"Circle\"},{\"attributes\":{},\"id\":\"e53cd275-9c45-4541-accb-e2e399f5d631\",\"type\":\"ToolEvents\"},{\"attributes\":{\"formatter\":{\"id\":\"d748210c-5eb5-4b5c-ab09-8bf068855f07\",\"type\":\"BasicTickFormatter\"},\"plot\":{\"id\":\"c044f4f9-bd2b-40f4-967a-5565083ce464\",\"subtype\":\"Figure\",\"type\":\"Plot\"},\"ticker\":{\"id\":\"81104606-cebc-4527-96fe-2750145719ce\",\"type\":\"SingleIntervalTicker\"}},\"id\":\"6900acc4-b546-4da8-87f3-cedb2305ecdb\",\"type\":\"LinearAxis\"},{\"attributes\":{\"interval\":30},\"id\":\"47ba5274-0a84-48cc-922b-d61781202fbb\",\"type\":\"SingleIntervalTicker\"},{\"attributes\":{\"callback\":null,\"column_names\":[\"y\",\"x\"],\"data\":{\"x\":[0.0,-90.0,-59.99999999999999,-29.999999999999993,0.0,29.999999999999993,59.99999999999999,90.0,-90.0,-59.99999999999999,-29.999999999999996,0.0,29.999999999999996,59.99999999999999,90.0,-90.0,-59.99999999999999,-29.999999999999996,0.0,29.999999999999996,59.99999999999999,90.0],\"y\":[90.0,59.99999999999999,59.99999999999999,59.99999999999999,59.99999999999999,59.99999999999999,59.99999999999999,59.99999999999999,29.999999999999996,29.999999999999996,29.999999999999996,29.999999999999996,29.999999999999996,29.999999999999996,29.999999999999996,0.0,0.0,0.0,0.0,0.0,0.0,0.0]}},\"id\":\"f3bd0a03-1c02-4c59-ae6c-7ef0cf44d039\",\"type\":\"ColumnDataSource\"},{\"attributes\":{\"dimension\":1,\"plot\":{\"id\":\"11bf1221-fae1-4743-920f-0a48e3117bc5\",\"subtype\":\"Figure\",\"type\":\"Plot\"},\"ticker\":{\"id\":\"b94aa173-329f-4811-9f54-ae43ffdebbf2\",\"type\":\"SingleIntervalTicker\"}},\"id\":\"56bd0f19-104d-4853-af58-b21434d8f348\",\"type\":\"Grid\"},{\"attributes\":{\"interval\":30},\"id\":\"c3b59af6-b1ee-4d87-8acd-e13baf47d016\",\"type\":\"SingleIntervalTicker\"},{\"attributes\":{},\"id\":\"ff7c6d35-a2dc-415e-8602-4e5c8195eff6\",\"type\":\"BasicTickFormatter\"},{\"attributes\":{\"plot\":{\"id\":\"ec586361-2fc8-4adf-bdc2-4c6cc58f6644\",\"subtype\":\"Figure\",\"type\":\"Plot\"}},\"id\":\"7311aa5d-4710-4ecd-84bb-9d9e2ef76541\",\"type\":\"ResizeTool\"},{\"attributes\":{\"plot\":{\"id\":\"11bf1221-fae1-4743-920f-0a48e3117bc5\",\"subtype\":\"Figure\",\"type\":\"Plot\"},\"ticker\":{\"id\":\"b94aa173-329f-4811-9f54-ae43ffdebbf2\",\"type\":\"SingleIntervalTicker\"}},\"id\":\"0c9e03da-fcf2-4d22-99fd-0a13ec221d4a\",\"type\":\"Grid\"},{\"attributes\":{\"below\":[{\"id\":\"a295f98f-15dc-4bbf-959e-f7e017277e29\",\"type\":\"LinearAxis\"}],\"left\":[{\"id\":\"75c62805-ddf0-4a5c-a11f-87d123baeb8e\",\"type\":\"LinearAxis\"}],\"renderers\":[{\"id\":\"a295f98f-15dc-4bbf-959e-f7e017277e29\",\"type\":\"LinearAxis\"},{\"id\":\"afde2412-008c-411e-b060-6cd3d095de0c\",\"type\":\"Grid\"},{\"id\":\"75c62805-ddf0-4a5c-a11f-87d123baeb8e\",\"type\":\"LinearAxis\"},{\"id\":\"0d89618d-b12a-4efb-8ef4-c15f7507d2c3\",\"type\":\"Grid\"},{\"id\":\"d8986d5a-7a29-4da0-a89e-b33cbb2e56f7\",\"type\":\"BoxAnnotation\"},{\"id\":\"ae96b287-d073-46df-99ab-119231333abe\",\"type\":\"GlyphRenderer\"},{\"id\":\"cf41da49-d61b-447b-ab79-f897afdad882\",\"type\":\"GlyphRenderer\"}],\"tool_events\":{\"id\":\"e35a15fb-fc85-4445-86a7-c8120785527f\",\"type\":\"ToolEvents\"},\"tools\":[{\"id\":\"721e0a62-726e-45cb-8966-4cf8c647fae7\",\"type\":\"PanTool\"},{\"id\":\"a0823bbb-dae6-4df2-8812-0306723b8fa8\",\"type\":\"WheelZoomTool\"},{\"id\":\"33eae5cc-6e81-4d40-bee6-d62e9032a657\",\"type\":\"BoxZoomTool\"},{\"id\":\"8040a91b-9bb5-4131-8680-cbed2fc4fab8\",\"type\":\"PreviewSaveTool\"},{\"id\":\"a9d8ea96-c5b7-4c04-a01e-fd5390f509f4\",\"type\":\"ResizeTool\"},{\"id\":\"9cef58cf-bce3-45a9-94b7-fbda942f5517\",\"type\":\"ResetTool\"},{\"id\":\"b657e3a9-dafc-42df-b1ac-e9c5d7a927c2\",\"type\":\"HelpTool\"}],\"x_range\":{\"id\":\"5a4122ae-a86d-488a-993f-81c29dc83ef4\",\"type\":\"Range1d\"},\"y_range\":{\"id\":\"039063f2-bcb3-4442-8bce-b62176213137\",\"type\":\"Range1d\"}},\"id\":\"fe0f3cec-0bdd-4307-9a05-65da70431427\",\"subtype\":\"Figure\",\"type\":\"Plot\"},{\"attributes\":{},\"id\":\"ba358161-bfcf-4d84-9826-feda963eb2b7\",\"type\":\"BasicTickFormatter\"},{\"attributes\":{\"fill_color\":{\"value\":\"orange\"},\"line_color\":{\"value\":\"orange\"},\"x\":{\"field\":\"x\"},\"y\":{\"field\":\"y\"}},\"id\":\"b680afd3-7254-423e-a18a-4f516efdeac9\",\"type\":\"Circle\"},{\"attributes\":{\"data_source\":{\"id\":\"476c49df-bad5-4631-81b1-d6f3585d5d0a\",\"type\":\"ColumnDataSource\"},\"glyph\":{\"id\":\"6b1f92bd-1067-4ef9-b256-b5531c0b012f\",\"type\":\"Circle\"},\"hover_glyph\":null,\"nonselection_glyph\":{\"id\":\"1893fbce-889e-4a22-8b3a-4a6f971a2996\",\"type\":\"Circle\"},\"selection_glyph\":null},\"id\":\"32410e8e-39f9-432e-a73e-a9d96fdc9320\",\"type\":\"GlyphRenderer\"},{\"attributes\":{\"plot\":{\"id\":\"c044f4f9-bd2b-40f4-967a-5565083ce464\",\"subtype\":\"Figure\",\"type\":\"Plot\"}},\"id\":\"35dc1223-2116-4fda-a263-770bfa765451\",\"type\":\"PanTool\"},{\"attributes\":{\"plot\":{\"id\":\"ec586361-2fc8-4adf-bdc2-4c6cc58f6644\",\"subtype\":\"Figure\",\"type\":\"Plot\"}},\"id\":\"5fcf8c72-19db-4d57-a9e7-1c7477466408\",\"type\":\"PreviewSaveTool\"},{\"attributes\":{\"interval\":30},\"id\":\"b94aa173-329f-4811-9f54-ae43ffdebbf2\",\"type\":\"SingleIntervalTicker\"},{\"attributes\":{\"overlay\":{\"id\":\"99ef8676-20ae-401e-8ade-f057bfa93dda\",\"type\":\"BoxAnnotation\"},\"plot\":{\"id\":\"6174c9c8-19ef-4ff2-81e0-889c86fe16d7\",\"subtype\":\"Figure\",\"type\":\"Plot\"}},\"id\":\"802a59ac-39cf-4607-8037-f7fa0d9d7ea7\",\"type\":\"BoxZoomTool\"},{\"attributes\":{\"callback\":null,\"column_names\":[\"y\",\"x\"],\"data\":{\"x\":[0.0,-90.0,-59.99999999999999,-29.999999999999993,0.0,29.999999999999993,59.99999999999999,90.0,-90.0,-59.99999999999999,-29.999999999999996,0.0,29.999999999999996,59.99999999999999,90.0,-90.0,-59.99999999999999,-29.999999999999996,0.0,29.999999999999996,59.99999999999999,90.0],\"y\":[90.0,59.99999999999999,59.99999999999999,59.99999999999999,59.99999999999999,59.99999999999999,59.99999999999999,59.99999999999999,29.999999999999996,29.999999999999996,29.999999999999996,29.999999999999996,29.999999999999996,29.999999999999996,29.999999999999996,0.0,0.0,0.0,0.0,0.0,0.0,0.0]}},\"id\":\"8391f90e-3ea5-4b71-8b32-a82c0c51ff79\",\"type\":\"ColumnDataSource\"},{\"attributes\":{\"plot\":{\"id\":\"11bf1221-fae1-4743-920f-0a48e3117bc5\",\"subtype\":\"Figure\",\"type\":\"Plot\"}},\"id\":\"e4b1fce2-df3a-42af-a037-e470c247191b\",\"type\":\"PreviewSaveTool\"},{\"attributes\":{},\"id\":\"d748210c-5eb5-4b5c-ab09-8bf068855f07\",\"type\":\"BasicTickFormatter\"},{\"attributes\":{\"fill_alpha\":{\"value\":0.1},\"fill_color\":{\"value\":\"#1f77b4\"},\"line_alpha\":{\"value\":0.1},\"line_color\":{\"value\":\"#1f77b4\"},\"x\":{\"field\":\"x\"},\"y\":{\"field\":\"y\"}},\"id\":\"2371c423-b3e3-4267-a31b-69a16110e672\",\"type\":\"Circle\"},{\"attributes\":{\"formatter\":{\"id\":\"575d4fca-8015-4fa4-8a8c-4f14e1555e54\",\"type\":\"BasicTickFormatter\"},\"plot\":{\"id\":\"11bf1221-fae1-4743-920f-0a48e3117bc5\",\"subtype\":\"Figure\",\"type\":\"Plot\"},\"ticker\":{\"id\":\"47ba5274-0a84-48cc-922b-d61781202fbb\",\"type\":\"SingleIntervalTicker\"}},\"id\":\"f598e65a-9895-4464-9f71-16b1c9083d29\",\"type\":\"LinearAxis\"},{\"attributes\":{\"callback\":null,\"end\":100,\"start\":-10},\"id\":\"b8c7650f-bb92-42ce-ab28-96260ec1b4c8\",\"type\":\"Range1d\"},{\"attributes\":{\"interval\":30},\"id\":\"81104606-cebc-4527-96fe-2750145719ce\",\"type\":\"SingleIntervalTicker\"},{\"attributes\":{\"callback\":null,\"end\":180,\"start\":-180},\"id\":\"ca567379-bda5-4fbc-ba88-289424168400\",\"type\":\"Range1d\"},{\"attributes\":{\"fill_alpha\":{\"value\":0.1},\"fill_color\":{\"value\":\"#1f77b4\"},\"line_alpha\":{\"value\":0.1},\"line_color\":{\"value\":\"#1f77b4\"},\"x\":{\"field\":\"x\"},\"y\":{\"field\":\"y\"}},\"id\":\"ffacb86a-615b-4c1c-a633-4b59cbb505c7\",\"type\":\"Circle\"},{\"attributes\":{},\"id\":\"86f56c7e-177b-4ee2-aac6-a87308bb3d16\",\"type\":\"BasicTickFormatter\"},{\"attributes\":{\"bottom_units\":\"screen\",\"fill_alpha\":{\"value\":0.5},\"fill_color\":{\"value\":\"lightgrey\"},\"left_units\":\"screen\",\"level\":\"overlay\",\"line_alpha\":{\"value\":1.0},\"line_color\":{\"value\":\"black\"},\"line_dash\":[4,4],\"line_width\":{\"value\":2},\"plot\":null,\"render_mode\":\"css\",\"right_units\":\"screen\",\"top_units\":\"screen\"},\"id\":\"99ef8676-20ae-401e-8ade-f057bfa93dda\",\"type\":\"BoxAnnotation\"},{\"attributes\":{},\"id\":\"6a1fbc66-fffb-4296-b1ee-f864dd015895\",\"type\":\"ToolEvents\"},{\"attributes\":{\"bottom_units\":\"screen\",\"fill_alpha\":{\"value\":0.5},\"fill_color\":{\"value\":\"lightgrey\"},\"left_units\":\"screen\",\"level\":\"overlay\",\"line_alpha\":{\"value\":1.0},\"line_color\":{\"value\":\"black\"},\"line_dash\":[4,4],\"line_width\":{\"value\":2},\"plot\":null,\"render_mode\":\"css\",\"right_units\":\"screen\",\"top_units\":\"screen\"},\"id\":\"3aab639d-22e7-49f6-8a42-ef9e167142fa\",\"type\":\"BoxAnnotation\"},{\"attributes\":{\"below\":[{\"id\":\"4f81d074-05e9-4c23-b37d-812a123d0faa\",\"type\":\"LinearAxis\"}],\"left\":[{\"id\":\"443895f0-6705-4b27-b4e0-ba053fdc23dd\",\"type\":\"LinearAxis\"}],\"renderers\":[{\"id\":\"4f81d074-05e9-4c23-b37d-812a123d0faa\",\"type\":\"LinearAxis\"},{\"id\":\"3229d82c-e60a-42fe-8df0-422d4225893d\",\"type\":\"Grid\"},{\"id\":\"443895f0-6705-4b27-b4e0-ba053fdc23dd\",\"type\":\"LinearAxis\"},{\"id\":\"6b56b7b4-4436-4c2a-89b1-7f6ad36f300e\",\"type\":\"Grid\"},{\"id\":\"43479752-c005-42f9-a809-4ac8e03a690c\",\"type\":\"BoxAnnotation\"},{\"id\":\"52c3c663-3ebc-411c-af70-7e60e70114d1\",\"type\":\"GlyphRenderer\"},{\"id\":\"1d296ed5-fb4f-4e57-822d-d094bb5da971\",\"type\":\"GlyphRenderer\"}],\"tool_events\":{\"id\":\"3c04a88b-9d29-4073-9a5b-5bfd15faa2f0\",\"type\":\"ToolEvents\"},\"tools\":[{\"id\":\"c82765b7-ce65-4346-b5f0-a8e53684b3d4\",\"type\":\"PanTool\"},{\"id\":\"4806ad47-d06d-4855-b2bc-ec7e6947b979\",\"type\":\"WheelZoomTool\"},{\"id\":\"d9abc21a-8fd1-4593-b0e2-d951188c82ac\",\"type\":\"BoxZoomTool\"},{\"id\":\"5fcf8c72-19db-4d57-a9e7-1c7477466408\",\"type\":\"PreviewSaveTool\"},{\"id\":\"7311aa5d-4710-4ecd-84bb-9d9e2ef76541\",\"type\":\"ResizeTool\"},{\"id\":\"d9c48998-3d8f-4236-ac4b-92b62db841ce\",\"type\":\"ResetTool\"},{\"id\":\"b77d3084-8493-478c-a365-9da4ef3b7917\",\"type\":\"HelpTool\"}],\"x_range\":{\"id\":\"ca567379-bda5-4fbc-ba88-289424168400\",\"type\":\"Range1d\"},\"y_range\":{\"id\":\"b8c7650f-bb92-42ce-ab28-96260ec1b4c8\",\"type\":\"Range1d\"}},\"id\":\"ec586361-2fc8-4adf-bdc2-4c6cc58f6644\",\"subtype\":\"Figure\",\"type\":\"Plot\"},{\"attributes\":{},\"id\":\"7935a4dd-3edf-4660-9ded-732ab64e4935\",\"type\":\"BasicTickFormatter\"},{\"attributes\":{\"overlay\":{\"id\":\"754106a7-d5a4-4639-b0c8-a243603c5f4f\",\"type\":\"BoxAnnotation\"},\"plot\":{\"id\":\"c044f4f9-bd2b-40f4-967a-5565083ce464\",\"subtype\":\"Figure\",\"type\":\"Plot\"}},\"id\":\"80ea39a1-64f5-4883-b257-6b156f01aa14\",\"type\":\"BoxZoomTool\"},{\"attributes\":{\"bottom_units\":\"screen\",\"fill_alpha\":{\"value\":0.5},\"fill_color\":{\"value\":\"lightgrey\"},\"left_units\":\"screen\",\"level\":\"overlay\",\"line_alpha\":{\"value\":1.0},\"line_color\":{\"value\":\"black\"},\"line_dash\":[4,4],\"line_width\":{\"value\":2},\"plot\":null,\"render_mode\":\"css\",\"right_units\":\"screen\",\"top_units\":\"screen\"},\"id\":\"d8986d5a-7a29-4da0-a89e-b33cbb2e56f7\",\"type\":\"BoxAnnotation\"},{\"attributes\":{\"data_source\":{\"id\":\"f3bd0a03-1c02-4c59-ae6c-7ef0cf44d039\",\"type\":\"ColumnDataSource\"},\"glyph\":{\"id\":\"b63abe1d-4ef6-40e7-b9af-8a26248924dc\",\"type\":\"Circle\"},\"hover_glyph\":null,\"nonselection_glyph\":{\"id\":\"3ab07aff-da41-486b-999b-4577bb7a4d0c\",\"type\":\"Circle\"},\"selection_glyph\":null},\"id\":\"e518aee1-73ad-45a7-9531-1e90dae47719\",\"type\":\"GlyphRenderer\"},{\"attributes\":{\"callback\":null,\"end\":100,\"start\":-100},\"id\":\"a79a9267-c888-4771-895b-1745a72f9294\",\"type\":\"Range1d\"},{\"attributes\":{\"interval\":30},\"id\":\"c474f834-d3b0-4dca-b69d-b3a3cd3df647\",\"type\":\"SingleIntervalTicker\"},{\"attributes\":{},\"id\":\"575d4fca-8015-4fa4-8a8c-4f14e1555e54\",\"type\":\"BasicTickFormatter\"},{\"attributes\":{\"interval\":30},\"id\":\"28d182d4-ecfe-4840-a54d-b74863735281\",\"type\":\"SingleIntervalTicker\"},{\"attributes\":{\"callback\":null,\"end\":100,\"start\":-10},\"id\":\"039063f2-bcb3-4442-8bce-b62176213137\",\"type\":\"Range1d\"},{\"attributes\":{\"formatter\":{\"id\":\"a8f9488a-d158-4a43-b403-5eff65216232\",\"type\":\"BasicTickFormatter\"},\"plot\":{\"id\":\"6174c9c8-19ef-4ff2-81e0-889c86fe16d7\",\"subtype\":\"Figure\",\"type\":\"Plot\"},\"ticker\":{\"id\":\"dc502d9c-40a1-404f-ab9b-410ed8247491\",\"type\":\"SingleIntervalTicker\"}},\"id\":\"1353b33a-8d06-4948-b323-e960584203b9\",\"type\":\"LinearAxis\"},{\"attributes\":{\"overlay\":{\"id\":\"d8986d5a-7a29-4da0-a89e-b33cbb2e56f7\",\"type\":\"BoxAnnotation\"},\"plot\":{\"id\":\"fe0f3cec-0bdd-4307-9a05-65da70431427\",\"subtype\":\"Figure\",\"type\":\"Plot\"}},\"id\":\"33eae5cc-6e81-4d40-bee6-d62e9032a657\",\"type\":\"BoxZoomTool\"},{\"attributes\":{},\"id\":\"3c04a88b-9d29-4073-9a5b-5bfd15faa2f0\",\"type\":\"ToolEvents\"},{\"attributes\":{\"plot\":{\"id\":\"11bf1221-fae1-4743-920f-0a48e3117bc5\",\"subtype\":\"Figure\",\"type\":\"Plot\"}},\"id\":\"5dd2504b-008f-412d-98b2-8fcf07acf2bf\",\"type\":\"HelpTool\"},{\"attributes\":{\"formatter\":{\"id\":\"7935a4dd-3edf-4660-9ded-732ab64e4935\",\"type\":\"BasicTickFormatter\"},\"plot\":{\"id\":\"ec586361-2fc8-4adf-bdc2-4c6cc58f6644\",\"subtype\":\"Figure\",\"type\":\"Plot\"},\"ticker\":{\"id\":\"c474f834-d3b0-4dca-b69d-b3a3cd3df647\",\"type\":\"SingleIntervalTicker\"}},\"id\":\"4f81d074-05e9-4c23-b37d-812a123d0faa\",\"type\":\"LinearAxis\"},{\"attributes\":{\"plot\":{\"id\":\"c044f4f9-bd2b-40f4-967a-5565083ce464\",\"subtype\":\"Figure\",\"type\":\"Plot\"}},\"id\":\"93b7c07e-dd52-4607-8175-5273aed6ab10\",\"type\":\"ResizeTool\"},{\"attributes\":{\"below\":[{\"id\":\"0335ee62-9607-44d9-a18f-87a06250c6b6\",\"type\":\"LinearAxis\"}],\"left\":[{\"id\":\"f598e65a-9895-4464-9f71-16b1c9083d29\",\"type\":\"LinearAxis\"}],\"renderers\":[{\"id\":\"0335ee62-9607-44d9-a18f-87a06250c6b6\",\"type\":\"LinearAxis\"},{\"id\":\"0c9e03da-fcf2-4d22-99fd-0a13ec221d4a\",\"type\":\"Grid\"},{\"id\":\"f598e65a-9895-4464-9f71-16b1c9083d29\",\"type\":\"LinearAxis\"},{\"id\":\"56bd0f19-104d-4853-af58-b21434d8f348\",\"type\":\"Grid\"},{\"id\":\"3aab639d-22e7-49f6-8a42-ef9e167142fa\",\"type\":\"BoxAnnotation\"},{\"id\":\"2c912dae-4824-488e-ab1e-c7c7e2c4066b\",\"type\":\"GlyphRenderer\"}],\"tool_events\":{\"id\":\"6a1fbc66-fffb-4296-b1ee-f864dd015895\",\"type\":\"ToolEvents\"},\"tools\":[{\"id\":\"d94e5459-0ed5-4156-a318-dc5c3446841c\",\"type\":\"PanTool\"},{\"id\":\"2da3c0fe-ac2e-4c85-9013-a0aedb3f3dac\",\"type\":\"WheelZoomTool\"},{\"id\":\"9c74114a-d51d-466c-bba0-328aa1119c68\",\"type\":\"BoxZoomTool\"},{\"id\":\"e4b1fce2-df3a-42af-a037-e470c247191b\",\"type\":\"PreviewSaveTool\"},{\"id\":\"5237e423-a3a1-4939-81ef-880f378cd641\",\"type\":\"ResizeTool\"},{\"id\":\"578cb647-849b-45a0-a68d-8077984ccda5\",\"type\":\"ResetTool\"},{\"id\":\"5dd2504b-008f-412d-98b2-8fcf07acf2bf\",\"type\":\"HelpTool\"}],\"x_range\":{\"id\":\"a79a9267-c888-4771-895b-1745a72f9294\",\"type\":\"Range1d\"},\"y_range\":{\"id\":\"f0047d1c-7c58-44e9-b3dc-aa56fe4fa2e0\",\"type\":\"Range1d\"}},\"id\":\"11bf1221-fae1-4743-920f-0a48e3117bc5\",\"subtype\":\"Figure\",\"type\":\"Plot\"},{\"attributes\":{\"callback\":null,\"end\":100,\"start\":-10},\"id\":\"f0047d1c-7c58-44e9-b3dc-aa56fe4fa2e0\",\"type\":\"Range1d\"},{\"attributes\":{\"plot\":{\"id\":\"ec586361-2fc8-4adf-bdc2-4c6cc58f6644\",\"subtype\":\"Figure\",\"type\":\"Plot\"}},\"id\":\"b77d3084-8493-478c-a365-9da4ef3b7917\",\"type\":\"HelpTool\"},{\"attributes\":{\"plot\":{\"id\":\"ec586361-2fc8-4adf-bdc2-4c6cc58f6644\",\"subtype\":\"Figure\",\"type\":\"Plot\"},\"ticker\":{\"id\":\"7c89266e-7e74-4836-ac03-9114ced95588\",\"type\":\"SingleIntervalTicker\"}},\"id\":\"3229d82c-e60a-42fe-8df0-422d4225893d\",\"type\":\"Grid\"},{\"attributes\":{\"plot\":{\"id\":\"11bf1221-fae1-4743-920f-0a48e3117bc5\",\"subtype\":\"Figure\",\"type\":\"Plot\"}},\"id\":\"d94e5459-0ed5-4156-a318-dc5c3446841c\",\"type\":\"PanTool\"},{\"attributes\":{\"callback\":null,\"end\":100,\"start\":-100},\"id\":\"61351119-5d19-43ae-8168-b4eb9aa1870a\",\"type\":\"Range1d\"},{\"attributes\":{\"plot\":{\"id\":\"fe0f3cec-0bdd-4307-9a05-65da70431427\",\"subtype\":\"Figure\",\"type\":\"Plot\"}},\"id\":\"a9d8ea96-c5b7-4c04-a01e-fd5390f509f4\",\"type\":\"ResizeTool\"},{\"attributes\":{\"callback\":null,\"column_names\":[\"y\",\"x\"],\"data\":{\"x\":[0.0,-90.0,-59.99999999999999,-29.999999999999993,0.0,29.999999999999993,59.99999999999999,90.0,-90.0,-59.99999999999999,-29.999999999999996,0.0,29.999999999999996,59.99999999999999,90.0,-90.0,-59.99999999999999,-29.999999999999996,0.0,29.999999999999996,59.99999999999999,90.0],\"y\":[90.0,59.99999999999999,59.99999999999999,59.99999999999999,59.99999999999999,59.99999999999999,59.99999999999999,59.99999999999999,29.999999999999996,29.999999999999996,29.999999999999996,29.999999999999996,29.999999999999996,29.999999999999996,29.999999999999996,0.0,0.0,0.0,0.0,0.0,0.0,0.0]}},\"id\":\"9142c33b-8cbe-4046-aba2-df3777c2346c\",\"type\":\"ColumnDataSource\"},{\"attributes\":{\"callback\":null,\"column_names\":[\"y\",\"x\"],\"data\":{\"x\":[0.0,-90.0,-59.99999999999999,-29.999999999999993,0.0,29.999999999999993,59.99999999999999,90.0,-90.0,-59.99999999999999,-29.999999999999996,0.0,29.999999999999996,59.99999999999999,90.0,-90.0,-59.99999999999999,-29.999999999999996,0.0,29.999999999999996,59.99999999999999,90.0],\"y\":[90.0,59.99999999999999,59.99999999999999,59.99999999999999,59.99999999999999,59.99999999999999,59.99999999999999,59.99999999999999,29.999999999999996,29.999999999999996,29.999999999999996,29.999999999999996,29.999999999999996,29.999999999999996,29.999999999999996,0.0,0.0,0.0,0.0,0.0,0.0,0.0]}},\"id\":\"43cf3cb7-567a-4038-b430-9a6267516fa9\",\"type\":\"ColumnDataSource\"},{\"attributes\":{\"fill_alpha\":{\"value\":0.1},\"fill_color\":{\"value\":\"#1f77b4\"},\"line_alpha\":{\"value\":0.1},\"line_color\":{\"value\":\"#1f77b4\"},\"x\":{\"field\":\"x\"},\"y\":{\"field\":\"y\"}},\"id\":\"947c1190-95c0-4659-8106-234ea719bf1d\",\"type\":\"Circle\"},{\"attributes\":{\"plot\":{\"id\":\"ec586361-2fc8-4adf-bdc2-4c6cc58f6644\",\"subtype\":\"Figure\",\"type\":\"Plot\"}},\"id\":\"d9c48998-3d8f-4236-ac4b-92b62db841ce\",\"type\":\"ResetTool\"},{\"attributes\":{\"bottom_units\":\"screen\",\"fill_alpha\":{\"value\":0.5},\"fill_color\":{\"value\":\"lightgrey\"},\"left_units\":\"screen\",\"level\":\"overlay\",\"line_alpha\":{\"value\":1.0},\"line_color\":{\"value\":\"black\"},\"line_dash\":[4,4],\"line_width\":{\"value\":2},\"plot\":null,\"render_mode\":\"css\",\"right_units\":\"screen\",\"top_units\":\"screen\"},\"id\":\"754106a7-d5a4-4639-b0c8-a243603c5f4f\",\"type\":\"BoxAnnotation\"},{\"attributes\":{\"fill_color\":{\"value\":\"#1f77b4\"},\"line_color\":{\"value\":\"#1f77b4\"},\"x\":{\"field\":\"x\"},\"y\":{\"field\":\"y\"}},\"id\":\"49769c2d-5e1b-48fb-b468-2e8e23828702\",\"type\":\"Circle\"},{\"attributes\":{\"fill_color\":{\"value\":\"orange\"},\"line_color\":{\"value\":\"orange\"},\"x\":{\"field\":\"x\"},\"y\":{\"field\":\"y\"}},\"id\":\"2f44949c-1b40-4f4a-bde3-779213278e59\",\"type\":\"Circle\"}],\"root_ids\":[\"6174c9c8-19ef-4ff2-81e0-889c86fe16d7\",\"11bf1221-fae1-4743-920f-0a48e3117bc5\",\"c044f4f9-bd2b-40f4-967a-5565083ce464\",\"fe0f3cec-0bdd-4307-9a05-65da70431427\",\"ec586361-2fc8-4adf-bdc2-4c6cc58f6644\"]},\"title\":\"Bokeh Application\",\"version\":\"0.11.1\"}};\n",
       "            var render_items = [{\"docid\":\"1382f3e4-b6b7-47b3-b3e9-8ffa7767fabe\",\"elementid\":\"88c85b7f-08a9-442f-863f-65f48021450a\",\"modelid\":\"ec586361-2fc8-4adf-bdc2-4c6cc58f6644\",\"notebook_comms_target\":\"15e7fda2-2f4e-45a1-a65a-14bd846d8f78\"}];\n",
       "            \n",
       "            Bokeh.embed.embed_items(docs_json, render_items);\n",
       "        });\n",
       "      },\n",
       "      function(Bokeh) {\n",
       "      }\n",
       "    ];\n",
       "  \n",
       "    function run_inline_js() {\n",
       "      for (var i = 0; i < inline_js.length; i++) {\n",
       "        inline_js[i](window.Bokeh);\n",
       "      }\n",
       "    }\n",
       "  \n",
       "    if (window._bokeh_is_loading === 0) {\n",
       "      console.log(\"Bokeh: BokehJS loaded, going straight to plotting\");\n",
       "      run_inline_js();\n",
       "    } else {\n",
       "      load_libs(js_urls, function() {\n",
       "        console.log(\"Bokeh: BokehJS plotting callback run at\", now());\n",
       "        run_inline_js();\n",
       "      });\n",
       "    }\n",
       "  }(this));\n",
       "</script>"
      ]
     },
     "metadata": {},
     "output_type": "display_data"
    }
   ],
   "source": [
    "#psearch = ParameterSearch(\"calibration/calibration_device/2015_11_06_centroids.txt\", 1280, 720)\n",
    "\n",
    "\"\"\"best_parameters = \\\n",
    "{'animal_y':0.056,\n",
    "'animal_z':0.575,\n",
    "'dome_y':0.110,\n",
    "'dome_z':0.348,\n",
    "'dome_radius':0.601,\n",
    "'mirror_radius':0.162,\n",
    "'projector_y':0.858,\n",
    "'projector_z':-0.052,\n",
    "'projector_roll':0.010,\n",
    "'projector_theta':0.166,\n",
    "'projector_vertical_offset':0.211}\"\"\"\n",
    "\n",
    "psearch = ParameterSearch(\"calibration/calibration_device/cal_2016_07_11/PixelPosition_071116_5.txt\", 1024, 768)\n",
    "\n",
    "best_parameters = \\\n",
    "{'animal_y':0.0279606097915,\n",
    "'animal_z':0.501225843308,\n",
    "'dome_y':0.219457436982,\n",
    "'dome_z':0.434561042672,\n",
    "'dome_radius':0.654706315528,\n",
    "'mirror_radius':0.237214340525,\n",
    "'projector_y':0.777813617153,\n",
    "'projector_z':0.099647194721,\n",
    "'projector_roll':0.0221805273634,\n",
    "'projector_theta':0.399998777994,\n",
    "'projector_vertical_offset':0.0}\n",
    "\n",
    "def value_to_range(value):\n",
    "    return (value - 0.1, value + 0.1, 0.001)\n",
    "ranges = dict([[key, value_to_range(best_parameters[key])] for key in best_parameters])"
   ]
  },
  {
   "cell_type": "code",
   "execution_count": 31,
   "metadata": {
    "collapsed": false
   },
   "outputs": [],
   "source": [
    "sliders = interactive(psearch.update, **ranges)"
   ]
  },
  {
   "cell_type": "code",
   "execution_count": 32,
   "metadata": {
    "collapsed": false
   },
   "outputs": [
    {
     "data": {
      "text/plain": [
       "0.49938497837704554"
      ]
     },
     "metadata": {},
     "output_type": "display_data"
    }
   ],
   "source": [
    "display(sliders)\n",
    "#container = HBox(children=sliders)\n",
    "#display(container)"
   ]
  },
  {
   "cell_type": "code",
   "execution_count": 33,
   "metadata": {
    "collapsed": false
   },
   "outputs": [
    {
     "data": {
      "text/plain": [
       "{'animal_y': 0.0279606097915,\n",
       " 'animal_z': 0.500225843308,\n",
       " 'dome_radius': 0.653706315528,\n",
       " 'dome_y': 0.219457436982,\n",
       " 'dome_z': 0.433561042672,\n",
       " 'mirror_radius': 0.237214340525,\n",
       " 'projector_roll': 0.022180527363399993,\n",
       " 'projector_theta': 0.39999877799399997,\n",
       " 'projector_vertical_offset': -3.469446951953614e-18,\n",
       " 'projector_y': 0.776813617153,\n",
       " 'projector_z': 0.099647194721}"
      ]
     },
     "execution_count": 33,
     "metadata": {},
     "output_type": "execute_result"
    }
   ],
   "source": [
    "sliders.kwargs"
   ]
  },
  {
   "cell_type": "code",
   "execution_count": null,
   "metadata": {
    "collapsed": true
   },
   "outputs": [],
   "source": []
  }
 ],
 "metadata": {
  "kernelspec": {
   "display_name": "Python 2",
   "language": "python",
   "name": "python2"
  },
  "language_info": {
   "codemirror_mode": {
    "name": "ipython",
    "version": 2
   },
   "file_extension": ".py",
   "mimetype": "text/x-python",
   "name": "python",
   "nbconvert_exporter": "python",
   "pygments_lexer": "ipython2",
   "version": "2.7.11"
  },
  "widgets": {
   "state": {
    "09875c31a9154ebe87b31b95aa581310": {
     "views": []
    },
    "0b218c22c3e34d0293990f8934fb0bdd": {
     "views": []
    },
    "0caa39bc3dd249dabfdf5af7ffc03d2c": {
     "views": []
    },
    "16657318d91f4c7f91025f8fe3211703": {
     "views": []
    },
    "19379ffaec7f445faa184de24a29ca0e": {
     "views": []
    },
    "1a22ad54c6084ddda91c2ffa6b4153a6": {
     "views": []
    },
    "1c8507f06be84a7dab4e70d5258b41ff": {
     "views": []
    },
    "1cfdaee90ffd4afd9d1e22e5f4503f62": {
     "views": []
    },
    "1fab24a952794e87b44d15b96bc8d505": {
     "views": []
    },
    "21586773f25f4cc795cae7bbf784f128": {
     "views": []
    },
    "23aef5db57334d53850c6501be8494fd": {
     "views": []
    },
    "2687a0396ed8435c9f6f970e04a0cd0b": {
     "views": []
    },
    "281a2a423d634ca8a731f509c746ba8b": {
     "views": []
    },
    "2870fa6771bb431aa758b54caff07f9f": {
     "views": []
    },
    "30ac2fad0e3b43028d16a3e3a41d1837": {
     "views": []
    },
    "42d798bab95f43e689d5fc83cc62f522": {
     "views": []
    },
    "45a45214704d4c379407fc082114addd": {
     "views": []
    },
    "4708e2898cf64bceac2f8d04a89e9387": {
     "views": []
    },
    "4c8fd0979bfc44398708e2a1475a2f9d": {
     "views": []
    },
    "4eb5550a9224451e82f35c997b03e824": {
     "views": []
    },
    "4f62132cac024cbc932f87dc36a8115a": {
     "views": []
    },
    "5213a993d89d4d86b1da4eda2814f7d6": {
     "views": []
    },
    "53baf262e3df422ca4fe94d5b990f3e6": {
     "views": []
    },
    "53c5b59ee38a455ea2141c6da3e67c39": {
     "views": []
    },
    "54632940b4814cc5833dac60cfabc993": {
     "views": []
    },
    "5b4b34d7c9df41f1b62954cf9071969f": {
     "views": []
    },
    "5c5a68c3347444089a8725831f15d771": {
     "views": []
    },
    "5d3453faf1394890ae4012b1afbdb291": {
     "views": []
    },
    "62bdf9e8225d4590909fbb482cd5d980": {
     "views": []
    },
    "637dacb2b0d646fab252c93af5d7cf81": {
     "views": []
    },
    "64a2473426ce4a14bd98e9d94c74480b": {
     "views": []
    },
    "73695ce38a304d189e0876f581193584": {
     "views": []
    },
    "7468713896ff433a9773daa2b9738c91": {
     "views": [
      {
       "cell_index": 4
      }
     ]
    },
    "74a79ac07b094b79b822849cbf772e41": {
     "views": []
    },
    "77f8f15980034c818fa80154dbd184b4": {
     "views": []
    },
    "795380a83f9c4aae9f25cb070eff9cde": {
     "views": []
    },
    "7eb1093d13e347c6b3e63c1b62630b65": {
     "views": []
    },
    "7f808f1884c842db8d4b571cd3ea5c89": {
     "views": []
    },
    "7f99eee3712f48b9a384f5e799a7aff5": {
     "views": []
    },
    "80cc3cde94374073b4179e6bc74bb950": {
     "views": []
    },
    "86eb803d08eb4ad3b57273fd022719e3": {
     "views": []
    },
    "899aec350d1e4c61a46faa84639079ac": {
     "views": []
    },
    "8af7b623e59b48df843c756c6a9d91d2": {
     "views": []
    },
    "8f6cdd0f0f1041e486b4a71edb7941be": {
     "views": []
    },
    "943a74b8fb9e4207bbf97d8576813df4": {
     "views": []
    },
    "95216e4bf8814cda932c5727db2b4320": {
     "views": []
    },
    "99bdbd2c7b7042f296acca1b916bd07b": {
     "views": []
    },
    "9d19ef372de6457a88ca0b4fa29282e5": {
     "views": []
    },
    "9db0a82b90964442bef67700c98efcc0": {
     "views": []
    },
    "9deb97b921cb44d8bbd746eafcfd5431": {
     "views": []
    },
    "9e1652931c214cfa9de2b9381315e64a": {
     "views": []
    },
    "9ebbb557c35e44c9a45242a59a82a7b0": {
     "views": []
    },
    "a4e55514c07d46508d9dd474959a23e5": {
     "views": []
    },
    "a7ed85ff16d444678abc04fc815c8cb7": {
     "views": []
    },
    "a98063fab26b4f7c989a6fca0e56d08e": {
     "views": []
    },
    "a9d281072eb6440ca874493b1712aac6": {
     "views": []
    },
    "aaa1cb8f0059400e8d30844cebde4484": {
     "views": []
    },
    "ae45ca9971e24a579e6a9126368fcbb1": {
     "views": []
    },
    "b043edf61cea472694c2d82d8aa35a6d": {
     "views": []
    },
    "b1271f2d2c644ad1a194e970983ef435": {
     "views": []
    },
    "b669990a6fc54e6dbfef4d8e4abbe7c0": {
     "views": []
    },
    "b711babe10ef46cc84e1ec3a2baa6eab": {
     "views": []
    },
    "b96dadab4a2342439ba476c10bb1a05a": {
     "views": []
    },
    "b9833e79a8414525b9c5fa23e77f85ad": {
     "views": []
    },
    "babf49f7ddc04d02baa3b291939b7f50": {
     "views": []
    },
    "bc125551485f490d8a03632da6188b89": {
     "views": []
    },
    "c14a52d76d0b445fbef1f4ba0e90226a": {
     "views": []
    },
    "c1d1056c702b4747b5c6513fd157bb69": {
     "views": []
    },
    "c298d19cf5f84be2b64dcc8ae067b439": {
     "views": []
    },
    "c32f29a97aae42ce94adf7f0bea94c8d": {
     "views": []
    },
    "c45ce6271d6f4df682d82c771dcf1cee": {
     "views": []
    },
    "c5a5816eada4469dbac8ddcdb68e222c": {
     "views": []
    },
    "cd6cd3d8b2174b7896e3fddcd26f4d82": {
     "views": []
    },
    "cf9b71ee09aa41f99f36268b1078b318": {
     "views": []
    },
    "d1d8d1f104f44b919b3f753b06499045": {
     "views": []
    },
    "d1e8653990fc4810a2a45cf881a62856": {
     "views": []
    },
    "d4414b06d00c45899b9d347586d0a1bf": {
     "views": []
    },
    "d5c97b5e342a4f79b728014a68b2d60e": {
     "views": []
    },
    "de12cf83f3364558b1f577cc323030b4": {
     "views": []
    },
    "e1129aa7db814714a754a443d9c149a1": {
     "views": []
    },
    "e266bf467a734d029633d1b4b4b4900f": {
     "views": []
    },
    "e39dea2a6a9547bd8128263817de37d4": {
     "views": []
    },
    "e3e9900514054a57a219a3029859ece7": {
     "views": []
    },
    "e506bc49e1b84fa4aa996a4f60c81508": {
     "views": []
    },
    "ecf35cde496248e99ba9c9f3faccd7cc": {
     "views": []
    },
    "edd39dec0b54401f9aac3d90b027dd56": {
     "views": []
    },
    "ef1de0aa8bf2487f8bc00369b4438341": {
     "views": []
    },
    "efd55004b06b4005bb749705ee480be4": {
     "views": []
    },
    "f1628ae1ec704cd2953052c6a8121d19": {
     "views": []
    },
    "f38107dbcb1f44949ba385bfa5e8325f": {
     "views": []
    },
    "f5831828c0754611a7f2bfb5d2ef3a1f": {
     "views": []
    },
    "f750644b1806413bbd406f60059ee994": {
     "views": []
    },
    "fd7a4ef7e0d745eb955841782e058329": {
     "views": []
    },
    "fda9688ff83e41d7bcb5b54ca57d3505": {
     "views": []
    },
    "fdd434b0b9644f22bc48b9969d42625c": {
     "views": []
    },
    "fdda403506144d25917ee6ae49e498e3": {
     "views": []
    }
   },
   "version": "1.1.2"
  }
 },
 "nbformat": 4,
 "nbformat_minor": 0
}
