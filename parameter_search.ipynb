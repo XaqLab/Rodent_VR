{
 "cells": [
  {
   "cell_type": "code",
   "execution_count": 50,
   "metadata": {
    "collapsed": false,
    "deletable": true,
    "editable": true
   },
   "outputs": [],
   "source": [
    "%matplotlib notebook\n",
    "import matplotlib.pyplot as plt\n",
    "from IPython.display import display\n",
    "from ipywidgets import interactive, HBox, VBox, Button\n",
    "from parameter_search import ParameterSearch"
   ]
  },
  {
   "cell_type": "code",
   "execution_count": 51,
   "metadata": {
    "collapsed": false,
    "deletable": true,
    "editable": true
   },
   "outputs": [
    {
     "data": {
      "application/javascript": [
       "/* Put everything inside the global mpl namespace */\n",
       "window.mpl = {};\n",
       "\n",
       "\n",
       "mpl.get_websocket_type = function() {\n",
       "    if (typeof(WebSocket) !== 'undefined') {\n",
       "        return WebSocket;\n",
       "    } else if (typeof(MozWebSocket) !== 'undefined') {\n",
       "        return MozWebSocket;\n",
       "    } else {\n",
       "        alert('Your browser does not have WebSocket support.' +\n",
       "              'Please try Chrome, Safari or Firefox ≥ 6. ' +\n",
       "              'Firefox 4 and 5 are also supported but you ' +\n",
       "              'have to enable WebSockets in about:config.');\n",
       "    };\n",
       "}\n",
       "\n",
       "mpl.figure = function(figure_id, websocket, ondownload, parent_element) {\n",
       "    this.id = figure_id;\n",
       "\n",
       "    this.ws = websocket;\n",
       "\n",
       "    this.supports_binary = (this.ws.binaryType != undefined);\n",
       "\n",
       "    if (!this.supports_binary) {\n",
       "        var warnings = document.getElementById(\"mpl-warnings\");\n",
       "        if (warnings) {\n",
       "            warnings.style.display = 'block';\n",
       "            warnings.textContent = (\n",
       "                \"This browser does not support binary websocket messages. \" +\n",
       "                    \"Performance may be slow.\");\n",
       "        }\n",
       "    }\n",
       "\n",
       "    this.imageObj = new Image();\n",
       "\n",
       "    this.context = undefined;\n",
       "    this.message = undefined;\n",
       "    this.canvas = undefined;\n",
       "    this.rubberband_canvas = undefined;\n",
       "    this.rubberband_context = undefined;\n",
       "    this.format_dropdown = undefined;\n",
       "\n",
       "    this.image_mode = 'full';\n",
       "\n",
       "    this.root = $('<div/>');\n",
       "    this._root_extra_style(this.root)\n",
       "    this.root.attr('style', 'display: inline-block');\n",
       "\n",
       "    $(parent_element).append(this.root);\n",
       "\n",
       "    this._init_header(this);\n",
       "    this._init_canvas(this);\n",
       "    this._init_toolbar(this);\n",
       "\n",
       "    var fig = this;\n",
       "\n",
       "    this.waiting = false;\n",
       "\n",
       "    this.ws.onopen =  function () {\n",
       "            fig.send_message(\"supports_binary\", {value: fig.supports_binary});\n",
       "            fig.send_message(\"send_image_mode\", {});\n",
       "            if (mpl.ratio != 1) {\n",
       "                fig.send_message(\"set_dpi_ratio\", {'dpi_ratio': mpl.ratio});\n",
       "            }\n",
       "            fig.send_message(\"refresh\", {});\n",
       "        }\n",
       "\n",
       "    this.imageObj.onload = function() {\n",
       "            if (fig.image_mode == 'full') {\n",
       "                // Full images could contain transparency (where diff images\n",
       "                // almost always do), so we need to clear the canvas so that\n",
       "                // there is no ghosting.\n",
       "                fig.context.clearRect(0, 0, fig.canvas.width, fig.canvas.height);\n",
       "            }\n",
       "            fig.context.drawImage(fig.imageObj, 0, 0);\n",
       "        };\n",
       "\n",
       "    this.imageObj.onunload = function() {\n",
       "        this.ws.close();\n",
       "    }\n",
       "\n",
       "    this.ws.onmessage = this._make_on_message_function(this);\n",
       "\n",
       "    this.ondownload = ondownload;\n",
       "}\n",
       "\n",
       "mpl.figure.prototype._init_header = function() {\n",
       "    var titlebar = $(\n",
       "        '<div class=\"ui-dialog-titlebar ui-widget-header ui-corner-all ' +\n",
       "        'ui-helper-clearfix\"/>');\n",
       "    var titletext = $(\n",
       "        '<div class=\"ui-dialog-title\" style=\"width: 100%; ' +\n",
       "        'text-align: center; padding: 3px;\"/>');\n",
       "    titlebar.append(titletext)\n",
       "    this.root.append(titlebar);\n",
       "    this.header = titletext[0];\n",
       "}\n",
       "\n",
       "\n",
       "\n",
       "mpl.figure.prototype._canvas_extra_style = function(canvas_div) {\n",
       "\n",
       "}\n",
       "\n",
       "\n",
       "mpl.figure.prototype._root_extra_style = function(canvas_div) {\n",
       "\n",
       "}\n",
       "\n",
       "mpl.figure.prototype._init_canvas = function() {\n",
       "    var fig = this;\n",
       "\n",
       "    var canvas_div = $('<div/>');\n",
       "\n",
       "    canvas_div.attr('style', 'position: relative; clear: both; outline: 0');\n",
       "\n",
       "    function canvas_keyboard_event(event) {\n",
       "        return fig.key_event(event, event['data']);\n",
       "    }\n",
       "\n",
       "    canvas_div.keydown('key_press', canvas_keyboard_event);\n",
       "    canvas_div.keyup('key_release', canvas_keyboard_event);\n",
       "    this.canvas_div = canvas_div\n",
       "    this._canvas_extra_style(canvas_div)\n",
       "    this.root.append(canvas_div);\n",
       "\n",
       "    var canvas = $('<canvas/>');\n",
       "    canvas.addClass('mpl-canvas');\n",
       "    canvas.attr('style', \"left: 0; top: 0; z-index: 0; outline: 0\")\n",
       "\n",
       "    this.canvas = canvas[0];\n",
       "    this.context = canvas[0].getContext(\"2d\");\n",
       "\n",
       "    var backingStore = this.context.backingStorePixelRatio ||\n",
       "\tthis.context.webkitBackingStorePixelRatio ||\n",
       "\tthis.context.mozBackingStorePixelRatio ||\n",
       "\tthis.context.msBackingStorePixelRatio ||\n",
       "\tthis.context.oBackingStorePixelRatio ||\n",
       "\tthis.context.backingStorePixelRatio || 1;\n",
       "\n",
       "    mpl.ratio = (window.devicePixelRatio || 1) / backingStore;\n",
       "\n",
       "    var rubberband = $('<canvas/>');\n",
       "    rubberband.attr('style', \"position: absolute; left: 0; top: 0; z-index: 1;\")\n",
       "\n",
       "    var pass_mouse_events = true;\n",
       "\n",
       "    canvas_div.resizable({\n",
       "        start: function(event, ui) {\n",
       "            pass_mouse_events = false;\n",
       "        },\n",
       "        resize: function(event, ui) {\n",
       "            fig.request_resize(ui.size.width, ui.size.height);\n",
       "        },\n",
       "        stop: function(event, ui) {\n",
       "            pass_mouse_events = true;\n",
       "            fig.request_resize(ui.size.width, ui.size.height);\n",
       "        },\n",
       "    });\n",
       "\n",
       "    function mouse_event_fn(event) {\n",
       "        if (pass_mouse_events)\n",
       "            return fig.mouse_event(event, event['data']);\n",
       "    }\n",
       "\n",
       "    rubberband.mousedown('button_press', mouse_event_fn);\n",
       "    rubberband.mouseup('button_release', mouse_event_fn);\n",
       "    // Throttle sequential mouse events to 1 every 20ms.\n",
       "    rubberband.mousemove('motion_notify', mouse_event_fn);\n",
       "\n",
       "    rubberband.mouseenter('figure_enter', mouse_event_fn);\n",
       "    rubberband.mouseleave('figure_leave', mouse_event_fn);\n",
       "\n",
       "    canvas_div.on(\"wheel\", function (event) {\n",
       "        event = event.originalEvent;\n",
       "        event['data'] = 'scroll'\n",
       "        if (event.deltaY < 0) {\n",
       "            event.step = 1;\n",
       "        } else {\n",
       "            event.step = -1;\n",
       "        }\n",
       "        mouse_event_fn(event);\n",
       "    });\n",
       "\n",
       "    canvas_div.append(canvas);\n",
       "    canvas_div.append(rubberband);\n",
       "\n",
       "    this.rubberband = rubberband;\n",
       "    this.rubberband_canvas = rubberband[0];\n",
       "    this.rubberband_context = rubberband[0].getContext(\"2d\");\n",
       "    this.rubberband_context.strokeStyle = \"#000000\";\n",
       "\n",
       "    this._resize_canvas = function(width, height) {\n",
       "        // Keep the size of the canvas, canvas container, and rubber band\n",
       "        // canvas in synch.\n",
       "        canvas_div.css('width', width)\n",
       "        canvas_div.css('height', height)\n",
       "\n",
       "        canvas.attr('width', width * mpl.ratio);\n",
       "        canvas.attr('height', height * mpl.ratio);\n",
       "        canvas.attr('style', 'width: ' + width + 'px; height: ' + height + 'px;');\n",
       "\n",
       "        rubberband.attr('width', width);\n",
       "        rubberband.attr('height', height);\n",
       "    }\n",
       "\n",
       "    // Set the figure to an initial 600x600px, this will subsequently be updated\n",
       "    // upon first draw.\n",
       "    this._resize_canvas(600, 600);\n",
       "\n",
       "    // Disable right mouse context menu.\n",
       "    $(this.rubberband_canvas).bind(\"contextmenu\",function(e){\n",
       "        return false;\n",
       "    });\n",
       "\n",
       "    function set_focus () {\n",
       "        canvas.focus();\n",
       "        canvas_div.focus();\n",
       "    }\n",
       "\n",
       "    window.setTimeout(set_focus, 100);\n",
       "}\n",
       "\n",
       "mpl.figure.prototype._init_toolbar = function() {\n",
       "    var fig = this;\n",
       "\n",
       "    var nav_element = $('<div/>')\n",
       "    nav_element.attr('style', 'width: 100%');\n",
       "    this.root.append(nav_element);\n",
       "\n",
       "    // Define a callback function for later on.\n",
       "    function toolbar_event(event) {\n",
       "        return fig.toolbar_button_onclick(event['data']);\n",
       "    }\n",
       "    function toolbar_mouse_event(event) {\n",
       "        return fig.toolbar_button_onmouseover(event['data']);\n",
       "    }\n",
       "\n",
       "    for(var toolbar_ind in mpl.toolbar_items) {\n",
       "        var name = mpl.toolbar_items[toolbar_ind][0];\n",
       "        var tooltip = mpl.toolbar_items[toolbar_ind][1];\n",
       "        var image = mpl.toolbar_items[toolbar_ind][2];\n",
       "        var method_name = mpl.toolbar_items[toolbar_ind][3];\n",
       "\n",
       "        if (!name) {\n",
       "            // put a spacer in here.\n",
       "            continue;\n",
       "        }\n",
       "        var button = $('<button/>');\n",
       "        button.addClass('ui-button ui-widget ui-state-default ui-corner-all ' +\n",
       "                        'ui-button-icon-only');\n",
       "        button.attr('role', 'button');\n",
       "        button.attr('aria-disabled', 'false');\n",
       "        button.click(method_name, toolbar_event);\n",
       "        button.mouseover(tooltip, toolbar_mouse_event);\n",
       "\n",
       "        var icon_img = $('<span/>');\n",
       "        icon_img.addClass('ui-button-icon-primary ui-icon');\n",
       "        icon_img.addClass(image);\n",
       "        icon_img.addClass('ui-corner-all');\n",
       "\n",
       "        var tooltip_span = $('<span/>');\n",
       "        tooltip_span.addClass('ui-button-text');\n",
       "        tooltip_span.html(tooltip);\n",
       "\n",
       "        button.append(icon_img);\n",
       "        button.append(tooltip_span);\n",
       "\n",
       "        nav_element.append(button);\n",
       "    }\n",
       "\n",
       "    var fmt_picker_span = $('<span/>');\n",
       "\n",
       "    var fmt_picker = $('<select/>');\n",
       "    fmt_picker.addClass('mpl-toolbar-option ui-widget ui-widget-content');\n",
       "    fmt_picker_span.append(fmt_picker);\n",
       "    nav_element.append(fmt_picker_span);\n",
       "    this.format_dropdown = fmt_picker[0];\n",
       "\n",
       "    for (var ind in mpl.extensions) {\n",
       "        var fmt = mpl.extensions[ind];\n",
       "        var option = $(\n",
       "            '<option/>', {selected: fmt === mpl.default_extension}).html(fmt);\n",
       "        fmt_picker.append(option)\n",
       "    }\n",
       "\n",
       "    // Add hover states to the ui-buttons\n",
       "    $( \".ui-button\" ).hover(\n",
       "        function() { $(this).addClass(\"ui-state-hover\");},\n",
       "        function() { $(this).removeClass(\"ui-state-hover\");}\n",
       "    );\n",
       "\n",
       "    var status_bar = $('<span class=\"mpl-message\"/>');\n",
       "    nav_element.append(status_bar);\n",
       "    this.message = status_bar[0];\n",
       "}\n",
       "\n",
       "mpl.figure.prototype.request_resize = function(x_pixels, y_pixels) {\n",
       "    // Request matplotlib to resize the figure. Matplotlib will then trigger a resize in the client,\n",
       "    // which will in turn request a refresh of the image.\n",
       "    this.send_message('resize', {'width': x_pixels, 'height': y_pixels});\n",
       "}\n",
       "\n",
       "mpl.figure.prototype.send_message = function(type, properties) {\n",
       "    properties['type'] = type;\n",
       "    properties['figure_id'] = this.id;\n",
       "    this.ws.send(JSON.stringify(properties));\n",
       "}\n",
       "\n",
       "mpl.figure.prototype.send_draw_message = function() {\n",
       "    if (!this.waiting) {\n",
       "        this.waiting = true;\n",
       "        this.ws.send(JSON.stringify({type: \"draw\", figure_id: this.id}));\n",
       "    }\n",
       "}\n",
       "\n",
       "\n",
       "mpl.figure.prototype.handle_save = function(fig, msg) {\n",
       "    var format_dropdown = fig.format_dropdown;\n",
       "    var format = format_dropdown.options[format_dropdown.selectedIndex].value;\n",
       "    fig.ondownload(fig, format);\n",
       "}\n",
       "\n",
       "\n",
       "mpl.figure.prototype.handle_resize = function(fig, msg) {\n",
       "    var size = msg['size'];\n",
       "    if (size[0] != fig.canvas.width || size[1] != fig.canvas.height) {\n",
       "        fig._resize_canvas(size[0], size[1]);\n",
       "        fig.send_message(\"refresh\", {});\n",
       "    };\n",
       "}\n",
       "\n",
       "mpl.figure.prototype.handle_rubberband = function(fig, msg) {\n",
       "    var x0 = msg['x0'] / mpl.ratio;\n",
       "    var y0 = (fig.canvas.height - msg['y0']) / mpl.ratio;\n",
       "    var x1 = msg['x1'] / mpl.ratio;\n",
       "    var y1 = (fig.canvas.height - msg['y1']) / mpl.ratio;\n",
       "    x0 = Math.floor(x0) + 0.5;\n",
       "    y0 = Math.floor(y0) + 0.5;\n",
       "    x1 = Math.floor(x1) + 0.5;\n",
       "    y1 = Math.floor(y1) + 0.5;\n",
       "    var min_x = Math.min(x0, x1);\n",
       "    var min_y = Math.min(y0, y1);\n",
       "    var width = Math.abs(x1 - x0);\n",
       "    var height = Math.abs(y1 - y0);\n",
       "\n",
       "    fig.rubberband_context.clearRect(\n",
       "        0, 0, fig.canvas.width, fig.canvas.height);\n",
       "\n",
       "    fig.rubberband_context.strokeRect(min_x, min_y, width, height);\n",
       "}\n",
       "\n",
       "mpl.figure.prototype.handle_figure_label = function(fig, msg) {\n",
       "    // Updates the figure title.\n",
       "    fig.header.textContent = msg['label'];\n",
       "}\n",
       "\n",
       "mpl.figure.prototype.handle_cursor = function(fig, msg) {\n",
       "    var cursor = msg['cursor'];\n",
       "    switch(cursor)\n",
       "    {\n",
       "    case 0:\n",
       "        cursor = 'pointer';\n",
       "        break;\n",
       "    case 1:\n",
       "        cursor = 'default';\n",
       "        break;\n",
       "    case 2:\n",
       "        cursor = 'crosshair';\n",
       "        break;\n",
       "    case 3:\n",
       "        cursor = 'move';\n",
       "        break;\n",
       "    }\n",
       "    fig.rubberband_canvas.style.cursor = cursor;\n",
       "}\n",
       "\n",
       "mpl.figure.prototype.handle_message = function(fig, msg) {\n",
       "    fig.message.textContent = msg['message'];\n",
       "}\n",
       "\n",
       "mpl.figure.prototype.handle_draw = function(fig, msg) {\n",
       "    // Request the server to send over a new figure.\n",
       "    fig.send_draw_message();\n",
       "}\n",
       "\n",
       "mpl.figure.prototype.handle_image_mode = function(fig, msg) {\n",
       "    fig.image_mode = msg['mode'];\n",
       "}\n",
       "\n",
       "mpl.figure.prototype.updated_canvas_event = function() {\n",
       "    // Called whenever the canvas gets updated.\n",
       "    this.send_message(\"ack\", {});\n",
       "}\n",
       "\n",
       "// A function to construct a web socket function for onmessage handling.\n",
       "// Called in the figure constructor.\n",
       "mpl.figure.prototype._make_on_message_function = function(fig) {\n",
       "    return function socket_on_message(evt) {\n",
       "        if (evt.data instanceof Blob) {\n",
       "            /* FIXME: We get \"Resource interpreted as Image but\n",
       "             * transferred with MIME type text/plain:\" errors on\n",
       "             * Chrome.  But how to set the MIME type?  It doesn't seem\n",
       "             * to be part of the websocket stream */\n",
       "            evt.data.type = \"image/png\";\n",
       "\n",
       "            /* Free the memory for the previous frames */\n",
       "            if (fig.imageObj.src) {\n",
       "                (window.URL || window.webkitURL).revokeObjectURL(\n",
       "                    fig.imageObj.src);\n",
       "            }\n",
       "\n",
       "            fig.imageObj.src = (window.URL || window.webkitURL).createObjectURL(\n",
       "                evt.data);\n",
       "            fig.updated_canvas_event();\n",
       "            fig.waiting = false;\n",
       "            return;\n",
       "        }\n",
       "        else if (typeof evt.data === 'string' && evt.data.slice(0, 21) == \"data:image/png;base64\") {\n",
       "            fig.imageObj.src = evt.data;\n",
       "            fig.updated_canvas_event();\n",
       "            fig.waiting = false;\n",
       "            return;\n",
       "        }\n",
       "\n",
       "        var msg = JSON.parse(evt.data);\n",
       "        var msg_type = msg['type'];\n",
       "\n",
       "        // Call the  \"handle_{type}\" callback, which takes\n",
       "        // the figure and JSON message as its only arguments.\n",
       "        try {\n",
       "            var callback = fig[\"handle_\" + msg_type];\n",
       "        } catch (e) {\n",
       "            console.log(\"No handler for the '\" + msg_type + \"' message type: \", msg);\n",
       "            return;\n",
       "        }\n",
       "\n",
       "        if (callback) {\n",
       "            try {\n",
       "                // console.log(\"Handling '\" + msg_type + \"' message: \", msg);\n",
       "                callback(fig, msg);\n",
       "            } catch (e) {\n",
       "                console.log(\"Exception inside the 'handler_\" + msg_type + \"' callback:\", e, e.stack, msg);\n",
       "            }\n",
       "        }\n",
       "    };\n",
       "}\n",
       "\n",
       "// from http://stackoverflow.com/questions/1114465/getting-mouse-location-in-canvas\n",
       "mpl.findpos = function(e) {\n",
       "    //this section is from http://www.quirksmode.org/js/events_properties.html\n",
       "    var targ;\n",
       "    if (!e)\n",
       "        e = window.event;\n",
       "    if (e.target)\n",
       "        targ = e.target;\n",
       "    else if (e.srcElement)\n",
       "        targ = e.srcElement;\n",
       "    if (targ.nodeType == 3) // defeat Safari bug\n",
       "        targ = targ.parentNode;\n",
       "\n",
       "    // jQuery normalizes the pageX and pageY\n",
       "    // pageX,Y are the mouse positions relative to the document\n",
       "    // offset() returns the position of the element relative to the document\n",
       "    var x = e.pageX - $(targ).offset().left;\n",
       "    var y = e.pageY - $(targ).offset().top;\n",
       "\n",
       "    return {\"x\": x, \"y\": y};\n",
       "};\n",
       "\n",
       "/*\n",
       " * return a copy of an object with only non-object keys\n",
       " * we need this to avoid circular references\n",
       " * http://stackoverflow.com/a/24161582/3208463\n",
       " */\n",
       "function simpleKeys (original) {\n",
       "  return Object.keys(original).reduce(function (obj, key) {\n",
       "    if (typeof original[key] !== 'object')\n",
       "        obj[key] = original[key]\n",
       "    return obj;\n",
       "  }, {});\n",
       "}\n",
       "\n",
       "mpl.figure.prototype.mouse_event = function(event, name) {\n",
       "    var canvas_pos = mpl.findpos(event)\n",
       "\n",
       "    if (name === 'button_press')\n",
       "    {\n",
       "        this.canvas.focus();\n",
       "        this.canvas_div.focus();\n",
       "    }\n",
       "\n",
       "    var x = canvas_pos.x * mpl.ratio;\n",
       "    var y = canvas_pos.y * mpl.ratio;\n",
       "\n",
       "    this.send_message(name, {x: x, y: y, button: event.button,\n",
       "                             step: event.step,\n",
       "                             guiEvent: simpleKeys(event)});\n",
       "\n",
       "    /* This prevents the web browser from automatically changing to\n",
       "     * the text insertion cursor when the button is pressed.  We want\n",
       "     * to control all of the cursor setting manually through the\n",
       "     * 'cursor' event from matplotlib */\n",
       "    event.preventDefault();\n",
       "    return false;\n",
       "}\n",
       "\n",
       "mpl.figure.prototype._key_event_extra = function(event, name) {\n",
       "    // Handle any extra behaviour associated with a key event\n",
       "}\n",
       "\n",
       "mpl.figure.prototype.key_event = function(event, name) {\n",
       "\n",
       "    // Prevent repeat events\n",
       "    if (name == 'key_press')\n",
       "    {\n",
       "        if (event.which === this._key)\n",
       "            return;\n",
       "        else\n",
       "            this._key = event.which;\n",
       "    }\n",
       "    if (name == 'key_release')\n",
       "        this._key = null;\n",
       "\n",
       "    var value = '';\n",
       "    if (event.ctrlKey && event.which != 17)\n",
       "        value += \"ctrl+\";\n",
       "    if (event.altKey && event.which != 18)\n",
       "        value += \"alt+\";\n",
       "    if (event.shiftKey && event.which != 16)\n",
       "        value += \"shift+\";\n",
       "\n",
       "    value += 'k';\n",
       "    value += event.which.toString();\n",
       "\n",
       "    this._key_event_extra(event, name);\n",
       "\n",
       "    this.send_message(name, {key: value,\n",
       "                             guiEvent: simpleKeys(event)});\n",
       "    return false;\n",
       "}\n",
       "\n",
       "mpl.figure.prototype.toolbar_button_onclick = function(name) {\n",
       "    if (name == 'download') {\n",
       "        this.handle_save(this, null);\n",
       "    } else {\n",
       "        this.send_message(\"toolbar_button\", {name: name});\n",
       "    }\n",
       "};\n",
       "\n",
       "mpl.figure.prototype.toolbar_button_onmouseover = function(tooltip) {\n",
       "    this.message.textContent = tooltip;\n",
       "};\n",
       "mpl.toolbar_items = [[\"Home\", \"Reset original view\", \"fa fa-home icon-home\", \"home\"], [\"Back\", \"Back to  previous view\", \"fa fa-arrow-left icon-arrow-left\", \"back\"], [\"Forward\", \"Forward to next view\", \"fa fa-arrow-right icon-arrow-right\", \"forward\"], [\"\", \"\", \"\", \"\"], [\"Pan\", \"Pan axes with left mouse, zoom with right\", \"fa fa-arrows icon-move\", \"pan\"], [\"Zoom\", \"Zoom to rectangle\", \"fa fa-square-o icon-check-empty\", \"zoom\"], [\"\", \"\", \"\", \"\"], [\"Download\", \"Download plot\", \"fa fa-floppy-o icon-save\", \"download\"]];\n",
       "\n",
       "mpl.extensions = [\"eps\", \"jpeg\", \"pdf\", \"png\", \"ps\", \"raw\", \"svg\", \"tif\"];\n",
       "\n",
       "mpl.default_extension = \"png\";var comm_websocket_adapter = function(comm) {\n",
       "    // Create a \"websocket\"-like object which calls the given IPython comm\n",
       "    // object with the appropriate methods. Currently this is a non binary\n",
       "    // socket, so there is still some room for performance tuning.\n",
       "    var ws = {};\n",
       "\n",
       "    ws.close = function() {\n",
       "        comm.close()\n",
       "    };\n",
       "    ws.send = function(m) {\n",
       "        //console.log('sending', m);\n",
       "        comm.send(m);\n",
       "    };\n",
       "    // Register the callback with on_msg.\n",
       "    comm.on_msg(function(msg) {\n",
       "        //console.log('receiving', msg['content']['data'], msg);\n",
       "        // Pass the mpl event to the overriden (by mpl) onmessage function.\n",
       "        ws.onmessage(msg['content']['data'])\n",
       "    });\n",
       "    return ws;\n",
       "}\n",
       "\n",
       "mpl.mpl_figure_comm = function(comm, msg) {\n",
       "    // This is the function which gets called when the mpl process\n",
       "    // starts-up an IPython Comm through the \"matplotlib\" channel.\n",
       "\n",
       "    var id = msg.content.data.id;\n",
       "    // Get hold of the div created by the display call when the Comm\n",
       "    // socket was opened in Python.\n",
       "    var element = $(\"#\" + id);\n",
       "    var ws_proxy = comm_websocket_adapter(comm)\n",
       "\n",
       "    function ondownload(figure, format) {\n",
       "        window.open(figure.imageObj.src);\n",
       "    }\n",
       "\n",
       "    var fig = new mpl.figure(id, ws_proxy,\n",
       "                           ondownload,\n",
       "                           element.get(0));\n",
       "\n",
       "    // Call onopen now - mpl needs it, as it is assuming we've passed it a real\n",
       "    // web socket which is closed, not our websocket->open comm proxy.\n",
       "    ws_proxy.onopen();\n",
       "\n",
       "    fig.parent_element = element.get(0);\n",
       "    fig.cell_info = mpl.find_output_cell(\"<div id='\" + id + \"'></div>\");\n",
       "    if (!fig.cell_info) {\n",
       "        console.error(\"Failed to find cell for figure\", id, fig);\n",
       "        return;\n",
       "    }\n",
       "\n",
       "    var output_index = fig.cell_info[2]\n",
       "    var cell = fig.cell_info[0];\n",
       "\n",
       "};\n",
       "\n",
       "mpl.figure.prototype.handle_close = function(fig, msg) {\n",
       "    var width = fig.canvas.width/mpl.ratio\n",
       "    fig.root.unbind('remove')\n",
       "\n",
       "    // Update the output cell to use the data from the current canvas.\n",
       "    fig.push_to_output();\n",
       "    var dataURL = fig.canvas.toDataURL();\n",
       "    // Re-enable the keyboard manager in IPython - without this line, in FF,\n",
       "    // the notebook keyboard shortcuts fail.\n",
       "    IPython.keyboard_manager.enable()\n",
       "    $(fig.parent_element).html('<img src=\"' + dataURL + '\" width=\"' + width + '\">');\n",
       "    fig.close_ws(fig, msg);\n",
       "}\n",
       "\n",
       "mpl.figure.prototype.close_ws = function(fig, msg){\n",
       "    fig.send_message('closing', msg);\n",
       "    // fig.ws.close()\n",
       "}\n",
       "\n",
       "mpl.figure.prototype.push_to_output = function(remove_interactive) {\n",
       "    // Turn the data on the canvas into data in the output cell.\n",
       "    var width = this.canvas.width/mpl.ratio\n",
       "    var dataURL = this.canvas.toDataURL();\n",
       "    this.cell_info[1]['text/html'] = '<img src=\"' + dataURL + '\" width=\"' + width + '\">';\n",
       "}\n",
       "\n",
       "mpl.figure.prototype.updated_canvas_event = function() {\n",
       "    // Tell IPython that the notebook contents must change.\n",
       "    IPython.notebook.set_dirty(true);\n",
       "    this.send_message(\"ack\", {});\n",
       "    var fig = this;\n",
       "    // Wait a second, then push the new image to the DOM so\n",
       "    // that it is saved nicely (might be nice to debounce this).\n",
       "    setTimeout(function () { fig.push_to_output() }, 1000);\n",
       "}\n",
       "\n",
       "mpl.figure.prototype._init_toolbar = function() {\n",
       "    var fig = this;\n",
       "\n",
       "    var nav_element = $('<div/>')\n",
       "    nav_element.attr('style', 'width: 100%');\n",
       "    this.root.append(nav_element);\n",
       "\n",
       "    // Define a callback function for later on.\n",
       "    function toolbar_event(event) {\n",
       "        return fig.toolbar_button_onclick(event['data']);\n",
       "    }\n",
       "    function toolbar_mouse_event(event) {\n",
       "        return fig.toolbar_button_onmouseover(event['data']);\n",
       "    }\n",
       "\n",
       "    for(var toolbar_ind in mpl.toolbar_items){\n",
       "        var name = mpl.toolbar_items[toolbar_ind][0];\n",
       "        var tooltip = mpl.toolbar_items[toolbar_ind][1];\n",
       "        var image = mpl.toolbar_items[toolbar_ind][2];\n",
       "        var method_name = mpl.toolbar_items[toolbar_ind][3];\n",
       "\n",
       "        if (!name) { continue; };\n",
       "\n",
       "        var button = $('<button class=\"btn btn-default\" href=\"#\" title=\"' + name + '\"><i class=\"fa ' + image + ' fa-lg\"></i></button>');\n",
       "        button.click(method_name, toolbar_event);\n",
       "        button.mouseover(tooltip, toolbar_mouse_event);\n",
       "        nav_element.append(button);\n",
       "    }\n",
       "\n",
       "    // Add the status bar.\n",
       "    var status_bar = $('<span class=\"mpl-message\" style=\"text-align:right; float: right;\"/>');\n",
       "    nav_element.append(status_bar);\n",
       "    this.message = status_bar[0];\n",
       "\n",
       "    // Add the close button to the window.\n",
       "    var buttongrp = $('<div class=\"btn-group inline pull-right\"></div>');\n",
       "    var button = $('<button class=\"btn btn-mini btn-primary\" href=\"#\" title=\"Stop Interaction\"><i class=\"fa fa-power-off icon-remove icon-large\"></i></button>');\n",
       "    button.click(function (evt) { fig.handle_close(fig, {}); } );\n",
       "    button.mouseover('Stop Interaction', toolbar_mouse_event);\n",
       "    buttongrp.append(button);\n",
       "    var titlebar = this.root.find($('.ui-dialog-titlebar'));\n",
       "    titlebar.prepend(buttongrp);\n",
       "}\n",
       "\n",
       "mpl.figure.prototype._root_extra_style = function(el){\n",
       "    var fig = this\n",
       "    el.on(\"remove\", function(){\n",
       "\tfig.close_ws(fig, {});\n",
       "    });\n",
       "}\n",
       "\n",
       "mpl.figure.prototype._canvas_extra_style = function(el){\n",
       "    // this is important to make the div 'focusable\n",
       "    el.attr('tabindex', 0)\n",
       "    // reach out to IPython and tell the keyboard manager to turn it's self\n",
       "    // off when our div gets focus\n",
       "\n",
       "    // location in version 3\n",
       "    if (IPython.notebook.keyboard_manager) {\n",
       "        IPython.notebook.keyboard_manager.register_events(el);\n",
       "    }\n",
       "    else {\n",
       "        // location in version 2\n",
       "        IPython.keyboard_manager.register_events(el);\n",
       "    }\n",
       "\n",
       "}\n",
       "\n",
       "mpl.figure.prototype._key_event_extra = function(event, name) {\n",
       "    var manager = IPython.notebook.keyboard_manager;\n",
       "    if (!manager)\n",
       "        manager = IPython.keyboard_manager;\n",
       "\n",
       "    // Check for shift+enter\n",
       "    if (event.shiftKey && event.which == 13) {\n",
       "        this.canvas_div.blur();\n",
       "        // select the cell after this one\n",
       "        var index = IPython.notebook.find_cell_index(this.cell_info[0]);\n",
       "        IPython.notebook.select(index + 1);\n",
       "    }\n",
       "}\n",
       "\n",
       "mpl.figure.prototype.handle_save = function(fig, msg) {\n",
       "    fig.ondownload(fig, null);\n",
       "}\n",
       "\n",
       "\n",
       "mpl.find_output_cell = function(html_output) {\n",
       "    // Return the cell and output element which can be found *uniquely* in the notebook.\n",
       "    // Note - this is a bit hacky, but it is done because the \"notebook_saving.Notebook\"\n",
       "    // IPython event is triggered only after the cells have been serialised, which for\n",
       "    // our purposes (turning an active figure into a static one), is too late.\n",
       "    var cells = IPython.notebook.get_cells();\n",
       "    var ncells = cells.length;\n",
       "    for (var i=0; i<ncells; i++) {\n",
       "        var cell = cells[i];\n",
       "        if (cell.cell_type === 'code'){\n",
       "            for (var j=0; j<cell.output_area.outputs.length; j++) {\n",
       "                var data = cell.output_area.outputs[j];\n",
       "                if (data.data) {\n",
       "                    // IPython >= 3 moved mimebundle to data attribute of output\n",
       "                    data = data.data;\n",
       "                }\n",
       "                if (data['text/html'] == html_output) {\n",
       "                    return [cell, data, j];\n",
       "                }\n",
       "            }\n",
       "        }\n",
       "    }\n",
       "}\n",
       "\n",
       "// Register the function which deals with the matplotlib target/channel.\n",
       "// The kernel may be null if the page has been refreshed.\n",
       "if (IPython.notebook.kernel != null) {\n",
       "    IPython.notebook.kernel.comm_manager.register_target('matplotlib', mpl.mpl_figure_comm);\n",
       "}\n"
      ],
      "text/plain": [
       "<IPython.core.display.Javascript object>"
      ]
     },
     "metadata": {},
     "output_type": "display_data"
    },
    {
     "data": {
      "text/html": [
       "<img src=\"data:image/png;base64,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\" width=\"640\">"
      ],
      "text/plain": [
       "<IPython.core.display.HTML object>"
      ]
     },
     "metadata": {},
     "output_type": "display_data"
    },
    {
     "data": {
      "application/vnd.jupyter.widget-view+json": {
       "model_id": "50fc8a261db24f27abf66df6346442de"
      }
     },
     "metadata": {},
     "output_type": "display_data"
    }
   ],
   "source": [
    "# Guess some reasonable parameter values.\n",
    "# All distances are in meters.\n",
    "# The center of the mirror is the origin of the coordinate system.\n",
    "parameters = \\\n",
    "{'animal_y':0.0,\n",
    "'animal_z':0.5,\n",
    "'dome_y':0.0,\n",
    "'dome_z':0.3,\n",
    "'dome_radius':0.7,\n",
    "'mirror_radius':0.2,\n",
    "'projector_y':0.9,\n",
    "'projector_z':0.1,\n",
    "'projector_roll':0.0,\n",
    "'projector_theta':0.2,\n",
    "'projector_vertical_offset':0.1}\n",
    "\n",
    "def value_to_range(value):\n",
    "    return (value - 0.2, value + 0.2, 0.001)\n",
    "ranges = dict([[key, value_to_range(parameters[key])] for key in parameters])\n",
    "\n",
    "# update the filename and projector resolution below\n",
    "green_dots_filename = \"green_dots.txt\"\n",
    "projector_resolution = (1280, 720)\n",
    "psearch = ParameterSearch(green_dots_filename, *projector_resolution)\n",
    "sliders = interactive(psearch.update, **ranges)\n",
    "HBox([VBox(sliders.children[0:4]), VBox(sliders.children[4:8]), VBox(sliders.children[8:])])"
   ]
  },
  {
   "cell_type": "code",
   "execution_count": 52,
   "metadata": {
    "collapsed": false
   },
   "outputs": [
    {
     "data": {
      "application/vnd.jupyter.widget-view+json": {
       "model_id": "3c687c02ba76448eadad03c0d4270ded"
      }
     },
     "metadata": {},
     "output_type": "display_data"
    }
   ],
   "source": [
    "def save_parameters(b):\n",
    "    file = open('initial_parameters.txt', 'w'); file.write(str(sliders.kwargs)); file.close()\n",
    "button = Button(description = 'Save Initial Parameters')\n",
    "button.on_click(save_parameters)\n",
    "display(button)"
   ]
  }
 ],
 "metadata": {
  "kernelspec": {
   "display_name": "Python 2",
   "language": "python",
   "name": "python2"
  },
  "language_info": {
   "codemirror_mode": {
    "name": "ipython",
    "version": 2
   },
   "file_extension": ".py",
   "mimetype": "text/x-python",
   "name": "python",
   "nbconvert_exporter": "python",
   "pygments_lexer": "ipython2",
   "version": "2.7.13"
  },
  "widgets": {
   "state": {
    "09875c31a9154ebe87b31b95aa581310": {
     "views": []
    },
    "0b218c22c3e34d0293990f8934fb0bdd": {
     "views": []
    },
    "0caa39bc3dd249dabfdf5af7ffc03d2c": {
     "views": []
    },
    "16657318d91f4c7f91025f8fe3211703": {
     "views": []
    },
    "19379ffaec7f445faa184de24a29ca0e": {
     "views": []
    },
    "1a22ad54c6084ddda91c2ffa6b4153a6": {
     "views": []
    },
    "1c8507f06be84a7dab4e70d5258b41ff": {
     "views": []
    },
    "1cfdaee90ffd4afd9d1e22e5f4503f62": {
     "views": []
    },
    "1fab24a952794e87b44d15b96bc8d505": {
     "views": []
    },
    "21586773f25f4cc795cae7bbf784f128": {
     "views": []
    },
    "23aef5db57334d53850c6501be8494fd": {
     "views": []
    },
    "2687a0396ed8435c9f6f970e04a0cd0b": {
     "views": []
    },
    "281a2a423d634ca8a731f509c746ba8b": {
     "views": []
    },
    "2870fa6771bb431aa758b54caff07f9f": {
     "views": []
    },
    "30ac2fad0e3b43028d16a3e3a41d1837": {
     "views": []
    },
    "42d798bab95f43e689d5fc83cc62f522": {
     "views": []
    },
    "45a45214704d4c379407fc082114addd": {
     "views": []
    },
    "4708e2898cf64bceac2f8d04a89e9387": {
     "views": []
    },
    "4c8fd0979bfc44398708e2a1475a2f9d": {
     "views": []
    },
    "4eb5550a9224451e82f35c997b03e824": {
     "views": []
    },
    "4f62132cac024cbc932f87dc36a8115a": {
     "views": []
    },
    "5213a993d89d4d86b1da4eda2814f7d6": {
     "views": []
    },
    "53baf262e3df422ca4fe94d5b990f3e6": {
     "views": []
    },
    "53c5b59ee38a455ea2141c6da3e67c39": {
     "views": []
    },
    "54632940b4814cc5833dac60cfabc993": {
     "views": []
    },
    "5b4b34d7c9df41f1b62954cf9071969f": {
     "views": []
    },
    "5c5a68c3347444089a8725831f15d771": {
     "views": []
    },
    "5d3453faf1394890ae4012b1afbdb291": {
     "views": []
    },
    "62bdf9e8225d4590909fbb482cd5d980": {
     "views": []
    },
    "637dacb2b0d646fab252c93af5d7cf81": {
     "views": []
    },
    "64a2473426ce4a14bd98e9d94c74480b": {
     "views": []
    },
    "73695ce38a304d189e0876f581193584": {
     "views": []
    },
    "7468713896ff433a9773daa2b9738c91": {
     "views": [
      {
       "cell_index": 4
      }
     ]
    },
    "74a79ac07b094b79b822849cbf772e41": {
     "views": []
    },
    "77f8f15980034c818fa80154dbd184b4": {
     "views": []
    },
    "795380a83f9c4aae9f25cb070eff9cde": {
     "views": []
    },
    "7eb1093d13e347c6b3e63c1b62630b65": {
     "views": []
    },
    "7f808f1884c842db8d4b571cd3ea5c89": {
     "views": []
    },
    "7f99eee3712f48b9a384f5e799a7aff5": {
     "views": []
    },
    "80cc3cde94374073b4179e6bc74bb950": {
     "views": []
    },
    "86eb803d08eb4ad3b57273fd022719e3": {
     "views": []
    },
    "899aec350d1e4c61a46faa84639079ac": {
     "views": []
    },
    "8af7b623e59b48df843c756c6a9d91d2": {
     "views": []
    },
    "8f6cdd0f0f1041e486b4a71edb7941be": {
     "views": []
    },
    "943a74b8fb9e4207bbf97d8576813df4": {
     "views": []
    },
    "95216e4bf8814cda932c5727db2b4320": {
     "views": []
    },
    "99bdbd2c7b7042f296acca1b916bd07b": {
     "views": []
    },
    "9d19ef372de6457a88ca0b4fa29282e5": {
     "views": []
    },
    "9db0a82b90964442bef67700c98efcc0": {
     "views": []
    },
    "9deb97b921cb44d8bbd746eafcfd5431": {
     "views": []
    },
    "9e1652931c214cfa9de2b9381315e64a": {
     "views": []
    },
    "9ebbb557c35e44c9a45242a59a82a7b0": {
     "views": []
    },
    "a4e55514c07d46508d9dd474959a23e5": {
     "views": []
    },
    "a7ed85ff16d444678abc04fc815c8cb7": {
     "views": []
    },
    "a98063fab26b4f7c989a6fca0e56d08e": {
     "views": []
    },
    "a9d281072eb6440ca874493b1712aac6": {
     "views": []
    },
    "aaa1cb8f0059400e8d30844cebde4484": {
     "views": []
    },
    "ae45ca9971e24a579e6a9126368fcbb1": {
     "views": []
    },
    "b043edf61cea472694c2d82d8aa35a6d": {
     "views": []
    },
    "b1271f2d2c644ad1a194e970983ef435": {
     "views": []
    },
    "b669990a6fc54e6dbfef4d8e4abbe7c0": {
     "views": []
    },
    "b711babe10ef46cc84e1ec3a2baa6eab": {
     "views": []
    },
    "b96dadab4a2342439ba476c10bb1a05a": {
     "views": []
    },
    "b9833e79a8414525b9c5fa23e77f85ad": {
     "views": []
    },
    "babf49f7ddc04d02baa3b291939b7f50": {
     "views": []
    },
    "bc125551485f490d8a03632da6188b89": {
     "views": []
    },
    "c14a52d76d0b445fbef1f4ba0e90226a": {
     "views": []
    },
    "c1d1056c702b4747b5c6513fd157bb69": {
     "views": []
    },
    "c298d19cf5f84be2b64dcc8ae067b439": {
     "views": []
    },
    "c32f29a97aae42ce94adf7f0bea94c8d": {
     "views": []
    },
    "c45ce6271d6f4df682d82c771dcf1cee": {
     "views": []
    },
    "c5a5816eada4469dbac8ddcdb68e222c": {
     "views": []
    },
    "cd6cd3d8b2174b7896e3fddcd26f4d82": {
     "views": []
    },
    "cf9b71ee09aa41f99f36268b1078b318": {
     "views": []
    },
    "d1d8d1f104f44b919b3f753b06499045": {
     "views": []
    },
    "d1e8653990fc4810a2a45cf881a62856": {
     "views": []
    },
    "d4414b06d00c45899b9d347586d0a1bf": {
     "views": []
    },
    "d5c97b5e342a4f79b728014a68b2d60e": {
     "views": []
    },
    "de12cf83f3364558b1f577cc323030b4": {
     "views": []
    },
    "e1129aa7db814714a754a443d9c149a1": {
     "views": []
    },
    "e266bf467a734d029633d1b4b4b4900f": {
     "views": []
    },
    "e39dea2a6a9547bd8128263817de37d4": {
     "views": []
    },
    "e3e9900514054a57a219a3029859ece7": {
     "views": []
    },
    "e506bc49e1b84fa4aa996a4f60c81508": {
     "views": []
    },
    "ecf35cde496248e99ba9c9f3faccd7cc": {
     "views": []
    },
    "edd39dec0b54401f9aac3d90b027dd56": {
     "views": []
    },
    "ef1de0aa8bf2487f8bc00369b4438341": {
     "views": []
    },
    "efd55004b06b4005bb749705ee480be4": {
     "views": []
    },
    "f1628ae1ec704cd2953052c6a8121d19": {
     "views": []
    },
    "f38107dbcb1f44949ba385bfa5e8325f": {
     "views": []
    },
    "f5831828c0754611a7f2bfb5d2ef3a1f": {
     "views": []
    },
    "f750644b1806413bbd406f60059ee994": {
     "views": []
    },
    "fd7a4ef7e0d745eb955841782e058329": {
     "views": []
    },
    "fda9688ff83e41d7bcb5b54ca57d3505": {
     "views": []
    },
    "fdd434b0b9644f22bc48b9969d42625c": {
     "views": []
    },
    "fdda403506144d25917ee6ae49e498e3": {
     "views": []
    }
   },
   "version": "1.1.2"
  }
 },
 "nbformat": 4,
 "nbformat_minor": 0
}
