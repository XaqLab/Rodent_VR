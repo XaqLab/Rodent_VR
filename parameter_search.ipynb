{
 "cells": [
  {
   "cell_type": "code",
   "execution_count": 327,
   "metadata": {
    "collapsed": false,
    "deletable": true,
    "editable": true
   },
   "outputs": [],
   "source": [
    "%matplotlib notebook\n",
    "import matplotlib.pyplot as plt\n",
    "from IPython.display import display\n",
    "from ipywidgets import interactive, HBox, VBox, Button\n",
    "from parameter_search import ParameterSearch"
   ]
  },
  {
   "cell_type": "code",
   "execution_count": 328,
   "metadata": {
    "collapsed": false,
    "deletable": true,
    "editable": true,
    "scrolled": true
   },
   "outputs": [
    {
     "data": {
      "application/javascript": [
       "/* Put everything inside the global mpl namespace */\n",
       "window.mpl = {};\n",
       "\n",
       "\n",
       "mpl.get_websocket_type = function() {\n",
       "    if (typeof(WebSocket) !== 'undefined') {\n",
       "        return WebSocket;\n",
       "    } else if (typeof(MozWebSocket) !== 'undefined') {\n",
       "        return MozWebSocket;\n",
       "    } else {\n",
       "        alert('Your browser does not have WebSocket support.' +\n",
       "              'Please try Chrome, Safari or Firefox ≥ 6. ' +\n",
       "              'Firefox 4 and 5 are also supported but you ' +\n",
       "              'have to enable WebSockets in about:config.');\n",
       "    };\n",
       "}\n",
       "\n",
       "mpl.figure = function(figure_id, websocket, ondownload, parent_element) {\n",
       "    this.id = figure_id;\n",
       "\n",
       "    this.ws = websocket;\n",
       "\n",
       "    this.supports_binary = (this.ws.binaryType != undefined);\n",
       "\n",
       "    if (!this.supports_binary) {\n",
       "        var warnings = document.getElementById(\"mpl-warnings\");\n",
       "        if (warnings) {\n",
       "            warnings.style.display = 'block';\n",
       "            warnings.textContent = (\n",
       "                \"This browser does not support binary websocket messages. \" +\n",
       "                    \"Performance may be slow.\");\n",
       "        }\n",
       "    }\n",
       "\n",
       "    this.imageObj = new Image();\n",
       "\n",
       "    this.context = undefined;\n",
       "    this.message = undefined;\n",
       "    this.canvas = undefined;\n",
       "    this.rubberband_canvas = undefined;\n",
       "    this.rubberband_context = undefined;\n",
       "    this.format_dropdown = undefined;\n",
       "\n",
       "    this.image_mode = 'full';\n",
       "\n",
       "    this.root = $('<div/>');\n",
       "    this._root_extra_style(this.root)\n",
       "    this.root.attr('style', 'display: inline-block');\n",
       "\n",
       "    $(parent_element).append(this.root);\n",
       "\n",
       "    this._init_header(this);\n",
       "    this._init_canvas(this);\n",
       "    this._init_toolbar(this);\n",
       "\n",
       "    var fig = this;\n",
       "\n",
       "    this.waiting = false;\n",
       "\n",
       "    this.ws.onopen =  function () {\n",
       "            fig.send_message(\"supports_binary\", {value: fig.supports_binary});\n",
       "            fig.send_message(\"send_image_mode\", {});\n",
       "            if (mpl.ratio != 1) {\n",
       "                fig.send_message(\"set_dpi_ratio\", {'dpi_ratio': mpl.ratio});\n",
       "            }\n",
       "            fig.send_message(\"refresh\", {});\n",
       "        }\n",
       "\n",
       "    this.imageObj.onload = function() {\n",
       "            if (fig.image_mode == 'full') {\n",
       "                // Full images could contain transparency (where diff images\n",
       "                // almost always do), so we need to clear the canvas so that\n",
       "                // there is no ghosting.\n",
       "                fig.context.clearRect(0, 0, fig.canvas.width, fig.canvas.height);\n",
       "            }\n",
       "            fig.context.drawImage(fig.imageObj, 0, 0);\n",
       "        };\n",
       "\n",
       "    this.imageObj.onunload = function() {\n",
       "        this.ws.close();\n",
       "    }\n",
       "\n",
       "    this.ws.onmessage = this._make_on_message_function(this);\n",
       "\n",
       "    this.ondownload = ondownload;\n",
       "}\n",
       "\n",
       "mpl.figure.prototype._init_header = function() {\n",
       "    var titlebar = $(\n",
       "        '<div class=\"ui-dialog-titlebar ui-widget-header ui-corner-all ' +\n",
       "        'ui-helper-clearfix\"/>');\n",
       "    var titletext = $(\n",
       "        '<div class=\"ui-dialog-title\" style=\"width: 100%; ' +\n",
       "        'text-align: center; padding: 3px;\"/>');\n",
       "    titlebar.append(titletext)\n",
       "    this.root.append(titlebar);\n",
       "    this.header = titletext[0];\n",
       "}\n",
       "\n",
       "\n",
       "\n",
       "mpl.figure.prototype._canvas_extra_style = function(canvas_div) {\n",
       "\n",
       "}\n",
       "\n",
       "\n",
       "mpl.figure.prototype._root_extra_style = function(canvas_div) {\n",
       "\n",
       "}\n",
       "\n",
       "mpl.figure.prototype._init_canvas = function() {\n",
       "    var fig = this;\n",
       "\n",
       "    var canvas_div = $('<div/>');\n",
       "\n",
       "    canvas_div.attr('style', 'position: relative; clear: both; outline: 0');\n",
       "\n",
       "    function canvas_keyboard_event(event) {\n",
       "        return fig.key_event(event, event['data']);\n",
       "    }\n",
       "\n",
       "    canvas_div.keydown('key_press', canvas_keyboard_event);\n",
       "    canvas_div.keyup('key_release', canvas_keyboard_event);\n",
       "    this.canvas_div = canvas_div\n",
       "    this._canvas_extra_style(canvas_div)\n",
       "    this.root.append(canvas_div);\n",
       "\n",
       "    var canvas = $('<canvas/>');\n",
       "    canvas.addClass('mpl-canvas');\n",
       "    canvas.attr('style', \"left: 0; top: 0; z-index: 0; outline: 0\")\n",
       "\n",
       "    this.canvas = canvas[0];\n",
       "    this.context = canvas[0].getContext(\"2d\");\n",
       "\n",
       "    var backingStore = this.context.backingStorePixelRatio ||\n",
       "\tthis.context.webkitBackingStorePixelRatio ||\n",
       "\tthis.context.mozBackingStorePixelRatio ||\n",
       "\tthis.context.msBackingStorePixelRatio ||\n",
       "\tthis.context.oBackingStorePixelRatio ||\n",
       "\tthis.context.backingStorePixelRatio || 1;\n",
       "\n",
       "    mpl.ratio = (window.devicePixelRatio || 1) / backingStore;\n",
       "\n",
       "    var rubberband = $('<canvas/>');\n",
       "    rubberband.attr('style', \"position: absolute; left: 0; top: 0; z-index: 1;\")\n",
       "\n",
       "    var pass_mouse_events = true;\n",
       "\n",
       "    canvas_div.resizable({\n",
       "        start: function(event, ui) {\n",
       "            pass_mouse_events = false;\n",
       "        },\n",
       "        resize: function(event, ui) {\n",
       "            fig.request_resize(ui.size.width, ui.size.height);\n",
       "        },\n",
       "        stop: function(event, ui) {\n",
       "            pass_mouse_events = true;\n",
       "            fig.request_resize(ui.size.width, ui.size.height);\n",
       "        },\n",
       "    });\n",
       "\n",
       "    function mouse_event_fn(event) {\n",
       "        if (pass_mouse_events)\n",
       "            return fig.mouse_event(event, event['data']);\n",
       "    }\n",
       "\n",
       "    rubberband.mousedown('button_press', mouse_event_fn);\n",
       "    rubberband.mouseup('button_release', mouse_event_fn);\n",
       "    // Throttle sequential mouse events to 1 every 20ms.\n",
       "    rubberband.mousemove('motion_notify', mouse_event_fn);\n",
       "\n",
       "    rubberband.mouseenter('figure_enter', mouse_event_fn);\n",
       "    rubberband.mouseleave('figure_leave', mouse_event_fn);\n",
       "\n",
       "    canvas_div.on(\"wheel\", function (event) {\n",
       "        event = event.originalEvent;\n",
       "        event['data'] = 'scroll'\n",
       "        if (event.deltaY < 0) {\n",
       "            event.step = 1;\n",
       "        } else {\n",
       "            event.step = -1;\n",
       "        }\n",
       "        mouse_event_fn(event);\n",
       "    });\n",
       "\n",
       "    canvas_div.append(canvas);\n",
       "    canvas_div.append(rubberband);\n",
       "\n",
       "    this.rubberband = rubberband;\n",
       "    this.rubberband_canvas = rubberband[0];\n",
       "    this.rubberband_context = rubberband[0].getContext(\"2d\");\n",
       "    this.rubberband_context.strokeStyle = \"#000000\";\n",
       "\n",
       "    this._resize_canvas = function(width, height) {\n",
       "        // Keep the size of the canvas, canvas container, and rubber band\n",
       "        // canvas in synch.\n",
       "        canvas_div.css('width', width)\n",
       "        canvas_div.css('height', height)\n",
       "\n",
       "        canvas.attr('width', width * mpl.ratio);\n",
       "        canvas.attr('height', height * mpl.ratio);\n",
       "        canvas.attr('style', 'width: ' + width + 'px; height: ' + height + 'px;');\n",
       "\n",
       "        rubberband.attr('width', width);\n",
       "        rubberband.attr('height', height);\n",
       "    }\n",
       "\n",
       "    // Set the figure to an initial 600x600px, this will subsequently be updated\n",
       "    // upon first draw.\n",
       "    this._resize_canvas(600, 600);\n",
       "\n",
       "    // Disable right mouse context menu.\n",
       "    $(this.rubberband_canvas).bind(\"contextmenu\",function(e){\n",
       "        return false;\n",
       "    });\n",
       "\n",
       "    function set_focus () {\n",
       "        canvas.focus();\n",
       "        canvas_div.focus();\n",
       "    }\n",
       "\n",
       "    window.setTimeout(set_focus, 100);\n",
       "}\n",
       "\n",
       "mpl.figure.prototype._init_toolbar = function() {\n",
       "    var fig = this;\n",
       "\n",
       "    var nav_element = $('<div/>')\n",
       "    nav_element.attr('style', 'width: 100%');\n",
       "    this.root.append(nav_element);\n",
       "\n",
       "    // Define a callback function for later on.\n",
       "    function toolbar_event(event) {\n",
       "        return fig.toolbar_button_onclick(event['data']);\n",
       "    }\n",
       "    function toolbar_mouse_event(event) {\n",
       "        return fig.toolbar_button_onmouseover(event['data']);\n",
       "    }\n",
       "\n",
       "    for(var toolbar_ind in mpl.toolbar_items) {\n",
       "        var name = mpl.toolbar_items[toolbar_ind][0];\n",
       "        var tooltip = mpl.toolbar_items[toolbar_ind][1];\n",
       "        var image = mpl.toolbar_items[toolbar_ind][2];\n",
       "        var method_name = mpl.toolbar_items[toolbar_ind][3];\n",
       "\n",
       "        if (!name) {\n",
       "            // put a spacer in here.\n",
       "            continue;\n",
       "        }\n",
       "        var button = $('<button/>');\n",
       "        button.addClass('ui-button ui-widget ui-state-default ui-corner-all ' +\n",
       "                        'ui-button-icon-only');\n",
       "        button.attr('role', 'button');\n",
       "        button.attr('aria-disabled', 'false');\n",
       "        button.click(method_name, toolbar_event);\n",
       "        button.mouseover(tooltip, toolbar_mouse_event);\n",
       "\n",
       "        var icon_img = $('<span/>');\n",
       "        icon_img.addClass('ui-button-icon-primary ui-icon');\n",
       "        icon_img.addClass(image);\n",
       "        icon_img.addClass('ui-corner-all');\n",
       "\n",
       "        var tooltip_span = $('<span/>');\n",
       "        tooltip_span.addClass('ui-button-text');\n",
       "        tooltip_span.html(tooltip);\n",
       "\n",
       "        button.append(icon_img);\n",
       "        button.append(tooltip_span);\n",
       "\n",
       "        nav_element.append(button);\n",
       "    }\n",
       "\n",
       "    var fmt_picker_span = $('<span/>');\n",
       "\n",
       "    var fmt_picker = $('<select/>');\n",
       "    fmt_picker.addClass('mpl-toolbar-option ui-widget ui-widget-content');\n",
       "    fmt_picker_span.append(fmt_picker);\n",
       "    nav_element.append(fmt_picker_span);\n",
       "    this.format_dropdown = fmt_picker[0];\n",
       "\n",
       "    for (var ind in mpl.extensions) {\n",
       "        var fmt = mpl.extensions[ind];\n",
       "        var option = $(\n",
       "            '<option/>', {selected: fmt === mpl.default_extension}).html(fmt);\n",
       "        fmt_picker.append(option)\n",
       "    }\n",
       "\n",
       "    // Add hover states to the ui-buttons\n",
       "    $( \".ui-button\" ).hover(\n",
       "        function() { $(this).addClass(\"ui-state-hover\");},\n",
       "        function() { $(this).removeClass(\"ui-state-hover\");}\n",
       "    );\n",
       "\n",
       "    var status_bar = $('<span class=\"mpl-message\"/>');\n",
       "    nav_element.append(status_bar);\n",
       "    this.message = status_bar[0];\n",
       "}\n",
       "\n",
       "mpl.figure.prototype.request_resize = function(x_pixels, y_pixels) {\n",
       "    // Request matplotlib to resize the figure. Matplotlib will then trigger a resize in the client,\n",
       "    // which will in turn request a refresh of the image.\n",
       "    this.send_message('resize', {'width': x_pixels, 'height': y_pixels});\n",
       "}\n",
       "\n",
       "mpl.figure.prototype.send_message = function(type, properties) {\n",
       "    properties['type'] = type;\n",
       "    properties['figure_id'] = this.id;\n",
       "    this.ws.send(JSON.stringify(properties));\n",
       "}\n",
       "\n",
       "mpl.figure.prototype.send_draw_message = function() {\n",
       "    if (!this.waiting) {\n",
       "        this.waiting = true;\n",
       "        this.ws.send(JSON.stringify({type: \"draw\", figure_id: this.id}));\n",
       "    }\n",
       "}\n",
       "\n",
       "\n",
       "mpl.figure.prototype.handle_save = function(fig, msg) {\n",
       "    var format_dropdown = fig.format_dropdown;\n",
       "    var format = format_dropdown.options[format_dropdown.selectedIndex].value;\n",
       "    fig.ondownload(fig, format);\n",
       "}\n",
       "\n",
       "\n",
       "mpl.figure.prototype.handle_resize = function(fig, msg) {\n",
       "    var size = msg['size'];\n",
       "    if (size[0] != fig.canvas.width || size[1] != fig.canvas.height) {\n",
       "        fig._resize_canvas(size[0], size[1]);\n",
       "        fig.send_message(\"refresh\", {});\n",
       "    };\n",
       "}\n",
       "\n",
       "mpl.figure.prototype.handle_rubberband = function(fig, msg) {\n",
       "    var x0 = msg['x0'] / mpl.ratio;\n",
       "    var y0 = (fig.canvas.height - msg['y0']) / mpl.ratio;\n",
       "    var x1 = msg['x1'] / mpl.ratio;\n",
       "    var y1 = (fig.canvas.height - msg['y1']) / mpl.ratio;\n",
       "    x0 = Math.floor(x0) + 0.5;\n",
       "    y0 = Math.floor(y0) + 0.5;\n",
       "    x1 = Math.floor(x1) + 0.5;\n",
       "    y1 = Math.floor(y1) + 0.5;\n",
       "    var min_x = Math.min(x0, x1);\n",
       "    var min_y = Math.min(y0, y1);\n",
       "    var width = Math.abs(x1 - x0);\n",
       "    var height = Math.abs(y1 - y0);\n",
       "\n",
       "    fig.rubberband_context.clearRect(\n",
       "        0, 0, fig.canvas.width, fig.canvas.height);\n",
       "\n",
       "    fig.rubberband_context.strokeRect(min_x, min_y, width, height);\n",
       "}\n",
       "\n",
       "mpl.figure.prototype.handle_figure_label = function(fig, msg) {\n",
       "    // Updates the figure title.\n",
       "    fig.header.textContent = msg['label'];\n",
       "}\n",
       "\n",
       "mpl.figure.prototype.handle_cursor = function(fig, msg) {\n",
       "    var cursor = msg['cursor'];\n",
       "    switch(cursor)\n",
       "    {\n",
       "    case 0:\n",
       "        cursor = 'pointer';\n",
       "        break;\n",
       "    case 1:\n",
       "        cursor = 'default';\n",
       "        break;\n",
       "    case 2:\n",
       "        cursor = 'crosshair';\n",
       "        break;\n",
       "    case 3:\n",
       "        cursor = 'move';\n",
       "        break;\n",
       "    }\n",
       "    fig.rubberband_canvas.style.cursor = cursor;\n",
       "}\n",
       "\n",
       "mpl.figure.prototype.handle_message = function(fig, msg) {\n",
       "    fig.message.textContent = msg['message'];\n",
       "}\n",
       "\n",
       "mpl.figure.prototype.handle_draw = function(fig, msg) {\n",
       "    // Request the server to send over a new figure.\n",
       "    fig.send_draw_message();\n",
       "}\n",
       "\n",
       "mpl.figure.prototype.handle_image_mode = function(fig, msg) {\n",
       "    fig.image_mode = msg['mode'];\n",
       "}\n",
       "\n",
       "mpl.figure.prototype.updated_canvas_event = function() {\n",
       "    // Called whenever the canvas gets updated.\n",
       "    this.send_message(\"ack\", {});\n",
       "}\n",
       "\n",
       "// A function to construct a web socket function for onmessage handling.\n",
       "// Called in the figure constructor.\n",
       "mpl.figure.prototype._make_on_message_function = function(fig) {\n",
       "    return function socket_on_message(evt) {\n",
       "        if (evt.data instanceof Blob) {\n",
       "            /* FIXME: We get \"Resource interpreted as Image but\n",
       "             * transferred with MIME type text/plain:\" errors on\n",
       "             * Chrome.  But how to set the MIME type?  It doesn't seem\n",
       "             * to be part of the websocket stream */\n",
       "            evt.data.type = \"image/png\";\n",
       "\n",
       "            /* Free the memory for the previous frames */\n",
       "            if (fig.imageObj.src) {\n",
       "                (window.URL || window.webkitURL).revokeObjectURL(\n",
       "                    fig.imageObj.src);\n",
       "            }\n",
       "\n",
       "            fig.imageObj.src = (window.URL || window.webkitURL).createObjectURL(\n",
       "                evt.data);\n",
       "            fig.updated_canvas_event();\n",
       "            fig.waiting = false;\n",
       "            return;\n",
       "        }\n",
       "        else if (typeof evt.data === 'string' && evt.data.slice(0, 21) == \"data:image/png;base64\") {\n",
       "            fig.imageObj.src = evt.data;\n",
       "            fig.updated_canvas_event();\n",
       "            fig.waiting = false;\n",
       "            return;\n",
       "        }\n",
       "\n",
       "        var msg = JSON.parse(evt.data);\n",
       "        var msg_type = msg['type'];\n",
       "\n",
       "        // Call the  \"handle_{type}\" callback, which takes\n",
       "        // the figure and JSON message as its only arguments.\n",
       "        try {\n",
       "            var callback = fig[\"handle_\" + msg_type];\n",
       "        } catch (e) {\n",
       "            console.log(\"No handler for the '\" + msg_type + \"' message type: \", msg);\n",
       "            return;\n",
       "        }\n",
       "\n",
       "        if (callback) {\n",
       "            try {\n",
       "                // console.log(\"Handling '\" + msg_type + \"' message: \", msg);\n",
       "                callback(fig, msg);\n",
       "            } catch (e) {\n",
       "                console.log(\"Exception inside the 'handler_\" + msg_type + \"' callback:\", e, e.stack, msg);\n",
       "            }\n",
       "        }\n",
       "    };\n",
       "}\n",
       "\n",
       "// from http://stackoverflow.com/questions/1114465/getting-mouse-location-in-canvas\n",
       "mpl.findpos = function(e) {\n",
       "    //this section is from http://www.quirksmode.org/js/events_properties.html\n",
       "    var targ;\n",
       "    if (!e)\n",
       "        e = window.event;\n",
       "    if (e.target)\n",
       "        targ = e.target;\n",
       "    else if (e.srcElement)\n",
       "        targ = e.srcElement;\n",
       "    if (targ.nodeType == 3) // defeat Safari bug\n",
       "        targ = targ.parentNode;\n",
       "\n",
       "    // jQuery normalizes the pageX and pageY\n",
       "    // pageX,Y are the mouse positions relative to the document\n",
       "    // offset() returns the position of the element relative to the document\n",
       "    var x = e.pageX - $(targ).offset().left;\n",
       "    var y = e.pageY - $(targ).offset().top;\n",
       "\n",
       "    return {\"x\": x, \"y\": y};\n",
       "};\n",
       "\n",
       "/*\n",
       " * return a copy of an object with only non-object keys\n",
       " * we need this to avoid circular references\n",
       " * http://stackoverflow.com/a/24161582/3208463\n",
       " */\n",
       "function simpleKeys (original) {\n",
       "  return Object.keys(original).reduce(function (obj, key) {\n",
       "    if (typeof original[key] !== 'object')\n",
       "        obj[key] = original[key]\n",
       "    return obj;\n",
       "  }, {});\n",
       "}\n",
       "\n",
       "mpl.figure.prototype.mouse_event = function(event, name) {\n",
       "    var canvas_pos = mpl.findpos(event)\n",
       "\n",
       "    if (name === 'button_press')\n",
       "    {\n",
       "        this.canvas.focus();\n",
       "        this.canvas_div.focus();\n",
       "    }\n",
       "\n",
       "    var x = canvas_pos.x * mpl.ratio;\n",
       "    var y = canvas_pos.y * mpl.ratio;\n",
       "\n",
       "    this.send_message(name, {x: x, y: y, button: event.button,\n",
       "                             step: event.step,\n",
       "                             guiEvent: simpleKeys(event)});\n",
       "\n",
       "    /* This prevents the web browser from automatically changing to\n",
       "     * the text insertion cursor when the button is pressed.  We want\n",
       "     * to control all of the cursor setting manually through the\n",
       "     * 'cursor' event from matplotlib */\n",
       "    event.preventDefault();\n",
       "    return false;\n",
       "}\n",
       "\n",
       "mpl.figure.prototype._key_event_extra = function(event, name) {\n",
       "    // Handle any extra behaviour associated with a key event\n",
       "}\n",
       "\n",
       "mpl.figure.prototype.key_event = function(event, name) {\n",
       "\n",
       "    // Prevent repeat events\n",
       "    if (name == 'key_press')\n",
       "    {\n",
       "        if (event.which === this._key)\n",
       "            return;\n",
       "        else\n",
       "            this._key = event.which;\n",
       "    }\n",
       "    if (name == 'key_release')\n",
       "        this._key = null;\n",
       "\n",
       "    var value = '';\n",
       "    if (event.ctrlKey && event.which != 17)\n",
       "        value += \"ctrl+\";\n",
       "    if (event.altKey && event.which != 18)\n",
       "        value += \"alt+\";\n",
       "    if (event.shiftKey && event.which != 16)\n",
       "        value += \"shift+\";\n",
       "\n",
       "    value += 'k';\n",
       "    value += event.which.toString();\n",
       "\n",
       "    this._key_event_extra(event, name);\n",
       "\n",
       "    this.send_message(name, {key: value,\n",
       "                             guiEvent: simpleKeys(event)});\n",
       "    return false;\n",
       "}\n",
       "\n",
       "mpl.figure.prototype.toolbar_button_onclick = function(name) {\n",
       "    if (name == 'download') {\n",
       "        this.handle_save(this, null);\n",
       "    } else {\n",
       "        this.send_message(\"toolbar_button\", {name: name});\n",
       "    }\n",
       "};\n",
       "\n",
       "mpl.figure.prototype.toolbar_button_onmouseover = function(tooltip) {\n",
       "    this.message.textContent = tooltip;\n",
       "};\n",
       "mpl.toolbar_items = [[\"Home\", \"Reset original view\", \"fa fa-home icon-home\", \"home\"], [\"Back\", \"Back to  previous view\", \"fa fa-arrow-left icon-arrow-left\", \"back\"], [\"Forward\", \"Forward to next view\", \"fa fa-arrow-right icon-arrow-right\", \"forward\"], [\"\", \"\", \"\", \"\"], [\"Pan\", \"Pan axes with left mouse, zoom with right\", \"fa fa-arrows icon-move\", \"pan\"], [\"Zoom\", \"Zoom to rectangle\", \"fa fa-square-o icon-check-empty\", \"zoom\"], [\"\", \"\", \"\", \"\"], [\"Download\", \"Download plot\", \"fa fa-floppy-o icon-save\", \"download\"]];\n",
       "\n",
       "mpl.extensions = [\"eps\", \"jpeg\", \"pdf\", \"png\", \"ps\", \"raw\", \"svg\", \"tif\"];\n",
       "\n",
       "mpl.default_extension = \"png\";var comm_websocket_adapter = function(comm) {\n",
       "    // Create a \"websocket\"-like object which calls the given IPython comm\n",
       "    // object with the appropriate methods. Currently this is a non binary\n",
       "    // socket, so there is still some room for performance tuning.\n",
       "    var ws = {};\n",
       "\n",
       "    ws.close = function() {\n",
       "        comm.close()\n",
       "    };\n",
       "    ws.send = function(m) {\n",
       "        //console.log('sending', m);\n",
       "        comm.send(m);\n",
       "    };\n",
       "    // Register the callback with on_msg.\n",
       "    comm.on_msg(function(msg) {\n",
       "        //console.log('receiving', msg['content']['data'], msg);\n",
       "        // Pass the mpl event to the overriden (by mpl) onmessage function.\n",
       "        ws.onmessage(msg['content']['data'])\n",
       "    });\n",
       "    return ws;\n",
       "}\n",
       "\n",
       "mpl.mpl_figure_comm = function(comm, msg) {\n",
       "    // This is the function which gets called when the mpl process\n",
       "    // starts-up an IPython Comm through the \"matplotlib\" channel.\n",
       "\n",
       "    var id = msg.content.data.id;\n",
       "    // Get hold of the div created by the display call when the Comm\n",
       "    // socket was opened in Python.\n",
       "    var element = $(\"#\" + id);\n",
       "    var ws_proxy = comm_websocket_adapter(comm)\n",
       "\n",
       "    function ondownload(figure, format) {\n",
       "        window.open(figure.imageObj.src);\n",
       "    }\n",
       "\n",
       "    var fig = new mpl.figure(id, ws_proxy,\n",
       "                           ondownload,\n",
       "                           element.get(0));\n",
       "\n",
       "    // Call onopen now - mpl needs it, as it is assuming we've passed it a real\n",
       "    // web socket which is closed, not our websocket->open comm proxy.\n",
       "    ws_proxy.onopen();\n",
       "\n",
       "    fig.parent_element = element.get(0);\n",
       "    fig.cell_info = mpl.find_output_cell(\"<div id='\" + id + \"'></div>\");\n",
       "    if (!fig.cell_info) {\n",
       "        console.error(\"Failed to find cell for figure\", id, fig);\n",
       "        return;\n",
       "    }\n",
       "\n",
       "    var output_index = fig.cell_info[2]\n",
       "    var cell = fig.cell_info[0];\n",
       "\n",
       "};\n",
       "\n",
       "mpl.figure.prototype.handle_close = function(fig, msg) {\n",
       "    var width = fig.canvas.width/mpl.ratio\n",
       "    fig.root.unbind('remove')\n",
       "\n",
       "    // Update the output cell to use the data from the current canvas.\n",
       "    fig.push_to_output();\n",
       "    var dataURL = fig.canvas.toDataURL();\n",
       "    // Re-enable the keyboard manager in IPython - without this line, in FF,\n",
       "    // the notebook keyboard shortcuts fail.\n",
       "    IPython.keyboard_manager.enable()\n",
       "    $(fig.parent_element).html('<img src=\"' + dataURL + '\" width=\"' + width + '\">');\n",
       "    fig.close_ws(fig, msg);\n",
       "}\n",
       "\n",
       "mpl.figure.prototype.close_ws = function(fig, msg){\n",
       "    fig.send_message('closing', msg);\n",
       "    // fig.ws.close()\n",
       "}\n",
       "\n",
       "mpl.figure.prototype.push_to_output = function(remove_interactive) {\n",
       "    // Turn the data on the canvas into data in the output cell.\n",
       "    var width = this.canvas.width/mpl.ratio\n",
       "    var dataURL = this.canvas.toDataURL();\n",
       "    this.cell_info[1]['text/html'] = '<img src=\"' + dataURL + '\" width=\"' + width + '\">';\n",
       "}\n",
       "\n",
       "mpl.figure.prototype.updated_canvas_event = function() {\n",
       "    // Tell IPython that the notebook contents must change.\n",
       "    IPython.notebook.set_dirty(true);\n",
       "    this.send_message(\"ack\", {});\n",
       "    var fig = this;\n",
       "    // Wait a second, then push the new image to the DOM so\n",
       "    // that it is saved nicely (might be nice to debounce this).\n",
       "    setTimeout(function () { fig.push_to_output() }, 1000);\n",
       "}\n",
       "\n",
       "mpl.figure.prototype._init_toolbar = function() {\n",
       "    var fig = this;\n",
       "\n",
       "    var nav_element = $('<div/>')\n",
       "    nav_element.attr('style', 'width: 100%');\n",
       "    this.root.append(nav_element);\n",
       "\n",
       "    // Define a callback function for later on.\n",
       "    function toolbar_event(event) {\n",
       "        return fig.toolbar_button_onclick(event['data']);\n",
       "    }\n",
       "    function toolbar_mouse_event(event) {\n",
       "        return fig.toolbar_button_onmouseover(event['data']);\n",
       "    }\n",
       "\n",
       "    for(var toolbar_ind in mpl.toolbar_items){\n",
       "        var name = mpl.toolbar_items[toolbar_ind][0];\n",
       "        var tooltip = mpl.toolbar_items[toolbar_ind][1];\n",
       "        var image = mpl.toolbar_items[toolbar_ind][2];\n",
       "        var method_name = mpl.toolbar_items[toolbar_ind][3];\n",
       "\n",
       "        if (!name) { continue; };\n",
       "\n",
       "        var button = $('<button class=\"btn btn-default\" href=\"#\" title=\"' + name + '\"><i class=\"fa ' + image + ' fa-lg\"></i></button>');\n",
       "        button.click(method_name, toolbar_event);\n",
       "        button.mouseover(tooltip, toolbar_mouse_event);\n",
       "        nav_element.append(button);\n",
       "    }\n",
       "\n",
       "    // Add the status bar.\n",
       "    var status_bar = $('<span class=\"mpl-message\" style=\"text-align:right; float: right;\"/>');\n",
       "    nav_element.append(status_bar);\n",
       "    this.message = status_bar[0];\n",
       "\n",
       "    // Add the close button to the window.\n",
       "    var buttongrp = $('<div class=\"btn-group inline pull-right\"></div>');\n",
       "    var button = $('<button class=\"btn btn-mini btn-primary\" href=\"#\" title=\"Stop Interaction\"><i class=\"fa fa-power-off icon-remove icon-large\"></i></button>');\n",
       "    button.click(function (evt) { fig.handle_close(fig, {}); } );\n",
       "    button.mouseover('Stop Interaction', toolbar_mouse_event);\n",
       "    buttongrp.append(button);\n",
       "    var titlebar = this.root.find($('.ui-dialog-titlebar'));\n",
       "    titlebar.prepend(buttongrp);\n",
       "}\n",
       "\n",
       "mpl.figure.prototype._root_extra_style = function(el){\n",
       "    var fig = this\n",
       "    el.on(\"remove\", function(){\n",
       "\tfig.close_ws(fig, {});\n",
       "    });\n",
       "}\n",
       "\n",
       "mpl.figure.prototype._canvas_extra_style = function(el){\n",
       "    // this is important to make the div 'focusable\n",
       "    el.attr('tabindex', 0)\n",
       "    // reach out to IPython and tell the keyboard manager to turn it's self\n",
       "    // off when our div gets focus\n",
       "\n",
       "    // location in version 3\n",
       "    if (IPython.notebook.keyboard_manager) {\n",
       "        IPython.notebook.keyboard_manager.register_events(el);\n",
       "    }\n",
       "    else {\n",
       "        // location in version 2\n",
       "        IPython.keyboard_manager.register_events(el);\n",
       "    }\n",
       "\n",
       "}\n",
       "\n",
       "mpl.figure.prototype._key_event_extra = function(event, name) {\n",
       "    var manager = IPython.notebook.keyboard_manager;\n",
       "    if (!manager)\n",
       "        manager = IPython.keyboard_manager;\n",
       "\n",
       "    // Check for shift+enter\n",
       "    if (event.shiftKey && event.which == 13) {\n",
       "        this.canvas_div.blur();\n",
       "        // select the cell after this one\n",
       "        var index = IPython.notebook.find_cell_index(this.cell_info[0]);\n",
       "        IPython.notebook.select(index + 1);\n",
       "    }\n",
       "}\n",
       "\n",
       "mpl.figure.prototype.handle_save = function(fig, msg) {\n",
       "    fig.ondownload(fig, null);\n",
       "}\n",
       "\n",
       "\n",
       "mpl.find_output_cell = function(html_output) {\n",
       "    // Return the cell and output element which can be found *uniquely* in the notebook.\n",
       "    // Note - this is a bit hacky, but it is done because the \"notebook_saving.Notebook\"\n",
       "    // IPython event is triggered only after the cells have been serialised, which for\n",
       "    // our purposes (turning an active figure into a static one), is too late.\n",
       "    var cells = IPython.notebook.get_cells();\n",
       "    var ncells = cells.length;\n",
       "    for (var i=0; i<ncells; i++) {\n",
       "        var cell = cells[i];\n",
       "        if (cell.cell_type === 'code'){\n",
       "            for (var j=0; j<cell.output_area.outputs.length; j++) {\n",
       "                var data = cell.output_area.outputs[j];\n",
       "                if (data.data) {\n",
       "                    // IPython >= 3 moved mimebundle to data attribute of output\n",
       "                    data = data.data;\n",
       "                }\n",
       "                if (data['text/html'] == html_output) {\n",
       "                    return [cell, data, j];\n",
       "                }\n",
       "            }\n",
       "        }\n",
       "    }\n",
       "}\n",
       "\n",
       "// Register the function which deals with the matplotlib target/channel.\n",
       "// The kernel may be null if the page has been refreshed.\n",
       "if (IPython.notebook.kernel != null) {\n",
       "    IPython.notebook.kernel.comm_manager.register_target('matplotlib', mpl.mpl_figure_comm);\n",
       "}\n"
      ],
      "text/plain": [
       "<IPython.core.display.Javascript object>"
      ]
     },
     "metadata": {},
     "output_type": "display_data"
    },
    {
     "data": {
      "text/html": [
       "<img src=\"data:image/png;base64,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\" width=\"800\">"
      ],
      "text/plain": [
       "<IPython.core.display.HTML object>"
      ]
     },
     "metadata": {},
     "output_type": "display_data"
    },
    {
     "data": {
      "application/vnd.jupyter.widget-view+json": {
       "model_id": "b92879d8ae954045b347c324373d5401"
      }
     },
     "metadata": {},
     "output_type": "display_data"
    }
   ],
   "source": [
    "# Update the filename and projector resolution here.\n",
    "green_dots_filename = \"green_dots.txt\"\n",
    "projector_resolution = (1280, 720)\n",
    "\n",
    "# Enter your best parameter estimates here.\n",
    "# Searching an 11 dimensional space can be quite difficult.\n",
    "# The better your estimates, the easier it will be. \n",
    "# Take the time to measure the parameters that can be measured easily.\n",
    "# All distances are in meters, projector_roll and projector_theta are in radians.\n",
    "# The center of the mirror is the origin of the coordinate system.\n",
    "parameters = \\\n",
    "{'animal_y':0.0,\n",
    "'animal_z':0.5,\n",
    "'dome_y':0.0,\n",
    "'dome_z':0.3,\n",
    "'dome_radius':0.7,\n",
    "'mirror_radius':0.2,\n",
    "'projector_y':0.9,\n",
    "'projector_z':0.1,\n",
    "'projector_roll':0.0,\n",
    "'projector_theta':0.2,\n",
    "'projector_vertical_offset':0.1}\n",
    "\n",
    "def value_to_range(value):\n",
    "    return (value - 0.2, value + 0.2, 0.001)\n",
    "ranges = dict([[key, value_to_range(parameters[key])] for key in parameters])\n",
    "\n",
    "psearch = ParameterSearch(green_dots_filename, *projector_resolution)\n",
    "sliders = interactive(psearch.update, **ranges)\n",
    "HBox([VBox(sliders.children[0:4]), VBox(sliders.children[4:8]), VBox(sliders.children[8:])])"
   ]
  },
  {
   "cell_type": "code",
   "execution_count": 329,
   "metadata": {
    "collapsed": false,
    "deletable": true,
    "editable": true
   },
   "outputs": [
    {
     "data": {
      "application/vnd.jupyter.widget-view+json": {
       "model_id": "fa895c0f96a24f0a91d371bdf341c4b0"
      }
     },
     "metadata": {},
     "output_type": "display_data"
    }
   ],
   "source": [
    "def save_parameters(b):\n",
    "    file = open('initial_parameters.txt', 'w'); file.write(str(sliders.kwargs)); file.close()\n",
    "button = Button(description = 'Save Initial Parameters')\n",
    "button.on_click(save_parameters)\n",
    "display(button)"
   ]
  }
 ],
 "metadata": {
  "kernelspec": {
   "display_name": "Python 2",
   "language": "python",
   "name": "python2"
  },
  "language_info": {
   "codemirror_mode": {
    "name": "ipython",
    "version": 2
   },
   "file_extension": ".py",
   "mimetype": "text/x-python",
   "name": "python",
   "nbconvert_exporter": "python",
   "pygments_lexer": "ipython2",
   "version": "2.7.13"
  },
  "widgets": {
   "state": {
    "09875c31a9154ebe87b31b95aa581310": {
     "views": []
    },
    "0b218c22c3e34d0293990f8934fb0bdd": {
     "views": []
    },
    "0caa39bc3dd249dabfdf5af7ffc03d2c": {
     "views": []
    },
    "16657318d91f4c7f91025f8fe3211703": {
     "views": []
    },
    "19379ffaec7f445faa184de24a29ca0e": {
     "views": []
    },
    "1a22ad54c6084ddda91c2ffa6b4153a6": {
     "views": []
    },
    "1c8507f06be84a7dab4e70d5258b41ff": {
     "views": []
    },
    "1cfdaee90ffd4afd9d1e22e5f4503f62": {
     "views": []
    },
    "1fab24a952794e87b44d15b96bc8d505": {
     "views": []
    },
    "21586773f25f4cc795cae7bbf784f128": {
     "views": []
    },
    "23aef5db57334d53850c6501be8494fd": {
     "views": []
    },
    "2687a0396ed8435c9f6f970e04a0cd0b": {
     "views": []
    },
    "281a2a423d634ca8a731f509c746ba8b": {
     "views": []
    },
    "2870fa6771bb431aa758b54caff07f9f": {
     "views": []
    },
    "30ac2fad0e3b43028d16a3e3a41d1837": {
     "views": []
    },
    "42d798bab95f43e689d5fc83cc62f522": {
     "views": []
    },
    "45a45214704d4c379407fc082114addd": {
     "views": []
    },
    "4708e2898cf64bceac2f8d04a89e9387": {
     "views": []
    },
    "4c8fd0979bfc44398708e2a1475a2f9d": {
     "views": []
    },
    "4eb5550a9224451e82f35c997b03e824": {
     "views": []
    },
    "4f62132cac024cbc932f87dc36a8115a": {
     "views": []
    },
    "5213a993d89d4d86b1da4eda2814f7d6": {
     "views": []
    },
    "53baf262e3df422ca4fe94d5b990f3e6": {
     "views": []
    },
    "53c5b59ee38a455ea2141c6da3e67c39": {
     "views": []
    },
    "54632940b4814cc5833dac60cfabc993": {
     "views": []
    },
    "5b4b34d7c9df41f1b62954cf9071969f": {
     "views": []
    },
    "5c5a68c3347444089a8725831f15d771": {
     "views": []
    },
    "5d3453faf1394890ae4012b1afbdb291": {
     "views": []
    },
    "62bdf9e8225d4590909fbb482cd5d980": {
     "views": []
    },
    "637dacb2b0d646fab252c93af5d7cf81": {
     "views": []
    },
    "64a2473426ce4a14bd98e9d94c74480b": {
     "views": []
    },
    "73695ce38a304d189e0876f581193584": {
     "views": []
    },
    "7468713896ff433a9773daa2b9738c91": {
     "views": [
      {
       "cell_index": 4
      }
     ]
    },
    "74a79ac07b094b79b822849cbf772e41": {
     "views": []
    },
    "77f8f15980034c818fa80154dbd184b4": {
     "views": []
    },
    "795380a83f9c4aae9f25cb070eff9cde": {
     "views": []
    },
    "7eb1093d13e347c6b3e63c1b62630b65": {
     "views": []
    },
    "7f808f1884c842db8d4b571cd3ea5c89": {
     "views": []
    },
    "7f99eee3712f48b9a384f5e799a7aff5": {
     "views": []
    },
    "80cc3cde94374073b4179e6bc74bb950": {
     "views": []
    },
    "86eb803d08eb4ad3b57273fd022719e3": {
     "views": []
    },
    "899aec350d1e4c61a46faa84639079ac": {
     "views": []
    },
    "8af7b623e59b48df843c756c6a9d91d2": {
     "views": []
    },
    "8f6cdd0f0f1041e486b4a71edb7941be": {
     "views": []
    },
    "943a74b8fb9e4207bbf97d8576813df4": {
     "views": []
    },
    "95216e4bf8814cda932c5727db2b4320": {
     "views": []
    },
    "99bdbd2c7b7042f296acca1b916bd07b": {
     "views": []
    },
    "9d19ef372de6457a88ca0b4fa29282e5": {
     "views": []
    },
    "9db0a82b90964442bef67700c98efcc0": {
     "views": []
    },
    "9deb97b921cb44d8bbd746eafcfd5431": {
     "views": []
    },
    "9e1652931c214cfa9de2b9381315e64a": {
     "views": []
    },
    "9ebbb557c35e44c9a45242a59a82a7b0": {
     "views": []
    },
    "a4e55514c07d46508d9dd474959a23e5": {
     "views": []
    },
    "a7ed85ff16d444678abc04fc815c8cb7": {
     "views": []
    },
    "a98063fab26b4f7c989a6fca0e56d08e": {
     "views": []
    },
    "a9d281072eb6440ca874493b1712aac6": {
     "views": []
    },
    "aaa1cb8f0059400e8d30844cebde4484": {
     "views": []
    },
    "ae45ca9971e24a579e6a9126368fcbb1": {
     "views": []
    },
    "b043edf61cea472694c2d82d8aa35a6d": {
     "views": []
    },
    "b1271f2d2c644ad1a194e970983ef435": {
     "views": []
    },
    "b669990a6fc54e6dbfef4d8e4abbe7c0": {
     "views": []
    },
    "b711babe10ef46cc84e1ec3a2baa6eab": {
     "views": []
    },
    "b96dadab4a2342439ba476c10bb1a05a": {
     "views": []
    },
    "b9833e79a8414525b9c5fa23e77f85ad": {
     "views": []
    },
    "babf49f7ddc04d02baa3b291939b7f50": {
     "views": []
    },
    "bc125551485f490d8a03632da6188b89": {
     "views": []
    },
    "c14a52d76d0b445fbef1f4ba0e90226a": {
     "views": []
    },
    "c1d1056c702b4747b5c6513fd157bb69": {
     "views": []
    },
    "c298d19cf5f84be2b64dcc8ae067b439": {
     "views": []
    },
    "c32f29a97aae42ce94adf7f0bea94c8d": {
     "views": []
    },
    "c45ce6271d6f4df682d82c771dcf1cee": {
     "views": []
    },
    "c5a5816eada4469dbac8ddcdb68e222c": {
     "views": []
    },
    "cd6cd3d8b2174b7896e3fddcd26f4d82": {
     "views": []
    },
    "cf9b71ee09aa41f99f36268b1078b318": {
     "views": []
    },
    "d1d8d1f104f44b919b3f753b06499045": {
     "views": []
    },
    "d1e8653990fc4810a2a45cf881a62856": {
     "views": []
    },
    "d4414b06d00c45899b9d347586d0a1bf": {
     "views": []
    },
    "d5c97b5e342a4f79b728014a68b2d60e": {
     "views": []
    },
    "de12cf83f3364558b1f577cc323030b4": {
     "views": []
    },
    "e1129aa7db814714a754a443d9c149a1": {
     "views": []
    },
    "e266bf467a734d029633d1b4b4b4900f": {
     "views": []
    },
    "e39dea2a6a9547bd8128263817de37d4": {
     "views": []
    },
    "e3e9900514054a57a219a3029859ece7": {
     "views": []
    },
    "e506bc49e1b84fa4aa996a4f60c81508": {
     "views": []
    },
    "ecf35cde496248e99ba9c9f3faccd7cc": {
     "views": []
    },
    "edd39dec0b54401f9aac3d90b027dd56": {
     "views": []
    },
    "ef1de0aa8bf2487f8bc00369b4438341": {
     "views": []
    },
    "efd55004b06b4005bb749705ee480be4": {
     "views": []
    },
    "f1628ae1ec704cd2953052c6a8121d19": {
     "views": []
    },
    "f38107dbcb1f44949ba385bfa5e8325f": {
     "views": []
    },
    "f5831828c0754611a7f2bfb5d2ef3a1f": {
     "views": []
    },
    "f750644b1806413bbd406f60059ee994": {
     "views": []
    },
    "fd7a4ef7e0d745eb955841782e058329": {
     "views": []
    },
    "fda9688ff83e41d7bcb5b54ca57d3505": {
     "views": []
    },
    "fdd434b0b9644f22bc48b9969d42625c": {
     "views": []
    },
    "fdda403506144d25917ee6ae49e498e3": {
     "views": []
    }
   },
   "version": "1.1.2"
  }
 },
 "nbformat": 4,
 "nbformat_minor": 0
}
