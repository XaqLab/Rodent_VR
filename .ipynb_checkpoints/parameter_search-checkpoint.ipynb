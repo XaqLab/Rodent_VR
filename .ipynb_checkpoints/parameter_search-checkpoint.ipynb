{
 "cells": [
  {
   "cell_type": "code",
   "execution_count": 96,
   "metadata": {
    "collapsed": false,
    "deletable": true,
    "editable": true
   },
   "outputs": [],
   "source": [
    "%matplotlib notebook\n",
    "import matplotlib.pyplot as plt\n",
    "from ipywidgets import interact\n",
    "from parameter_search import ParameterSearch"
   ]
  },
  {
   "cell_type": "code",
   "execution_count": 97,
   "metadata": {
    "collapsed": false,
    "deletable": true,
    "editable": true
   },
   "outputs": [
    {
     "data": {
      "application/javascript": [
       "/* Put everything inside the global mpl namespace */\n",
       "window.mpl = {};\n",
       "\n",
       "\n",
       "mpl.get_websocket_type = function() {\n",
       "    if (typeof(WebSocket) !== 'undefined') {\n",
       "        return WebSocket;\n",
       "    } else if (typeof(MozWebSocket) !== 'undefined') {\n",
       "        return MozWebSocket;\n",
       "    } else {\n",
       "        alert('Your browser does not have WebSocket support.' +\n",
       "              'Please try Chrome, Safari or Firefox ≥ 6. ' +\n",
       "              'Firefox 4 and 5 are also supported but you ' +\n",
       "              'have to enable WebSockets in about:config.');\n",
       "    };\n",
       "}\n",
       "\n",
       "mpl.figure = function(figure_id, websocket, ondownload, parent_element) {\n",
       "    this.id = figure_id;\n",
       "\n",
       "    this.ws = websocket;\n",
       "\n",
       "    this.supports_binary = (this.ws.binaryType != undefined);\n",
       "\n",
       "    if (!this.supports_binary) {\n",
       "        var warnings = document.getElementById(\"mpl-warnings\");\n",
       "        if (warnings) {\n",
       "            warnings.style.display = 'block';\n",
       "            warnings.textContent = (\n",
       "                \"This browser does not support binary websocket messages. \" +\n",
       "                    \"Performance may be slow.\");\n",
       "        }\n",
       "    }\n",
       "\n",
       "    this.imageObj = new Image();\n",
       "\n",
       "    this.context = undefined;\n",
       "    this.message = undefined;\n",
       "    this.canvas = undefined;\n",
       "    this.rubberband_canvas = undefined;\n",
       "    this.rubberband_context = undefined;\n",
       "    this.format_dropdown = undefined;\n",
       "\n",
       "    this.image_mode = 'full';\n",
       "\n",
       "    this.root = $('<div/>');\n",
       "    this._root_extra_style(this.root)\n",
       "    this.root.attr('style', 'display: inline-block');\n",
       "\n",
       "    $(parent_element).append(this.root);\n",
       "\n",
       "    this._init_header(this);\n",
       "    this._init_canvas(this);\n",
       "    this._init_toolbar(this);\n",
       "\n",
       "    var fig = this;\n",
       "\n",
       "    this.waiting = false;\n",
       "\n",
       "    this.ws.onopen =  function () {\n",
       "            fig.send_message(\"supports_binary\", {value: fig.supports_binary});\n",
       "            fig.send_message(\"send_image_mode\", {});\n",
       "            if (mpl.ratio != 1) {\n",
       "                fig.send_message(\"set_dpi_ratio\", {'dpi_ratio': mpl.ratio});\n",
       "            }\n",
       "            fig.send_message(\"refresh\", {});\n",
       "        }\n",
       "\n",
       "    this.imageObj.onload = function() {\n",
       "            if (fig.image_mode == 'full') {\n",
       "                // Full images could contain transparency (where diff images\n",
       "                // almost always do), so we need to clear the canvas so that\n",
       "                // there is no ghosting.\n",
       "                fig.context.clearRect(0, 0, fig.canvas.width, fig.canvas.height);\n",
       "            }\n",
       "            fig.context.drawImage(fig.imageObj, 0, 0);\n",
       "        };\n",
       "\n",
       "    this.imageObj.onunload = function() {\n",
       "        this.ws.close();\n",
       "    }\n",
       "\n",
       "    this.ws.onmessage = this._make_on_message_function(this);\n",
       "\n",
       "    this.ondownload = ondownload;\n",
       "}\n",
       "\n",
       "mpl.figure.prototype._init_header = function() {\n",
       "    var titlebar = $(\n",
       "        '<div class=\"ui-dialog-titlebar ui-widget-header ui-corner-all ' +\n",
       "        'ui-helper-clearfix\"/>');\n",
       "    var titletext = $(\n",
       "        '<div class=\"ui-dialog-title\" style=\"width: 100%; ' +\n",
       "        'text-align: center; padding: 3px;\"/>');\n",
       "    titlebar.append(titletext)\n",
       "    this.root.append(titlebar);\n",
       "    this.header = titletext[0];\n",
       "}\n",
       "\n",
       "\n",
       "\n",
       "mpl.figure.prototype._canvas_extra_style = function(canvas_div) {\n",
       "\n",
       "}\n",
       "\n",
       "\n",
       "mpl.figure.prototype._root_extra_style = function(canvas_div) {\n",
       "\n",
       "}\n",
       "\n",
       "mpl.figure.prototype._init_canvas = function() {\n",
       "    var fig = this;\n",
       "\n",
       "    var canvas_div = $('<div/>');\n",
       "\n",
       "    canvas_div.attr('style', 'position: relative; clear: both; outline: 0');\n",
       "\n",
       "    function canvas_keyboard_event(event) {\n",
       "        return fig.key_event(event, event['data']);\n",
       "    }\n",
       "\n",
       "    canvas_div.keydown('key_press', canvas_keyboard_event);\n",
       "    canvas_div.keyup('key_release', canvas_keyboard_event);\n",
       "    this.canvas_div = canvas_div\n",
       "    this._canvas_extra_style(canvas_div)\n",
       "    this.root.append(canvas_div);\n",
       "\n",
       "    var canvas = $('<canvas/>');\n",
       "    canvas.addClass('mpl-canvas');\n",
       "    canvas.attr('style', \"left: 0; top: 0; z-index: 0; outline: 0\")\n",
       "\n",
       "    this.canvas = canvas[0];\n",
       "    this.context = canvas[0].getContext(\"2d\");\n",
       "\n",
       "    var backingStore = this.context.backingStorePixelRatio ||\n",
       "\tthis.context.webkitBackingStorePixelRatio ||\n",
       "\tthis.context.mozBackingStorePixelRatio ||\n",
       "\tthis.context.msBackingStorePixelRatio ||\n",
       "\tthis.context.oBackingStorePixelRatio ||\n",
       "\tthis.context.backingStorePixelRatio || 1;\n",
       "\n",
       "    mpl.ratio = (window.devicePixelRatio || 1) / backingStore;\n",
       "\n",
       "    var rubberband = $('<canvas/>');\n",
       "    rubberband.attr('style', \"position: absolute; left: 0; top: 0; z-index: 1;\")\n",
       "\n",
       "    var pass_mouse_events = true;\n",
       "\n",
       "    canvas_div.resizable({\n",
       "        start: function(event, ui) {\n",
       "            pass_mouse_events = false;\n",
       "        },\n",
       "        resize: function(event, ui) {\n",
       "            fig.request_resize(ui.size.width, ui.size.height);\n",
       "        },\n",
       "        stop: function(event, ui) {\n",
       "            pass_mouse_events = true;\n",
       "            fig.request_resize(ui.size.width, ui.size.height);\n",
       "        },\n",
       "    });\n",
       "\n",
       "    function mouse_event_fn(event) {\n",
       "        if (pass_mouse_events)\n",
       "            return fig.mouse_event(event, event['data']);\n",
       "    }\n",
       "\n",
       "    rubberband.mousedown('button_press', mouse_event_fn);\n",
       "    rubberband.mouseup('button_release', mouse_event_fn);\n",
       "    // Throttle sequential mouse events to 1 every 20ms.\n",
       "    rubberband.mousemove('motion_notify', mouse_event_fn);\n",
       "\n",
       "    rubberband.mouseenter('figure_enter', mouse_event_fn);\n",
       "    rubberband.mouseleave('figure_leave', mouse_event_fn);\n",
       "\n",
       "    canvas_div.on(\"wheel\", function (event) {\n",
       "        event = event.originalEvent;\n",
       "        event['data'] = 'scroll'\n",
       "        if (event.deltaY < 0) {\n",
       "            event.step = 1;\n",
       "        } else {\n",
       "            event.step = -1;\n",
       "        }\n",
       "        mouse_event_fn(event);\n",
       "    });\n",
       "\n",
       "    canvas_div.append(canvas);\n",
       "    canvas_div.append(rubberband);\n",
       "\n",
       "    this.rubberband = rubberband;\n",
       "    this.rubberband_canvas = rubberband[0];\n",
       "    this.rubberband_context = rubberband[0].getContext(\"2d\");\n",
       "    this.rubberband_context.strokeStyle = \"#000000\";\n",
       "\n",
       "    this._resize_canvas = function(width, height) {\n",
       "        // Keep the size of the canvas, canvas container, and rubber band\n",
       "        // canvas in synch.\n",
       "        canvas_div.css('width', width)\n",
       "        canvas_div.css('height', height)\n",
       "\n",
       "        canvas.attr('width', width * mpl.ratio);\n",
       "        canvas.attr('height', height * mpl.ratio);\n",
       "        canvas.attr('style', 'width: ' + width + 'px; height: ' + height + 'px;');\n",
       "\n",
       "        rubberband.attr('width', width);\n",
       "        rubberband.attr('height', height);\n",
       "    }\n",
       "\n",
       "    // Set the figure to an initial 600x600px, this will subsequently be updated\n",
       "    // upon first draw.\n",
       "    this._resize_canvas(600, 600);\n",
       "\n",
       "    // Disable right mouse context menu.\n",
       "    $(this.rubberband_canvas).bind(\"contextmenu\",function(e){\n",
       "        return false;\n",
       "    });\n",
       "\n",
       "    function set_focus () {\n",
       "        canvas.focus();\n",
       "        canvas_div.focus();\n",
       "    }\n",
       "\n",
       "    window.setTimeout(set_focus, 100);\n",
       "}\n",
       "\n",
       "mpl.figure.prototype._init_toolbar = function() {\n",
       "    var fig = this;\n",
       "\n",
       "    var nav_element = $('<div/>')\n",
       "    nav_element.attr('style', 'width: 100%');\n",
       "    this.root.append(nav_element);\n",
       "\n",
       "    // Define a callback function for later on.\n",
       "    function toolbar_event(event) {\n",
       "        return fig.toolbar_button_onclick(event['data']);\n",
       "    }\n",
       "    function toolbar_mouse_event(event) {\n",
       "        return fig.toolbar_button_onmouseover(event['data']);\n",
       "    }\n",
       "\n",
       "    for(var toolbar_ind in mpl.toolbar_items) {\n",
       "        var name = mpl.toolbar_items[toolbar_ind][0];\n",
       "        var tooltip = mpl.toolbar_items[toolbar_ind][1];\n",
       "        var image = mpl.toolbar_items[toolbar_ind][2];\n",
       "        var method_name = mpl.toolbar_items[toolbar_ind][3];\n",
       "\n",
       "        if (!name) {\n",
       "            // put a spacer in here.\n",
       "            continue;\n",
       "        }\n",
       "        var button = $('<button/>');\n",
       "        button.addClass('ui-button ui-widget ui-state-default ui-corner-all ' +\n",
       "                        'ui-button-icon-only');\n",
       "        button.attr('role', 'button');\n",
       "        button.attr('aria-disabled', 'false');\n",
       "        button.click(method_name, toolbar_event);\n",
       "        button.mouseover(tooltip, toolbar_mouse_event);\n",
       "\n",
       "        var icon_img = $('<span/>');\n",
       "        icon_img.addClass('ui-button-icon-primary ui-icon');\n",
       "        icon_img.addClass(image);\n",
       "        icon_img.addClass('ui-corner-all');\n",
       "\n",
       "        var tooltip_span = $('<span/>');\n",
       "        tooltip_span.addClass('ui-button-text');\n",
       "        tooltip_span.html(tooltip);\n",
       "\n",
       "        button.append(icon_img);\n",
       "        button.append(tooltip_span);\n",
       "\n",
       "        nav_element.append(button);\n",
       "    }\n",
       "\n",
       "    var fmt_picker_span = $('<span/>');\n",
       "\n",
       "    var fmt_picker = $('<select/>');\n",
       "    fmt_picker.addClass('mpl-toolbar-option ui-widget ui-widget-content');\n",
       "    fmt_picker_span.append(fmt_picker);\n",
       "    nav_element.append(fmt_picker_span);\n",
       "    this.format_dropdown = fmt_picker[0];\n",
       "\n",
       "    for (var ind in mpl.extensions) {\n",
       "        var fmt = mpl.extensions[ind];\n",
       "        var option = $(\n",
       "            '<option/>', {selected: fmt === mpl.default_extension}).html(fmt);\n",
       "        fmt_picker.append(option)\n",
       "    }\n",
       "\n",
       "    // Add hover states to the ui-buttons\n",
       "    $( \".ui-button\" ).hover(\n",
       "        function() { $(this).addClass(\"ui-state-hover\");},\n",
       "        function() { $(this).removeClass(\"ui-state-hover\");}\n",
       "    );\n",
       "\n",
       "    var status_bar = $('<span class=\"mpl-message\"/>');\n",
       "    nav_element.append(status_bar);\n",
       "    this.message = status_bar[0];\n",
       "}\n",
       "\n",
       "mpl.figure.prototype.request_resize = function(x_pixels, y_pixels) {\n",
       "    // Request matplotlib to resize the figure. Matplotlib will then trigger a resize in the client,\n",
       "    // which will in turn request a refresh of the image.\n",
       "    this.send_message('resize', {'width': x_pixels, 'height': y_pixels});\n",
       "}\n",
       "\n",
       "mpl.figure.prototype.send_message = function(type, properties) {\n",
       "    properties['type'] = type;\n",
       "    properties['figure_id'] = this.id;\n",
       "    this.ws.send(JSON.stringify(properties));\n",
       "}\n",
       "\n",
       "mpl.figure.prototype.send_draw_message = function() {\n",
       "    if (!this.waiting) {\n",
       "        this.waiting = true;\n",
       "        this.ws.send(JSON.stringify({type: \"draw\", figure_id: this.id}));\n",
       "    }\n",
       "}\n",
       "\n",
       "\n",
       "mpl.figure.prototype.handle_save = function(fig, msg) {\n",
       "    var format_dropdown = fig.format_dropdown;\n",
       "    var format = format_dropdown.options[format_dropdown.selectedIndex].value;\n",
       "    fig.ondownload(fig, format);\n",
       "}\n",
       "\n",
       "\n",
       "mpl.figure.prototype.handle_resize = function(fig, msg) {\n",
       "    var size = msg['size'];\n",
       "    if (size[0] != fig.canvas.width || size[1] != fig.canvas.height) {\n",
       "        fig._resize_canvas(size[0], size[1]);\n",
       "        fig.send_message(\"refresh\", {});\n",
       "    };\n",
       "}\n",
       "\n",
       "mpl.figure.prototype.handle_rubberband = function(fig, msg) {\n",
       "    var x0 = msg['x0'] / mpl.ratio;\n",
       "    var y0 = (fig.canvas.height - msg['y0']) / mpl.ratio;\n",
       "    var x1 = msg['x1'] / mpl.ratio;\n",
       "    var y1 = (fig.canvas.height - msg['y1']) / mpl.ratio;\n",
       "    x0 = Math.floor(x0) + 0.5;\n",
       "    y0 = Math.floor(y0) + 0.5;\n",
       "    x1 = Math.floor(x1) + 0.5;\n",
       "    y1 = Math.floor(y1) + 0.5;\n",
       "    var min_x = Math.min(x0, x1);\n",
       "    var min_y = Math.min(y0, y1);\n",
       "    var width = Math.abs(x1 - x0);\n",
       "    var height = Math.abs(y1 - y0);\n",
       "\n",
       "    fig.rubberband_context.clearRect(\n",
       "        0, 0, fig.canvas.width, fig.canvas.height);\n",
       "\n",
       "    fig.rubberband_context.strokeRect(min_x, min_y, width, height);\n",
       "}\n",
       "\n",
       "mpl.figure.prototype.handle_figure_label = function(fig, msg) {\n",
       "    // Updates the figure title.\n",
       "    fig.header.textContent = msg['label'];\n",
       "}\n",
       "\n",
       "mpl.figure.prototype.handle_cursor = function(fig, msg) {\n",
       "    var cursor = msg['cursor'];\n",
       "    switch(cursor)\n",
       "    {\n",
       "    case 0:\n",
       "        cursor = 'pointer';\n",
       "        break;\n",
       "    case 1:\n",
       "        cursor = 'default';\n",
       "        break;\n",
       "    case 2:\n",
       "        cursor = 'crosshair';\n",
       "        break;\n",
       "    case 3:\n",
       "        cursor = 'move';\n",
       "        break;\n",
       "    }\n",
       "    fig.rubberband_canvas.style.cursor = cursor;\n",
       "}\n",
       "\n",
       "mpl.figure.prototype.handle_message = function(fig, msg) {\n",
       "    fig.message.textContent = msg['message'];\n",
       "}\n",
       "\n",
       "mpl.figure.prototype.handle_draw = function(fig, msg) {\n",
       "    // Request the server to send over a new figure.\n",
       "    fig.send_draw_message();\n",
       "}\n",
       "\n",
       "mpl.figure.prototype.handle_image_mode = function(fig, msg) {\n",
       "    fig.image_mode = msg['mode'];\n",
       "}\n",
       "\n",
       "mpl.figure.prototype.updated_canvas_event = function() {\n",
       "    // Called whenever the canvas gets updated.\n",
       "    this.send_message(\"ack\", {});\n",
       "}\n",
       "\n",
       "// A function to construct a web socket function for onmessage handling.\n",
       "// Called in the figure constructor.\n",
       "mpl.figure.prototype._make_on_message_function = function(fig) {\n",
       "    return function socket_on_message(evt) {\n",
       "        if (evt.data instanceof Blob) {\n",
       "            /* FIXME: We get \"Resource interpreted as Image but\n",
       "             * transferred with MIME type text/plain:\" errors on\n",
       "             * Chrome.  But how to set the MIME type?  It doesn't seem\n",
       "             * to be part of the websocket stream */\n",
       "            evt.data.type = \"image/png\";\n",
       "\n",
       "            /* Free the memory for the previous frames */\n",
       "            if (fig.imageObj.src) {\n",
       "                (window.URL || window.webkitURL).revokeObjectURL(\n",
       "                    fig.imageObj.src);\n",
       "            }\n",
       "\n",
       "            fig.imageObj.src = (window.URL || window.webkitURL).createObjectURL(\n",
       "                evt.data);\n",
       "            fig.updated_canvas_event();\n",
       "            fig.waiting = false;\n",
       "            return;\n",
       "        }\n",
       "        else if (typeof evt.data === 'string' && evt.data.slice(0, 21) == \"data:image/png;base64\") {\n",
       "            fig.imageObj.src = evt.data;\n",
       "            fig.updated_canvas_event();\n",
       "            fig.waiting = false;\n",
       "            return;\n",
       "        }\n",
       "\n",
       "        var msg = JSON.parse(evt.data);\n",
       "        var msg_type = msg['type'];\n",
       "\n",
       "        // Call the  \"handle_{type}\" callback, which takes\n",
       "        // the figure and JSON message as its only arguments.\n",
       "        try {\n",
       "            var callback = fig[\"handle_\" + msg_type];\n",
       "        } catch (e) {\n",
       "            console.log(\"No handler for the '\" + msg_type + \"' message type: \", msg);\n",
       "            return;\n",
       "        }\n",
       "\n",
       "        if (callback) {\n",
       "            try {\n",
       "                // console.log(\"Handling '\" + msg_type + \"' message: \", msg);\n",
       "                callback(fig, msg);\n",
       "            } catch (e) {\n",
       "                console.log(\"Exception inside the 'handler_\" + msg_type + \"' callback:\", e, e.stack, msg);\n",
       "            }\n",
       "        }\n",
       "    };\n",
       "}\n",
       "\n",
       "// from http://stackoverflow.com/questions/1114465/getting-mouse-location-in-canvas\n",
       "mpl.findpos = function(e) {\n",
       "    //this section is from http://www.quirksmode.org/js/events_properties.html\n",
       "    var targ;\n",
       "    if (!e)\n",
       "        e = window.event;\n",
       "    if (e.target)\n",
       "        targ = e.target;\n",
       "    else if (e.srcElement)\n",
       "        targ = e.srcElement;\n",
       "    if (targ.nodeType == 3) // defeat Safari bug\n",
       "        targ = targ.parentNode;\n",
       "\n",
       "    // jQuery normalizes the pageX and pageY\n",
       "    // pageX,Y are the mouse positions relative to the document\n",
       "    // offset() returns the position of the element relative to the document\n",
       "    var x = e.pageX - $(targ).offset().left;\n",
       "    var y = e.pageY - $(targ).offset().top;\n",
       "\n",
       "    return {\"x\": x, \"y\": y};\n",
       "};\n",
       "\n",
       "/*\n",
       " * return a copy of an object with only non-object keys\n",
       " * we need this to avoid circular references\n",
       " * http://stackoverflow.com/a/24161582/3208463\n",
       " */\n",
       "function simpleKeys (original) {\n",
       "  return Object.keys(original).reduce(function (obj, key) {\n",
       "    if (typeof original[key] !== 'object')\n",
       "        obj[key] = original[key]\n",
       "    return obj;\n",
       "  }, {});\n",
       "}\n",
       "\n",
       "mpl.figure.prototype.mouse_event = function(event, name) {\n",
       "    var canvas_pos = mpl.findpos(event)\n",
       "\n",
       "    if (name === 'button_press')\n",
       "    {\n",
       "        this.canvas.focus();\n",
       "        this.canvas_div.focus();\n",
       "    }\n",
       "\n",
       "    var x = canvas_pos.x * mpl.ratio;\n",
       "    var y = canvas_pos.y * mpl.ratio;\n",
       "\n",
       "    this.send_message(name, {x: x, y: y, button: event.button,\n",
       "                             step: event.step,\n",
       "                             guiEvent: simpleKeys(event)});\n",
       "\n",
       "    /* This prevents the web browser from automatically changing to\n",
       "     * the text insertion cursor when the button is pressed.  We want\n",
       "     * to control all of the cursor setting manually through the\n",
       "     * 'cursor' event from matplotlib */\n",
       "    event.preventDefault();\n",
       "    return false;\n",
       "}\n",
       "\n",
       "mpl.figure.prototype._key_event_extra = function(event, name) {\n",
       "    // Handle any extra behaviour associated with a key event\n",
       "}\n",
       "\n",
       "mpl.figure.prototype.key_event = function(event, name) {\n",
       "\n",
       "    // Prevent repeat events\n",
       "    if (name == 'key_press')\n",
       "    {\n",
       "        if (event.which === this._key)\n",
       "            return;\n",
       "        else\n",
       "            this._key = event.which;\n",
       "    }\n",
       "    if (name == 'key_release')\n",
       "        this._key = null;\n",
       "\n",
       "    var value = '';\n",
       "    if (event.ctrlKey && event.which != 17)\n",
       "        value += \"ctrl+\";\n",
       "    if (event.altKey && event.which != 18)\n",
       "        value += \"alt+\";\n",
       "    if (event.shiftKey && event.which != 16)\n",
       "        value += \"shift+\";\n",
       "\n",
       "    value += 'k';\n",
       "    value += event.which.toString();\n",
       "\n",
       "    this._key_event_extra(event, name);\n",
       "\n",
       "    this.send_message(name, {key: value,\n",
       "                             guiEvent: simpleKeys(event)});\n",
       "    return false;\n",
       "}\n",
       "\n",
       "mpl.figure.prototype.toolbar_button_onclick = function(name) {\n",
       "    if (name == 'download') {\n",
       "        this.handle_save(this, null);\n",
       "    } else {\n",
       "        this.send_message(\"toolbar_button\", {name: name});\n",
       "    }\n",
       "};\n",
       "\n",
       "mpl.figure.prototype.toolbar_button_onmouseover = function(tooltip) {\n",
       "    this.message.textContent = tooltip;\n",
       "};\n",
       "mpl.toolbar_items = [[\"Home\", \"Reset original view\", \"fa fa-home icon-home\", \"home\"], [\"Back\", \"Back to  previous view\", \"fa fa-arrow-left icon-arrow-left\", \"back\"], [\"Forward\", \"Forward to next view\", \"fa fa-arrow-right icon-arrow-right\", \"forward\"], [\"\", \"\", \"\", \"\"], [\"Pan\", \"Pan axes with left mouse, zoom with right\", \"fa fa-arrows icon-move\", \"pan\"], [\"Zoom\", \"Zoom to rectangle\", \"fa fa-square-o icon-check-empty\", \"zoom\"], [\"\", \"\", \"\", \"\"], [\"Download\", \"Download plot\", \"fa fa-floppy-o icon-save\", \"download\"]];\n",
       "\n",
       "mpl.extensions = [\"eps\", \"jpeg\", \"pdf\", \"png\", \"ps\", \"raw\", \"svg\", \"tif\"];\n",
       "\n",
       "mpl.default_extension = \"png\";var comm_websocket_adapter = function(comm) {\n",
       "    // Create a \"websocket\"-like object which calls the given IPython comm\n",
       "    // object with the appropriate methods. Currently this is a non binary\n",
       "    // socket, so there is still some room for performance tuning.\n",
       "    var ws = {};\n",
       "\n",
       "    ws.close = function() {\n",
       "        comm.close()\n",
       "    };\n",
       "    ws.send = function(m) {\n",
       "        //console.log('sending', m);\n",
       "        comm.send(m);\n",
       "    };\n",
       "    // Register the callback with on_msg.\n",
       "    comm.on_msg(function(msg) {\n",
       "        //console.log('receiving', msg['content']['data'], msg);\n",
       "        // Pass the mpl event to the overriden (by mpl) onmessage function.\n",
       "        ws.onmessage(msg['content']['data'])\n",
       "    });\n",
       "    return ws;\n",
       "}\n",
       "\n",
       "mpl.mpl_figure_comm = function(comm, msg) {\n",
       "    // This is the function which gets called when the mpl process\n",
       "    // starts-up an IPython Comm through the \"matplotlib\" channel.\n",
       "\n",
       "    var id = msg.content.data.id;\n",
       "    // Get hold of the div created by the display call when the Comm\n",
       "    // socket was opened in Python.\n",
       "    var element = $(\"#\" + id);\n",
       "    var ws_proxy = comm_websocket_adapter(comm)\n",
       "\n",
       "    function ondownload(figure, format) {\n",
       "        window.open(figure.imageObj.src);\n",
       "    }\n",
       "\n",
       "    var fig = new mpl.figure(id, ws_proxy,\n",
       "                           ondownload,\n",
       "                           element.get(0));\n",
       "\n",
       "    // Call onopen now - mpl needs it, as it is assuming we've passed it a real\n",
       "    // web socket which is closed, not our websocket->open comm proxy.\n",
       "    ws_proxy.onopen();\n",
       "\n",
       "    fig.parent_element = element.get(0);\n",
       "    fig.cell_info = mpl.find_output_cell(\"<div id='\" + id + \"'></div>\");\n",
       "    if (!fig.cell_info) {\n",
       "        console.error(\"Failed to find cell for figure\", id, fig);\n",
       "        return;\n",
       "    }\n",
       "\n",
       "    var output_index = fig.cell_info[2]\n",
       "    var cell = fig.cell_info[0];\n",
       "\n",
       "};\n",
       "\n",
       "mpl.figure.prototype.handle_close = function(fig, msg) {\n",
       "    var width = fig.canvas.width/mpl.ratio\n",
       "    fig.root.unbind('remove')\n",
       "\n",
       "    // Update the output cell to use the data from the current canvas.\n",
       "    fig.push_to_output();\n",
       "    var dataURL = fig.canvas.toDataURL();\n",
       "    // Re-enable the keyboard manager in IPython - without this line, in FF,\n",
       "    // the notebook keyboard shortcuts fail.\n",
       "    IPython.keyboard_manager.enable()\n",
       "    $(fig.parent_element).html('<img src=\"' + dataURL + '\" width=\"' + width + '\">');\n",
       "    fig.close_ws(fig, msg);\n",
       "}\n",
       "\n",
       "mpl.figure.prototype.close_ws = function(fig, msg){\n",
       "    fig.send_message('closing', msg);\n",
       "    // fig.ws.close()\n",
       "}\n",
       "\n",
       "mpl.figure.prototype.push_to_output = function(remove_interactive) {\n",
       "    // Turn the data on the canvas into data in the output cell.\n",
       "    var width = this.canvas.width/mpl.ratio\n",
       "    var dataURL = this.canvas.toDataURL();\n",
       "    this.cell_info[1]['text/html'] = '<img src=\"' + dataURL + '\" width=\"' + width + '\">';\n",
       "}\n",
       "\n",
       "mpl.figure.prototype.updated_canvas_event = function() {\n",
       "    // Tell IPython that the notebook contents must change.\n",
       "    IPython.notebook.set_dirty(true);\n",
       "    this.send_message(\"ack\", {});\n",
       "    var fig = this;\n",
       "    // Wait a second, then push the new image to the DOM so\n",
       "    // that it is saved nicely (might be nice to debounce this).\n",
       "    setTimeout(function () { fig.push_to_output() }, 1000);\n",
       "}\n",
       "\n",
       "mpl.figure.prototype._init_toolbar = function() {\n",
       "    var fig = this;\n",
       "\n",
       "    var nav_element = $('<div/>')\n",
       "    nav_element.attr('style', 'width: 100%');\n",
       "    this.root.append(nav_element);\n",
       "\n",
       "    // Define a callback function for later on.\n",
       "    function toolbar_event(event) {\n",
       "        return fig.toolbar_button_onclick(event['data']);\n",
       "    }\n",
       "    function toolbar_mouse_event(event) {\n",
       "        return fig.toolbar_button_onmouseover(event['data']);\n",
       "    }\n",
       "\n",
       "    for(var toolbar_ind in mpl.toolbar_items){\n",
       "        var name = mpl.toolbar_items[toolbar_ind][0];\n",
       "        var tooltip = mpl.toolbar_items[toolbar_ind][1];\n",
       "        var image = mpl.toolbar_items[toolbar_ind][2];\n",
       "        var method_name = mpl.toolbar_items[toolbar_ind][3];\n",
       "\n",
       "        if (!name) { continue; };\n",
       "\n",
       "        var button = $('<button class=\"btn btn-default\" href=\"#\" title=\"' + name + '\"><i class=\"fa ' + image + ' fa-lg\"></i></button>');\n",
       "        button.click(method_name, toolbar_event);\n",
       "        button.mouseover(tooltip, toolbar_mouse_event);\n",
       "        nav_element.append(button);\n",
       "    }\n",
       "\n",
       "    // Add the status bar.\n",
       "    var status_bar = $('<span class=\"mpl-message\" style=\"text-align:right; float: right;\"/>');\n",
       "    nav_element.append(status_bar);\n",
       "    this.message = status_bar[0];\n",
       "\n",
       "    // Add the close button to the window.\n",
       "    var buttongrp = $('<div class=\"btn-group inline pull-right\"></div>');\n",
       "    var button = $('<button class=\"btn btn-mini btn-primary\" href=\"#\" title=\"Stop Interaction\"><i class=\"fa fa-power-off icon-remove icon-large\"></i></button>');\n",
       "    button.click(function (evt) { fig.handle_close(fig, {}); } );\n",
       "    button.mouseover('Stop Interaction', toolbar_mouse_event);\n",
       "    buttongrp.append(button);\n",
       "    var titlebar = this.root.find($('.ui-dialog-titlebar'));\n",
       "    titlebar.prepend(buttongrp);\n",
       "}\n",
       "\n",
       "mpl.figure.prototype._root_extra_style = function(el){\n",
       "    var fig = this\n",
       "    el.on(\"remove\", function(){\n",
       "\tfig.close_ws(fig, {});\n",
       "    });\n",
       "}\n",
       "\n",
       "mpl.figure.prototype._canvas_extra_style = function(el){\n",
       "    // this is important to make the div 'focusable\n",
       "    el.attr('tabindex', 0)\n",
       "    // reach out to IPython and tell the keyboard manager to turn it's self\n",
       "    // off when our div gets focus\n",
       "\n",
       "    // location in version 3\n",
       "    if (IPython.notebook.keyboard_manager) {\n",
       "        IPython.notebook.keyboard_manager.register_events(el);\n",
       "    }\n",
       "    else {\n",
       "        // location in version 2\n",
       "        IPython.keyboard_manager.register_events(el);\n",
       "    }\n",
       "\n",
       "}\n",
       "\n",
       "mpl.figure.prototype._key_event_extra = function(event, name) {\n",
       "    var manager = IPython.notebook.keyboard_manager;\n",
       "    if (!manager)\n",
       "        manager = IPython.keyboard_manager;\n",
       "\n",
       "    // Check for shift+enter\n",
       "    if (event.shiftKey && event.which == 13) {\n",
       "        this.canvas_div.blur();\n",
       "        // select the cell after this one\n",
       "        var index = IPython.notebook.find_cell_index(this.cell_info[0]);\n",
       "        IPython.notebook.select(index + 1);\n",
       "    }\n",
       "}\n",
       "\n",
       "mpl.figure.prototype.handle_save = function(fig, msg) {\n",
       "    fig.ondownload(fig, null);\n",
       "}\n",
       "\n",
       "\n",
       "mpl.find_output_cell = function(html_output) {\n",
       "    // Return the cell and output element which can be found *uniquely* in the notebook.\n",
       "    // Note - this is a bit hacky, but it is done because the \"notebook_saving.Notebook\"\n",
       "    // IPython event is triggered only after the cells have been serialised, which for\n",
       "    // our purposes (turning an active figure into a static one), is too late.\n",
       "    var cells = IPython.notebook.get_cells();\n",
       "    var ncells = cells.length;\n",
       "    for (var i=0; i<ncells; i++) {\n",
       "        var cell = cells[i];\n",
       "        if (cell.cell_type === 'code'){\n",
       "            for (var j=0; j<cell.output_area.outputs.length; j++) {\n",
       "                var data = cell.output_area.outputs[j];\n",
       "                if (data.data) {\n",
       "                    // IPython >= 3 moved mimebundle to data attribute of output\n",
       "                    data = data.data;\n",
       "                }\n",
       "                if (data['text/html'] == html_output) {\n",
       "                    return [cell, data, j];\n",
       "                }\n",
       "            }\n",
       "        }\n",
       "    }\n",
       "}\n",
       "\n",
       "// Register the function which deals with the matplotlib target/channel.\n",
       "// The kernel may be null if the page has been refreshed.\n",
       "if (IPython.notebook.kernel != null) {\n",
       "    IPython.notebook.kernel.comm_manager.register_target('matplotlib', mpl.mpl_figure_comm);\n",
       "}\n"
      ],
      "text/plain": [
       "<IPython.core.display.Javascript object>"
      ]
     },
     "metadata": {},
     "output_type": "display_data"
    },
    {
     "data": {
      "text/html": [
       "<img src=\"data:image/png;base64,iVBORw0KGgoAAAANSUhEUgAAAoAAAAHgCAYAAAA10dzkAAAgAElEQVR4Xu3dD5RdZ1nv8e8wQFloU7T0QpqMpIW7+Csq/gUMTGivF/QqMKSVBJeo10srCGm9AnIptNCCUNQmgHCBqyhCwirpVOFeFG1MaKpii1pdgICWAJ0QaimaKrUC07nrmdln5mQ6k3NOnsl79j77e1xdkmQ/57z7s59zzm/e/e49Y/hQQAEFFFBAAQUUaJXAWKv21p1VQAEFFFBAAQUUwABoEyiggAIKKKCAAi0TMAC27IC7uwoooIACCiiggAHQHlBAAQUUUEABBVomYABs2QF3dxVQQAEFFFBAAQOgPaCAAgoooIACCrRMwADYsgPu7iqggAIKKKCAAgZAe0ABBRRQQAEFFGiZgAGwZQfc3VVAAQUUUEABBQyA9oACCiiggAIKKNAyAQNgyw64u6uAAgoooIACChgA7QEFFFBAAQUUUKBlAgbAlh1wd1cBBRRQQAEFFDAA2gMKKKCAAgoooEDLBAyALTvg7q4CCiiggAIKKGAAtAcUUEABBRRQQIGWCRgAW3bA3V0FFFBAAQUUUMAAaA8ooIACCiiggAItEzAAtuyAu7sKKKCAAgoooIAB0B5QQAEFFFBAAQVaJmAAbNkBd3cVUEABBRRQQAEDoD2ggAIKKKCAAgq0TMAA2LID7u4qoIACCiiggAIGQHtAAQUUUEABBRRomYABsGUH3N1VQAEFFFBAAQUMgPaAAgoooIACCijQMgEDYMsOuLurgAIKKKCAAgoYAO0BBRRQQAEFFFCgZQIGwJYdcHdXAQUUUEABBRQwANoDCiiggAIKKKBAywQMgC074O6uAgoooIACCihgALQHFFBAAQUUUECBlgkYAFt2wN1dBRRQQAEFFFDAAGgPKKCAAgoooIACLRMwALbsgLu7CiiggAIKKKCAAdAeUEABBRRQQAEFWiZgAGzZAXd3FVBAAQUUUEABA6A9oIACCiiggAIKtEzAANiyA+7uKqCAAgoooIACBkB7QAEFFFBAAQUUaJmAAbBlB9zdVUABBRRQQAEFDID2gAIKKKCAAgoo0DIBA2DLDri7q4ACCiiggAIKGADtAQUUUEABBRRQoGUCBsCWHXB3VwEFFFBAAQUUMADaAwoooIACCiigQMsEDIAtO+DurgIKKKCAAgooYAC0BxRQQAEFFFBAgZYJGABbdsDdXQUUUEABBRRQwABoDyiggAIKKKCAAi0TMAC27IC7uwoooIACCiiggAHQHlBAAQUUUEABBVomYABs2QF3dxVQQAEFFFBAAQOgPaCAAgoooIACCrRMwADYsgPu7iqggAIKKKCAAgZAe0ABBRRQQAEFFGiZgAEwd8DD70zgX3NPY7UCCiiggAIKFBY4FfgSMFf4dWvxcgbA3GHYAMzknsJqBRRQQAEFFBiSwEbg8JBee6gvawDM8a8Djt56662sWxf/04cCCiiggAIK1F3gzjvvZGJiIoZ5GnBn3cd7MsZnAMypzgfAo0ePGgBzjlYroIACCihQTCAC4GmnRfYzABZDH7EXMgCO2AF1dxRQQAEFRl/AAAjOAOb63ACY87NaAQUUUECB4gIGQANgtukMgFlB6xVQQAEFFCgsYAA0AGZbzgCYFbReAQUUUECBwgIGQANgtuUMgFlB6xVQQAEFFCgsYAA0AGZbzgCYFbReAQUUUECBwgIGQANgtuUMgFlB6xVQQAEFFCgsYAA0AGZbzgCYFbReAQUUUECBwgIGQANgtuUMgFlB6xWoq8DsLBw8CEeOwPr1sHkzjI/XdbSOSwEFBhAwABoAB2iXFTc1AGYFrVegjgLT07BjB8x0/arvjRth1y6YmqrjiB2TAgoMIGAANAAO0C4GwCyW9Qo0QiDC39atMDd37HDHqvvm791rCGzEgXSQCqwuYAA0AGbfH84AZgWtV6BOAnHad9OmY2f+uscXITBmAg8d8nRwnY6bY1FgQAEDoAFwwJa51+YGwKyg9QrUSeDAAdiypfeI9u+Hycne27mFAgrUUsAAaADMNmZrA6Dr47OtY30tBfbsge3bew9t927Ytq33dm6hgAK1FDAAGgCzjdnKAOj6+GzbWF9bAWcAa3toHJgCaylgADQAZvupdQHQ9fHZlrG+1gKdNYCHD9/7IpAYuGsAa334HJwC/QoYAA2A/fbKatu1KgC6Pj7bLtY3QqDzU04MtvtKYK8CbsThc5AK9CNgADQA9tMnx9umVQHQs2PZdrG+MQIrrXOYmICdO70FTGMOogNVYHUBA6ABMPv+aFUAdH18tl2sb5SAVzo16nA5WAUGETAAGgAH6ZeVtm1VAHQGMNsu1iuggAIK1EHAAGgAzPZhqwKg6+Oz7WK9AgoooEAdBAyABsBsH7YqAAaW6+OzLWO9AgoooMCwBQyABsBsD7YuAHZC4I4dx/62LNfHZ1vJegUUUECBUgIGQANgttdaGQADzfXx2daxXgEFFFBgWAIGQANgtvdaGwCzcNYroIACCigwLAEDoAEw23sGwKyg9QoooIACChQWMAAaALMtZwDMClqvgAIKKKBAYQEDoAEw23IGwKyg9QoooIACChQWMAAaALMtZwDMClqvgAIKKKBAYQEDoAEw23IGwKyg9QoooIACChQWMAAaALMtZwDMClqvgAIKKKBAYQEDoAEw23IGwKyg9QoooIACChQWMAAaALMtZwDMClqvgAIKKKBAYQEDoAEw23IGwKyg9QoooIACChQWMAAaALMtZwDMClqvgAIKKKBAYQEDoAEw23IGwKyg9QoooIACChQWMAAaALMtZwDMClqvgAIKKKBAYQED4GgHwM8DD1uhp94GvAg4ADx12b+/A7hwgD40AA6A5aYKKKCAAgrUQcAAONoB8AxgvKvRHgf8CbClCn8RAD8LvLprm7uAOwdoTgPgAFhuqoACCiigQB0EDICjHQCX99hO4L8B/xmYq0LgzcBFiWY0ACbwLFVAAQUUUGAYAgbA9gTA+wNfAn4DeH3VbDED+FgWDL4MfAi4HIhZwNUepwDxX+dxKjBz9OhR1q2LLOhDAQUUUEABBeouYABsTwA8H9gNfEcVBKM3XwB8ofrz44E3AjcCU8dp3MuAS5f/uwGw7m91x6eAAgoooMCSgAGwPQHwI8DXgR8/zhvgacA+4BHALats5wygnyAKKKCAAgo0XMAA2I4AGFcCf66a2fuD4/TstwD/BjwdiMDYz8M1gP0ouY0CCiiggAI1EjAAtiMAxmnbC4AJ4JvH6b8nAzcA3wX8XZ99agDsE8rNFFBAAQUUqIuAAXD0A+B9gEPAHuBXuhrv4cB24MPAHUCsAbwqLuhY4d6Ax+tXA2Bd3s2OQwEFFFBAgT4FDICjHwB/pDqd+8jqnn+d1ojZwPcCcW/AOPV7K3AtcIX3Aezz3eNmCiiggAIKNFTAADj6AfBkt6YzgCdb2OdXQAEFFFBgjQUMgAbAbEsZALOC1iuggAIKKFBYwABoAMy2nAEwK2i9AgoooIAChQUMgAbAbMsZALOC1iuggAIKKFBYwABoAMy2nAEwK2i9AgoooIAChQUMgAbAbMsZALOC1iuggAIKKFBYwABoAMy2nAEwK2i9AgoooIAChQUMgAbAbMsZALOC1iuggAIKKFBYwABoAMy2nAEwK2i9AgoooIAChQUMgAbAbMsZALOC1iuggAIKKFBYwABoAMy2nAEwK2i9AgoooIAChQUMgAbAbMsZALOC1iuggAIKKFBYwABoAMy2nAEwK2i9AgoooIAChQUMgAbAbMsZALOC1iuggAInUWB2Fg4ehCNHYP162LwZxsdP4gv61I0QMAAaALONagDMClqvgAKNFah7uJqehh07YGZmiXjjRti1C6amGsvuwNdAwABoAMy2kQEwK2i9Ago0UqDu4SrGt3UrzM0dyzs2tvDnvXsNgY1svDUatAHQAJhtJQNgVtB6BRToS6BOs211D1dhtWnTsTN/3cgRAmMm8NAhTwf31XwjuJEB0ACYbWsDYFZwFOvr9E3d7eu4+uq2RabD97D+9r9j8xmfZnzDQ4e6eGzF2bYz7mbX2+7H1NayC9p6hivmFsLV58eGttbuwAHYsqX34d6/HyYne2/nFqMnYAA0AGa72gCYFRy1+rqeF6vhuOaD1uuu58iuq1n/1U+wmYOMc8/C1MyQFmmtyMSt7GIHUxtvGsq4lmbb4lxmdf5y/n/ds3Aq86U3MnXlDxV7J/Udrl5zPZOvfkqxcXW/0J49sH1775fevRu2beu9nVuMnoAB0ACY7WoDYFZwlOprdl5scSbrD25k/c6Xs5nrFwJW5zHExVDzQesFdzFzxwMXh7OxE7TGfn/h7wov0uoZtDiPqbFri45rabbt2PC3eAi5h43McOjqjzN+XpmrGvoOV2xn2zVbh7LQ7sBrr2fLpb3DpzOAo/QBPNi+GAANgIN1zL23NgBmBUelvud5sbKLjo47k8W1x4bAwouhFoLWHHPzq/Pvs5RHOzNabGUqQmDBcfUdtDib8Ykziy0e63u27YzzmTyyp8iCtr7HxBYmJ24pZrXYSLOzzD7sbDYdvoHDbGCuq8eOCc4bx4Z6mnpUPvqauh8GQANgtncNgFnBhtcvzrLt+xTrr3jh0mnM1farwJTDqhOR3QGrOwTGWAuMK16m/6B11sJsZaFx9R9qJpnko8XG1f9s2za27b+gyIK2zjE8PDPHXNcp6XvNSlL2GC6+5aqDOc2z2cre+b/uDoGLp85f8ymmXv24hn8COfwTFTAAGgBPtHc6dQbArGCD6/ueZevex5O86KjnRGTnlGHny7kztpM8rs7LDBy0Co1roKDF+6HQuAby2n1BsQVt8z9kPCdmcCMErjKL2/kho5DV4tus62BGCNzBLmaYWPznCb7ITi5iavd5xbwa/DE3skM3ABoAs81tAMwKNrT+hGbZCsy0DRQYYiar8yg00zZw0Co0roHdCo1rPtCvv5vDt99/9VOZsQYwAv3+fUVmADstM/3aT7Dj0tNWDlfdM8yFrJbPAHb+PMt9OMhmjrCe9RxZmqUvPa6GftaN6rANgAbAbG8bALOCDaw/oVm2QjceGzhgFRrX4DOAZdePLZ7WPBxrE5eutO2MO04bzl9sUXgNYLz+9N5Ztp63MKaVZ9vOY2ripqGttTt4+GyO8NBjw1UMtnBvLX6ULB3Me98FepjjauBn3SgP2QBoAMz2twEwK9jA+oFniwpebTvQ2MauX9AveLVtz+/m7qB1zdVFryDtzOrGr47oXtu2uGZsCFcBL862vexj7HjThhVm2y4ufmXyMW/ZRbRIp12/cqNgz6/4EVLXcTXw825Uh2wANABme9sAmBVsYP3As2wTE7BzZ5Ew03/AOovxiQ3FxtV9mFf9bu5cpHL6hUy98+lFvJa330rrOhfXjE18fChei6cyPzDNwRfu4chX7rs02zakY3ivELj8F+4W7PlVP0JWPJjl3osN/Ghr1ZANgAbAbMMbALOCDazve5btkn1MnjNe/DdIrD75MRfnENl70Q1MPXO2+LiWh8B7ZYbTv8bOlxxi6pWPLnI7k9Var46/CeSY05sHD8KRI7B+/VCP4TF+/paZBn6StXvIBkADYPYdYADMCjawvucsW9lb/q16BqyOkzLdg61rZmhgSzpkBRQYUMAAaAAcsGXutbkBMCvY0PomLDEyYDW0uRy2AgqcdAEDoAEw22QGwKxgg+tdYtTgg+fQFVCg1QIGQANg9g1gAMwKNrzeWbaGH0CHr4ACrRQwABoAs41vAMwKWq+AAgoooEBhAQOgATDbcgbArKD1CiiggAIKFBYwABoAsy1nAMwKWq+AAgoooEBhAQOgATDbcgbArKD1CiiggAIKFBYwABoAsy1nAMwKWq+AAgoooEBhAQPgaAfAy4BLl/XUZ4BHVX/3AODXgecCpwAfAV4I3DZAHxoAB8ByUwUUUEABBeogYAAc/QC4FTi3q9m+CXyl+vPbgR8DfgY4CrwV5n8Z6ZMHaE4D4ABYbqqAAgoooEAdBAyAox8AnwV89wrNdhpwO7Ad2Fv9e8wM/j3wROBjfTaoAbBPKDdTQAEFFFCgLgIGwNEPgC+tZvfuBv4CeAXwReBpwD7g24B/6WrILwA7gatWadI4VRz/dR6nAjNHjx5l3brIgj4UUEABBRRQoO4CBsDRDoDPAL4ViHV/66v1gBuAxwE/Drx7WZiLfr0R2A+8fJXmXWldIQbAur/VHZ8CCiiggAJLAgbA0Q6Ay3v9QUDM8P0S8O8nGACdAfQTRAEFFFBAgYYLGADbFQCjXW8CrgP+5ARPAS9vedcANvxDwOEroIACCrRPwADYrgAYp4Nj/V+cxv3d6iKQbcA1Ves/Evi0F4G074PAPVZAAQUUaJeAAXC0A+CvAR+qTvueCbymuiL4MVX4i9vA/Gh1G5g7gbdU7f+kAd4GzgAOgOWmCiiggAIK1EHAADjaAfD9wFOA06vAdwPwSuCWqvk6N4KOWcDuG0F/eYDmNAAOgOWmCiiggAIK1EHAADjaAbBEjxkASyj7GgoooIACCqyhgAHQAJhtJwNgVtB6BRRQQAEFCgsYAA2A2ZYzAGYFrVdAAQUUUKCwgAHQAJhtOQNgVtB6BRRQQAEFCgsYAA2A2ZYzAGYFrVdAAQUUUKCwgAHQAJhtOQNgVtB6BRRQQAEFCgsYAA2A2ZYzAGYFrVdAAQUUUKCwgAHQAJhtOQNgVtB6BRRQQAEFCgsYAA2A2ZYzAGYFrVdAAQUUUKCwgAHQAJhtOQNgVtB6BRRQQAEFCgsYAA2A2ZYzAGYFrVdAAQUUUKCwgAHQAJhtOQNgVtB6BRRQQAEFCgsYAA2A2ZYzAGYFrVdAAQUUUKCwgAHQAJhtOQNgVtB6BRRQQAEFCgsYAA2A2ZYzAGYFrVdAAQUUUKCwgAHQAJhtOQNgVtB6BRRQQAEFCgsYAA2A2ZYzAGYFrVdAAQUUUKCwgAHQAJhtOQNgVtB6BRRQQAEFCgsYAA2A2ZYzAGYFrVdAAQUUUKCwgAHQAJhtOQNgVtB6BRRQQAEFCgsYAA2A2ZYzAGYFrVdAAQUUUKCwgAHQAJhtOQNgVtB6BRRQQAEFCgsYAA2A2ZYzAGYFrVdAAQUUUKCwgAHQAJhtOQNgVtB6BRRQQAEFCgsYAA2A2ZYzAGYFrVdAAQXWWGB2Fg4ehCNHYP162LwZxsfX+EV8ukYLGAANgNkGNgBmBa1XQAEF1lBgehp27ICZmaUn3bgRdu2Cqak1fCGfqtECBkADYLaBDYBZwVGsr+v0Qw3HNT+kA7McOfAZ1nOEzZPjjE/WZLqmhl7UcEx1OoYR/rZuhbm5Yz9Yxlj4i70fuIeprU4FjuLH7qD7ZAA0AA7aM8u3NwBmBUetvqbTD7MfmObgC/dw5Cv3XQhaHGR845lDnRaZp3rBXczc8cDFLtjIrew6/bVMvfMZw52umZ5m9iUXc/DwWRxh/YLZhkOMv/mq4Y2rhmOq0zGMILpp07Ezf90fL2Pcw8bxIxza85eMn+dU4Kh99A66PwZAA+CgPWMAzIqNcv2q0w9jC3u9d+9QwsP0yz7GjjdtYIaJY4MWFzE1du1QxjVP9Zw54v/gPovjii/peSrOY+qa5w3Fi+lppp/zPnawc2WzYYyrhmOq2zE8cAC2bOn9AbOfLUxe8+Lh9Fbv4blFIQEDoAEw22rOAGYFR6V+dpbZh5197IxRzLJVgYaxMYiFSIcOFV2NPr13lq3ndU6ArRK0Jm4qOq6FmZo5ZmaODX+dVpifqWGGQxufwvjnbynqFadYpx9yIVvveEd10nAFs9MvZOq2t5cbVw3HVMdjuGcPbN/e+wNlN9vZNnFD0Z7vPSq3KC1gADQAZnvOAJgVHJH66dd+gh2XnrbCjNEOprh2aS/374fJySJ7Pf8lvf5uZm6//zGzbPcKWpzF+P59xcbV/0zNJJP7Lys2rnCZ3XeATec+nBk2HN/sus8xfk6h41jDMdXxGA40Jj4KBd+LRd7wvshAAgZAA+BADbPCxgbArOAI1Pc+FbZ1KQTu3g3bthXZ64G+EHdfUGxc/c/UbGPb7p8oNq44KAdetY8tV5zT8/jsv2Qfk5f33q7nE/WxQR3HVMdj2FkDeHgmFhZUyy66fBdnluMHnpiZL/he7OMwu0lhAQOgATDbcgbArGDD65cWnsfpzD6+dArOOgz0Jb3/gmIzbQMF08IzgHte9Sm2X/GYnl25+5JPse3y3tv1fKI+NqjjmOp6DDs/jDG/unSlJQ9dP4wVfC/2cZjdpLCAAdAAmG05A2BWsOH1/X8RbmFy4pai6476HtsZ5zN5ZE+xNW2d9WMLMzVLX9L3OjU9hDWAB/bNsuXc3rcJ2X/dLJPn9N5uLdq7jmOq8zGMda87nnsbM7NnLvJP8EV2xkVPsRxjSOtx16IXfI61EzAAGgCz3WQAzAo2vL7/WbbtbLtma9ErD/s+JXb1x4vfFqP3TM1wrgKeN3vIXRy+4wGrh9PT7+bQbQ8s9psl6jimeNvW9RjG2OZve3T+W6pb+Hxp4bZHcdo3wl88hnRFfsM/7kZq+AZAA2C2oQ2AWcGG1/c9y/aa65l89VOK723nzjRxZ9zudVGLt1t56Y1MXflDxcfVCRDL7wM4P1Nz+hVMvfPpRcNyN8Dxg80Ye68ZK/4bJeo4pjofw/njudI9OScmYOfOofXWUN5ovuiKAgbA0Q6ArwDibp+PAv4d+HPg5cBnurrhAPDUZd3xDuDCPt8zBsA+oUZ1s8VZtsP3/u0Dsc9xA5b5u798fqzYjNFy6xW/B8+4m51vu9/QfytCnX6LxPIQuGNH3KpmaV3nxMY5du4qH/4641o4jvUa0/xsm7/NZVQ/3kZ6vwyAox0A/wh4P3ATcF/g9cDjgFi5/bWqsyMAfhZ4dVen3wXc2WfnGwD7hBrlzRZn2Tg2BNbpbFMNf4NY7VuijmZ1HFPtD6QDVGAFAQPgaAfA5Yf8DOCfqhm/67sC4M3ARSf4DjEAniDcqJV5tmnUjqj7o4ACoyxgAGxXAHwE8A/AdwKf6AqAj63u3/Fl4EPA5UDMAvbzMAD2o9SSbZydacmBdjcVUKDxAgbA9gTAuNfEB4EHAT/c1bkvAL4AfAl4PPBG4MZq7eBKDX4KEP91HqcCM0ePHmXdusiCPhRQQAEFFFCg7gIGwPYEwLcDz6jC38xxGvNpwD4gZgtvWWG7y4BLl/+9AbDub3XHp4ACCiigwJKAAbAdAfCtwDOBuAfHoR5vgG8B/g14OvCRFbZ1BtBPEAUUUEABBRouYAAc7QAY9294C/BsIH5re6z/6/V4MnAD8F3A3/XaGHANYB9IbqKAAgoooECdBAyAox0A3wZsr2b/uu/9d7S6L+DDq3//MHBHtQbwqljTt8K9AVfrWwNgnd7RjkUBBRRQQIE+BAyAox0A51bpgZ8FfgeYAN5b3RswTv3eCvGLIrnC+wD28e5xEwUUUEABBRoqYAAc7QBYoi2dASyh7GsooIACCiiwhgIGQANgtp0MgFlB6xVQQAEFFCgsYAA0AGZbzgCYFbReAQUUUECBwgIGQANgtuUMgFlB6xVQQAEFFCgsYAA0AGZbzgCYFbReAQUUUECBwgIGQANgtuUMgFlB6xVQQAEFFCgsYAA0AGZbzgCYFbReAQUUUECBwgIGQANgtuUMgFlB6xVQQAEFFCgsYAA0AGZbzgCYFbReAQUUUECBwgIGQANgtuUMgFlB6xVQQAEFFCgsYAA0AGZbzgCYFbReAQUUUECBwgIGQANgtuUMgFlB6xVQQAEFFCgsYAA0AGZbzgCYFbReAQUUUECBwgIGQANgtuUMgFlB6xVQQAEFFCgsYAA0AGZbzgCYFbReAQUUUECBwgIGQANgtuUMgFlB6xVQQAEFFCgsYAA0AGZbzgCYFbReAQUUUECBwgIGQANgtuUMgFlB6xVQQAEFFCgsYAA0AGZbzgCYFbReAQUUUECBwgIGQANgtuUMgFlB6xVQQAEFFCgsYAA0AGZbzgCYFbReAQUUUECBwgIGQANgtuUMgFlB6xVQQAEFFCgsYAA0AGZbzgCYFbReAQUUUECBwgIGQANgtuUMgFlB6xVQQAEFFCgsYAA0AGZbzgCYFbReAQUUUECBwgIGQANgtuUMgFlB6xVQQAEFFCgsYAA0AGZbzgCYFbReAQUUUECBwgIGQANgtuUMgFlB6xVQQAEFFCgsYAA0AGZbzgCYFbReAQUUUECBwgIGQANgtuUMgFlB6xVQQAEFFCgsYAA0AGZbzgCYFbReAQUUUECBwgIGQANgtuUMgFlB6xVQQAEFFCgsYAA0AGZbzgCYFbReAQUUUECBwgIGQANgtuUMgFlB6xVQQAEFFCgsYAA0AGZbzgCYFbRegZoKzM7CwYNw5AisXw+bN8P4eE0H67AUUGAgAQOgAXCghllhYwNgVtD6VgvUNWRNT8OOHTAzs3R4Nm6EXbtgaqrVh6z2O1/Xnqo9XMsGaAA0AGZb3gCYFRzF+rp+A9VsXCuGrDPuZtfb7sfU1uFNtcW4tm6Fubk5uj8ix8YW/rx37xBDYHUMZw9/mYO3P4ojZzye9RvuM/zZyZr01qo99bybmHrmrNO4o/h5e4L7ZAA0AEbrvAh4KfBQ4G+BFwM39tlTBsA+oVqzWQ2njua/m193PUd2Xc36r36CzRxknHtgiFNaq4asGBew96U3MnXlDxVvm7DatClm/o4Nf52BjDHHxokxDh0awungqremZ76fHexiholFnyEeSpieZvYlF3Pw8FkcYT3rOcLmDYcYf/NVRZPyUk8d2zZjnZ5iK1Mbb3Iat/i7qp4vaAA0AP4k8B7gQuAvgYuA84BHAv/UR9saAPtAas0mq34DjS0QDGHqaD4zvOAuZu544FJY4FZ2sYOpsd8fyrh6h6x72MgMh67+OOPnlT3feuAAbNnSu2P374fJyd7brdkWVW9Nzz2Lrewl4incZ/HpI5gyNoTZyelppsATjvEAACAASURBVJ/zPnaw89hAOt9jFzF1zfOKhMClnlpZPELgfE9xNuNj9wzlvbhmveATrYmAAdAAGKHvJuAXq46KT9RbgbcAb+ijywyAfSC1YpOe30BjCzNuBaeOFjLDXHUqszssVLNsMSMSIbDwuPoOWWecz+SRPUWn2va87x62/9SS1Wq9u/u997Dteb23W5Per3prduZLbOLzzLDhmPC3ODs5NsfGjQVnJ2dnmX7IhWy94x0rBNKqx06/kKnb3n7Sj2HfPcUkk2PXF+/5NekDn2RNBQyA7Q6A9wfuArYC1VTIfH/9LvAg4JkrdNspQPzXeZwKzBw9epR16yIL+mitwIEDzG45h4NsXjoN1jnV2o1SaOqo71k2zlo4HVxoXEGxZw9s3967U3azjW37Lyg61XZg581sufi7ew5u/1U3M3lR7+16PlE/G1Tp5gBPZQsHelaUOpSz+w6w6dyHrx5IO7Nu132O8XNO7nTpQD3F+xcMS0H1PGJuMAwBA2C7A+CZwGHgScBfdDXglcBTgR9coSkvAy5d/vcGwGG8fev1mtMXH2THzk0rnAbbwRTXLg12927Ytu2kD36gGRE+CoXGFTs+0Nh2X1DEq3NAZt/3fjb91JM5zAbmuk6xdv598VTie/+c8ec996Qfx/kXqNLNHp7Ldvb0fM1Sh/LAq/ax5Ypzeo5n/yX7mLy893Y9n+g4GwzUU9Hv8SgFldkxa0+agAHQADhoAHQG8KS9HZv7xPOnWp8zR/zfseuyuk61dkJgoVmHgWdECo0rjvL87OT6uzl8+/2PH7JidnL/vqIzgJFOp7e8eX6dXTy6Q+AxFxPsf0m5cdV0BnDPqz7F9ise0/ONu/uST7Ht8t7b9Xyi42zQmfE+fDiu3r73hktrAKsZ79ikYM9n9s3akyNgAGx3ADyRU8DLO9E1gCfnvdmYZ+3/VOvZjE+cWWwNYP8zIluYnLil2Lg6B3Z67yxbz1u4OGblkHUeUxM3FR/XQjrdxPTMD9zrwoYJvshOLi4/rsU1gEfYxKHVZycLrwE8sG+WLef2vl3P/utmmTyn93bZN33nGqzoqLm56sKr+Rv3LPtBbKz8etzsvlm/9gIGwHYHwOiouAgkbvkSt36JR6zq/iLwVi8CWfs33Cg+40BB65oXF7kicnGWbRP0nhE5m/Frri42ru4emH7Zx9jxpg3HnDZfDFlj1w7vSs0qSczO3YeD/HDXms4bhncF6eJVwM9mKx9YITiXvwp4Ppc+5C4O3/GA1WdyT7+bQ7c9sNhvUFnpLkwLPXXRwlKMCH/xGMIV+aP4+dfkfTIAGgDjNjBx0ccFVRCM28CcDzwKuK2P5nYGsA+kUd6k71OtF93Itqt+oCjF0ozIsafFFmdE4grNdz59KOGvAzH7gWkOvnAPR75y34X7x8WFMxMbYOfOoY4r7m13r18FMjEx3HEd5z6AwxpaZ/nD/KzbMbeliVm3MfZeM1b8N6cs3pP6D25k/XvfxOavTC9c6BSPYUEVfef7Yv0IGAANgNEncQuYzo2gbwZeUs0M9tNDBsB+lEZ4m75nAEvfN64yXzHHnP41dr7kEFOvfPRJvz1HX4e+Jr9F4l5jreO4avibQBZ6bI6ZmaXTrhMb59i5q3z4a8Qx7OtN4UYnW8AAaADM9pgBMCvY8Pqei89rsNyojjmm4Yfd4S8TsMdsiaYJGAANgNmeNQBmBUegftVTrS43GoGj6y4ooMAoChgADYDZvjYAZgVHpL6OS8ZGhNbdUEABBdZcwABoAMw2lQEwKzhC9Z4GG6GD6a4ooMBICxgADYDZBjcAZgWtV0ABBRRQoLCAAdAAmG05A2BW0HoFFFBAAQUKCxgADYDZljMAZgWtV0ABBRRQoLCAAdAAmG05A2BW0HoFFFBAAQUKCxgADYDZljMAZgWtV0ABBRRQoLCAAdAAmG05A2BW0HoFFFBAAQUKCxgADYDZljMAZgWtV0ABBRRQoLCAAdAAmG05A2BW0HoFFFBAAQUKCxgADYDZljMAZgWtV0ABBRRQoLCAAdAAmG05A2BW0HoFFFBAAQUKCxgADYDZljMAZgWtV0ABBRRQoLCAAdAAmG05A2BW0HoFFFBAAQUKCxgADYDZljMAZgWtV0ABBRRQoLCAAdAAmG05A2BW0HoFFFBAAQUKCxgADYDZljMAZgWtV0ABBRRQoLCAAdAAmG05A2BW0HoFFFBAAQUKCxgADYDZljMAZgWtV0ABBRRQoLCAAdAAmG05A2BW0HoFFFBAAQUKCxgADYDZljMAZgWtV0ABBRRQoLCAAdAAmG05A2BW0HoFFFBAAQUKCxgADYDZljMAZgWtV0ABBRRQoLCAAdAAmG05A2BW0HoFFFBAAQUKCxgADYDZljMAZgWtV0ABBRRQoLCAAdAAmG05A2BW0HoFFFBAAQUKCxgADYDZljMAZgWtV0ABBRRQoLCAAdAAmG05A2BW0HoFFFBAAQUKCxgADYDZljMAZgWtV0ABBRRQoLCAAdAAmG05A2BW0HoFFFBAAQUKCxgADYDZljMAZgWtV0ABBRRQoLCAAdAAmG05A2BW0HoFFFBAAQUKCxgADYDZljMAZgWtV0ABBRRQoLCAAdAAmG05A2BW0HoFFFBAAQUKCxgADYDZljMAZgWtV0ABBRRQoLCAAXB0A+Am4FXA04CHAl8C3gu8Dvh61WexzaEVeu6JwMf67EUDYJ9QbqaAAgoooEBdBAyAoxsAnw78JLAH+EfgccC7gN8DfnlZADwX+GRXU94BfKPPJjUA9gnlZgoooIACCtRFwAA4ugFwpR57KfALwNnLAuD3ADefYFMaAE8QzjIFFFBAAQWGJWAAbFcAvAKImcHvWxYAbwUeAHwWuBL44HEa8hQg/us8TgVmjh49yrp1kQV9KKCAAgoooEDdBQyA7QmAjwD+qjr9G6eC4/Fg4KeBPwPuAZ4DvAx41nFC4GXApcsb2wBY97e641NAAQUUUGBJwADYvAD4BuDlPZr40cCnu7bZAHwUOAD8fI/a9wBnAZtX2c4ZQD9BFFBAAQUUaLiAAbB5AfAM4PQeffe5rit9z6yCX1zV+zPVTN/xyl8EXAKs77O3XQPYJ5SbKaCAAgooUBcBA2DzAuAgvRMzf/urU78/Bcz2URynh78XeEIf28YmBsA+odxMAQUUUECBuggYAEc3AEb4i1O+XwCevyz8fblqwPj7uCfg31R/ngIur04Tv7vPJjUA9gnlZgoooIACCtRFwAA4ugEwTveuFuLGugJgrCd8GPDNat3gm4C9AzSoAXAALDdVQAEFFFCgDgIGwNENgKX6ywBYStrXUUABBRRQYI0EDIAGwGwrGQCzgtYroIACCihQWMAAaADMtpwBMCtovQIKKKCAAoUFDIAGwGzLGQCzgtYroIACCihQWMAAaADMtpwBMCtovQIKKKCAAoUFDIAGwGzLGQCzgtYroIACCihQWMAAaADMtpwBMCtovQIKKKCAAoUFDIAGwGzLGQCzgtYroIACCihQWMAAaADMtpwBMCtovQIKKKCAAoUFDIAGwGzLGQCzgtYroIACCihQWMAAaADMtpwBMCtovQIKKKCAAoUFDIAGwGzLGQCzgtYroIACCihQWMAAaADMtpwBMCtovQIKKKCAAoUFDIAGwGzLGQCzgtYroIACCihQWMAAaADMtpwBMCtovQIKKKCAAoUFDIAGwGzLGQCzgtYroIACCihQWMAAaADMtpwBMCtovQIKKKCAAoUFDIAGwGzLGQCzgtYroIACCihQWMAAaADMtpwBMCtovQIKKKCAAoUFDIAGwGzLGQCzgtYroIACCihQWMAAaADMtpwBMCtovQIKKKCAAoUFDIAGwGzLGQCzgtYroIACCihQWMAAaADMtpwBMCtovQIKKKCAAoUFDIAGwGzLGQCzgtYroIACCihQWMAAaADMtpwBMCtovQIKKKCAAoUFDIAGwGzLGQCzgtYroIACCihQWMAAaADMtpwBMCtovQIKKKCAAoUFDIAGwGzLGQCzgtYroIACCihQWMAAaADMtpwBMCtovQIKKKCAAoUFDIAGwGzLGQCzgtYroIACCihQWMAAaADMtpwBMCtovQIKKKCAAoUFDIAGwGzLGQCzgtYroIACCihQWMAAaADMtpwBMCtovQIKKKCAAoUFDIAGwGzLGQCzgtYroIACCihQWMAAaADMtpwBMCtovQIKKKCAAoUFDIAGwGzLGQCzgtYroIACCihQWMAAONoB8PPAw5b11CuAN3T93eOB3wS+H7gdeAtw5QB9aAAcAMtNFVBAAQUUqIOAAXD0A+BvAe/qarZ/Bb5W/TnC22eB64BfBb4T+G3gIuCdfTaoAbBPKDdTQAEFFFCgLgIGwNEPgDuB+G+lxy8ArwMeCny92iBmB58FPKrPJjUA9gnlZgoooIACCtRFwAA4+gHwAcD9gC8Cu4GrgG9WDfgeIAJcBL7OYwvwp8C3A//cR6MaAPtAchMFFFBAAQXqJGAAHO0A+EvAXwNfBZ5UneZ9NxB/H48/Bg4BF3Q15WOATwLx//9+hWY9BYj/Oo9TgZmjR4+ybl1kQR8KKKCAAgooUHcBA2DzAmCcon15j8Z6NPDpFbb5OeAdwLcC/3GCAfAy4NLlz20ArPtb3fEpoIACCiiwJGAAbF4APAM4vUcTf65rTV/3po8FPlGt7/sMcCKngJ0B9BNEAQUUUECBhgsYAJsXADMt97wq9D24Wt/XuQjkIcA3qid+PTDlRSAZZmsVUEABBRSot4ABcHQD4BOBHwT2A3Hrl/hzXADyh8Dzq7Y8DYiZwFgL+EbgcdVtYC72NjD1fuM6OgUUUEABBTICBsDRDYBPAN5WzeTFadu42OP3gN+o1v91+qb7RtBfqW4EHWGw34dXAfcr5XYKKKCAAgrURMAAOLoBsFSLGQBLSfs6CiiggAIKrJGAAdAAmG0lA2BW0HoFFFBAAQUKCxgADYDZljMAZgWtV0ABBRRQoLCAAdAAmG05A2BW0HoFFFBAAQUKCxgADYDZljMAZgWtV0ABBRRQoLCAAdAAmG05A2BW0HoFFFBAAQUKCxgADYDZljMAZgWtV0ABBRRQoLCAAdAAmG05A2BW0HoFFFBAAQUKCxgADYDZljMAZgWtV0ABBRRQoLCAAdAAmG05A2BW0HoFFFBAAQUKCxgADYDZljMAZgWtV0ABBRRQoLCAAdAAmG05A2BW0HoFFFBAAQUKCxgADYDZljMAZgWtV0ABBRRQoLCAAdAAmG05A2BW0HoFFFBAAQUKCxgADYDZljMAZgWtV0ABBRRQoLCAAdAAmG05A2BW0HoFFFBAAQUKCxgADYDZljMAZgWtV0ABBRRQoLCAAdAAmG05A2BW0HoFFFBAAQUKCxgADYDZljMAZgWtV0ABBRRQoLCAAdAAmG05A2BW0HoFFFBAAQUKCxgADYDZljMAZgWtV0ABBRRQoLCAAdAAmG05A2BW0HoFFFBAAQUKCxgADYDZljMAZgWtV0ABBRRQoLCAAdAAmG05A2BW0HoFFFBAAQUKCxgADYDZljMAZgWtV0ABBRRQoLCAAdAAmG05A2BW0HoFFFBAAQUKCxgADYDZljMAZgWtV0ABBRRQoLCAAdAAmG05A2BW0HoFFFBAAQUKCxgADYDZljMAZgWtV0ABBRRQoLCAAdAAmG05A2BW0HoFFFBAAQUKCxgADYDZljMAZgWtV0ABBRRQoLCAAdAAmG05A2BW0HoFFFBAAQUKCxgADYDZljMAZgWtV0ABBRRQoLCAAdAAmG05A2BW0HoFFFBAAQUKCxgADYDZljMAZgWtV0ABBRRQoLCAAdAAmG05A2BW0HoFFFBAAQUKCxgADYDZljMAZgWtV0ABBRRQoLCAAXB0A+AksH+VfvoB4CZgE3BohW2eCHysz140APYJ5WYKKKCAAgrURcAAOLoB8P7Aty9rtMuBc4CHA3NdAfBc4JNd294BfKPPJjUA9gnlZgoooIACCtRFwAA4ugFweY/dDzgMvAWIIBiPzgzg9wA3n2BTGgBPEM4yBRRQQAEFhiVgAGxPAHwOcDXwMGBmWQC8FXgA8FngSuCDx2nIU4D4r/M4NZ7v6NGjrFsXWdCHAgoooIACCtRdwADYngD44aoZf7SrKR8M/DTwZ8A9QITElwHPOk4IvAy4dHljGwDr/lZ3fAoooIACCiwJGACbFwDfALy8RxM/Gvh01zYbgS8A5wPX9Kh9D3AWsHmV7ZwB9BNEAQUUUECBhgsYAJsXAM8ATu/Rd58Dvt61zauAFwMb+ri440XAJcD6PnvbNYB9QrmZAgoooIACdREwADYvAA7aO2PALcA08Mt9FL8L+F7gCX1sG5sYAPuEcjMFFFBAAQXqImAAHP0AGLd9uQ5Yflo4evD51Uzh31QNOVVdIfzzwLv7bFIDYJ9QbqaAAgoooEBdBAyAox8Ad1dX/j55haaLABjrCePK4G9W6wbfBOwdoEENgANguakCCiiggAJ1EDAAjn4APNl9ZgA82cI+vwIKKKCAAmssYAA0AGZbygCYFbReAQUUUECBwgIGQANgtuUMgFlB6xVQQAEFFCgsYAA0AGZbzgCYFbReAQUUUECBwgIGQANgtuUMgFlB6xVQQAEFFCgsYAA0AGZbzgCYFbReAQUUUECBwgIGQANgtuUMgFlB6xVQQAEFFCgsYAA0AGZbzgCYFbReAQUUUECBwgIGQANgtuUMgFlB6xVQQAEFFCgsYAA0AGZbzgCYFbReAQUUUECBwgIGQANgtuUMgFlB6xVQQAEFFCgsYAA0AGZbzgCYFbReAQUUUECBwgIGQANgtuUMgFlB6xVQQAEFFCgsYAA0AGZbzgCYFbReAQUUUECBwgIGQANgtuUMgFlB6xVQQAEFFCgsYAA0AGZbzgCYFbReAQUUUECBwgIGQANgtuUMgFlB6xVQQAEFFCgsYAA0AGZbzgCYFbReAQUUUECBwgIGQANgtuUMgFlB6xVQQAEFFCgsYAA0AGZbzgCYFbReAQUUUECBwgIGQANgtuUMgFlB6xVQQAEFFCgsYAA0AGZbzgCYFbReAQUUUECBwgIGQANgtuUMgFlB6xVQQAEFFCgsYAA0AGZbzgCYFbReAQUUUECBwgIGQANgtuUMgFlB6xVQQAEFFCgsYAA0AGZbzgCYFbReAQUUUECBwgIGQANgtuUMgFlB6xVQQAEFFCgsYAA0AGZbzgCYFbReAQUUUECBwgIGQANgtuUMgFlB6xVQQAEFFCgsYAA0AGZbzgCYFbReAQUUUECBwgIGQANgtuUMgFlB6xVQQAEFFCgsYAA0AGZbzgCYFbReAQUUUECBwgIGQANgtuUMgFlB6xVQQAEFFCgsYAA0AGZbzgCYFbReAQUUUECBwgIGQANgtuUMgFlB6xVQQAEFFCgsYAA0AGZbzgCYFbReAQUUUECBwgIGQANgtuUMgFlB6xVQQAEFFCgsYAA0AGZbzgCYFbReAQUUUECBwgIGQANgtuXmA+Ctt97KunXxP30ooIACCiigQN0FIgBOTEzEME8D7qz7eE/G+MZOxpO26Dk3ADMt2l93VQEFFFBAgVES2AgcHqUd6ndfDID9Sq28XfidCfxr7mkaU31qFXjjDdOWfe4cHPcdPO6NeaumB2q/2+9t+IyPPv8SMJd+xzTwCQyADTxoQxzy/Cnvlk6Zu+/tPFXS1uPe1v2Oj1f3vZ3v9SF+tQ7npQ2Aw3Fv6qv6wdjOD0aPe/uOu8e8fce87eG3qd/LJzxuA+AJ07Wy0C8FvxTatli6rT3f1v1uewhq83Fv3Ze6AbB1hzy1w6cArwB+FfiP1DM1r9h997i3qeftd/u9Tf3evG+kNRixAXANEH0KBRRQQAEFFFCgSQIGwCYdLceqgAIKKKCAAgqsgYABcA0QfQoFFFBAAQUUUKBJAgbAJh0tx6qAAgoooIACCqyBgAFwDRB9CgUUUEABBRRQoEkCBsAmHa2yY30l8GPAdwNfBx60wsuvdPf0bcD7u7adBH4DeCxwK3AF8Dtld2WgV+tnv78DeDuwBfg34Herq6O/2eD9Xg3p88DDlv1jXAn+hq6/ezzwm8D3A7cDbwGuHEi9nhu/CHgp8FDgb4EXAzfWc6gnPKrLgEuXVX8GeFT1dw8Afh14LhBXBn8EeCFw2wm/4vAKn1Idz+8F1gPPBn6/azjxffga4H9Un3d/BvwC8A9d23x71d8/DtwDXAPsqD4HhrdnvV+5177HZ/Lzlz1NHOunj8C+99Zp6RYGwJYe+D52Oz4I/4WFX4f0348TAH8W+KOu54uau6s/nwV8AvjfwP8BzgF2VsEyPlzq+Oi13+PAzcCXqy+T+CJ5D/Au4H81eL+PFwB/q9q/zjbxK6K+Vv0h7hv2WeC66vZA3wn8NnAR8M46HuA+x/ST1XG9EPjLan/OAx4J/FOfz9GEzSIAbgXO7Rps/CDzlerP8YNO/CD4M9VvAXprFXye3ISdWzbGZwAx7r8CplcIgC+vfpCLIHQIuByIfn5M12faH1bh8QLgfsC7gZuA7TX36LXvEQAfAsTneecRt4H5564/N3Xfa35ohjc8A+Dw7JvyyvHBH6FttRnA5T9Fd+/XG6svj8d1/WXMDsZzdf9kWUeL1fY7Pkj/b/U7oDuzIBESYl/PqGZLm7zfy49FzADG8Y//VnrEDMnrqlmymCmOR8wOPqtrFqmOx7fXmCL0xRf7L1Yb3qeawY7Zze7Zz17PU/d/jwAYxypm+pc/TqtmdCPc7K3+MWYG/x54IvCxuu/cccYXZy+6P7viuzB+J2zMdv5aVRf7H+/x+CyIz61HA5+qZro/Xm0Tn2Mfrn5QjvomPJbve4w5AmB8LkcvrPQYlX1vwvEpNkYDYDHqxr5QrwAYH3pxauhz1Uxf/ETcOTV8PfDX1exJByB+wowwER+udX6stt+vBX5i2RdmzHTG/j8B+Bugyfu9/JhEAIzTgDHb8UVgN3AV0DndHbOfMQvY/cURp8b/FIjTZd0zCHU+3t1juz9wVzUz1n2KME71x5fkM5uyI32MMwJgnOaO3/EdM/d/Uc2CxbF+GrAP+LbqbEDn6b5QvYejD5r6WB6CzgZuAb6nmuHv7NdHqz/Had6fqwJieHQe963cYnb42oZgrBYA4z0cP8TFezbev5cAd1T7NCr73pBDVGaYBsAyzk1+leMFwFdVHxTxZfkj1fqZlwFvrnY4Tg1GIIzfHNJ5/Cjw/4AHAv9eY5jV9jtOa8aauP/aNfbYlzglGvsWp0mavN/LD8kvVSH+q8CTqmMZxzT+Ph5/XJ0ui1NinUecMvtkdeosZoua9jgTOFztbwSiziPWNT4V+MGm7dBxxhsz2t8KxLq/WM4Q6wE3ADFrH+vc4ljHD3jdj1gHuR+IU6ZNfSwPQdHbseYvjv2Rrp26uvqBNpYExBKPOD0cywC6H7EkINzidHkTHisFwFjjGZ/jcer74cDrq3WNMdM7O0L73oTjU2yMBsBi1LV4oTh11etDO6b6P9012uMFwOU7FbNjMcM3Uf1DXYLQWu73KATAE/HoHOuYCXhHFRpijZABsBZv7TUbRMxwxgxfBPz4Ac0AuHBGY9QD4PIG6syIxtrQmAUelfC7Zm+UUXgiA+AoHMX+9yHWqJ3eY/M4ldlZyxWbDhIAY7F4rI+LU4YRDupyKnQt93sUTgGfiEenbeJq7riwJ9aCxayRp4D7f/81ZctY+xgX9fyJp4BpyynglXozruiP08DxA5+ngJvy7h1gnAbAAbBauukgATBuofI/q7VfwRUXQ8Rp0biSrvOINWSxNqzpF4HE6bLO1aAvAN4E/Kcq+DZ5v3u1+fOq0Pfgaq1Q5yKQuILwG1VxnD6aGoGLQOJUZ9z6JR5xEUisi4urYEfpIpDlxztOB8d+xtrAWPMYISBu7RS3O4lHnP6MMwSjehFIXAASF4LEI9a2xnt8+UUg31ddSRzbxNKXuAtC3C2hyReBLO+D2J/og1gX+MGuC2Cavu+9Pt9a9e8GwFYd7oF2Nu51F0EtLniIReKbq+p/rNaGxPqg+NKPKwFj8fh/qa6eiw/Qzn3FOreBiXvExa1BYlF5rA+MmcK63gam1353bgMTH/ax3jHuEfd71W1ult8Gpkn7vVJzxJd8rHeL9V5x65f4cyz8j3WOnXuGxcU8MRMYp4Ij+MbasTjWF4/AbWAiAMXaxgiCcVub86tQ28R74K325o/364eq076x/i1ugxRXBMc6zgh/sa4tfoiLEHRndQ+8eK5YM9e0R4TbR1SDjou14jR39Hasb42wE8tjfqXq7c5tYOIel8tvAxOfe3Hlf+c2MHFFcN1vA3O8fY/9j8/sCPlxe6tYAxjrXU+tfniPsznxiPd9E/e9aX1abLwGwGLUjXuhlW4MGjsRV3geqGbw4uKO+ECNPopgGF8WcT+8uEFq5xE3go7QEB+iM9W9tep8I+he+x37FReBxL7GvsXFHxEU4otj+Y2gm7TfKzVoXNX8tir0xIUA8aUYYTdu7N35Uoi67htBx/3j4lYpEQab/ohbwHRuBB33fnxJdU/Apu9X9/jj9iZxk+BYGhKB7wYgZvLjith4dG4EHbOA3TeCjqDQtEe8XyPwLX/E+zcCbudG0DGjH2shwyJueh1rmTuP+KE4ZoG7bwQdfRE3hK/z43j7HrP4cbV7XAEd+x0/3MYPdHGRX/cPO03d9zofl6GOzQA4VH5fXAEFFFBAAQUUKC9gACxv7isqoIACCiiggAJDFTAADpXfF1dAAQUUUEABBcoLGADLm/uKCiiggAIKKKDAUAUMgEPl98UVUEABBRRQQIHyAgbA8ua+ogIKKKCAAgooMFQBA+BQ+X1xBRRQQAEFFFCgvIABsLy5r6iAAgoooIACCgxVwAA4VH5fXAEFFFBAAQUUKC9gACxv7isqoIACCiiggAJDFTAADpXfF1dAAQUUUEABLzJxDQAAAWxJREFUBcoLGADLm/uKCiiggAIKKKDAUAUMgEPl98UVUEABBRRQQIHyAgbA8ua+ogIKKKCAAgooMFQBA+BQ+X1xBRRQQAEFFFCgvIABsLy5r6iAAgoooIACCgxVwAA4VH5fXAEFFFBAAQUUKC9gACxv7isqoIACCiiggAJDFTAADpXfF1dAAQUUUEABBcoLGADLm/uKCiiggAIKKKDAUAUMgEPl98UVUEABBRRQQIHyAgbA8ua+ogIKKKCAAgooMFQBA+BQ+X1xBRRQQAEFFFCgvIABsLy5r6iAAgoooIACCgxVwAA4VH5fXAEFFFBAAQUUKC9gACxv7isqoIACCiiggAJDFTAADpXfF1dAAQUUUEABBcoLGADLm/uKCiiggAIKKKDAUAUMgEPl98UVUEABBRRQQIHyAgbA8ua+ogIKKKCAAgooMFQBA+BQ+X1xBRRQQAEFFFCgvIABsLy5r6iAAgoooIACCgxV4P8DRUDHOpzOGtoAAAAASUVORK5CYII=\" width=\"640\">"
      ],
      "text/plain": [
       "<IPython.core.display.HTML object>"
      ]
     },
     "metadata": {},
     "output_type": "display_data"
    }
   ],
   "source": [
    "#psearch = ParameterSearch(\"calibration/calibration_device/2015_11_06_centroids.txt\", 1280, 720)\n",
    "\n",
    "\"\"\"best_parameters = \\\n",
    "{'animal_y':0.056,\n",
    "'animal_z':0.575,\n",
    "'dome_y':0.110,\n",
    "'dome_z':0.348,\n",
    "'dome_radius':0.601,\n",
    "'mirror_radius':0.162,\n",
    "'projector_y':0.858,\n",
    "'projector_z':-0.052,\n",
    "'projector_roll':0.010,\n",
    "'projector_theta':0.166,\n",
    "'projector_vertical_offset':0.211}\"\"\"\n",
    "\n",
    "psearch = ParameterSearch(\"example_centroids.txt\", 1024, 768)\n",
    "\n",
    "best_parameters = \\\n",
    "{'animal_y':0.0279606097915,\n",
    "'animal_z':0.501225843308,\n",
    "'dome_y':0.219457436982,\n",
    "'dome_z':0.434561042672,\n",
    "'dome_radius':0.654706315528,\n",
    "'mirror_radius':0.237214340525,\n",
    "'projector_y':0.777813617153,\n",
    "'projector_z':0.099647194721,\n",
    "'projector_roll':0.0221805273634,\n",
    "'projector_theta':0.399998777994,\n",
    "'projector_vertical_offset':0.0}\n",
    "\n",
    "def value_to_range(value):\n",
    "    return (value - 0.1, value + 0.1, 0.001)\n",
    "ranges = dict([[key, value_to_range(best_parameters[key])] for key in best_parameters])"
   ]
  },
  {
   "cell_type": "code",
   "execution_count": 98,
   "metadata": {
    "collapsed": false,
    "deletable": true,
    "editable": true
   },
   "outputs": [
    {
     "data": {
      "application/vnd.jupyter.widget-view+json": {
       "model_id": "fba1b9c87fed41f1a69e8af0a04a8eaf"
      }
     },
     "metadata": {},
     "output_type": "display_data"
    }
   ],
   "source": [
    "sliders = interact(psearch.update, **ranges)"
   ]
  },
  {
   "cell_type": "code",
   "execution_count": 99,
   "metadata": {
    "collapsed": false,
    "deletable": true,
    "editable": true
   },
   "outputs": [
    {
     "data": {
      "text/plain": [
       "{'animal_y': 0.027960609791500002,\n",
       " 'animal_z': 0.500225843308,\n",
       " 'dome_radius': 0.653706315528,\n",
       " 'dome_y': 0.219457436982,\n",
       " 'dome_z': 0.433561042672,\n",
       " 'mirror_radius': 0.237214340525,\n",
       " 'projector_roll': 0.022180527363399996,\n",
       " 'projector_theta': 0.39999877799399997,\n",
       " 'projector_vertical_offset': 0.0,\n",
       " 'projector_y': 0.776813617153,\n",
       " 'projector_z': 0.099647194721}"
      ]
     },
     "execution_count": 99,
     "metadata": {},
     "output_type": "execute_result"
    }
   ],
   "source": [
    "sliders.widget.kwargs"
   ]
  }
 ],
 "metadata": {
  "kernelspec": {
   "display_name": "Python 2",
   "language": "python",
   "name": "python2"
  },
  "language_info": {
   "codemirror_mode": {
    "name": "ipython",
    "version": 2
   },
   "file_extension": ".py",
   "mimetype": "text/x-python",
   "name": "python",
   "nbconvert_exporter": "python",
   "pygments_lexer": "ipython2",
   "version": "2.7.13"
  },
  "widgets": {
   "state": {
    "09875c31a9154ebe87b31b95aa581310": {
     "views": []
    },
    "0b218c22c3e34d0293990f8934fb0bdd": {
     "views": []
    },
    "0caa39bc3dd249dabfdf5af7ffc03d2c": {
     "views": []
    },
    "16657318d91f4c7f91025f8fe3211703": {
     "views": []
    },
    "19379ffaec7f445faa184de24a29ca0e": {
     "views": []
    },
    "1a22ad54c6084ddda91c2ffa6b4153a6": {
     "views": []
    },
    "1c8507f06be84a7dab4e70d5258b41ff": {
     "views": []
    },
    "1cfdaee90ffd4afd9d1e22e5f4503f62": {
     "views": []
    },
    "1fab24a952794e87b44d15b96bc8d505": {
     "views": []
    },
    "21586773f25f4cc795cae7bbf784f128": {
     "views": []
    },
    "23aef5db57334d53850c6501be8494fd": {
     "views": []
    },
    "2687a0396ed8435c9f6f970e04a0cd0b": {
     "views": []
    },
    "281a2a423d634ca8a731f509c746ba8b": {
     "views": []
    },
    "2870fa6771bb431aa758b54caff07f9f": {
     "views": []
    },
    "30ac2fad0e3b43028d16a3e3a41d1837": {
     "views": []
    },
    "42d798bab95f43e689d5fc83cc62f522": {
     "views": []
    },
    "45a45214704d4c379407fc082114addd": {
     "views": []
    },
    "4708e2898cf64bceac2f8d04a89e9387": {
     "views": []
    },
    "4c8fd0979bfc44398708e2a1475a2f9d": {
     "views": []
    },
    "4eb5550a9224451e82f35c997b03e824": {
     "views": []
    },
    "4f62132cac024cbc932f87dc36a8115a": {
     "views": []
    },
    "5213a993d89d4d86b1da4eda2814f7d6": {
     "views": []
    },
    "53baf262e3df422ca4fe94d5b990f3e6": {
     "views": []
    },
    "53c5b59ee38a455ea2141c6da3e67c39": {
     "views": []
    },
    "54632940b4814cc5833dac60cfabc993": {
     "views": []
    },
    "5b4b34d7c9df41f1b62954cf9071969f": {
     "views": []
    },
    "5c5a68c3347444089a8725831f15d771": {
     "views": []
    },
    "5d3453faf1394890ae4012b1afbdb291": {
     "views": []
    },
    "62bdf9e8225d4590909fbb482cd5d980": {
     "views": []
    },
    "637dacb2b0d646fab252c93af5d7cf81": {
     "views": []
    },
    "64a2473426ce4a14bd98e9d94c74480b": {
     "views": []
    },
    "73695ce38a304d189e0876f581193584": {
     "views": []
    },
    "7468713896ff433a9773daa2b9738c91": {
     "views": [
      {
       "cell_index": 4
      }
     ]
    },
    "74a79ac07b094b79b822849cbf772e41": {
     "views": []
    },
    "77f8f15980034c818fa80154dbd184b4": {
     "views": []
    },
    "795380a83f9c4aae9f25cb070eff9cde": {
     "views": []
    },
    "7eb1093d13e347c6b3e63c1b62630b65": {
     "views": []
    },
    "7f808f1884c842db8d4b571cd3ea5c89": {
     "views": []
    },
    "7f99eee3712f48b9a384f5e799a7aff5": {
     "views": []
    },
    "80cc3cde94374073b4179e6bc74bb950": {
     "views": []
    },
    "86eb803d08eb4ad3b57273fd022719e3": {
     "views": []
    },
    "899aec350d1e4c61a46faa84639079ac": {
     "views": []
    },
    "8af7b623e59b48df843c756c6a9d91d2": {
     "views": []
    },
    "8f6cdd0f0f1041e486b4a71edb7941be": {
     "views": []
    },
    "943a74b8fb9e4207bbf97d8576813df4": {
     "views": []
    },
    "95216e4bf8814cda932c5727db2b4320": {
     "views": []
    },
    "99bdbd2c7b7042f296acca1b916bd07b": {
     "views": []
    },
    "9d19ef372de6457a88ca0b4fa29282e5": {
     "views": []
    },
    "9db0a82b90964442bef67700c98efcc0": {
     "views": []
    },
    "9deb97b921cb44d8bbd746eafcfd5431": {
     "views": []
    },
    "9e1652931c214cfa9de2b9381315e64a": {
     "views": []
    },
    "9ebbb557c35e44c9a45242a59a82a7b0": {
     "views": []
    },
    "a4e55514c07d46508d9dd474959a23e5": {
     "views": []
    },
    "a7ed85ff16d444678abc04fc815c8cb7": {
     "views": []
    },
    "a98063fab26b4f7c989a6fca0e56d08e": {
     "views": []
    },
    "a9d281072eb6440ca874493b1712aac6": {
     "views": []
    },
    "aaa1cb8f0059400e8d30844cebde4484": {
     "views": []
    },
    "ae45ca9971e24a579e6a9126368fcbb1": {
     "views": []
    },
    "b043edf61cea472694c2d82d8aa35a6d": {
     "views": []
    },
    "b1271f2d2c644ad1a194e970983ef435": {
     "views": []
    },
    "b669990a6fc54e6dbfef4d8e4abbe7c0": {
     "views": []
    },
    "b711babe10ef46cc84e1ec3a2baa6eab": {
     "views": []
    },
    "b96dadab4a2342439ba476c10bb1a05a": {
     "views": []
    },
    "b9833e79a8414525b9c5fa23e77f85ad": {
     "views": []
    },
    "babf49f7ddc04d02baa3b291939b7f50": {
     "views": []
    },
    "bc125551485f490d8a03632da6188b89": {
     "views": []
    },
    "c14a52d76d0b445fbef1f4ba0e90226a": {
     "views": []
    },
    "c1d1056c702b4747b5c6513fd157bb69": {
     "views": []
    },
    "c298d19cf5f84be2b64dcc8ae067b439": {
     "views": []
    },
    "c32f29a97aae42ce94adf7f0bea94c8d": {
     "views": []
    },
    "c45ce6271d6f4df682d82c771dcf1cee": {
     "views": []
    },
    "c5a5816eada4469dbac8ddcdb68e222c": {
     "views": []
    },
    "cd6cd3d8b2174b7896e3fddcd26f4d82": {
     "views": []
    },
    "cf9b71ee09aa41f99f36268b1078b318": {
     "views": []
    },
    "d1d8d1f104f44b919b3f753b06499045": {
     "views": []
    },
    "d1e8653990fc4810a2a45cf881a62856": {
     "views": []
    },
    "d4414b06d00c45899b9d347586d0a1bf": {
     "views": []
    },
    "d5c97b5e342a4f79b728014a68b2d60e": {
     "views": []
    },
    "de12cf83f3364558b1f577cc323030b4": {
     "views": []
    },
    "e1129aa7db814714a754a443d9c149a1": {
     "views": []
    },
    "e266bf467a734d029633d1b4b4b4900f": {
     "views": []
    },
    "e39dea2a6a9547bd8128263817de37d4": {
     "views": []
    },
    "e3e9900514054a57a219a3029859ece7": {
     "views": []
    },
    "e506bc49e1b84fa4aa996a4f60c81508": {
     "views": []
    },
    "ecf35cde496248e99ba9c9f3faccd7cc": {
     "views": []
    },
    "edd39dec0b54401f9aac3d90b027dd56": {
     "views": []
    },
    "ef1de0aa8bf2487f8bc00369b4438341": {
     "views": []
    },
    "efd55004b06b4005bb749705ee480be4": {
     "views": []
    },
    "f1628ae1ec704cd2953052c6a8121d19": {
     "views": []
    },
    "f38107dbcb1f44949ba385bfa5e8325f": {
     "views": []
    },
    "f5831828c0754611a7f2bfb5d2ef3a1f": {
     "views": []
    },
    "f750644b1806413bbd406f60059ee994": {
     "views": []
    },
    "fd7a4ef7e0d745eb955841782e058329": {
     "views": []
    },
    "fda9688ff83e41d7bcb5b54ca57d3505": {
     "views": []
    },
    "fdd434b0b9644f22bc48b9969d42625c": {
     "views": []
    },
    "fdda403506144d25917ee6ae49e498e3": {
     "views": []
    }
   },
   "version": "1.1.2"
  }
 },
 "nbformat": 4,
 "nbformat_minor": 0
}
