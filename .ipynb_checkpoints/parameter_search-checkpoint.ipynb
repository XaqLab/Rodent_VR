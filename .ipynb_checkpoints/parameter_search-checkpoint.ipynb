{
 "cells": [
  {
   "cell_type": "code",
   "execution_count": 53,
   "metadata": {
    "collapsed": false,
    "deletable": true,
    "editable": true
   },
   "outputs": [],
   "source": [
    "%matplotlib notebook\n",
    "import matplotlib.pyplot as plt\n",
    "from IPython.display import display\n",
    "from ipywidgets import interactive, HBox, VBox, Button\n",
    "from parameter_search import ParameterSearch"
   ]
  },
  {
   "cell_type": "code",
   "execution_count": 54,
   "metadata": {
    "collapsed": false,
    "deletable": true,
    "editable": true
   },
   "outputs": [
    {
     "data": {
      "application/javascript": [
       "/* Put everything inside the global mpl namespace */\n",
       "window.mpl = {};\n",
       "\n",
       "\n",
       "mpl.get_websocket_type = function() {\n",
       "    if (typeof(WebSocket) !== 'undefined') {\n",
       "        return WebSocket;\n",
       "    } else if (typeof(MozWebSocket) !== 'undefined') {\n",
       "        return MozWebSocket;\n",
       "    } else {\n",
       "        alert('Your browser does not have WebSocket support.' +\n",
       "              'Please try Chrome, Safari or Firefox ≥ 6. ' +\n",
       "              'Firefox 4 and 5 are also supported but you ' +\n",
       "              'have to enable WebSockets in about:config.');\n",
       "    };\n",
       "}\n",
       "\n",
       "mpl.figure = function(figure_id, websocket, ondownload, parent_element) {\n",
       "    this.id = figure_id;\n",
       "\n",
       "    this.ws = websocket;\n",
       "\n",
       "    this.supports_binary = (this.ws.binaryType != undefined);\n",
       "\n",
       "    if (!this.supports_binary) {\n",
       "        var warnings = document.getElementById(\"mpl-warnings\");\n",
       "        if (warnings) {\n",
       "            warnings.style.display = 'block';\n",
       "            warnings.textContent = (\n",
       "                \"This browser does not support binary websocket messages. \" +\n",
       "                    \"Performance may be slow.\");\n",
       "        }\n",
       "    }\n",
       "\n",
       "    this.imageObj = new Image();\n",
       "\n",
       "    this.context = undefined;\n",
       "    this.message = undefined;\n",
       "    this.canvas = undefined;\n",
       "    this.rubberband_canvas = undefined;\n",
       "    this.rubberband_context = undefined;\n",
       "    this.format_dropdown = undefined;\n",
       "\n",
       "    this.image_mode = 'full';\n",
       "\n",
       "    this.root = $('<div/>');\n",
       "    this._root_extra_style(this.root)\n",
       "    this.root.attr('style', 'display: inline-block');\n",
       "\n",
       "    $(parent_element).append(this.root);\n",
       "\n",
       "    this._init_header(this);\n",
       "    this._init_canvas(this);\n",
       "    this._init_toolbar(this);\n",
       "\n",
       "    var fig = this;\n",
       "\n",
       "    this.waiting = false;\n",
       "\n",
       "    this.ws.onopen =  function () {\n",
       "            fig.send_message(\"supports_binary\", {value: fig.supports_binary});\n",
       "            fig.send_message(\"send_image_mode\", {});\n",
       "            if (mpl.ratio != 1) {\n",
       "                fig.send_message(\"set_dpi_ratio\", {'dpi_ratio': mpl.ratio});\n",
       "            }\n",
       "            fig.send_message(\"refresh\", {});\n",
       "        }\n",
       "\n",
       "    this.imageObj.onload = function() {\n",
       "            if (fig.image_mode == 'full') {\n",
       "                // Full images could contain transparency (where diff images\n",
       "                // almost always do), so we need to clear the canvas so that\n",
       "                // there is no ghosting.\n",
       "                fig.context.clearRect(0, 0, fig.canvas.width, fig.canvas.height);\n",
       "            }\n",
       "            fig.context.drawImage(fig.imageObj, 0, 0);\n",
       "        };\n",
       "\n",
       "    this.imageObj.onunload = function() {\n",
       "        this.ws.close();\n",
       "    }\n",
       "\n",
       "    this.ws.onmessage = this._make_on_message_function(this);\n",
       "\n",
       "    this.ondownload = ondownload;\n",
       "}\n",
       "\n",
       "mpl.figure.prototype._init_header = function() {\n",
       "    var titlebar = $(\n",
       "        '<div class=\"ui-dialog-titlebar ui-widget-header ui-corner-all ' +\n",
       "        'ui-helper-clearfix\"/>');\n",
       "    var titletext = $(\n",
       "        '<div class=\"ui-dialog-title\" style=\"width: 100%; ' +\n",
       "        'text-align: center; padding: 3px;\"/>');\n",
       "    titlebar.append(titletext)\n",
       "    this.root.append(titlebar);\n",
       "    this.header = titletext[0];\n",
       "}\n",
       "\n",
       "\n",
       "\n",
       "mpl.figure.prototype._canvas_extra_style = function(canvas_div) {\n",
       "\n",
       "}\n",
       "\n",
       "\n",
       "mpl.figure.prototype._root_extra_style = function(canvas_div) {\n",
       "\n",
       "}\n",
       "\n",
       "mpl.figure.prototype._init_canvas = function() {\n",
       "    var fig = this;\n",
       "\n",
       "    var canvas_div = $('<div/>');\n",
       "\n",
       "    canvas_div.attr('style', 'position: relative; clear: both; outline: 0');\n",
       "\n",
       "    function canvas_keyboard_event(event) {\n",
       "        return fig.key_event(event, event['data']);\n",
       "    }\n",
       "\n",
       "    canvas_div.keydown('key_press', canvas_keyboard_event);\n",
       "    canvas_div.keyup('key_release', canvas_keyboard_event);\n",
       "    this.canvas_div = canvas_div\n",
       "    this._canvas_extra_style(canvas_div)\n",
       "    this.root.append(canvas_div);\n",
       "\n",
       "    var canvas = $('<canvas/>');\n",
       "    canvas.addClass('mpl-canvas');\n",
       "    canvas.attr('style', \"left: 0; top: 0; z-index: 0; outline: 0\")\n",
       "\n",
       "    this.canvas = canvas[0];\n",
       "    this.context = canvas[0].getContext(\"2d\");\n",
       "\n",
       "    var backingStore = this.context.backingStorePixelRatio ||\n",
       "\tthis.context.webkitBackingStorePixelRatio ||\n",
       "\tthis.context.mozBackingStorePixelRatio ||\n",
       "\tthis.context.msBackingStorePixelRatio ||\n",
       "\tthis.context.oBackingStorePixelRatio ||\n",
       "\tthis.context.backingStorePixelRatio || 1;\n",
       "\n",
       "    mpl.ratio = (window.devicePixelRatio || 1) / backingStore;\n",
       "\n",
       "    var rubberband = $('<canvas/>');\n",
       "    rubberband.attr('style', \"position: absolute; left: 0; top: 0; z-index: 1;\")\n",
       "\n",
       "    var pass_mouse_events = true;\n",
       "\n",
       "    canvas_div.resizable({\n",
       "        start: function(event, ui) {\n",
       "            pass_mouse_events = false;\n",
       "        },\n",
       "        resize: function(event, ui) {\n",
       "            fig.request_resize(ui.size.width, ui.size.height);\n",
       "        },\n",
       "        stop: function(event, ui) {\n",
       "            pass_mouse_events = true;\n",
       "            fig.request_resize(ui.size.width, ui.size.height);\n",
       "        },\n",
       "    });\n",
       "\n",
       "    function mouse_event_fn(event) {\n",
       "        if (pass_mouse_events)\n",
       "            return fig.mouse_event(event, event['data']);\n",
       "    }\n",
       "\n",
       "    rubberband.mousedown('button_press', mouse_event_fn);\n",
       "    rubberband.mouseup('button_release', mouse_event_fn);\n",
       "    // Throttle sequential mouse events to 1 every 20ms.\n",
       "    rubberband.mousemove('motion_notify', mouse_event_fn);\n",
       "\n",
       "    rubberband.mouseenter('figure_enter', mouse_event_fn);\n",
       "    rubberband.mouseleave('figure_leave', mouse_event_fn);\n",
       "\n",
       "    canvas_div.on(\"wheel\", function (event) {\n",
       "        event = event.originalEvent;\n",
       "        event['data'] = 'scroll'\n",
       "        if (event.deltaY < 0) {\n",
       "            event.step = 1;\n",
       "        } else {\n",
       "            event.step = -1;\n",
       "        }\n",
       "        mouse_event_fn(event);\n",
       "    });\n",
       "\n",
       "    canvas_div.append(canvas);\n",
       "    canvas_div.append(rubberband);\n",
       "\n",
       "    this.rubberband = rubberband;\n",
       "    this.rubberband_canvas = rubberband[0];\n",
       "    this.rubberband_context = rubberband[0].getContext(\"2d\");\n",
       "    this.rubberband_context.strokeStyle = \"#000000\";\n",
       "\n",
       "    this._resize_canvas = function(width, height) {\n",
       "        // Keep the size of the canvas, canvas container, and rubber band\n",
       "        // canvas in synch.\n",
       "        canvas_div.css('width', width)\n",
       "        canvas_div.css('height', height)\n",
       "\n",
       "        canvas.attr('width', width * mpl.ratio);\n",
       "        canvas.attr('height', height * mpl.ratio);\n",
       "        canvas.attr('style', 'width: ' + width + 'px; height: ' + height + 'px;');\n",
       "\n",
       "        rubberband.attr('width', width);\n",
       "        rubberband.attr('height', height);\n",
       "    }\n",
       "\n",
       "    // Set the figure to an initial 600x600px, this will subsequently be updated\n",
       "    // upon first draw.\n",
       "    this._resize_canvas(600, 600);\n",
       "\n",
       "    // Disable right mouse context menu.\n",
       "    $(this.rubberband_canvas).bind(\"contextmenu\",function(e){\n",
       "        return false;\n",
       "    });\n",
       "\n",
       "    function set_focus () {\n",
       "        canvas.focus();\n",
       "        canvas_div.focus();\n",
       "    }\n",
       "\n",
       "    window.setTimeout(set_focus, 100);\n",
       "}\n",
       "\n",
       "mpl.figure.prototype._init_toolbar = function() {\n",
       "    var fig = this;\n",
       "\n",
       "    var nav_element = $('<div/>')\n",
       "    nav_element.attr('style', 'width: 100%');\n",
       "    this.root.append(nav_element);\n",
       "\n",
       "    // Define a callback function for later on.\n",
       "    function toolbar_event(event) {\n",
       "        return fig.toolbar_button_onclick(event['data']);\n",
       "    }\n",
       "    function toolbar_mouse_event(event) {\n",
       "        return fig.toolbar_button_onmouseover(event['data']);\n",
       "    }\n",
       "\n",
       "    for(var toolbar_ind in mpl.toolbar_items) {\n",
       "        var name = mpl.toolbar_items[toolbar_ind][0];\n",
       "        var tooltip = mpl.toolbar_items[toolbar_ind][1];\n",
       "        var image = mpl.toolbar_items[toolbar_ind][2];\n",
       "        var method_name = mpl.toolbar_items[toolbar_ind][3];\n",
       "\n",
       "        if (!name) {\n",
       "            // put a spacer in here.\n",
       "            continue;\n",
       "        }\n",
       "        var button = $('<button/>');\n",
       "        button.addClass('ui-button ui-widget ui-state-default ui-corner-all ' +\n",
       "                        'ui-button-icon-only');\n",
       "        button.attr('role', 'button');\n",
       "        button.attr('aria-disabled', 'false');\n",
       "        button.click(method_name, toolbar_event);\n",
       "        button.mouseover(tooltip, toolbar_mouse_event);\n",
       "\n",
       "        var icon_img = $('<span/>');\n",
       "        icon_img.addClass('ui-button-icon-primary ui-icon');\n",
       "        icon_img.addClass(image);\n",
       "        icon_img.addClass('ui-corner-all');\n",
       "\n",
       "        var tooltip_span = $('<span/>');\n",
       "        tooltip_span.addClass('ui-button-text');\n",
       "        tooltip_span.html(tooltip);\n",
       "\n",
       "        button.append(icon_img);\n",
       "        button.append(tooltip_span);\n",
       "\n",
       "        nav_element.append(button);\n",
       "    }\n",
       "\n",
       "    var fmt_picker_span = $('<span/>');\n",
       "\n",
       "    var fmt_picker = $('<select/>');\n",
       "    fmt_picker.addClass('mpl-toolbar-option ui-widget ui-widget-content');\n",
       "    fmt_picker_span.append(fmt_picker);\n",
       "    nav_element.append(fmt_picker_span);\n",
       "    this.format_dropdown = fmt_picker[0];\n",
       "\n",
       "    for (var ind in mpl.extensions) {\n",
       "        var fmt = mpl.extensions[ind];\n",
       "        var option = $(\n",
       "            '<option/>', {selected: fmt === mpl.default_extension}).html(fmt);\n",
       "        fmt_picker.append(option)\n",
       "    }\n",
       "\n",
       "    // Add hover states to the ui-buttons\n",
       "    $( \".ui-button\" ).hover(\n",
       "        function() { $(this).addClass(\"ui-state-hover\");},\n",
       "        function() { $(this).removeClass(\"ui-state-hover\");}\n",
       "    );\n",
       "\n",
       "    var status_bar = $('<span class=\"mpl-message\"/>');\n",
       "    nav_element.append(status_bar);\n",
       "    this.message = status_bar[0];\n",
       "}\n",
       "\n",
       "mpl.figure.prototype.request_resize = function(x_pixels, y_pixels) {\n",
       "    // Request matplotlib to resize the figure. Matplotlib will then trigger a resize in the client,\n",
       "    // which will in turn request a refresh of the image.\n",
       "    this.send_message('resize', {'width': x_pixels, 'height': y_pixels});\n",
       "}\n",
       "\n",
       "mpl.figure.prototype.send_message = function(type, properties) {\n",
       "    properties['type'] = type;\n",
       "    properties['figure_id'] = this.id;\n",
       "    this.ws.send(JSON.stringify(properties));\n",
       "}\n",
       "\n",
       "mpl.figure.prototype.send_draw_message = function() {\n",
       "    if (!this.waiting) {\n",
       "        this.waiting = true;\n",
       "        this.ws.send(JSON.stringify({type: \"draw\", figure_id: this.id}));\n",
       "    }\n",
       "}\n",
       "\n",
       "\n",
       "mpl.figure.prototype.handle_save = function(fig, msg) {\n",
       "    var format_dropdown = fig.format_dropdown;\n",
       "    var format = format_dropdown.options[format_dropdown.selectedIndex].value;\n",
       "    fig.ondownload(fig, format);\n",
       "}\n",
       "\n",
       "\n",
       "mpl.figure.prototype.handle_resize = function(fig, msg) {\n",
       "    var size = msg['size'];\n",
       "    if (size[0] != fig.canvas.width || size[1] != fig.canvas.height) {\n",
       "        fig._resize_canvas(size[0], size[1]);\n",
       "        fig.send_message(\"refresh\", {});\n",
       "    };\n",
       "}\n",
       "\n",
       "mpl.figure.prototype.handle_rubberband = function(fig, msg) {\n",
       "    var x0 = msg['x0'] / mpl.ratio;\n",
       "    var y0 = (fig.canvas.height - msg['y0']) / mpl.ratio;\n",
       "    var x1 = msg['x1'] / mpl.ratio;\n",
       "    var y1 = (fig.canvas.height - msg['y1']) / mpl.ratio;\n",
       "    x0 = Math.floor(x0) + 0.5;\n",
       "    y0 = Math.floor(y0) + 0.5;\n",
       "    x1 = Math.floor(x1) + 0.5;\n",
       "    y1 = Math.floor(y1) + 0.5;\n",
       "    var min_x = Math.min(x0, x1);\n",
       "    var min_y = Math.min(y0, y1);\n",
       "    var width = Math.abs(x1 - x0);\n",
       "    var height = Math.abs(y1 - y0);\n",
       "\n",
       "    fig.rubberband_context.clearRect(\n",
       "        0, 0, fig.canvas.width, fig.canvas.height);\n",
       "\n",
       "    fig.rubberband_context.strokeRect(min_x, min_y, width, height);\n",
       "}\n",
       "\n",
       "mpl.figure.prototype.handle_figure_label = function(fig, msg) {\n",
       "    // Updates the figure title.\n",
       "    fig.header.textContent = msg['label'];\n",
       "}\n",
       "\n",
       "mpl.figure.prototype.handle_cursor = function(fig, msg) {\n",
       "    var cursor = msg['cursor'];\n",
       "    switch(cursor)\n",
       "    {\n",
       "    case 0:\n",
       "        cursor = 'pointer';\n",
       "        break;\n",
       "    case 1:\n",
       "        cursor = 'default';\n",
       "        break;\n",
       "    case 2:\n",
       "        cursor = 'crosshair';\n",
       "        break;\n",
       "    case 3:\n",
       "        cursor = 'move';\n",
       "        break;\n",
       "    }\n",
       "    fig.rubberband_canvas.style.cursor = cursor;\n",
       "}\n",
       "\n",
       "mpl.figure.prototype.handle_message = function(fig, msg) {\n",
       "    fig.message.textContent = msg['message'];\n",
       "}\n",
       "\n",
       "mpl.figure.prototype.handle_draw = function(fig, msg) {\n",
       "    // Request the server to send over a new figure.\n",
       "    fig.send_draw_message();\n",
       "}\n",
       "\n",
       "mpl.figure.prototype.handle_image_mode = function(fig, msg) {\n",
       "    fig.image_mode = msg['mode'];\n",
       "}\n",
       "\n",
       "mpl.figure.prototype.updated_canvas_event = function() {\n",
       "    // Called whenever the canvas gets updated.\n",
       "    this.send_message(\"ack\", {});\n",
       "}\n",
       "\n",
       "// A function to construct a web socket function for onmessage handling.\n",
       "// Called in the figure constructor.\n",
       "mpl.figure.prototype._make_on_message_function = function(fig) {\n",
       "    return function socket_on_message(evt) {\n",
       "        if (evt.data instanceof Blob) {\n",
       "            /* FIXME: We get \"Resource interpreted as Image but\n",
       "             * transferred with MIME type text/plain:\" errors on\n",
       "             * Chrome.  But how to set the MIME type?  It doesn't seem\n",
       "             * to be part of the websocket stream */\n",
       "            evt.data.type = \"image/png\";\n",
       "\n",
       "            /* Free the memory for the previous frames */\n",
       "            if (fig.imageObj.src) {\n",
       "                (window.URL || window.webkitURL).revokeObjectURL(\n",
       "                    fig.imageObj.src);\n",
       "            }\n",
       "\n",
       "            fig.imageObj.src = (window.URL || window.webkitURL).createObjectURL(\n",
       "                evt.data);\n",
       "            fig.updated_canvas_event();\n",
       "            fig.waiting = false;\n",
       "            return;\n",
       "        }\n",
       "        else if (typeof evt.data === 'string' && evt.data.slice(0, 21) == \"data:image/png;base64\") {\n",
       "            fig.imageObj.src = evt.data;\n",
       "            fig.updated_canvas_event();\n",
       "            fig.waiting = false;\n",
       "            return;\n",
       "        }\n",
       "\n",
       "        var msg = JSON.parse(evt.data);\n",
       "        var msg_type = msg['type'];\n",
       "\n",
       "        // Call the  \"handle_{type}\" callback, which takes\n",
       "        // the figure and JSON message as its only arguments.\n",
       "        try {\n",
       "            var callback = fig[\"handle_\" + msg_type];\n",
       "        } catch (e) {\n",
       "            console.log(\"No handler for the '\" + msg_type + \"' message type: \", msg);\n",
       "            return;\n",
       "        }\n",
       "\n",
       "        if (callback) {\n",
       "            try {\n",
       "                // console.log(\"Handling '\" + msg_type + \"' message: \", msg);\n",
       "                callback(fig, msg);\n",
       "            } catch (e) {\n",
       "                console.log(\"Exception inside the 'handler_\" + msg_type + \"' callback:\", e, e.stack, msg);\n",
       "            }\n",
       "        }\n",
       "    };\n",
       "}\n",
       "\n",
       "// from http://stackoverflow.com/questions/1114465/getting-mouse-location-in-canvas\n",
       "mpl.findpos = function(e) {\n",
       "    //this section is from http://www.quirksmode.org/js/events_properties.html\n",
       "    var targ;\n",
       "    if (!e)\n",
       "        e = window.event;\n",
       "    if (e.target)\n",
       "        targ = e.target;\n",
       "    else if (e.srcElement)\n",
       "        targ = e.srcElement;\n",
       "    if (targ.nodeType == 3) // defeat Safari bug\n",
       "        targ = targ.parentNode;\n",
       "\n",
       "    // jQuery normalizes the pageX and pageY\n",
       "    // pageX,Y are the mouse positions relative to the document\n",
       "    // offset() returns the position of the element relative to the document\n",
       "    var x = e.pageX - $(targ).offset().left;\n",
       "    var y = e.pageY - $(targ).offset().top;\n",
       "\n",
       "    return {\"x\": x, \"y\": y};\n",
       "};\n",
       "\n",
       "/*\n",
       " * return a copy of an object with only non-object keys\n",
       " * we need this to avoid circular references\n",
       " * http://stackoverflow.com/a/24161582/3208463\n",
       " */\n",
       "function simpleKeys (original) {\n",
       "  return Object.keys(original).reduce(function (obj, key) {\n",
       "    if (typeof original[key] !== 'object')\n",
       "        obj[key] = original[key]\n",
       "    return obj;\n",
       "  }, {});\n",
       "}\n",
       "\n",
       "mpl.figure.prototype.mouse_event = function(event, name) {\n",
       "    var canvas_pos = mpl.findpos(event)\n",
       "\n",
       "    if (name === 'button_press')\n",
       "    {\n",
       "        this.canvas.focus();\n",
       "        this.canvas_div.focus();\n",
       "    }\n",
       "\n",
       "    var x = canvas_pos.x * mpl.ratio;\n",
       "    var y = canvas_pos.y * mpl.ratio;\n",
       "\n",
       "    this.send_message(name, {x: x, y: y, button: event.button,\n",
       "                             step: event.step,\n",
       "                             guiEvent: simpleKeys(event)});\n",
       "\n",
       "    /* This prevents the web browser from automatically changing to\n",
       "     * the text insertion cursor when the button is pressed.  We want\n",
       "     * to control all of the cursor setting manually through the\n",
       "     * 'cursor' event from matplotlib */\n",
       "    event.preventDefault();\n",
       "    return false;\n",
       "}\n",
       "\n",
       "mpl.figure.prototype._key_event_extra = function(event, name) {\n",
       "    // Handle any extra behaviour associated with a key event\n",
       "}\n",
       "\n",
       "mpl.figure.prototype.key_event = function(event, name) {\n",
       "\n",
       "    // Prevent repeat events\n",
       "    if (name == 'key_press')\n",
       "    {\n",
       "        if (event.which === this._key)\n",
       "            return;\n",
       "        else\n",
       "            this._key = event.which;\n",
       "    }\n",
       "    if (name == 'key_release')\n",
       "        this._key = null;\n",
       "\n",
       "    var value = '';\n",
       "    if (event.ctrlKey && event.which != 17)\n",
       "        value += \"ctrl+\";\n",
       "    if (event.altKey && event.which != 18)\n",
       "        value += \"alt+\";\n",
       "    if (event.shiftKey && event.which != 16)\n",
       "        value += \"shift+\";\n",
       "\n",
       "    value += 'k';\n",
       "    value += event.which.toString();\n",
       "\n",
       "    this._key_event_extra(event, name);\n",
       "\n",
       "    this.send_message(name, {key: value,\n",
       "                             guiEvent: simpleKeys(event)});\n",
       "    return false;\n",
       "}\n",
       "\n",
       "mpl.figure.prototype.toolbar_button_onclick = function(name) {\n",
       "    if (name == 'download') {\n",
       "        this.handle_save(this, null);\n",
       "    } else {\n",
       "        this.send_message(\"toolbar_button\", {name: name});\n",
       "    }\n",
       "};\n",
       "\n",
       "mpl.figure.prototype.toolbar_button_onmouseover = function(tooltip) {\n",
       "    this.message.textContent = tooltip;\n",
       "};\n",
       "mpl.toolbar_items = [[\"Home\", \"Reset original view\", \"fa fa-home icon-home\", \"home\"], [\"Back\", \"Back to  previous view\", \"fa fa-arrow-left icon-arrow-left\", \"back\"], [\"Forward\", \"Forward to next view\", \"fa fa-arrow-right icon-arrow-right\", \"forward\"], [\"\", \"\", \"\", \"\"], [\"Pan\", \"Pan axes with left mouse, zoom with right\", \"fa fa-arrows icon-move\", \"pan\"], [\"Zoom\", \"Zoom to rectangle\", \"fa fa-square-o icon-check-empty\", \"zoom\"], [\"\", \"\", \"\", \"\"], [\"Download\", \"Download plot\", \"fa fa-floppy-o icon-save\", \"download\"]];\n",
       "\n",
       "mpl.extensions = [\"eps\", \"jpeg\", \"pdf\", \"png\", \"ps\", \"raw\", \"svg\", \"tif\"];\n",
       "\n",
       "mpl.default_extension = \"png\";var comm_websocket_adapter = function(comm) {\n",
       "    // Create a \"websocket\"-like object which calls the given IPython comm\n",
       "    // object with the appropriate methods. Currently this is a non binary\n",
       "    // socket, so there is still some room for performance tuning.\n",
       "    var ws = {};\n",
       "\n",
       "    ws.close = function() {\n",
       "        comm.close()\n",
       "    };\n",
       "    ws.send = function(m) {\n",
       "        //console.log('sending', m);\n",
       "        comm.send(m);\n",
       "    };\n",
       "    // Register the callback with on_msg.\n",
       "    comm.on_msg(function(msg) {\n",
       "        //console.log('receiving', msg['content']['data'], msg);\n",
       "        // Pass the mpl event to the overriden (by mpl) onmessage function.\n",
       "        ws.onmessage(msg['content']['data'])\n",
       "    });\n",
       "    return ws;\n",
       "}\n",
       "\n",
       "mpl.mpl_figure_comm = function(comm, msg) {\n",
       "    // This is the function which gets called when the mpl process\n",
       "    // starts-up an IPython Comm through the \"matplotlib\" channel.\n",
       "\n",
       "    var id = msg.content.data.id;\n",
       "    // Get hold of the div created by the display call when the Comm\n",
       "    // socket was opened in Python.\n",
       "    var element = $(\"#\" + id);\n",
       "    var ws_proxy = comm_websocket_adapter(comm)\n",
       "\n",
       "    function ondownload(figure, format) {\n",
       "        window.open(figure.imageObj.src);\n",
       "    }\n",
       "\n",
       "    var fig = new mpl.figure(id, ws_proxy,\n",
       "                           ondownload,\n",
       "                           element.get(0));\n",
       "\n",
       "    // Call onopen now - mpl needs it, as it is assuming we've passed it a real\n",
       "    // web socket which is closed, not our websocket->open comm proxy.\n",
       "    ws_proxy.onopen();\n",
       "\n",
       "    fig.parent_element = element.get(0);\n",
       "    fig.cell_info = mpl.find_output_cell(\"<div id='\" + id + \"'></div>\");\n",
       "    if (!fig.cell_info) {\n",
       "        console.error(\"Failed to find cell for figure\", id, fig);\n",
       "        return;\n",
       "    }\n",
       "\n",
       "    var output_index = fig.cell_info[2]\n",
       "    var cell = fig.cell_info[0];\n",
       "\n",
       "};\n",
       "\n",
       "mpl.figure.prototype.handle_close = function(fig, msg) {\n",
       "    var width = fig.canvas.width/mpl.ratio\n",
       "    fig.root.unbind('remove')\n",
       "\n",
       "    // Update the output cell to use the data from the current canvas.\n",
       "    fig.push_to_output();\n",
       "    var dataURL = fig.canvas.toDataURL();\n",
       "    // Re-enable the keyboard manager in IPython - without this line, in FF,\n",
       "    // the notebook keyboard shortcuts fail.\n",
       "    IPython.keyboard_manager.enable()\n",
       "    $(fig.parent_element).html('<img src=\"' + dataURL + '\" width=\"' + width + '\">');\n",
       "    fig.close_ws(fig, msg);\n",
       "}\n",
       "\n",
       "mpl.figure.prototype.close_ws = function(fig, msg){\n",
       "    fig.send_message('closing', msg);\n",
       "    // fig.ws.close()\n",
       "}\n",
       "\n",
       "mpl.figure.prototype.push_to_output = function(remove_interactive) {\n",
       "    // Turn the data on the canvas into data in the output cell.\n",
       "    var width = this.canvas.width/mpl.ratio\n",
       "    var dataURL = this.canvas.toDataURL();\n",
       "    this.cell_info[1]['text/html'] = '<img src=\"' + dataURL + '\" width=\"' + width + '\">';\n",
       "}\n",
       "\n",
       "mpl.figure.prototype.updated_canvas_event = function() {\n",
       "    // Tell IPython that the notebook contents must change.\n",
       "    IPython.notebook.set_dirty(true);\n",
       "    this.send_message(\"ack\", {});\n",
       "    var fig = this;\n",
       "    // Wait a second, then push the new image to the DOM so\n",
       "    // that it is saved nicely (might be nice to debounce this).\n",
       "    setTimeout(function () { fig.push_to_output() }, 1000);\n",
       "}\n",
       "\n",
       "mpl.figure.prototype._init_toolbar = function() {\n",
       "    var fig = this;\n",
       "\n",
       "    var nav_element = $('<div/>')\n",
       "    nav_element.attr('style', 'width: 100%');\n",
       "    this.root.append(nav_element);\n",
       "\n",
       "    // Define a callback function for later on.\n",
       "    function toolbar_event(event) {\n",
       "        return fig.toolbar_button_onclick(event['data']);\n",
       "    }\n",
       "    function toolbar_mouse_event(event) {\n",
       "        return fig.toolbar_button_onmouseover(event['data']);\n",
       "    }\n",
       "\n",
       "    for(var toolbar_ind in mpl.toolbar_items){\n",
       "        var name = mpl.toolbar_items[toolbar_ind][0];\n",
       "        var tooltip = mpl.toolbar_items[toolbar_ind][1];\n",
       "        var image = mpl.toolbar_items[toolbar_ind][2];\n",
       "        var method_name = mpl.toolbar_items[toolbar_ind][3];\n",
       "\n",
       "        if (!name) { continue; };\n",
       "\n",
       "        var button = $('<button class=\"btn btn-default\" href=\"#\" title=\"' + name + '\"><i class=\"fa ' + image + ' fa-lg\"></i></button>');\n",
       "        button.click(method_name, toolbar_event);\n",
       "        button.mouseover(tooltip, toolbar_mouse_event);\n",
       "        nav_element.append(button);\n",
       "    }\n",
       "\n",
       "    // Add the status bar.\n",
       "    var status_bar = $('<span class=\"mpl-message\" style=\"text-align:right; float: right;\"/>');\n",
       "    nav_element.append(status_bar);\n",
       "    this.message = status_bar[0];\n",
       "\n",
       "    // Add the close button to the window.\n",
       "    var buttongrp = $('<div class=\"btn-group inline pull-right\"></div>');\n",
       "    var button = $('<button class=\"btn btn-mini btn-primary\" href=\"#\" title=\"Stop Interaction\"><i class=\"fa fa-power-off icon-remove icon-large\"></i></button>');\n",
       "    button.click(function (evt) { fig.handle_close(fig, {}); } );\n",
       "    button.mouseover('Stop Interaction', toolbar_mouse_event);\n",
       "    buttongrp.append(button);\n",
       "    var titlebar = this.root.find($('.ui-dialog-titlebar'));\n",
       "    titlebar.prepend(buttongrp);\n",
       "}\n",
       "\n",
       "mpl.figure.prototype._root_extra_style = function(el){\n",
       "    var fig = this\n",
       "    el.on(\"remove\", function(){\n",
       "\tfig.close_ws(fig, {});\n",
       "    });\n",
       "}\n",
       "\n",
       "mpl.figure.prototype._canvas_extra_style = function(el){\n",
       "    // this is important to make the div 'focusable\n",
       "    el.attr('tabindex', 0)\n",
       "    // reach out to IPython and tell the keyboard manager to turn it's self\n",
       "    // off when our div gets focus\n",
       "\n",
       "    // location in version 3\n",
       "    if (IPython.notebook.keyboard_manager) {\n",
       "        IPython.notebook.keyboard_manager.register_events(el);\n",
       "    }\n",
       "    else {\n",
       "        // location in version 2\n",
       "        IPython.keyboard_manager.register_events(el);\n",
       "    }\n",
       "\n",
       "}\n",
       "\n",
       "mpl.figure.prototype._key_event_extra = function(event, name) {\n",
       "    var manager = IPython.notebook.keyboard_manager;\n",
       "    if (!manager)\n",
       "        manager = IPython.keyboard_manager;\n",
       "\n",
       "    // Check for shift+enter\n",
       "    if (event.shiftKey && event.which == 13) {\n",
       "        this.canvas_div.blur();\n",
       "        // select the cell after this one\n",
       "        var index = IPython.notebook.find_cell_index(this.cell_info[0]);\n",
       "        IPython.notebook.select(index + 1);\n",
       "    }\n",
       "}\n",
       "\n",
       "mpl.figure.prototype.handle_save = function(fig, msg) {\n",
       "    fig.ondownload(fig, null);\n",
       "}\n",
       "\n",
       "\n",
       "mpl.find_output_cell = function(html_output) {\n",
       "    // Return the cell and output element which can be found *uniquely* in the notebook.\n",
       "    // Note - this is a bit hacky, but it is done because the \"notebook_saving.Notebook\"\n",
       "    // IPython event is triggered only after the cells have been serialised, which for\n",
       "    // our purposes (turning an active figure into a static one), is too late.\n",
       "    var cells = IPython.notebook.get_cells();\n",
       "    var ncells = cells.length;\n",
       "    for (var i=0; i<ncells; i++) {\n",
       "        var cell = cells[i];\n",
       "        if (cell.cell_type === 'code'){\n",
       "            for (var j=0; j<cell.output_area.outputs.length; j++) {\n",
       "                var data = cell.output_area.outputs[j];\n",
       "                if (data.data) {\n",
       "                    // IPython >= 3 moved mimebundle to data attribute of output\n",
       "                    data = data.data;\n",
       "                }\n",
       "                if (data['text/html'] == html_output) {\n",
       "                    return [cell, data, j];\n",
       "                }\n",
       "            }\n",
       "        }\n",
       "    }\n",
       "}\n",
       "\n",
       "// Register the function which deals with the matplotlib target/channel.\n",
       "// The kernel may be null if the page has been refreshed.\n",
       "if (IPython.notebook.kernel != null) {\n",
       "    IPython.notebook.kernel.comm_manager.register_target('matplotlib', mpl.mpl_figure_comm);\n",
       "}\n"
      ],
      "text/plain": [
       "<IPython.core.display.Javascript object>"
      ]
     },
     "metadata": {},
     "output_type": "display_data"
    },
    {
     "data": {
      "text/html": [
       "<img src=\"data:image/png;base64,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\" width=\"640\">"
      ],
      "text/plain": [
       "<IPython.core.display.HTML object>"
      ]
     },
     "metadata": {},
     "output_type": "display_data"
    },
    {
     "data": {
      "application/vnd.jupyter.widget-view+json": {
       "model_id": "11f70e38b5db4fd78884febc052684d3"
      }
     },
     "metadata": {},
     "output_type": "display_data"
    }
   ],
   "source": [
    "# Update the filename and projector resolution here.\n",
    "green_dots_filename = \"green_dots.txt\"\n",
    "projector_resolution = (1280, 720)\n",
    "\n",
    "# Enter your best parameter estimates here.\n",
    "# Searching an 11 dimensional space can be quite difficult.\n",
    "# The better your estimates, the easier it will be. \n",
    "# Take the time to measure the parameters that can be measured easily.\n",
    "# All distances are in meters, projector_roll and projector_theta are in radians.\n",
    "# The center of the mirror is the origin of the coordinate system.\n",
    "parameters = \\\n",
    "{'animal_y':0.0,\n",
    "'animal_z':0.5,\n",
    "'dome_y':0.0,\n",
    "'dome_z':0.3,\n",
    "'dome_radius':0.7,\n",
    "'mirror_radius':0.2,\n",
    "'projector_y':0.9,\n",
    "'projector_z':0.1,\n",
    "'projector_roll':0.0,\n",
    "'projector_theta':0.2,\n",
    "'projector_vertical_offset':0.1}\n",
    "\n",
    "def value_to_range(value):\n",
    "    return (value - 0.2, value + 0.2, 0.001)\n",
    "ranges = dict([[key, value_to_range(parameters[key])] for key in parameters])\n",
    "\n",
    "psearch = ParameterSearch(green_dots_filename, *projector_resolution)\n",
    "sliders = interactive(psearch.update, **ranges)\n",
    "HBox([VBox(sliders.children[0:4]), VBox(sliders.children[4:8]), VBox(sliders.children[8:])])"
   ]
  },
  {
   "cell_type": "code",
   "execution_count": 55,
   "metadata": {
    "collapsed": false
   },
   "outputs": [
    {
     "data": {
      "application/vnd.jupyter.widget-view+json": {
       "model_id": "b821aa89bd8247ed9eab8443aaa4306d"
      }
     },
     "metadata": {},
     "output_type": "display_data"
    }
   ],
   "source": [
    "def save_parameters(b):\n",
    "    file = open('initial_parameters.txt', 'w'); file.write(str(sliders.kwargs)); file.close()\n",
    "button = Button(description = 'Save Initial Parameters')\n",
    "button.on_click(save_parameters)\n",
    "display(button)"
   ]
  }
 ],
 "metadata": {
  "kernelspec": {
   "display_name": "Python 2",
   "language": "python",
   "name": "python2"
  },
  "language_info": {
   "codemirror_mode": {
    "name": "ipython",
    "version": 2
   },
   "file_extension": ".py",
   "mimetype": "text/x-python",
   "name": "python",
   "nbconvert_exporter": "python",
   "pygments_lexer": "ipython2",
   "version": "2.7.13"
  },
  "widgets": {
   "state": {
    "09875c31a9154ebe87b31b95aa581310": {
     "views": []
    },
    "0b218c22c3e34d0293990f8934fb0bdd": {
     "views": []
    },
    "0caa39bc3dd249dabfdf5af7ffc03d2c": {
     "views": []
    },
    "16657318d91f4c7f91025f8fe3211703": {
     "views": []
    },
    "19379ffaec7f445faa184de24a29ca0e": {
     "views": []
    },
    "1a22ad54c6084ddda91c2ffa6b4153a6": {
     "views": []
    },
    "1c8507f06be84a7dab4e70d5258b41ff": {
     "views": []
    },
    "1cfdaee90ffd4afd9d1e22e5f4503f62": {
     "views": []
    },
    "1fab24a952794e87b44d15b96bc8d505": {
     "views": []
    },
    "21586773f25f4cc795cae7bbf784f128": {
     "views": []
    },
    "23aef5db57334d53850c6501be8494fd": {
     "views": []
    },
    "2687a0396ed8435c9f6f970e04a0cd0b": {
     "views": []
    },
    "281a2a423d634ca8a731f509c746ba8b": {
     "views": []
    },
    "2870fa6771bb431aa758b54caff07f9f": {
     "views": []
    },
    "30ac2fad0e3b43028d16a3e3a41d1837": {
     "views": []
    },
    "42d798bab95f43e689d5fc83cc62f522": {
     "views": []
    },
    "45a45214704d4c379407fc082114addd": {
     "views": []
    },
    "4708e2898cf64bceac2f8d04a89e9387": {
     "views": []
    },
    "4c8fd0979bfc44398708e2a1475a2f9d": {
     "views": []
    },
    "4eb5550a9224451e82f35c997b03e824": {
     "views": []
    },
    "4f62132cac024cbc932f87dc36a8115a": {
     "views": []
    },
    "5213a993d89d4d86b1da4eda2814f7d6": {
     "views": []
    },
    "53baf262e3df422ca4fe94d5b990f3e6": {
     "views": []
    },
    "53c5b59ee38a455ea2141c6da3e67c39": {
     "views": []
    },
    "54632940b4814cc5833dac60cfabc993": {
     "views": []
    },
    "5b4b34d7c9df41f1b62954cf9071969f": {
     "views": []
    },
    "5c5a68c3347444089a8725831f15d771": {
     "views": []
    },
    "5d3453faf1394890ae4012b1afbdb291": {
     "views": []
    },
    "62bdf9e8225d4590909fbb482cd5d980": {
     "views": []
    },
    "637dacb2b0d646fab252c93af5d7cf81": {
     "views": []
    },
    "64a2473426ce4a14bd98e9d94c74480b": {
     "views": []
    },
    "73695ce38a304d189e0876f581193584": {
     "views": []
    },
    "7468713896ff433a9773daa2b9738c91": {
     "views": [
      {
       "cell_index": 4
      }
     ]
    },
    "74a79ac07b094b79b822849cbf772e41": {
     "views": []
    },
    "77f8f15980034c818fa80154dbd184b4": {
     "views": []
    },
    "795380a83f9c4aae9f25cb070eff9cde": {
     "views": []
    },
    "7eb1093d13e347c6b3e63c1b62630b65": {
     "views": []
    },
    "7f808f1884c842db8d4b571cd3ea5c89": {
     "views": []
    },
    "7f99eee3712f48b9a384f5e799a7aff5": {
     "views": []
    },
    "80cc3cde94374073b4179e6bc74bb950": {
     "views": []
    },
    "86eb803d08eb4ad3b57273fd022719e3": {
     "views": []
    },
    "899aec350d1e4c61a46faa84639079ac": {
     "views": []
    },
    "8af7b623e59b48df843c756c6a9d91d2": {
     "views": []
    },
    "8f6cdd0f0f1041e486b4a71edb7941be": {
     "views": []
    },
    "943a74b8fb9e4207bbf97d8576813df4": {
     "views": []
    },
    "95216e4bf8814cda932c5727db2b4320": {
     "views": []
    },
    "99bdbd2c7b7042f296acca1b916bd07b": {
     "views": []
    },
    "9d19ef372de6457a88ca0b4fa29282e5": {
     "views": []
    },
    "9db0a82b90964442bef67700c98efcc0": {
     "views": []
    },
    "9deb97b921cb44d8bbd746eafcfd5431": {
     "views": []
    },
    "9e1652931c214cfa9de2b9381315e64a": {
     "views": []
    },
    "9ebbb557c35e44c9a45242a59a82a7b0": {
     "views": []
    },
    "a4e55514c07d46508d9dd474959a23e5": {
     "views": []
    },
    "a7ed85ff16d444678abc04fc815c8cb7": {
     "views": []
    },
    "a98063fab26b4f7c989a6fca0e56d08e": {
     "views": []
    },
    "a9d281072eb6440ca874493b1712aac6": {
     "views": []
    },
    "aaa1cb8f0059400e8d30844cebde4484": {
     "views": []
    },
    "ae45ca9971e24a579e6a9126368fcbb1": {
     "views": []
    },
    "b043edf61cea472694c2d82d8aa35a6d": {
     "views": []
    },
    "b1271f2d2c644ad1a194e970983ef435": {
     "views": []
    },
    "b669990a6fc54e6dbfef4d8e4abbe7c0": {
     "views": []
    },
    "b711babe10ef46cc84e1ec3a2baa6eab": {
     "views": []
    },
    "b96dadab4a2342439ba476c10bb1a05a": {
     "views": []
    },
    "b9833e79a8414525b9c5fa23e77f85ad": {
     "views": []
    },
    "babf49f7ddc04d02baa3b291939b7f50": {
     "views": []
    },
    "bc125551485f490d8a03632da6188b89": {
     "views": []
    },
    "c14a52d76d0b445fbef1f4ba0e90226a": {
     "views": []
    },
    "c1d1056c702b4747b5c6513fd157bb69": {
     "views": []
    },
    "c298d19cf5f84be2b64dcc8ae067b439": {
     "views": []
    },
    "c32f29a97aae42ce94adf7f0bea94c8d": {
     "views": []
    },
    "c45ce6271d6f4df682d82c771dcf1cee": {
     "views": []
    },
    "c5a5816eada4469dbac8ddcdb68e222c": {
     "views": []
    },
    "cd6cd3d8b2174b7896e3fddcd26f4d82": {
     "views": []
    },
    "cf9b71ee09aa41f99f36268b1078b318": {
     "views": []
    },
    "d1d8d1f104f44b919b3f753b06499045": {
     "views": []
    },
    "d1e8653990fc4810a2a45cf881a62856": {
     "views": []
    },
    "d4414b06d00c45899b9d347586d0a1bf": {
     "views": []
    },
    "d5c97b5e342a4f79b728014a68b2d60e": {
     "views": []
    },
    "de12cf83f3364558b1f577cc323030b4": {
     "views": []
    },
    "e1129aa7db814714a754a443d9c149a1": {
     "views": []
    },
    "e266bf467a734d029633d1b4b4b4900f": {
     "views": []
    },
    "e39dea2a6a9547bd8128263817de37d4": {
     "views": []
    },
    "e3e9900514054a57a219a3029859ece7": {
     "views": []
    },
    "e506bc49e1b84fa4aa996a4f60c81508": {
     "views": []
    },
    "ecf35cde496248e99ba9c9f3faccd7cc": {
     "views": []
    },
    "edd39dec0b54401f9aac3d90b027dd56": {
     "views": []
    },
    "ef1de0aa8bf2487f8bc00369b4438341": {
     "views": []
    },
    "efd55004b06b4005bb749705ee480be4": {
     "views": []
    },
    "f1628ae1ec704cd2953052c6a8121d19": {
     "views": []
    },
    "f38107dbcb1f44949ba385bfa5e8325f": {
     "views": []
    },
    "f5831828c0754611a7f2bfb5d2ef3a1f": {
     "views": []
    },
    "f750644b1806413bbd406f60059ee994": {
     "views": []
    },
    "fd7a4ef7e0d745eb955841782e058329": {
     "views": []
    },
    "fda9688ff83e41d7bcb5b54ca57d3505": {
     "views": []
    },
    "fdd434b0b9644f22bc48b9969d42625c": {
     "views": []
    },
    "fdda403506144d25917ee6ae49e498e3": {
     "views": []
    }
   },
   "version": "1.1.2"
  }
 },
 "nbformat": 4,
 "nbformat_minor": 0
}
