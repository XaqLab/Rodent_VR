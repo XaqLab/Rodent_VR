{
 "cells": [
  {
   "cell_type": "code",
   "execution_count": 49,
   "metadata": {
    "collapsed": false,
    "deletable": true,
    "editable": true
   },
   "outputs": [],
   "source": [
    "%matplotlib notebook\n",
    "import matplotlib.pyplot as plt\n",
    "from IPython.display import display\n",
    "from ipywidgets import interactive, HBox, VBox, Button\n",
    "from parameter_search import ParameterSearch, save_parameters"
   ]
  },
  {
   "cell_type": "code",
   "execution_count": 50,
   "metadata": {
    "collapsed": false,
    "deletable": true,
    "editable": true,
    "scrolled": false
   },
   "outputs": [
    {
     "data": {
      "application/javascript": [
       "/* Put everything inside the global mpl namespace */\n",
       "window.mpl = {};\n",
       "\n",
       "\n",
       "mpl.get_websocket_type = function() {\n",
       "    if (typeof(WebSocket) !== 'undefined') {\n",
       "        return WebSocket;\n",
       "    } else if (typeof(MozWebSocket) !== 'undefined') {\n",
       "        return MozWebSocket;\n",
       "    } else {\n",
       "        alert('Your browser does not have WebSocket support.' +\n",
       "              'Please try Chrome, Safari or Firefox ≥ 6. ' +\n",
       "              'Firefox 4 and 5 are also supported but you ' +\n",
       "              'have to enable WebSockets in about:config.');\n",
       "    };\n",
       "}\n",
       "\n",
       "mpl.figure = function(figure_id, websocket, ondownload, parent_element) {\n",
       "    this.id = figure_id;\n",
       "\n",
       "    this.ws = websocket;\n",
       "\n",
       "    this.supports_binary = (this.ws.binaryType != undefined);\n",
       "\n",
       "    if (!this.supports_binary) {\n",
       "        var warnings = document.getElementById(\"mpl-warnings\");\n",
       "        if (warnings) {\n",
       "            warnings.style.display = 'block';\n",
       "            warnings.textContent = (\n",
       "                \"This browser does not support binary websocket messages. \" +\n",
       "                    \"Performance may be slow.\");\n",
       "        }\n",
       "    }\n",
       "\n",
       "    this.imageObj = new Image();\n",
       "\n",
       "    this.context = undefined;\n",
       "    this.message = undefined;\n",
       "    this.canvas = undefined;\n",
       "    this.rubberband_canvas = undefined;\n",
       "    this.rubberband_context = undefined;\n",
       "    this.format_dropdown = undefined;\n",
       "\n",
       "    this.image_mode = 'full';\n",
       "\n",
       "    this.root = $('<div/>');\n",
       "    this._root_extra_style(this.root)\n",
       "    this.root.attr('style', 'display: inline-block');\n",
       "\n",
       "    $(parent_element).append(this.root);\n",
       "\n",
       "    this._init_header(this);\n",
       "    this._init_canvas(this);\n",
       "    this._init_toolbar(this);\n",
       "\n",
       "    var fig = this;\n",
       "\n",
       "    this.waiting = false;\n",
       "\n",
       "    this.ws.onopen =  function () {\n",
       "            fig.send_message(\"supports_binary\", {value: fig.supports_binary});\n",
       "            fig.send_message(\"send_image_mode\", {});\n",
       "            if (mpl.ratio != 1) {\n",
       "                fig.send_message(\"set_dpi_ratio\", {'dpi_ratio': mpl.ratio});\n",
       "            }\n",
       "            fig.send_message(\"refresh\", {});\n",
       "        }\n",
       "\n",
       "    this.imageObj.onload = function() {\n",
       "            if (fig.image_mode == 'full') {\n",
       "                // Full images could contain transparency (where diff images\n",
       "                // almost always do), so we need to clear the canvas so that\n",
       "                // there is no ghosting.\n",
       "                fig.context.clearRect(0, 0, fig.canvas.width, fig.canvas.height);\n",
       "            }\n",
       "            fig.context.drawImage(fig.imageObj, 0, 0);\n",
       "        };\n",
       "\n",
       "    this.imageObj.onunload = function() {\n",
       "        this.ws.close();\n",
       "    }\n",
       "\n",
       "    this.ws.onmessage = this._make_on_message_function(this);\n",
       "\n",
       "    this.ondownload = ondownload;\n",
       "}\n",
       "\n",
       "mpl.figure.prototype._init_header = function() {\n",
       "    var titlebar = $(\n",
       "        '<div class=\"ui-dialog-titlebar ui-widget-header ui-corner-all ' +\n",
       "        'ui-helper-clearfix\"/>');\n",
       "    var titletext = $(\n",
       "        '<div class=\"ui-dialog-title\" style=\"width: 100%; ' +\n",
       "        'text-align: center; padding: 3px;\"/>');\n",
       "    titlebar.append(titletext)\n",
       "    this.root.append(titlebar);\n",
       "    this.header = titletext[0];\n",
       "}\n",
       "\n",
       "\n",
       "\n",
       "mpl.figure.prototype._canvas_extra_style = function(canvas_div) {\n",
       "\n",
       "}\n",
       "\n",
       "\n",
       "mpl.figure.prototype._root_extra_style = function(canvas_div) {\n",
       "\n",
       "}\n",
       "\n",
       "mpl.figure.prototype._init_canvas = function() {\n",
       "    var fig = this;\n",
       "\n",
       "    var canvas_div = $('<div/>');\n",
       "\n",
       "    canvas_div.attr('style', 'position: relative; clear: both; outline: 0');\n",
       "\n",
       "    function canvas_keyboard_event(event) {\n",
       "        return fig.key_event(event, event['data']);\n",
       "    }\n",
       "\n",
       "    canvas_div.keydown('key_press', canvas_keyboard_event);\n",
       "    canvas_div.keyup('key_release', canvas_keyboard_event);\n",
       "    this.canvas_div = canvas_div\n",
       "    this._canvas_extra_style(canvas_div)\n",
       "    this.root.append(canvas_div);\n",
       "\n",
       "    var canvas = $('<canvas/>');\n",
       "    canvas.addClass('mpl-canvas');\n",
       "    canvas.attr('style', \"left: 0; top: 0; z-index: 0; outline: 0\")\n",
       "\n",
       "    this.canvas = canvas[0];\n",
       "    this.context = canvas[0].getContext(\"2d\");\n",
       "\n",
       "    var backingStore = this.context.backingStorePixelRatio ||\n",
       "\tthis.context.webkitBackingStorePixelRatio ||\n",
       "\tthis.context.mozBackingStorePixelRatio ||\n",
       "\tthis.context.msBackingStorePixelRatio ||\n",
       "\tthis.context.oBackingStorePixelRatio ||\n",
       "\tthis.context.backingStorePixelRatio || 1;\n",
       "\n",
       "    mpl.ratio = (window.devicePixelRatio || 1) / backingStore;\n",
       "\n",
       "    var rubberband = $('<canvas/>');\n",
       "    rubberband.attr('style', \"position: absolute; left: 0; top: 0; z-index: 1;\")\n",
       "\n",
       "    var pass_mouse_events = true;\n",
       "\n",
       "    canvas_div.resizable({\n",
       "        start: function(event, ui) {\n",
       "            pass_mouse_events = false;\n",
       "        },\n",
       "        resize: function(event, ui) {\n",
       "            fig.request_resize(ui.size.width, ui.size.height);\n",
       "        },\n",
       "        stop: function(event, ui) {\n",
       "            pass_mouse_events = true;\n",
       "            fig.request_resize(ui.size.width, ui.size.height);\n",
       "        },\n",
       "    });\n",
       "\n",
       "    function mouse_event_fn(event) {\n",
       "        if (pass_mouse_events)\n",
       "            return fig.mouse_event(event, event['data']);\n",
       "    }\n",
       "\n",
       "    rubberband.mousedown('button_press', mouse_event_fn);\n",
       "    rubberband.mouseup('button_release', mouse_event_fn);\n",
       "    // Throttle sequential mouse events to 1 every 20ms.\n",
       "    rubberband.mousemove('motion_notify', mouse_event_fn);\n",
       "\n",
       "    rubberband.mouseenter('figure_enter', mouse_event_fn);\n",
       "    rubberband.mouseleave('figure_leave', mouse_event_fn);\n",
       "\n",
       "    canvas_div.on(\"wheel\", function (event) {\n",
       "        event = event.originalEvent;\n",
       "        event['data'] = 'scroll'\n",
       "        if (event.deltaY < 0) {\n",
       "            event.step = 1;\n",
       "        } else {\n",
       "            event.step = -1;\n",
       "        }\n",
       "        mouse_event_fn(event);\n",
       "    });\n",
       "\n",
       "    canvas_div.append(canvas);\n",
       "    canvas_div.append(rubberband);\n",
       "\n",
       "    this.rubberband = rubberband;\n",
       "    this.rubberband_canvas = rubberband[0];\n",
       "    this.rubberband_context = rubberband[0].getContext(\"2d\");\n",
       "    this.rubberband_context.strokeStyle = \"#000000\";\n",
       "\n",
       "    this._resize_canvas = function(width, height) {\n",
       "        // Keep the size of the canvas, canvas container, and rubber band\n",
       "        // canvas in synch.\n",
       "        canvas_div.css('width', width)\n",
       "        canvas_div.css('height', height)\n",
       "\n",
       "        canvas.attr('width', width * mpl.ratio);\n",
       "        canvas.attr('height', height * mpl.ratio);\n",
       "        canvas.attr('style', 'width: ' + width + 'px; height: ' + height + 'px;');\n",
       "\n",
       "        rubberband.attr('width', width);\n",
       "        rubberband.attr('height', height);\n",
       "    }\n",
       "\n",
       "    // Set the figure to an initial 600x600px, this will subsequently be updated\n",
       "    // upon first draw.\n",
       "    this._resize_canvas(600, 600);\n",
       "\n",
       "    // Disable right mouse context menu.\n",
       "    $(this.rubberband_canvas).bind(\"contextmenu\",function(e){\n",
       "        return false;\n",
       "    });\n",
       "\n",
       "    function set_focus () {\n",
       "        canvas.focus();\n",
       "        canvas_div.focus();\n",
       "    }\n",
       "\n",
       "    window.setTimeout(set_focus, 100);\n",
       "}\n",
       "\n",
       "mpl.figure.prototype._init_toolbar = function() {\n",
       "    var fig = this;\n",
       "\n",
       "    var nav_element = $('<div/>')\n",
       "    nav_element.attr('style', 'width: 100%');\n",
       "    this.root.append(nav_element);\n",
       "\n",
       "    // Define a callback function for later on.\n",
       "    function toolbar_event(event) {\n",
       "        return fig.toolbar_button_onclick(event['data']);\n",
       "    }\n",
       "    function toolbar_mouse_event(event) {\n",
       "        return fig.toolbar_button_onmouseover(event['data']);\n",
       "    }\n",
       "\n",
       "    for(var toolbar_ind in mpl.toolbar_items) {\n",
       "        var name = mpl.toolbar_items[toolbar_ind][0];\n",
       "        var tooltip = mpl.toolbar_items[toolbar_ind][1];\n",
       "        var image = mpl.toolbar_items[toolbar_ind][2];\n",
       "        var method_name = mpl.toolbar_items[toolbar_ind][3];\n",
       "\n",
       "        if (!name) {\n",
       "            // put a spacer in here.\n",
       "            continue;\n",
       "        }\n",
       "        var button = $('<button/>');\n",
       "        button.addClass('ui-button ui-widget ui-state-default ui-corner-all ' +\n",
       "                        'ui-button-icon-only');\n",
       "        button.attr('role', 'button');\n",
       "        button.attr('aria-disabled', 'false');\n",
       "        button.click(method_name, toolbar_event);\n",
       "        button.mouseover(tooltip, toolbar_mouse_event);\n",
       "\n",
       "        var icon_img = $('<span/>');\n",
       "        icon_img.addClass('ui-button-icon-primary ui-icon');\n",
       "        icon_img.addClass(image);\n",
       "        icon_img.addClass('ui-corner-all');\n",
       "\n",
       "        var tooltip_span = $('<span/>');\n",
       "        tooltip_span.addClass('ui-button-text');\n",
       "        tooltip_span.html(tooltip);\n",
       "\n",
       "        button.append(icon_img);\n",
       "        button.append(tooltip_span);\n",
       "\n",
       "        nav_element.append(button);\n",
       "    }\n",
       "\n",
       "    var fmt_picker_span = $('<span/>');\n",
       "\n",
       "    var fmt_picker = $('<select/>');\n",
       "    fmt_picker.addClass('mpl-toolbar-option ui-widget ui-widget-content');\n",
       "    fmt_picker_span.append(fmt_picker);\n",
       "    nav_element.append(fmt_picker_span);\n",
       "    this.format_dropdown = fmt_picker[0];\n",
       "\n",
       "    for (var ind in mpl.extensions) {\n",
       "        var fmt = mpl.extensions[ind];\n",
       "        var option = $(\n",
       "            '<option/>', {selected: fmt === mpl.default_extension}).html(fmt);\n",
       "        fmt_picker.append(option)\n",
       "    }\n",
       "\n",
       "    // Add hover states to the ui-buttons\n",
       "    $( \".ui-button\" ).hover(\n",
       "        function() { $(this).addClass(\"ui-state-hover\");},\n",
       "        function() { $(this).removeClass(\"ui-state-hover\");}\n",
       "    );\n",
       "\n",
       "    var status_bar = $('<span class=\"mpl-message\"/>');\n",
       "    nav_element.append(status_bar);\n",
       "    this.message = status_bar[0];\n",
       "}\n",
       "\n",
       "mpl.figure.prototype.request_resize = function(x_pixels, y_pixels) {\n",
       "    // Request matplotlib to resize the figure. Matplotlib will then trigger a resize in the client,\n",
       "    // which will in turn request a refresh of the image.\n",
       "    this.send_message('resize', {'width': x_pixels, 'height': y_pixels});\n",
       "}\n",
       "\n",
       "mpl.figure.prototype.send_message = function(type, properties) {\n",
       "    properties['type'] = type;\n",
       "    properties['figure_id'] = this.id;\n",
       "    this.ws.send(JSON.stringify(properties));\n",
       "}\n",
       "\n",
       "mpl.figure.prototype.send_draw_message = function() {\n",
       "    if (!this.waiting) {\n",
       "        this.waiting = true;\n",
       "        this.ws.send(JSON.stringify({type: \"draw\", figure_id: this.id}));\n",
       "    }\n",
       "}\n",
       "\n",
       "\n",
       "mpl.figure.prototype.handle_save = function(fig, msg) {\n",
       "    var format_dropdown = fig.format_dropdown;\n",
       "    var format = format_dropdown.options[format_dropdown.selectedIndex].value;\n",
       "    fig.ondownload(fig, format);\n",
       "}\n",
       "\n",
       "\n",
       "mpl.figure.prototype.handle_resize = function(fig, msg) {\n",
       "    var size = msg['size'];\n",
       "    if (size[0] != fig.canvas.width || size[1] != fig.canvas.height) {\n",
       "        fig._resize_canvas(size[0], size[1]);\n",
       "        fig.send_message(\"refresh\", {});\n",
       "    };\n",
       "}\n",
       "\n",
       "mpl.figure.prototype.handle_rubberband = function(fig, msg) {\n",
       "    var x0 = msg['x0'] / mpl.ratio;\n",
       "    var y0 = (fig.canvas.height - msg['y0']) / mpl.ratio;\n",
       "    var x1 = msg['x1'] / mpl.ratio;\n",
       "    var y1 = (fig.canvas.height - msg['y1']) / mpl.ratio;\n",
       "    x0 = Math.floor(x0) + 0.5;\n",
       "    y0 = Math.floor(y0) + 0.5;\n",
       "    x1 = Math.floor(x1) + 0.5;\n",
       "    y1 = Math.floor(y1) + 0.5;\n",
       "    var min_x = Math.min(x0, x1);\n",
       "    var min_y = Math.min(y0, y1);\n",
       "    var width = Math.abs(x1 - x0);\n",
       "    var height = Math.abs(y1 - y0);\n",
       "\n",
       "    fig.rubberband_context.clearRect(\n",
       "        0, 0, fig.canvas.width, fig.canvas.height);\n",
       "\n",
       "    fig.rubberband_context.strokeRect(min_x, min_y, width, height);\n",
       "}\n",
       "\n",
       "mpl.figure.prototype.handle_figure_label = function(fig, msg) {\n",
       "    // Updates the figure title.\n",
       "    fig.header.textContent = msg['label'];\n",
       "}\n",
       "\n",
       "mpl.figure.prototype.handle_cursor = function(fig, msg) {\n",
       "    var cursor = msg['cursor'];\n",
       "    switch(cursor)\n",
       "    {\n",
       "    case 0:\n",
       "        cursor = 'pointer';\n",
       "        break;\n",
       "    case 1:\n",
       "        cursor = 'default';\n",
       "        break;\n",
       "    case 2:\n",
       "        cursor = 'crosshair';\n",
       "        break;\n",
       "    case 3:\n",
       "        cursor = 'move';\n",
       "        break;\n",
       "    }\n",
       "    fig.rubberband_canvas.style.cursor = cursor;\n",
       "}\n",
       "\n",
       "mpl.figure.prototype.handle_message = function(fig, msg) {\n",
       "    fig.message.textContent = msg['message'];\n",
       "}\n",
       "\n",
       "mpl.figure.prototype.handle_draw = function(fig, msg) {\n",
       "    // Request the server to send over a new figure.\n",
       "    fig.send_draw_message();\n",
       "}\n",
       "\n",
       "mpl.figure.prototype.handle_image_mode = function(fig, msg) {\n",
       "    fig.image_mode = msg['mode'];\n",
       "}\n",
       "\n",
       "mpl.figure.prototype.updated_canvas_event = function() {\n",
       "    // Called whenever the canvas gets updated.\n",
       "    this.send_message(\"ack\", {});\n",
       "}\n",
       "\n",
       "// A function to construct a web socket function for onmessage handling.\n",
       "// Called in the figure constructor.\n",
       "mpl.figure.prototype._make_on_message_function = function(fig) {\n",
       "    return function socket_on_message(evt) {\n",
       "        if (evt.data instanceof Blob) {\n",
       "            /* FIXME: We get \"Resource interpreted as Image but\n",
       "             * transferred with MIME type text/plain:\" errors on\n",
       "             * Chrome.  But how to set the MIME type?  It doesn't seem\n",
       "             * to be part of the websocket stream */\n",
       "            evt.data.type = \"image/png\";\n",
       "\n",
       "            /* Free the memory for the previous frames */\n",
       "            if (fig.imageObj.src) {\n",
       "                (window.URL || window.webkitURL).revokeObjectURL(\n",
       "                    fig.imageObj.src);\n",
       "            }\n",
       "\n",
       "            fig.imageObj.src = (window.URL || window.webkitURL).createObjectURL(\n",
       "                evt.data);\n",
       "            fig.updated_canvas_event();\n",
       "            fig.waiting = false;\n",
       "            return;\n",
       "        }\n",
       "        else if (typeof evt.data === 'string' && evt.data.slice(0, 21) == \"data:image/png;base64\") {\n",
       "            fig.imageObj.src = evt.data;\n",
       "            fig.updated_canvas_event();\n",
       "            fig.waiting = false;\n",
       "            return;\n",
       "        }\n",
       "\n",
       "        var msg = JSON.parse(evt.data);\n",
       "        var msg_type = msg['type'];\n",
       "\n",
       "        // Call the  \"handle_{type}\" callback, which takes\n",
       "        // the figure and JSON message as its only arguments.\n",
       "        try {\n",
       "            var callback = fig[\"handle_\" + msg_type];\n",
       "        } catch (e) {\n",
       "            console.log(\"No handler for the '\" + msg_type + \"' message type: \", msg);\n",
       "            return;\n",
       "        }\n",
       "\n",
       "        if (callback) {\n",
       "            try {\n",
       "                // console.log(\"Handling '\" + msg_type + \"' message: \", msg);\n",
       "                callback(fig, msg);\n",
       "            } catch (e) {\n",
       "                console.log(\"Exception inside the 'handler_\" + msg_type + \"' callback:\", e, e.stack, msg);\n",
       "            }\n",
       "        }\n",
       "    };\n",
       "}\n",
       "\n",
       "// from http://stackoverflow.com/questions/1114465/getting-mouse-location-in-canvas\n",
       "mpl.findpos = function(e) {\n",
       "    //this section is from http://www.quirksmode.org/js/events_properties.html\n",
       "    var targ;\n",
       "    if (!e)\n",
       "        e = window.event;\n",
       "    if (e.target)\n",
       "        targ = e.target;\n",
       "    else if (e.srcElement)\n",
       "        targ = e.srcElement;\n",
       "    if (targ.nodeType == 3) // defeat Safari bug\n",
       "        targ = targ.parentNode;\n",
       "\n",
       "    // jQuery normalizes the pageX and pageY\n",
       "    // pageX,Y are the mouse positions relative to the document\n",
       "    // offset() returns the position of the element relative to the document\n",
       "    var x = e.pageX - $(targ).offset().left;\n",
       "    var y = e.pageY - $(targ).offset().top;\n",
       "\n",
       "    return {\"x\": x, \"y\": y};\n",
       "};\n",
       "\n",
       "/*\n",
       " * return a copy of an object with only non-object keys\n",
       " * we need this to avoid circular references\n",
       " * http://stackoverflow.com/a/24161582/3208463\n",
       " */\n",
       "function simpleKeys (original) {\n",
       "  return Object.keys(original).reduce(function (obj, key) {\n",
       "    if (typeof original[key] !== 'object')\n",
       "        obj[key] = original[key]\n",
       "    return obj;\n",
       "  }, {});\n",
       "}\n",
       "\n",
       "mpl.figure.prototype.mouse_event = function(event, name) {\n",
       "    var canvas_pos = mpl.findpos(event)\n",
       "\n",
       "    if (name === 'button_press')\n",
       "    {\n",
       "        this.canvas.focus();\n",
       "        this.canvas_div.focus();\n",
       "    }\n",
       "\n",
       "    var x = canvas_pos.x * mpl.ratio;\n",
       "    var y = canvas_pos.y * mpl.ratio;\n",
       "\n",
       "    this.send_message(name, {x: x, y: y, button: event.button,\n",
       "                             step: event.step,\n",
       "                             guiEvent: simpleKeys(event)});\n",
       "\n",
       "    /* This prevents the web browser from automatically changing to\n",
       "     * the text insertion cursor when the button is pressed.  We want\n",
       "     * to control all of the cursor setting manually through the\n",
       "     * 'cursor' event from matplotlib */\n",
       "    event.preventDefault();\n",
       "    return false;\n",
       "}\n",
       "\n",
       "mpl.figure.prototype._key_event_extra = function(event, name) {\n",
       "    // Handle any extra behaviour associated with a key event\n",
       "}\n",
       "\n",
       "mpl.figure.prototype.key_event = function(event, name) {\n",
       "\n",
       "    // Prevent repeat events\n",
       "    if (name == 'key_press')\n",
       "    {\n",
       "        if (event.which === this._key)\n",
       "            return;\n",
       "        else\n",
       "            this._key = event.which;\n",
       "    }\n",
       "    if (name == 'key_release')\n",
       "        this._key = null;\n",
       "\n",
       "    var value = '';\n",
       "    if (event.ctrlKey && event.which != 17)\n",
       "        value += \"ctrl+\";\n",
       "    if (event.altKey && event.which != 18)\n",
       "        value += \"alt+\";\n",
       "    if (event.shiftKey && event.which != 16)\n",
       "        value += \"shift+\";\n",
       "\n",
       "    value += 'k';\n",
       "    value += event.which.toString();\n",
       "\n",
       "    this._key_event_extra(event, name);\n",
       "\n",
       "    this.send_message(name, {key: value,\n",
       "                             guiEvent: simpleKeys(event)});\n",
       "    return false;\n",
       "}\n",
       "\n",
       "mpl.figure.prototype.toolbar_button_onclick = function(name) {\n",
       "    if (name == 'download') {\n",
       "        this.handle_save(this, null);\n",
       "    } else {\n",
       "        this.send_message(\"toolbar_button\", {name: name});\n",
       "    }\n",
       "};\n",
       "\n",
       "mpl.figure.prototype.toolbar_button_onmouseover = function(tooltip) {\n",
       "    this.message.textContent = tooltip;\n",
       "};\n",
       "mpl.toolbar_items = [[\"Home\", \"Reset original view\", \"fa fa-home icon-home\", \"home\"], [\"Back\", \"Back to  previous view\", \"fa fa-arrow-left icon-arrow-left\", \"back\"], [\"Forward\", \"Forward to next view\", \"fa fa-arrow-right icon-arrow-right\", \"forward\"], [\"\", \"\", \"\", \"\"], [\"Pan\", \"Pan axes with left mouse, zoom with right\", \"fa fa-arrows icon-move\", \"pan\"], [\"Zoom\", \"Zoom to rectangle\", \"fa fa-square-o icon-check-empty\", \"zoom\"], [\"\", \"\", \"\", \"\"], [\"Download\", \"Download plot\", \"fa fa-floppy-o icon-save\", \"download\"]];\n",
       "\n",
       "mpl.extensions = [\"eps\", \"jpeg\", \"pdf\", \"png\", \"ps\", \"raw\", \"svg\", \"tif\"];\n",
       "\n",
       "mpl.default_extension = \"png\";var comm_websocket_adapter = function(comm) {\n",
       "    // Create a \"websocket\"-like object which calls the given IPython comm\n",
       "    // object with the appropriate methods. Currently this is a non binary\n",
       "    // socket, so there is still some room for performance tuning.\n",
       "    var ws = {};\n",
       "\n",
       "    ws.close = function() {\n",
       "        comm.close()\n",
       "    };\n",
       "    ws.send = function(m) {\n",
       "        //console.log('sending', m);\n",
       "        comm.send(m);\n",
       "    };\n",
       "    // Register the callback with on_msg.\n",
       "    comm.on_msg(function(msg) {\n",
       "        //console.log('receiving', msg['content']['data'], msg);\n",
       "        // Pass the mpl event to the overriden (by mpl) onmessage function.\n",
       "        ws.onmessage(msg['content']['data'])\n",
       "    });\n",
       "    return ws;\n",
       "}\n",
       "\n",
       "mpl.mpl_figure_comm = function(comm, msg) {\n",
       "    // This is the function which gets called when the mpl process\n",
       "    // starts-up an IPython Comm through the \"matplotlib\" channel.\n",
       "\n",
       "    var id = msg.content.data.id;\n",
       "    // Get hold of the div created by the display call when the Comm\n",
       "    // socket was opened in Python.\n",
       "    var element = $(\"#\" + id);\n",
       "    var ws_proxy = comm_websocket_adapter(comm)\n",
       "\n",
       "    function ondownload(figure, format) {\n",
       "        window.open(figure.imageObj.src);\n",
       "    }\n",
       "\n",
       "    var fig = new mpl.figure(id, ws_proxy,\n",
       "                           ondownload,\n",
       "                           element.get(0));\n",
       "\n",
       "    // Call onopen now - mpl needs it, as it is assuming we've passed it a real\n",
       "    // web socket which is closed, not our websocket->open comm proxy.\n",
       "    ws_proxy.onopen();\n",
       "\n",
       "    fig.parent_element = element.get(0);\n",
       "    fig.cell_info = mpl.find_output_cell(\"<div id='\" + id + \"'></div>\");\n",
       "    if (!fig.cell_info) {\n",
       "        console.error(\"Failed to find cell for figure\", id, fig);\n",
       "        return;\n",
       "    }\n",
       "\n",
       "    var output_index = fig.cell_info[2]\n",
       "    var cell = fig.cell_info[0];\n",
       "\n",
       "};\n",
       "\n",
       "mpl.figure.prototype.handle_close = function(fig, msg) {\n",
       "    var width = fig.canvas.width/mpl.ratio\n",
       "    fig.root.unbind('remove')\n",
       "\n",
       "    // Update the output cell to use the data from the current canvas.\n",
       "    fig.push_to_output();\n",
       "    var dataURL = fig.canvas.toDataURL();\n",
       "    // Re-enable the keyboard manager in IPython - without this line, in FF,\n",
       "    // the notebook keyboard shortcuts fail.\n",
       "    IPython.keyboard_manager.enable()\n",
       "    $(fig.parent_element).html('<img src=\"' + dataURL + '\" width=\"' + width + '\">');\n",
       "    fig.close_ws(fig, msg);\n",
       "}\n",
       "\n",
       "mpl.figure.prototype.close_ws = function(fig, msg){\n",
       "    fig.send_message('closing', msg);\n",
       "    // fig.ws.close()\n",
       "}\n",
       "\n",
       "mpl.figure.prototype.push_to_output = function(remove_interactive) {\n",
       "    // Turn the data on the canvas into data in the output cell.\n",
       "    var width = this.canvas.width/mpl.ratio\n",
       "    var dataURL = this.canvas.toDataURL();\n",
       "    this.cell_info[1]['text/html'] = '<img src=\"' + dataURL + '\" width=\"' + width + '\">';\n",
       "}\n",
       "\n",
       "mpl.figure.prototype.updated_canvas_event = function() {\n",
       "    // Tell IPython that the notebook contents must change.\n",
       "    IPython.notebook.set_dirty(true);\n",
       "    this.send_message(\"ack\", {});\n",
       "    var fig = this;\n",
       "    // Wait a second, then push the new image to the DOM so\n",
       "    // that it is saved nicely (might be nice to debounce this).\n",
       "    setTimeout(function () { fig.push_to_output() }, 1000);\n",
       "}\n",
       "\n",
       "mpl.figure.prototype._init_toolbar = function() {\n",
       "    var fig = this;\n",
       "\n",
       "    var nav_element = $('<div/>')\n",
       "    nav_element.attr('style', 'width: 100%');\n",
       "    this.root.append(nav_element);\n",
       "\n",
       "    // Define a callback function for later on.\n",
       "    function toolbar_event(event) {\n",
       "        return fig.toolbar_button_onclick(event['data']);\n",
       "    }\n",
       "    function toolbar_mouse_event(event) {\n",
       "        return fig.toolbar_button_onmouseover(event['data']);\n",
       "    }\n",
       "\n",
       "    for(var toolbar_ind in mpl.toolbar_items){\n",
       "        var name = mpl.toolbar_items[toolbar_ind][0];\n",
       "        var tooltip = mpl.toolbar_items[toolbar_ind][1];\n",
       "        var image = mpl.toolbar_items[toolbar_ind][2];\n",
       "        var method_name = mpl.toolbar_items[toolbar_ind][3];\n",
       "\n",
       "        if (!name) { continue; };\n",
       "\n",
       "        var button = $('<button class=\"btn btn-default\" href=\"#\" title=\"' + name + '\"><i class=\"fa ' + image + ' fa-lg\"></i></button>');\n",
       "        button.click(method_name, toolbar_event);\n",
       "        button.mouseover(tooltip, toolbar_mouse_event);\n",
       "        nav_element.append(button);\n",
       "    }\n",
       "\n",
       "    // Add the status bar.\n",
       "    var status_bar = $('<span class=\"mpl-message\" style=\"text-align:right; float: right;\"/>');\n",
       "    nav_element.append(status_bar);\n",
       "    this.message = status_bar[0];\n",
       "\n",
       "    // Add the close button to the window.\n",
       "    var buttongrp = $('<div class=\"btn-group inline pull-right\"></div>');\n",
       "    var button = $('<button class=\"btn btn-mini btn-primary\" href=\"#\" title=\"Stop Interaction\"><i class=\"fa fa-power-off icon-remove icon-large\"></i></button>');\n",
       "    button.click(function (evt) { fig.handle_close(fig, {}); } );\n",
       "    button.mouseover('Stop Interaction', toolbar_mouse_event);\n",
       "    buttongrp.append(button);\n",
       "    var titlebar = this.root.find($('.ui-dialog-titlebar'));\n",
       "    titlebar.prepend(buttongrp);\n",
       "}\n",
       "\n",
       "mpl.figure.prototype._root_extra_style = function(el){\n",
       "    var fig = this\n",
       "    el.on(\"remove\", function(){\n",
       "\tfig.close_ws(fig, {});\n",
       "    });\n",
       "}\n",
       "\n",
       "mpl.figure.prototype._canvas_extra_style = function(el){\n",
       "    // this is important to make the div 'focusable\n",
       "    el.attr('tabindex', 0)\n",
       "    // reach out to IPython and tell the keyboard manager to turn it's self\n",
       "    // off when our div gets focus\n",
       "\n",
       "    // location in version 3\n",
       "    if (IPython.notebook.keyboard_manager) {\n",
       "        IPython.notebook.keyboard_manager.register_events(el);\n",
       "    }\n",
       "    else {\n",
       "        // location in version 2\n",
       "        IPython.keyboard_manager.register_events(el);\n",
       "    }\n",
       "\n",
       "}\n",
       "\n",
       "mpl.figure.prototype._key_event_extra = function(event, name) {\n",
       "    var manager = IPython.notebook.keyboard_manager;\n",
       "    if (!manager)\n",
       "        manager = IPython.keyboard_manager;\n",
       "\n",
       "    // Check for shift+enter\n",
       "    if (event.shiftKey && event.which == 13) {\n",
       "        this.canvas_div.blur();\n",
       "        // select the cell after this one\n",
       "        var index = IPython.notebook.find_cell_index(this.cell_info[0]);\n",
       "        IPython.notebook.select(index + 1);\n",
       "    }\n",
       "}\n",
       "\n",
       "mpl.figure.prototype.handle_save = function(fig, msg) {\n",
       "    fig.ondownload(fig, null);\n",
       "}\n",
       "\n",
       "\n",
       "mpl.find_output_cell = function(html_output) {\n",
       "    // Return the cell and output element which can be found *uniquely* in the notebook.\n",
       "    // Note - this is a bit hacky, but it is done because the \"notebook_saving.Notebook\"\n",
       "    // IPython event is triggered only after the cells have been serialised, which for\n",
       "    // our purposes (turning an active figure into a static one), is too late.\n",
       "    var cells = IPython.notebook.get_cells();\n",
       "    var ncells = cells.length;\n",
       "    for (var i=0; i<ncells; i++) {\n",
       "        var cell = cells[i];\n",
       "        if (cell.cell_type === 'code'){\n",
       "            for (var j=0; j<cell.output_area.outputs.length; j++) {\n",
       "                var data = cell.output_area.outputs[j];\n",
       "                if (data.data) {\n",
       "                    // IPython >= 3 moved mimebundle to data attribute of output\n",
       "                    data = data.data;\n",
       "                }\n",
       "                if (data['text/html'] == html_output) {\n",
       "                    return [cell, data, j];\n",
       "                }\n",
       "            }\n",
       "        }\n",
       "    }\n",
       "}\n",
       "\n",
       "// Register the function which deals with the matplotlib target/channel.\n",
       "// The kernel may be null if the page has been refreshed.\n",
       "if (IPython.notebook.kernel != null) {\n",
       "    IPython.notebook.kernel.comm_manager.register_target('matplotlib', mpl.mpl_figure_comm);\n",
       "}\n"
      ],
      "text/plain": [
       "<IPython.core.display.Javascript object>"
      ]
     },
     "metadata": {},
     "output_type": "display_data"
    },
    {
     "data": {
      "text/html": [
       "<img src=\"data:image/png;base64,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\" width=\"600\">"
      ],
      "text/plain": [
       "<IPython.core.display.HTML object>"
      ]
     },
     "metadata": {},
     "output_type": "display_data"
    },
    {
     "data": {
      "application/vnd.jupyter.widget-view+json": {
       "model_id": "9cef612c5d824f71885ca9d175d0bc86"
      }
     },
     "metadata": {},
     "output_type": "display_data"
    }
   ],
   "source": [
    "# Update the filename and projector resolution here.\n",
    "#green_dots_filename = \"green_dots_22.txt\" # projector resolution is (1280, 720)\n",
    "#projector_resolution = (1280, 720)   # (rows, columns)\n",
    "green_dots_filename = \"green_dots_37.txt\" # projector resolution is (1024, 768)\n",
    "projector_resolution = (1024, 768)   # (rows, columns)\n",
    "\n",
    "# Enter your best parameter estimates here.\n",
    "# Searching an 11 dimensional space can be quite difficult.\n",
    "# The better your estimates, the easier it will be. \n",
    "# Take the time to measure the parameters that can be measured easily.\n",
    "# All distances are in meters, projector_roll and projector_theta are in radians.\n",
    "# The center of the mirror is the origin of the coordinate system.\n",
    "parameters = \\\n",
    "{'animal_y':0.0,\n",
    "'animal_z':0.5,\n",
    "'dome_y':0.0,\n",
    "'dome_z':0.3,\n",
    "'dome_radius':0.7,\n",
    "'mirror_radius':0.2,\n",
    "'projector_y':0.9,\n",
    "'projector_z':0.1,\n",
    "'projector_roll':0.0,\n",
    "'projector_theta':0.2,\n",
    "'projector_vertical_offset':0.1}\n",
    "\n",
    "def value_to_range(value):\n",
    "    return (value - 0.2, value + 0.2, 0.001)\n",
    "ranges = dict([[key, value_to_range(parameters[key])] for key in parameters])\n",
    "\n",
    "psearch = ParameterSearch(green_dots_filename, *projector_resolution)\n",
    "sliders = interactive(psearch.update, **ranges)\n",
    "HBox([VBox(sliders.children[0:4]), VBox(sliders.children[4:8]), VBox(sliders.children[8:])])"
   ]
  },
  {
   "cell_type": "code",
   "execution_count": 51,
   "metadata": {
    "collapsed": false,
    "deletable": true,
    "editable": true
   },
   "outputs": [
    {
     "data": {
      "application/vnd.jupyter.widget-view+json": {
       "model_id": "1258bcdd9687458a923c308f37660aaf"
      }
     },
     "metadata": {},
     "output_type": "display_data"
    }
   ],
   "source": [
    "parameter_file = \"initial_parameters.txt\"\n",
    "button = Button(description = 'Save parameters to ' + parameter_file, button_style='primary')\n",
    "button.on_click(lambda b: save_parameters(b, sliders.kwargs, projector_resolution, parameter_file))\n",
    "button.layout.width = '50%'\n",
    "display(button)"
   ]
  }
 ],
 "metadata": {
  "kernelspec": {
   "display_name": "Python 2",
   "language": "python",
   "name": "python2"
  },
  "language_info": {
   "codemirror_mode": {
    "name": "ipython",
    "version": 2
   },
   "file_extension": ".py",
   "mimetype": "text/x-python",
   "name": "python",
   "nbconvert_exporter": "python",
   "pygments_lexer": "ipython2",
   "version": "2.7.13"
  },
  "widgets": {
   "state": {
    "09875c31a9154ebe87b31b95aa581310": {
     "views": []
    },
    "0b218c22c3e34d0293990f8934fb0bdd": {
     "views": []
    },
    "0caa39bc3dd249dabfdf5af7ffc03d2c": {
     "views": []
    },
    "16657318d91f4c7f91025f8fe3211703": {
     "views": []
    },
    "19379ffaec7f445faa184de24a29ca0e": {
     "views": []
    },
    "1a22ad54c6084ddda91c2ffa6b4153a6": {
     "views": []
    },
    "1c8507f06be84a7dab4e70d5258b41ff": {
     "views": []
    },
    "1cfdaee90ffd4afd9d1e22e5f4503f62": {
     "views": []
    },
    "1fab24a952794e87b44d15b96bc8d505": {
     "views": []
    },
    "21586773f25f4cc795cae7bbf784f128": {
     "views": []
    },
    "23aef5db57334d53850c6501be8494fd": {
     "views": []
    },
    "2687a0396ed8435c9f6f970e04a0cd0b": {
     "views": []
    },
    "281a2a423d634ca8a731f509c746ba8b": {
     "views": []
    },
    "2870fa6771bb431aa758b54caff07f9f": {
     "views": []
    },
    "30ac2fad0e3b43028d16a3e3a41d1837": {
     "views": []
    },
    "42d798bab95f43e689d5fc83cc62f522": {
     "views": []
    },
    "45a45214704d4c379407fc082114addd": {
     "views": []
    },
    "4708e2898cf64bceac2f8d04a89e9387": {
     "views": []
    },
    "4c8fd0979bfc44398708e2a1475a2f9d": {
     "views": []
    },
    "4eb5550a9224451e82f35c997b03e824": {
     "views": []
    },
    "4f62132cac024cbc932f87dc36a8115a": {
     "views": []
    },
    "5213a993d89d4d86b1da4eda2814f7d6": {
     "views": []
    },
    "53baf262e3df422ca4fe94d5b990f3e6": {
     "views": []
    },
    "53c5b59ee38a455ea2141c6da3e67c39": {
     "views": []
    },
    "54632940b4814cc5833dac60cfabc993": {
     "views": []
    },
    "5b4b34d7c9df41f1b62954cf9071969f": {
     "views": []
    },
    "5c5a68c3347444089a8725831f15d771": {
     "views": []
    },
    "5d3453faf1394890ae4012b1afbdb291": {
     "views": []
    },
    "62bdf9e8225d4590909fbb482cd5d980": {
     "views": []
    },
    "637dacb2b0d646fab252c93af5d7cf81": {
     "views": []
    },
    "64a2473426ce4a14bd98e9d94c74480b": {
     "views": []
    },
    "73695ce38a304d189e0876f581193584": {
     "views": []
    },
    "7468713896ff433a9773daa2b9738c91": {
     "views": [
      {
       "cell_index": 4
      }
     ]
    },
    "74a79ac07b094b79b822849cbf772e41": {
     "views": []
    },
    "77f8f15980034c818fa80154dbd184b4": {
     "views": []
    },
    "795380a83f9c4aae9f25cb070eff9cde": {
     "views": []
    },
    "7eb1093d13e347c6b3e63c1b62630b65": {
     "views": []
    },
    "7f808f1884c842db8d4b571cd3ea5c89": {
     "views": []
    },
    "7f99eee3712f48b9a384f5e799a7aff5": {
     "views": []
    },
    "80cc3cde94374073b4179e6bc74bb950": {
     "views": []
    },
    "86eb803d08eb4ad3b57273fd022719e3": {
     "views": []
    },
    "899aec350d1e4c61a46faa84639079ac": {
     "views": []
    },
    "8af7b623e59b48df843c756c6a9d91d2": {
     "views": []
    },
    "8f6cdd0f0f1041e486b4a71edb7941be": {
     "views": []
    },
    "943a74b8fb9e4207bbf97d8576813df4": {
     "views": []
    },
    "95216e4bf8814cda932c5727db2b4320": {
     "views": []
    },
    "99bdbd2c7b7042f296acca1b916bd07b": {
     "views": []
    },
    "9d19ef372de6457a88ca0b4fa29282e5": {
     "views": []
    },
    "9db0a82b90964442bef67700c98efcc0": {
     "views": []
    },
    "9deb97b921cb44d8bbd746eafcfd5431": {
     "views": []
    },
    "9e1652931c214cfa9de2b9381315e64a": {
     "views": []
    },
    "9ebbb557c35e44c9a45242a59a82a7b0": {
     "views": []
    },
    "a4e55514c07d46508d9dd474959a23e5": {
     "views": []
    },
    "a7ed85ff16d444678abc04fc815c8cb7": {
     "views": []
    },
    "a98063fab26b4f7c989a6fca0e56d08e": {
     "views": []
    },
    "a9d281072eb6440ca874493b1712aac6": {
     "views": []
    },
    "aaa1cb8f0059400e8d30844cebde4484": {
     "views": []
    },
    "ae45ca9971e24a579e6a9126368fcbb1": {
     "views": []
    },
    "b043edf61cea472694c2d82d8aa35a6d": {
     "views": []
    },
    "b1271f2d2c644ad1a194e970983ef435": {
     "views": []
    },
    "b669990a6fc54e6dbfef4d8e4abbe7c0": {
     "views": []
    },
    "b711babe10ef46cc84e1ec3a2baa6eab": {
     "views": []
    },
    "b96dadab4a2342439ba476c10bb1a05a": {
     "views": []
    },
    "b9833e79a8414525b9c5fa23e77f85ad": {
     "views": []
    },
    "babf49f7ddc04d02baa3b291939b7f50": {
     "views": []
    },
    "bc125551485f490d8a03632da6188b89": {
     "views": []
    },
    "c14a52d76d0b445fbef1f4ba0e90226a": {
     "views": []
    },
    "c1d1056c702b4747b5c6513fd157bb69": {
     "views": []
    },
    "c298d19cf5f84be2b64dcc8ae067b439": {
     "views": []
    },
    "c32f29a97aae42ce94adf7f0bea94c8d": {
     "views": []
    },
    "c45ce6271d6f4df682d82c771dcf1cee": {
     "views": []
    },
    "c5a5816eada4469dbac8ddcdb68e222c": {
     "views": []
    },
    "cd6cd3d8b2174b7896e3fddcd26f4d82": {
     "views": []
    },
    "cf9b71ee09aa41f99f36268b1078b318": {
     "views": []
    },
    "d1d8d1f104f44b919b3f753b06499045": {
     "views": []
    },
    "d1e8653990fc4810a2a45cf881a62856": {
     "views": []
    },
    "d4414b06d00c45899b9d347586d0a1bf": {
     "views": []
    },
    "d5c97b5e342a4f79b728014a68b2d60e": {
     "views": []
    },
    "de12cf83f3364558b1f577cc323030b4": {
     "views": []
    },
    "e1129aa7db814714a754a443d9c149a1": {
     "views": []
    },
    "e266bf467a734d029633d1b4b4b4900f": {
     "views": []
    },
    "e39dea2a6a9547bd8128263817de37d4": {
     "views": []
    },
    "e3e9900514054a57a219a3029859ece7": {
     "views": []
    },
    "e506bc49e1b84fa4aa996a4f60c81508": {
     "views": []
    },
    "ecf35cde496248e99ba9c9f3faccd7cc": {
     "views": []
    },
    "edd39dec0b54401f9aac3d90b027dd56": {
     "views": []
    },
    "ef1de0aa8bf2487f8bc00369b4438341": {
     "views": []
    },
    "efd55004b06b4005bb749705ee480be4": {
     "views": []
    },
    "f1628ae1ec704cd2953052c6a8121d19": {
     "views": []
    },
    "f38107dbcb1f44949ba385bfa5e8325f": {
     "views": []
    },
    "f5831828c0754611a7f2bfb5d2ef3a1f": {
     "views": []
    },
    "f750644b1806413bbd406f60059ee994": {
     "views": []
    },
    "fd7a4ef7e0d745eb955841782e058329": {
     "views": []
    },
    "fda9688ff83e41d7bcb5b54ca57d3505": {
     "views": []
    },
    "fdd434b0b9644f22bc48b9969d42625c": {
     "views": []
    },
    "fdda403506144d25917ee6ae49e498e3": {
     "views": []
    }
   },
   "version": "1.1.2"
  }
 },
 "nbformat": 4,
 "nbformat_minor": 0
}
