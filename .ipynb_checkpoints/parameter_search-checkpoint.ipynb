{
 "cells": [
  {
   "cell_type": "code",
   "execution_count": 46,
   "metadata": {
    "collapsed": false,
    "deletable": true,
    "editable": true
   },
   "outputs": [],
   "source": [
    "%matplotlib notebook\n",
    "import matplotlib.pyplot as plt\n",
    "from IPython.display import display\n",
    "from ipywidgets import interactive, HBox, VBox, Button\n",
    "from parameter_search import ParameterSearch, save_parameters"
   ]
  },
  {
   "cell_type": "code",
   "execution_count": 47,
   "metadata": {
    "collapsed": false,
    "deletable": true,
    "editable": true,
    "scrolled": false
   },
   "outputs": [
    {
     "data": {
      "application/javascript": [
       "/* Put everything inside the global mpl namespace */\n",
       "window.mpl = {};\n",
       "\n",
       "\n",
       "mpl.get_websocket_type = function() {\n",
       "    if (typeof(WebSocket) !== 'undefined') {\n",
       "        return WebSocket;\n",
       "    } else if (typeof(MozWebSocket) !== 'undefined') {\n",
       "        return MozWebSocket;\n",
       "    } else {\n",
       "        alert('Your browser does not have WebSocket support.' +\n",
       "              'Please try Chrome, Safari or Firefox ≥ 6. ' +\n",
       "              'Firefox 4 and 5 are also supported but you ' +\n",
       "              'have to enable WebSockets in about:config.');\n",
       "    };\n",
       "}\n",
       "\n",
       "mpl.figure = function(figure_id, websocket, ondownload, parent_element) {\n",
       "    this.id = figure_id;\n",
       "\n",
       "    this.ws = websocket;\n",
       "\n",
       "    this.supports_binary = (this.ws.binaryType != undefined);\n",
       "\n",
       "    if (!this.supports_binary) {\n",
       "        var warnings = document.getElementById(\"mpl-warnings\");\n",
       "        if (warnings) {\n",
       "            warnings.style.display = 'block';\n",
       "            warnings.textContent = (\n",
       "                \"This browser does not support binary websocket messages. \" +\n",
       "                    \"Performance may be slow.\");\n",
       "        }\n",
       "    }\n",
       "\n",
       "    this.imageObj = new Image();\n",
       "\n",
       "    this.context = undefined;\n",
       "    this.message = undefined;\n",
       "    this.canvas = undefined;\n",
       "    this.rubberband_canvas = undefined;\n",
       "    this.rubberband_context = undefined;\n",
       "    this.format_dropdown = undefined;\n",
       "\n",
       "    this.image_mode = 'full';\n",
       "\n",
       "    this.root = $('<div/>');\n",
       "    this._root_extra_style(this.root)\n",
       "    this.root.attr('style', 'display: inline-block');\n",
       "\n",
       "    $(parent_element).append(this.root);\n",
       "\n",
       "    this._init_header(this);\n",
       "    this._init_canvas(this);\n",
       "    this._init_toolbar(this);\n",
       "\n",
       "    var fig = this;\n",
       "\n",
       "    this.waiting = false;\n",
       "\n",
       "    this.ws.onopen =  function () {\n",
       "            fig.send_message(\"supports_binary\", {value: fig.supports_binary});\n",
       "            fig.send_message(\"send_image_mode\", {});\n",
       "            if (mpl.ratio != 1) {\n",
       "                fig.send_message(\"set_dpi_ratio\", {'dpi_ratio': mpl.ratio});\n",
       "            }\n",
       "            fig.send_message(\"refresh\", {});\n",
       "        }\n",
       "\n",
       "    this.imageObj.onload = function() {\n",
       "            if (fig.image_mode == 'full') {\n",
       "                // Full images could contain transparency (where diff images\n",
       "                // almost always do), so we need to clear the canvas so that\n",
       "                // there is no ghosting.\n",
       "                fig.context.clearRect(0, 0, fig.canvas.width, fig.canvas.height);\n",
       "            }\n",
       "            fig.context.drawImage(fig.imageObj, 0, 0);\n",
       "        };\n",
       "\n",
       "    this.imageObj.onunload = function() {\n",
       "        this.ws.close();\n",
       "    }\n",
       "\n",
       "    this.ws.onmessage = this._make_on_message_function(this);\n",
       "\n",
       "    this.ondownload = ondownload;\n",
       "}\n",
       "\n",
       "mpl.figure.prototype._init_header = function() {\n",
       "    var titlebar = $(\n",
       "        '<div class=\"ui-dialog-titlebar ui-widget-header ui-corner-all ' +\n",
       "        'ui-helper-clearfix\"/>');\n",
       "    var titletext = $(\n",
       "        '<div class=\"ui-dialog-title\" style=\"width: 100%; ' +\n",
       "        'text-align: center; padding: 3px;\"/>');\n",
       "    titlebar.append(titletext)\n",
       "    this.root.append(titlebar);\n",
       "    this.header = titletext[0];\n",
       "}\n",
       "\n",
       "\n",
       "\n",
       "mpl.figure.prototype._canvas_extra_style = function(canvas_div) {\n",
       "\n",
       "}\n",
       "\n",
       "\n",
       "mpl.figure.prototype._root_extra_style = function(canvas_div) {\n",
       "\n",
       "}\n",
       "\n",
       "mpl.figure.prototype._init_canvas = function() {\n",
       "    var fig = this;\n",
       "\n",
       "    var canvas_div = $('<div/>');\n",
       "\n",
       "    canvas_div.attr('style', 'position: relative; clear: both; outline: 0');\n",
       "\n",
       "    function canvas_keyboard_event(event) {\n",
       "        return fig.key_event(event, event['data']);\n",
       "    }\n",
       "\n",
       "    canvas_div.keydown('key_press', canvas_keyboard_event);\n",
       "    canvas_div.keyup('key_release', canvas_keyboard_event);\n",
       "    this.canvas_div = canvas_div\n",
       "    this._canvas_extra_style(canvas_div)\n",
       "    this.root.append(canvas_div);\n",
       "\n",
       "    var canvas = $('<canvas/>');\n",
       "    canvas.addClass('mpl-canvas');\n",
       "    canvas.attr('style', \"left: 0; top: 0; z-index: 0; outline: 0\")\n",
       "\n",
       "    this.canvas = canvas[0];\n",
       "    this.context = canvas[0].getContext(\"2d\");\n",
       "\n",
       "    var backingStore = this.context.backingStorePixelRatio ||\n",
       "\tthis.context.webkitBackingStorePixelRatio ||\n",
       "\tthis.context.mozBackingStorePixelRatio ||\n",
       "\tthis.context.msBackingStorePixelRatio ||\n",
       "\tthis.context.oBackingStorePixelRatio ||\n",
       "\tthis.context.backingStorePixelRatio || 1;\n",
       "\n",
       "    mpl.ratio = (window.devicePixelRatio || 1) / backingStore;\n",
       "\n",
       "    var rubberband = $('<canvas/>');\n",
       "    rubberband.attr('style', \"position: absolute; left: 0; top: 0; z-index: 1;\")\n",
       "\n",
       "    var pass_mouse_events = true;\n",
       "\n",
       "    canvas_div.resizable({\n",
       "        start: function(event, ui) {\n",
       "            pass_mouse_events = false;\n",
       "        },\n",
       "        resize: function(event, ui) {\n",
       "            fig.request_resize(ui.size.width, ui.size.height);\n",
       "        },\n",
       "        stop: function(event, ui) {\n",
       "            pass_mouse_events = true;\n",
       "            fig.request_resize(ui.size.width, ui.size.height);\n",
       "        },\n",
       "    });\n",
       "\n",
       "    function mouse_event_fn(event) {\n",
       "        if (pass_mouse_events)\n",
       "            return fig.mouse_event(event, event['data']);\n",
       "    }\n",
       "\n",
       "    rubberband.mousedown('button_press', mouse_event_fn);\n",
       "    rubberband.mouseup('button_release', mouse_event_fn);\n",
       "    // Throttle sequential mouse events to 1 every 20ms.\n",
       "    rubberband.mousemove('motion_notify', mouse_event_fn);\n",
       "\n",
       "    rubberband.mouseenter('figure_enter', mouse_event_fn);\n",
       "    rubberband.mouseleave('figure_leave', mouse_event_fn);\n",
       "\n",
       "    canvas_div.on(\"wheel\", function (event) {\n",
       "        event = event.originalEvent;\n",
       "        event['data'] = 'scroll'\n",
       "        if (event.deltaY < 0) {\n",
       "            event.step = 1;\n",
       "        } else {\n",
       "            event.step = -1;\n",
       "        }\n",
       "        mouse_event_fn(event);\n",
       "    });\n",
       "\n",
       "    canvas_div.append(canvas);\n",
       "    canvas_div.append(rubberband);\n",
       "\n",
       "    this.rubberband = rubberband;\n",
       "    this.rubberband_canvas = rubberband[0];\n",
       "    this.rubberband_context = rubberband[0].getContext(\"2d\");\n",
       "    this.rubberband_context.strokeStyle = \"#000000\";\n",
       "\n",
       "    this._resize_canvas = function(width, height) {\n",
       "        // Keep the size of the canvas, canvas container, and rubber band\n",
       "        // canvas in synch.\n",
       "        canvas_div.css('width', width)\n",
       "        canvas_div.css('height', height)\n",
       "\n",
       "        canvas.attr('width', width * mpl.ratio);\n",
       "        canvas.attr('height', height * mpl.ratio);\n",
       "        canvas.attr('style', 'width: ' + width + 'px; height: ' + height + 'px;');\n",
       "\n",
       "        rubberband.attr('width', width);\n",
       "        rubberband.attr('height', height);\n",
       "    }\n",
       "\n",
       "    // Set the figure to an initial 600x600px, this will subsequently be updated\n",
       "    // upon first draw.\n",
       "    this._resize_canvas(600, 600);\n",
       "\n",
       "    // Disable right mouse context menu.\n",
       "    $(this.rubberband_canvas).bind(\"contextmenu\",function(e){\n",
       "        return false;\n",
       "    });\n",
       "\n",
       "    function set_focus () {\n",
       "        canvas.focus();\n",
       "        canvas_div.focus();\n",
       "    }\n",
       "\n",
       "    window.setTimeout(set_focus, 100);\n",
       "}\n",
       "\n",
       "mpl.figure.prototype._init_toolbar = function() {\n",
       "    var fig = this;\n",
       "\n",
       "    var nav_element = $('<div/>')\n",
       "    nav_element.attr('style', 'width: 100%');\n",
       "    this.root.append(nav_element);\n",
       "\n",
       "    // Define a callback function for later on.\n",
       "    function toolbar_event(event) {\n",
       "        return fig.toolbar_button_onclick(event['data']);\n",
       "    }\n",
       "    function toolbar_mouse_event(event) {\n",
       "        return fig.toolbar_button_onmouseover(event['data']);\n",
       "    }\n",
       "\n",
       "    for(var toolbar_ind in mpl.toolbar_items) {\n",
       "        var name = mpl.toolbar_items[toolbar_ind][0];\n",
       "        var tooltip = mpl.toolbar_items[toolbar_ind][1];\n",
       "        var image = mpl.toolbar_items[toolbar_ind][2];\n",
       "        var method_name = mpl.toolbar_items[toolbar_ind][3];\n",
       "\n",
       "        if (!name) {\n",
       "            // put a spacer in here.\n",
       "            continue;\n",
       "        }\n",
       "        var button = $('<button/>');\n",
       "        button.addClass('ui-button ui-widget ui-state-default ui-corner-all ' +\n",
       "                        'ui-button-icon-only');\n",
       "        button.attr('role', 'button');\n",
       "        button.attr('aria-disabled', 'false');\n",
       "        button.click(method_name, toolbar_event);\n",
       "        button.mouseover(tooltip, toolbar_mouse_event);\n",
       "\n",
       "        var icon_img = $('<span/>');\n",
       "        icon_img.addClass('ui-button-icon-primary ui-icon');\n",
       "        icon_img.addClass(image);\n",
       "        icon_img.addClass('ui-corner-all');\n",
       "\n",
       "        var tooltip_span = $('<span/>');\n",
       "        tooltip_span.addClass('ui-button-text');\n",
       "        tooltip_span.html(tooltip);\n",
       "\n",
       "        button.append(icon_img);\n",
       "        button.append(tooltip_span);\n",
       "\n",
       "        nav_element.append(button);\n",
       "    }\n",
       "\n",
       "    var fmt_picker_span = $('<span/>');\n",
       "\n",
       "    var fmt_picker = $('<select/>');\n",
       "    fmt_picker.addClass('mpl-toolbar-option ui-widget ui-widget-content');\n",
       "    fmt_picker_span.append(fmt_picker);\n",
       "    nav_element.append(fmt_picker_span);\n",
       "    this.format_dropdown = fmt_picker[0];\n",
       "\n",
       "    for (var ind in mpl.extensions) {\n",
       "        var fmt = mpl.extensions[ind];\n",
       "        var option = $(\n",
       "            '<option/>', {selected: fmt === mpl.default_extension}).html(fmt);\n",
       "        fmt_picker.append(option)\n",
       "    }\n",
       "\n",
       "    // Add hover states to the ui-buttons\n",
       "    $( \".ui-button\" ).hover(\n",
       "        function() { $(this).addClass(\"ui-state-hover\");},\n",
       "        function() { $(this).removeClass(\"ui-state-hover\");}\n",
       "    );\n",
       "\n",
       "    var status_bar = $('<span class=\"mpl-message\"/>');\n",
       "    nav_element.append(status_bar);\n",
       "    this.message = status_bar[0];\n",
       "}\n",
       "\n",
       "mpl.figure.prototype.request_resize = function(x_pixels, y_pixels) {\n",
       "    // Request matplotlib to resize the figure. Matplotlib will then trigger a resize in the client,\n",
       "    // which will in turn request a refresh of the image.\n",
       "    this.send_message('resize', {'width': x_pixels, 'height': y_pixels});\n",
       "}\n",
       "\n",
       "mpl.figure.prototype.send_message = function(type, properties) {\n",
       "    properties['type'] = type;\n",
       "    properties['figure_id'] = this.id;\n",
       "    this.ws.send(JSON.stringify(properties));\n",
       "}\n",
       "\n",
       "mpl.figure.prototype.send_draw_message = function() {\n",
       "    if (!this.waiting) {\n",
       "        this.waiting = true;\n",
       "        this.ws.send(JSON.stringify({type: \"draw\", figure_id: this.id}));\n",
       "    }\n",
       "}\n",
       "\n",
       "\n",
       "mpl.figure.prototype.handle_save = function(fig, msg) {\n",
       "    var format_dropdown = fig.format_dropdown;\n",
       "    var format = format_dropdown.options[format_dropdown.selectedIndex].value;\n",
       "    fig.ondownload(fig, format);\n",
       "}\n",
       "\n",
       "\n",
       "mpl.figure.prototype.handle_resize = function(fig, msg) {\n",
       "    var size = msg['size'];\n",
       "    if (size[0] != fig.canvas.width || size[1] != fig.canvas.height) {\n",
       "        fig._resize_canvas(size[0], size[1]);\n",
       "        fig.send_message(\"refresh\", {});\n",
       "    };\n",
       "}\n",
       "\n",
       "mpl.figure.prototype.handle_rubberband = function(fig, msg) {\n",
       "    var x0 = msg['x0'] / mpl.ratio;\n",
       "    var y0 = (fig.canvas.height - msg['y0']) / mpl.ratio;\n",
       "    var x1 = msg['x1'] / mpl.ratio;\n",
       "    var y1 = (fig.canvas.height - msg['y1']) / mpl.ratio;\n",
       "    x0 = Math.floor(x0) + 0.5;\n",
       "    y0 = Math.floor(y0) + 0.5;\n",
       "    x1 = Math.floor(x1) + 0.5;\n",
       "    y1 = Math.floor(y1) + 0.5;\n",
       "    var min_x = Math.min(x0, x1);\n",
       "    var min_y = Math.min(y0, y1);\n",
       "    var width = Math.abs(x1 - x0);\n",
       "    var height = Math.abs(y1 - y0);\n",
       "\n",
       "    fig.rubberband_context.clearRect(\n",
       "        0, 0, fig.canvas.width, fig.canvas.height);\n",
       "\n",
       "    fig.rubberband_context.strokeRect(min_x, min_y, width, height);\n",
       "}\n",
       "\n",
       "mpl.figure.prototype.handle_figure_label = function(fig, msg) {\n",
       "    // Updates the figure title.\n",
       "    fig.header.textContent = msg['label'];\n",
       "}\n",
       "\n",
       "mpl.figure.prototype.handle_cursor = function(fig, msg) {\n",
       "    var cursor = msg['cursor'];\n",
       "    switch(cursor)\n",
       "    {\n",
       "    case 0:\n",
       "        cursor = 'pointer';\n",
       "        break;\n",
       "    case 1:\n",
       "        cursor = 'default';\n",
       "        break;\n",
       "    case 2:\n",
       "        cursor = 'crosshair';\n",
       "        break;\n",
       "    case 3:\n",
       "        cursor = 'move';\n",
       "        break;\n",
       "    }\n",
       "    fig.rubberband_canvas.style.cursor = cursor;\n",
       "}\n",
       "\n",
       "mpl.figure.prototype.handle_message = function(fig, msg) {\n",
       "    fig.message.textContent = msg['message'];\n",
       "}\n",
       "\n",
       "mpl.figure.prototype.handle_draw = function(fig, msg) {\n",
       "    // Request the server to send over a new figure.\n",
       "    fig.send_draw_message();\n",
       "}\n",
       "\n",
       "mpl.figure.prototype.handle_image_mode = function(fig, msg) {\n",
       "    fig.image_mode = msg['mode'];\n",
       "}\n",
       "\n",
       "mpl.figure.prototype.updated_canvas_event = function() {\n",
       "    // Called whenever the canvas gets updated.\n",
       "    this.send_message(\"ack\", {});\n",
       "}\n",
       "\n",
       "// A function to construct a web socket function for onmessage handling.\n",
       "// Called in the figure constructor.\n",
       "mpl.figure.prototype._make_on_message_function = function(fig) {\n",
       "    return function socket_on_message(evt) {\n",
       "        if (evt.data instanceof Blob) {\n",
       "            /* FIXME: We get \"Resource interpreted as Image but\n",
       "             * transferred with MIME type text/plain:\" errors on\n",
       "             * Chrome.  But how to set the MIME type?  It doesn't seem\n",
       "             * to be part of the websocket stream */\n",
       "            evt.data.type = \"image/png\";\n",
       "\n",
       "            /* Free the memory for the previous frames */\n",
       "            if (fig.imageObj.src) {\n",
       "                (window.URL || window.webkitURL).revokeObjectURL(\n",
       "                    fig.imageObj.src);\n",
       "            }\n",
       "\n",
       "            fig.imageObj.src = (window.URL || window.webkitURL).createObjectURL(\n",
       "                evt.data);\n",
       "            fig.updated_canvas_event();\n",
       "            fig.waiting = false;\n",
       "            return;\n",
       "        }\n",
       "        else if (typeof evt.data === 'string' && evt.data.slice(0, 21) == \"data:image/png;base64\") {\n",
       "            fig.imageObj.src = evt.data;\n",
       "            fig.updated_canvas_event();\n",
       "            fig.waiting = false;\n",
       "            return;\n",
       "        }\n",
       "\n",
       "        var msg = JSON.parse(evt.data);\n",
       "        var msg_type = msg['type'];\n",
       "\n",
       "        // Call the  \"handle_{type}\" callback, which takes\n",
       "        // the figure and JSON message as its only arguments.\n",
       "        try {\n",
       "            var callback = fig[\"handle_\" + msg_type];\n",
       "        } catch (e) {\n",
       "            console.log(\"No handler for the '\" + msg_type + \"' message type: \", msg);\n",
       "            return;\n",
       "        }\n",
       "\n",
       "        if (callback) {\n",
       "            try {\n",
       "                // console.log(\"Handling '\" + msg_type + \"' message: \", msg);\n",
       "                callback(fig, msg);\n",
       "            } catch (e) {\n",
       "                console.log(\"Exception inside the 'handler_\" + msg_type + \"' callback:\", e, e.stack, msg);\n",
       "            }\n",
       "        }\n",
       "    };\n",
       "}\n",
       "\n",
       "// from http://stackoverflow.com/questions/1114465/getting-mouse-location-in-canvas\n",
       "mpl.findpos = function(e) {\n",
       "    //this section is from http://www.quirksmode.org/js/events_properties.html\n",
       "    var targ;\n",
       "    if (!e)\n",
       "        e = window.event;\n",
       "    if (e.target)\n",
       "        targ = e.target;\n",
       "    else if (e.srcElement)\n",
       "        targ = e.srcElement;\n",
       "    if (targ.nodeType == 3) // defeat Safari bug\n",
       "        targ = targ.parentNode;\n",
       "\n",
       "    // jQuery normalizes the pageX and pageY\n",
       "    // pageX,Y are the mouse positions relative to the document\n",
       "    // offset() returns the position of the element relative to the document\n",
       "    var x = e.pageX - $(targ).offset().left;\n",
       "    var y = e.pageY - $(targ).offset().top;\n",
       "\n",
       "    return {\"x\": x, \"y\": y};\n",
       "};\n",
       "\n",
       "/*\n",
       " * return a copy of an object with only non-object keys\n",
       " * we need this to avoid circular references\n",
       " * http://stackoverflow.com/a/24161582/3208463\n",
       " */\n",
       "function simpleKeys (original) {\n",
       "  return Object.keys(original).reduce(function (obj, key) {\n",
       "    if (typeof original[key] !== 'object')\n",
       "        obj[key] = original[key]\n",
       "    return obj;\n",
       "  }, {});\n",
       "}\n",
       "\n",
       "mpl.figure.prototype.mouse_event = function(event, name) {\n",
       "    var canvas_pos = mpl.findpos(event)\n",
       "\n",
       "    if (name === 'button_press')\n",
       "    {\n",
       "        this.canvas.focus();\n",
       "        this.canvas_div.focus();\n",
       "    }\n",
       "\n",
       "    var x = canvas_pos.x * mpl.ratio;\n",
       "    var y = canvas_pos.y * mpl.ratio;\n",
       "\n",
       "    this.send_message(name, {x: x, y: y, button: event.button,\n",
       "                             step: event.step,\n",
       "                             guiEvent: simpleKeys(event)});\n",
       "\n",
       "    /* This prevents the web browser from automatically changing to\n",
       "     * the text insertion cursor when the button is pressed.  We want\n",
       "     * to control all of the cursor setting manually through the\n",
       "     * 'cursor' event from matplotlib */\n",
       "    event.preventDefault();\n",
       "    return false;\n",
       "}\n",
       "\n",
       "mpl.figure.prototype._key_event_extra = function(event, name) {\n",
       "    // Handle any extra behaviour associated with a key event\n",
       "}\n",
       "\n",
       "mpl.figure.prototype.key_event = function(event, name) {\n",
       "\n",
       "    // Prevent repeat events\n",
       "    if (name == 'key_press')\n",
       "    {\n",
       "        if (event.which === this._key)\n",
       "            return;\n",
       "        else\n",
       "            this._key = event.which;\n",
       "    }\n",
       "    if (name == 'key_release')\n",
       "        this._key = null;\n",
       "\n",
       "    var value = '';\n",
       "    if (event.ctrlKey && event.which != 17)\n",
       "        value += \"ctrl+\";\n",
       "    if (event.altKey && event.which != 18)\n",
       "        value += \"alt+\";\n",
       "    if (event.shiftKey && event.which != 16)\n",
       "        value += \"shift+\";\n",
       "\n",
       "    value += 'k';\n",
       "    value += event.which.toString();\n",
       "\n",
       "    this._key_event_extra(event, name);\n",
       "\n",
       "    this.send_message(name, {key: value,\n",
       "                             guiEvent: simpleKeys(event)});\n",
       "    return false;\n",
       "}\n",
       "\n",
       "mpl.figure.prototype.toolbar_button_onclick = function(name) {\n",
       "    if (name == 'download') {\n",
       "        this.handle_save(this, null);\n",
       "    } else {\n",
       "        this.send_message(\"toolbar_button\", {name: name});\n",
       "    }\n",
       "};\n",
       "\n",
       "mpl.figure.prototype.toolbar_button_onmouseover = function(tooltip) {\n",
       "    this.message.textContent = tooltip;\n",
       "};\n",
       "mpl.toolbar_items = [[\"Home\", \"Reset original view\", \"fa fa-home icon-home\", \"home\"], [\"Back\", \"Back to  previous view\", \"fa fa-arrow-left icon-arrow-left\", \"back\"], [\"Forward\", \"Forward to next view\", \"fa fa-arrow-right icon-arrow-right\", \"forward\"], [\"\", \"\", \"\", \"\"], [\"Pan\", \"Pan axes with left mouse, zoom with right\", \"fa fa-arrows icon-move\", \"pan\"], [\"Zoom\", \"Zoom to rectangle\", \"fa fa-square-o icon-check-empty\", \"zoom\"], [\"\", \"\", \"\", \"\"], [\"Download\", \"Download plot\", \"fa fa-floppy-o icon-save\", \"download\"]];\n",
       "\n",
       "mpl.extensions = [\"eps\", \"jpeg\", \"pdf\", \"png\", \"ps\", \"raw\", \"svg\", \"tif\"];\n",
       "\n",
       "mpl.default_extension = \"png\";var comm_websocket_adapter = function(comm) {\n",
       "    // Create a \"websocket\"-like object which calls the given IPython comm\n",
       "    // object with the appropriate methods. Currently this is a non binary\n",
       "    // socket, so there is still some room for performance tuning.\n",
       "    var ws = {};\n",
       "\n",
       "    ws.close = function() {\n",
       "        comm.close()\n",
       "    };\n",
       "    ws.send = function(m) {\n",
       "        //console.log('sending', m);\n",
       "        comm.send(m);\n",
       "    };\n",
       "    // Register the callback with on_msg.\n",
       "    comm.on_msg(function(msg) {\n",
       "        //console.log('receiving', msg['content']['data'], msg);\n",
       "        // Pass the mpl event to the overriden (by mpl) onmessage function.\n",
       "        ws.onmessage(msg['content']['data'])\n",
       "    });\n",
       "    return ws;\n",
       "}\n",
       "\n",
       "mpl.mpl_figure_comm = function(comm, msg) {\n",
       "    // This is the function which gets called when the mpl process\n",
       "    // starts-up an IPython Comm through the \"matplotlib\" channel.\n",
       "\n",
       "    var id = msg.content.data.id;\n",
       "    // Get hold of the div created by the display call when the Comm\n",
       "    // socket was opened in Python.\n",
       "    var element = $(\"#\" + id);\n",
       "    var ws_proxy = comm_websocket_adapter(comm)\n",
       "\n",
       "    function ondownload(figure, format) {\n",
       "        window.open(figure.imageObj.src);\n",
       "    }\n",
       "\n",
       "    var fig = new mpl.figure(id, ws_proxy,\n",
       "                           ondownload,\n",
       "                           element.get(0));\n",
       "\n",
       "    // Call onopen now - mpl needs it, as it is assuming we've passed it a real\n",
       "    // web socket which is closed, not our websocket->open comm proxy.\n",
       "    ws_proxy.onopen();\n",
       "\n",
       "    fig.parent_element = element.get(0);\n",
       "    fig.cell_info = mpl.find_output_cell(\"<div id='\" + id + \"'></div>\");\n",
       "    if (!fig.cell_info) {\n",
       "        console.error(\"Failed to find cell for figure\", id, fig);\n",
       "        return;\n",
       "    }\n",
       "\n",
       "    var output_index = fig.cell_info[2]\n",
       "    var cell = fig.cell_info[0];\n",
       "\n",
       "};\n",
       "\n",
       "mpl.figure.prototype.handle_close = function(fig, msg) {\n",
       "    var width = fig.canvas.width/mpl.ratio\n",
       "    fig.root.unbind('remove')\n",
       "\n",
       "    // Update the output cell to use the data from the current canvas.\n",
       "    fig.push_to_output();\n",
       "    var dataURL = fig.canvas.toDataURL();\n",
       "    // Re-enable the keyboard manager in IPython - without this line, in FF,\n",
       "    // the notebook keyboard shortcuts fail.\n",
       "    IPython.keyboard_manager.enable()\n",
       "    $(fig.parent_element).html('<img src=\"' + dataURL + '\" width=\"' + width + '\">');\n",
       "    fig.close_ws(fig, msg);\n",
       "}\n",
       "\n",
       "mpl.figure.prototype.close_ws = function(fig, msg){\n",
       "    fig.send_message('closing', msg);\n",
       "    // fig.ws.close()\n",
       "}\n",
       "\n",
       "mpl.figure.prototype.push_to_output = function(remove_interactive) {\n",
       "    // Turn the data on the canvas into data in the output cell.\n",
       "    var width = this.canvas.width/mpl.ratio\n",
       "    var dataURL = this.canvas.toDataURL();\n",
       "    this.cell_info[1]['text/html'] = '<img src=\"' + dataURL + '\" width=\"' + width + '\">';\n",
       "}\n",
       "\n",
       "mpl.figure.prototype.updated_canvas_event = function() {\n",
       "    // Tell IPython that the notebook contents must change.\n",
       "    IPython.notebook.set_dirty(true);\n",
       "    this.send_message(\"ack\", {});\n",
       "    var fig = this;\n",
       "    // Wait a second, then push the new image to the DOM so\n",
       "    // that it is saved nicely (might be nice to debounce this).\n",
       "    setTimeout(function () { fig.push_to_output() }, 1000);\n",
       "}\n",
       "\n",
       "mpl.figure.prototype._init_toolbar = function() {\n",
       "    var fig = this;\n",
       "\n",
       "    var nav_element = $('<div/>')\n",
       "    nav_element.attr('style', 'width: 100%');\n",
       "    this.root.append(nav_element);\n",
       "\n",
       "    // Define a callback function for later on.\n",
       "    function toolbar_event(event) {\n",
       "        return fig.toolbar_button_onclick(event['data']);\n",
       "    }\n",
       "    function toolbar_mouse_event(event) {\n",
       "        return fig.toolbar_button_onmouseover(event['data']);\n",
       "    }\n",
       "\n",
       "    for(var toolbar_ind in mpl.toolbar_items){\n",
       "        var name = mpl.toolbar_items[toolbar_ind][0];\n",
       "        var tooltip = mpl.toolbar_items[toolbar_ind][1];\n",
       "        var image = mpl.toolbar_items[toolbar_ind][2];\n",
       "        var method_name = mpl.toolbar_items[toolbar_ind][3];\n",
       "\n",
       "        if (!name) { continue; };\n",
       "\n",
       "        var button = $('<button class=\"btn btn-default\" href=\"#\" title=\"' + name + '\"><i class=\"fa ' + image + ' fa-lg\"></i></button>');\n",
       "        button.click(method_name, toolbar_event);\n",
       "        button.mouseover(tooltip, toolbar_mouse_event);\n",
       "        nav_element.append(button);\n",
       "    }\n",
       "\n",
       "    // Add the status bar.\n",
       "    var status_bar = $('<span class=\"mpl-message\" style=\"text-align:right; float: right;\"/>');\n",
       "    nav_element.append(status_bar);\n",
       "    this.message = status_bar[0];\n",
       "\n",
       "    // Add the close button to the window.\n",
       "    var buttongrp = $('<div class=\"btn-group inline pull-right\"></div>');\n",
       "    var button = $('<button class=\"btn btn-mini btn-primary\" href=\"#\" title=\"Stop Interaction\"><i class=\"fa fa-power-off icon-remove icon-large\"></i></button>');\n",
       "    button.click(function (evt) { fig.handle_close(fig, {}); } );\n",
       "    button.mouseover('Stop Interaction', toolbar_mouse_event);\n",
       "    buttongrp.append(button);\n",
       "    var titlebar = this.root.find($('.ui-dialog-titlebar'));\n",
       "    titlebar.prepend(buttongrp);\n",
       "}\n",
       "\n",
       "mpl.figure.prototype._root_extra_style = function(el){\n",
       "    var fig = this\n",
       "    el.on(\"remove\", function(){\n",
       "\tfig.close_ws(fig, {});\n",
       "    });\n",
       "}\n",
       "\n",
       "mpl.figure.prototype._canvas_extra_style = function(el){\n",
       "    // this is important to make the div 'focusable\n",
       "    el.attr('tabindex', 0)\n",
       "    // reach out to IPython and tell the keyboard manager to turn it's self\n",
       "    // off when our div gets focus\n",
       "\n",
       "    // location in version 3\n",
       "    if (IPython.notebook.keyboard_manager) {\n",
       "        IPython.notebook.keyboard_manager.register_events(el);\n",
       "    }\n",
       "    else {\n",
       "        // location in version 2\n",
       "        IPython.keyboard_manager.register_events(el);\n",
       "    }\n",
       "\n",
       "}\n",
       "\n",
       "mpl.figure.prototype._key_event_extra = function(event, name) {\n",
       "    var manager = IPython.notebook.keyboard_manager;\n",
       "    if (!manager)\n",
       "        manager = IPython.keyboard_manager;\n",
       "\n",
       "    // Check for shift+enter\n",
       "    if (event.shiftKey && event.which == 13) {\n",
       "        this.canvas_div.blur();\n",
       "        // select the cell after this one\n",
       "        var index = IPython.notebook.find_cell_index(this.cell_info[0]);\n",
       "        IPython.notebook.select(index + 1);\n",
       "    }\n",
       "}\n",
       "\n",
       "mpl.figure.prototype.handle_save = function(fig, msg) {\n",
       "    fig.ondownload(fig, null);\n",
       "}\n",
       "\n",
       "\n",
       "mpl.find_output_cell = function(html_output) {\n",
       "    // Return the cell and output element which can be found *uniquely* in the notebook.\n",
       "    // Note - this is a bit hacky, but it is done because the \"notebook_saving.Notebook\"\n",
       "    // IPython event is triggered only after the cells have been serialised, which for\n",
       "    // our purposes (turning an active figure into a static one), is too late.\n",
       "    var cells = IPython.notebook.get_cells();\n",
       "    var ncells = cells.length;\n",
       "    for (var i=0; i<ncells; i++) {\n",
       "        var cell = cells[i];\n",
       "        if (cell.cell_type === 'code'){\n",
       "            for (var j=0; j<cell.output_area.outputs.length; j++) {\n",
       "                var data = cell.output_area.outputs[j];\n",
       "                if (data.data) {\n",
       "                    // IPython >= 3 moved mimebundle to data attribute of output\n",
       "                    data = data.data;\n",
       "                }\n",
       "                if (data['text/html'] == html_output) {\n",
       "                    return [cell, data, j];\n",
       "                }\n",
       "            }\n",
       "        }\n",
       "    }\n",
       "}\n",
       "\n",
       "// Register the function which deals with the matplotlib target/channel.\n",
       "// The kernel may be null if the page has been refreshed.\n",
       "if (IPython.notebook.kernel != null) {\n",
       "    IPython.notebook.kernel.comm_manager.register_target('matplotlib', mpl.mpl_figure_comm);\n",
       "}\n"
      ],
      "text/plain": [
       "<IPython.core.display.Javascript object>"
      ]
     },
     "metadata": {},
     "output_type": "display_data"
    },
    {
     "data": {
      "text/html": [
       "<img src=\"data:image/png;base64,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\" width=\"600\">"
      ],
      "text/plain": [
       "<IPython.core.display.HTML object>"
      ]
     },
     "metadata": {},
     "output_type": "display_data"
    },
    {
     "data": {
      "application/vnd.jupyter.widget-view+json": {
       "model_id": "2862013708694aaaa140c52be4bdfc8a"
      }
     },
     "metadata": {},
     "output_type": "display_data"
    }
   ],
   "source": [
    "# Update the filename and projector resolution here.\n",
    "green_dots_filename = \"green_dots_22.txt\" # projector resolution is (1280, 720)\n",
    "projector_resolution = (1280, 720)   # (rows, columns)\n",
    "#green_dots_filename = \"green_dots_37.txt\" # projector resolution is (1024, 768)\n",
    "#projector_resolution = (1024, 768)   # (rows, columns)\n",
    "\n",
    "# Enter your best parameter estimates here.\n",
    "# Searching an 11 dimensional space can be quite difficult.\n",
    "# The better your estimates, the easier it will be. \n",
    "# Take the time to measure the parameters that can be measured easily.\n",
    "# All distances are in meters, projector_roll and projector_theta are in radians.\n",
    "# The center of the mirror is the origin of the coordinate system.\n",
    "parameters = \\\n",
    "{'animal_y':0.0,\n",
    "'animal_z':0.5,\n",
    "'dome_y':0.0,\n",
    "'dome_z':0.3,\n",
    "'dome_radius':0.7,\n",
    "'mirror_radius':0.2,\n",
    "'projector_y':0.9,\n",
    "'projector_z':0.1,\n",
    "'projector_roll':0.0,\n",
    "'projector_theta':0.2,\n",
    "'projector_vertical_offset':0.1}\n",
    "\n",
    "def value_to_range(value):\n",
    "    return (value - 0.2, value + 0.2, 0.001)\n",
    "ranges = dict([[key, value_to_range(parameters[key])] for key in parameters])\n",
    "\n",
    "psearch = ParameterSearch(green_dots_filename, *projector_resolution)\n",
    "sliders = interactive(psearch.update, **ranges)\n",
    "HBox([VBox(sliders.children[0:4]), VBox(sliders.children[4:8]), VBox(sliders.children[8:])])"
   ]
  },
  {
   "cell_type": "code",
   "execution_count": 48,
   "metadata": {
    "collapsed": false,
    "deletable": true,
    "editable": true
   },
   "outputs": [
    {
     "data": {
      "application/vnd.jupyter.widget-view+json": {
       "model_id": "22f139ec443e412fac1c17b3302540d7"
      }
     },
     "metadata": {},
     "output_type": "display_data"
    }
   ],
   "source": [
    "parameter_file = \"initial_parameters.txt\"\n",
    "button = Button(description = 'Save parameters to ' + parameter_file, button_style='primary')\n",
    "button.on_click(lambda b: save_parameters(b, sliders.kwargs, projector_resolution, parameter_file))\n",
    "button.layout.width = '50%'\n",
    "display(button)"
   ]
  }
 ],
 "metadata": {
  "kernelspec": {
   "display_name": "Python 2",
   "language": "python",
   "name": "python2"
  },
  "language_info": {
   "codemirror_mode": {
    "name": "ipython",
    "version": 2
   },
   "file_extension": ".py",
   "mimetype": "text/x-python",
   "name": "python",
   "nbconvert_exporter": "python",
   "pygments_lexer": "ipython2",
   "version": "2.7.13"
  },
  "widgets": {
   "state": {
    "09875c31a9154ebe87b31b95aa581310": {
     "views": []
    },
    "0b218c22c3e34d0293990f8934fb0bdd": {
     "views": []
    },
    "0caa39bc3dd249dabfdf5af7ffc03d2c": {
     "views": []
    },
    "16657318d91f4c7f91025f8fe3211703": {
     "views": []
    },
    "19379ffaec7f445faa184de24a29ca0e": {
     "views": []
    },
    "1a22ad54c6084ddda91c2ffa6b4153a6": {
     "views": []
    },
    "1c8507f06be84a7dab4e70d5258b41ff": {
     "views": []
    },
    "1cfdaee90ffd4afd9d1e22e5f4503f62": {
     "views": []
    },
    "1fab24a952794e87b44d15b96bc8d505": {
     "views": []
    },
    "21586773f25f4cc795cae7bbf784f128": {
     "views": []
    },
    "23aef5db57334d53850c6501be8494fd": {
     "views": []
    },
    "2687a0396ed8435c9f6f970e04a0cd0b": {
     "views": []
    },
    "281a2a423d634ca8a731f509c746ba8b": {
     "views": []
    },
    "2870fa6771bb431aa758b54caff07f9f": {
     "views": []
    },
    "30ac2fad0e3b43028d16a3e3a41d1837": {
     "views": []
    },
    "42d798bab95f43e689d5fc83cc62f522": {
     "views": []
    },
    "45a45214704d4c379407fc082114addd": {
     "views": []
    },
    "4708e2898cf64bceac2f8d04a89e9387": {
     "views": []
    },
    "4c8fd0979bfc44398708e2a1475a2f9d": {
     "views": []
    },
    "4eb5550a9224451e82f35c997b03e824": {
     "views": []
    },
    "4f62132cac024cbc932f87dc36a8115a": {
     "views": []
    },
    "5213a993d89d4d86b1da4eda2814f7d6": {
     "views": []
    },
    "53baf262e3df422ca4fe94d5b990f3e6": {
     "views": []
    },
    "53c5b59ee38a455ea2141c6da3e67c39": {
     "views": []
    },
    "54632940b4814cc5833dac60cfabc993": {
     "views": []
    },
    "5b4b34d7c9df41f1b62954cf9071969f": {
     "views": []
    },
    "5c5a68c3347444089a8725831f15d771": {
     "views": []
    },
    "5d3453faf1394890ae4012b1afbdb291": {
     "views": []
    },
    "62bdf9e8225d4590909fbb482cd5d980": {
     "views": []
    },
    "637dacb2b0d646fab252c93af5d7cf81": {
     "views": []
    },
    "64a2473426ce4a14bd98e9d94c74480b": {
     "views": []
    },
    "73695ce38a304d189e0876f581193584": {
     "views": []
    },
    "7468713896ff433a9773daa2b9738c91": {
     "views": [
      {
       "cell_index": 4
      }
     ]
    },
    "74a79ac07b094b79b822849cbf772e41": {
     "views": []
    },
    "77f8f15980034c818fa80154dbd184b4": {
     "views": []
    },
    "795380a83f9c4aae9f25cb070eff9cde": {
     "views": []
    },
    "7eb1093d13e347c6b3e63c1b62630b65": {
     "views": []
    },
    "7f808f1884c842db8d4b571cd3ea5c89": {
     "views": []
    },
    "7f99eee3712f48b9a384f5e799a7aff5": {
     "views": []
    },
    "80cc3cde94374073b4179e6bc74bb950": {
     "views": []
    },
    "86eb803d08eb4ad3b57273fd022719e3": {
     "views": []
    },
    "899aec350d1e4c61a46faa84639079ac": {
     "views": []
    },
    "8af7b623e59b48df843c756c6a9d91d2": {
     "views": []
    },
    "8f6cdd0f0f1041e486b4a71edb7941be": {
     "views": []
    },
    "943a74b8fb9e4207bbf97d8576813df4": {
     "views": []
    },
    "95216e4bf8814cda932c5727db2b4320": {
     "views": []
    },
    "99bdbd2c7b7042f296acca1b916bd07b": {
     "views": []
    },
    "9d19ef372de6457a88ca0b4fa29282e5": {
     "views": []
    },
    "9db0a82b90964442bef67700c98efcc0": {
     "views": []
    },
    "9deb97b921cb44d8bbd746eafcfd5431": {
     "views": []
    },
    "9e1652931c214cfa9de2b9381315e64a": {
     "views": []
    },
    "9ebbb557c35e44c9a45242a59a82a7b0": {
     "views": []
    },
    "a4e55514c07d46508d9dd474959a23e5": {
     "views": []
    },
    "a7ed85ff16d444678abc04fc815c8cb7": {
     "views": []
    },
    "a98063fab26b4f7c989a6fca0e56d08e": {
     "views": []
    },
    "a9d281072eb6440ca874493b1712aac6": {
     "views": []
    },
    "aaa1cb8f0059400e8d30844cebde4484": {
     "views": []
    },
    "ae45ca9971e24a579e6a9126368fcbb1": {
     "views": []
    },
    "b043edf61cea472694c2d82d8aa35a6d": {
     "views": []
    },
    "b1271f2d2c644ad1a194e970983ef435": {
     "views": []
    },
    "b669990a6fc54e6dbfef4d8e4abbe7c0": {
     "views": []
    },
    "b711babe10ef46cc84e1ec3a2baa6eab": {
     "views": []
    },
    "b96dadab4a2342439ba476c10bb1a05a": {
     "views": []
    },
    "b9833e79a8414525b9c5fa23e77f85ad": {
     "views": []
    },
    "babf49f7ddc04d02baa3b291939b7f50": {
     "views": []
    },
    "bc125551485f490d8a03632da6188b89": {
     "views": []
    },
    "c14a52d76d0b445fbef1f4ba0e90226a": {
     "views": []
    },
    "c1d1056c702b4747b5c6513fd157bb69": {
     "views": []
    },
    "c298d19cf5f84be2b64dcc8ae067b439": {
     "views": []
    },
    "c32f29a97aae42ce94adf7f0bea94c8d": {
     "views": []
    },
    "c45ce6271d6f4df682d82c771dcf1cee": {
     "views": []
    },
    "c5a5816eada4469dbac8ddcdb68e222c": {
     "views": []
    },
    "cd6cd3d8b2174b7896e3fddcd26f4d82": {
     "views": []
    },
    "cf9b71ee09aa41f99f36268b1078b318": {
     "views": []
    },
    "d1d8d1f104f44b919b3f753b06499045": {
     "views": []
    },
    "d1e8653990fc4810a2a45cf881a62856": {
     "views": []
    },
    "d4414b06d00c45899b9d347586d0a1bf": {
     "views": []
    },
    "d5c97b5e342a4f79b728014a68b2d60e": {
     "views": []
    },
    "de12cf83f3364558b1f577cc323030b4": {
     "views": []
    },
    "e1129aa7db814714a754a443d9c149a1": {
     "views": []
    },
    "e266bf467a734d029633d1b4b4b4900f": {
     "views": []
    },
    "e39dea2a6a9547bd8128263817de37d4": {
     "views": []
    },
    "e3e9900514054a57a219a3029859ece7": {
     "views": []
    },
    "e506bc49e1b84fa4aa996a4f60c81508": {
     "views": []
    },
    "ecf35cde496248e99ba9c9f3faccd7cc": {
     "views": []
    },
    "edd39dec0b54401f9aac3d90b027dd56": {
     "views": []
    },
    "ef1de0aa8bf2487f8bc00369b4438341": {
     "views": []
    },
    "efd55004b06b4005bb749705ee480be4": {
     "views": []
    },
    "f1628ae1ec704cd2953052c6a8121d19": {
     "views": []
    },
    "f38107dbcb1f44949ba385bfa5e8325f": {
     "views": []
    },
    "f5831828c0754611a7f2bfb5d2ef3a1f": {
     "views": []
    },
    "f750644b1806413bbd406f60059ee994": {
     "views": []
    },
    "fd7a4ef7e0d745eb955841782e058329": {
     "views": []
    },
    "fda9688ff83e41d7bcb5b54ca57d3505": {
     "views": []
    },
    "fdd434b0b9644f22bc48b9969d42625c": {
     "views": []
    },
    "fdda403506144d25917ee6ae49e498e3": {
     "views": []
    }
   },
   "version": "1.1.2"
  }
 },
 "nbformat": 4,
 "nbformat_minor": 0
}
